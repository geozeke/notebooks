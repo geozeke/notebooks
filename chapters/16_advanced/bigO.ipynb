{
 "cells": [
  {
   "cell_type": "markdown",
   "metadata": {},
   "source": [
    "# Big-O Demo\n",
    "\n",
    "Here's a little code demo that may help reinforce Big-O.\n",
    "\n",
    "As discussed in the class notes, we're seeking to quantify an order of magnitude when describing runtime performance.  If two competing algorithms operating on big complex problems finish within a few seconds or microseconds of each other, then we'd say they both have the same runtime performance (Big-O).  What we're talking about is: one algorithm takes seconds or minutes, and the other takes days or longer.\n",
    "\n",
    "The code below reads an integer (`n`) from the user and forks a child process.  In the child, the product of `n` * `n` is calculated through straight multiplication.  In the parent, the product of `n` * `n` is calculated in a loop using repeated addition.  They both come up with the same answer, so which one is better?  The answer depends on how big `n` is.\n",
    "\n",
    "There are a few important notes about this little demo:\n",
    "\n",
    "1. There's no exception handling for the input, so it's easy to crash it.\n",
    "\n",
    "2. The process (parent or child) with the shortest elapsed time should finish first. The elapsed time display is in the form: `H:MM:SS.Micro Seconds`.  The caveat here is that without some kind of process synchronization or inter-process communication, there's technically no guarantee that the child process will print its display first when using very small integer values.  When you're talking about microsecond timing, the scheduler could get bogged down with other processes and the parent may actually display its results first, even though it has a longer elapsed time.  There's actually another reason why you'll see the parent process finish first (see number 3 below).\n",
    "\n",
    "3. You should notice that for small-ish integer inputs (let's say up to about `100000`), the parent completes its calculation first.  Multiplication in a microprocessor is more complex than addition. As Computer Scientists like to say: it's *expensive*. Assuming that multiplication is one step (as discussed in the class notes), we would classify the child process as running in constant time `O(1)` and the parent process as running in `O(n)` time.  No matter how big the input is, multiplication always finishes in roughly the same time (even if it loses to repeated addition for smaller inputs); however as the size of the input grows, the runtime performance of repeated addition gets worse (grows linearly), because it's proportional to the size of the input.\n",
    "\n",
    "Run the code a few times with different inputs and see what happens.  What if you enter `1`?  How about `1000`?  How about `10000`?  Try 1 followed by 8 zeros.  On my machine that took the child process about .04 seconds and the parent process about 11.5 seconds.  Where's the crossover when multiplication runs in less time than repeated addition?  What if you try a really, really big input and let it run overnight?\n",
    "\n",
    "*Performance depends on the speed of the computer running this code.  To give you a sense of scale: on your USNA machine it should take the parent a few minutes to run with a 9-digit input. If the code is taking too long and you want to stop it, click on the little square above (between the right-facing triangle and the arrow in a circular loop).*\n",
    "\n",
    ":-)"
   ]
  },
  {
   "cell_type": "code",
   "execution_count": 6,
   "metadata": {},
   "outputs": [
    {
     "name": "stdin",
     "output_type": "stream",
     "text": [
      "Enter a positive integer greater than 0:  36475876\n"
     ]
    },
    {
     "name": "stdout",
     "output_type": "stream",
     "text": [
      "\n",
      "Child pid = 4413\n",
      "Elapsed time: 0:00:00.108903\n",
      "1,330,489,529,967,376\n",
      "\n",
      "Parent pid = 4302\n",
      "Elapsed time: 0:00:13.981482\n",
      "1,330,489,529,967,376\n"
     ]
    }
   ],
   "source": [
    "import os\n",
    "from datetime import datetime\n",
    "\n",
    "n = int(input(\"Enter a positive integer greater than 0: \"))\n",
    "\n",
    "startTime = datetime.now()\n",
    "newpid = os.fork()\n",
    "\n",
    "if newpid == 0: # Child process\n",
    "    print(\"\\nChild pid = {0:d}\".format(os.getpid()))\n",
    "    print(\"Elapsed time: \" + str(datetime.now() - startTime))\n",
    "    print(\"{0:,d}\".format(n * n))\n",
    "    \n",
    "else: # Parent Process\n",
    "    print(\"\\nParent pid = {0:d}\".format(os.getpid()))\n",
    "    product = 0\n",
    "    for i in range(n):\n",
    "        product += n\n",
    "    print(\"Elapsed time: \" + str(datetime.now() - startTime))\n",
    "    print(\"{0:,d}\".format(product))"
   ]
  },
  {
   "cell_type": "markdown",
   "metadata": {},
   "source": [
    "## Additional Resources\n",
    "\n",
    "[Big-O (Free Code Camp)](https://guide.freecodecamp.org/computer-science/notation/big-o-notation/)\n",
    "\n",
    "[Big-O (Kahn Academy)](https://www.khanacademy.org/computing/computer-science/algorithms/asymptotic-notation/a/big-o-notation)\n",
    "\n",
    "[A Beginner's Guide to Big-O Notation](https://rob-bell.net/2009/06/a-beginners-guide-to-big-o-notation/)"
   ]
  },
  {
   "cell_type": "markdown",
   "metadata": {},
   "source": [
    "<hr>\n",
    "\n",
    "*MIT License*\n",
    "\n",
    "*Copyright 2019-2020 Peter Nardi*\n",
    "\n",
    "*Terms of use:*\n",
    "\n",
    "*Permission is hereby granted, free of charge, to any person obtaining a copy of this software and associated documentation files (the \"Software\"), to deal in the Software without restriction, including without limitation the rights to use, copy, modify, merge, publish, distribute, sublicense, and/or sell copies of the Software, and to permit persons to whom the Software is furnished to do so, subject to the following conditions:*\n",
    "\n",
    "*The above copyright notice and this permission notice shall be included in all copies or substantial portions of the Software.*\n",
    "\n",
    "*THE SOFTWARE IS PROVIDED \"AS IS\", WITHOUT WARRANTY OF ANY KIND, EXPRESS OR IMPLIED, INCLUDING BUT NOT LIMITED TO THE WARRANTIES OF MERCHANTABILITY, FITNESS FOR A PARTICULAR PURPOSE AND NON-INFRINGEMENT. IN NO EVENT SHALL THE AUTHORS OR COPYRIGHT HOLDERS BE LIABLE FOR ANY CLAIM, DAMAGES OR OTHER LIABILITY, WHETHER IN AN ACTION OF CONTRACT, TORT OR OTHERWISE, ARISING FROM, OUT OF OR IN CONNECTION WITH THE SOFTWARE OR THE USE OR OTHER DEALINGS IN THE SOFTWARE.*"
   ]
  }
 ],
 "metadata": {
  "kernelspec": {
   "display_name": "Python 3",
   "language": "python",
   "name": "python3"
  },
  "language_info": {
   "codemirror_mode": {
    "name": "ipython",
    "version": 3
   },
   "file_extension": ".py",
   "mimetype": "text/x-python",
   "name": "python",
   "nbconvert_exporter": "python",
   "pygments_lexer": "ipython3",
   "version": "3.6.9"
  }
 },
 "nbformat": 4,
 "nbformat_minor": 4
}
