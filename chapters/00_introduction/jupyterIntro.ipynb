{
 "cells": [
  {
   "cell_type": "markdown",
   "metadata": {},
   "source": [
    "# Welcome to Jupyter Notebooks!\n",
    "\n",
    "Jupyter Notebooks are powerful interactive documents that allow you to run code blocks directly inside them."
   ]
  },
  {
   "cell_type": "markdown",
   "metadata": {},
   "source": [
    "### Quickstart Guide for Jupyter Notebooks:\n",
    "\n",
    "* Jupyter Notebooks are arranged as a collection of \"cells\".  Cells can contain instructions / descriptions or code.\n",
    "* A cell is selected if you see a blue bar to its left.\n",
    "* To minimize a cell, click once on its blue bar.  Click the blue bar again to expand.\n",
    "* To edit a code cell, click on it.\n",
    "* To run code in a cell, make sure it's selected and press **Cntl-Enter**.\n",
    "    * You can repeatedly run a cell as long as it's highlighted.  Each re-run of a cell will start by clearing its output.\n",
    "* To clear the output in a code cell: Right-click it; select **Clear Outputs**.\n",
    "* To clear the output for all code cells in a notebook, right-click on the window and select **Clear All Outputs**\n",
    "* If a particular code cell appears to \"hang\" or won't run, select **Restart Kernel...** from the **Kernel** menu."
   ]
  },
  {
   "cell_type": "markdown",
   "metadata": {},
   "source": [
    "<br clear=\"all\" />\n",
    "<img src=\"../../images/check.png\" align=\"left\" />\n",
    "<br clear=\"all\" />\n",
    "\n",
    "Throughout these notebooks, you'll occasionally see a green check mark like the one shown above.  These are knowledge checkpoints intended to test your skills and understanding of the material.  They usually involve asking a question before having you run a snippet of code to check your answer.\n",
    "<hr>"
   ]
  },
  {
   "cell_type": "markdown",
   "metadata": {},
   "source": [
    "## Code Examples\n",
    "Here are some examples of executable Python3 code blocks that you'll see in Jupyter Notebooks."
   ]
  },
  {
   "cell_type": "markdown",
   "metadata": {},
   "source": [
    "To run the code below, click (once) on the code block and press `Cntl-Enter`.\n",
    "\n",
    "This code example is interactive and will ask you for input.\n",
    "\n",
    "To re-run the code, press `Cntl-Enter` again.\n",
    "\n",
    "To clear the output, right-click on the cell and select `Clear Outputs`"
   ]
  },
  {
   "cell_type": "code",
   "execution_count": null,
   "metadata": {},
   "outputs": [],
   "source": [
    "name = input(\"Enter your first name: \")\n",
    "print(\"Greetings,\",name)"
   ]
  },
  {
   "cell_type": "markdown",
   "metadata": {},
   "source": [
    "Here's another example that demonstrates iteration.  Try running it."
   ]
  },
  {
   "cell_type": "code",
   "execution_count": null,
   "metadata": {},
   "outputs": [],
   "source": [
    "for i in range(10):\n",
    "    print(i,2*i)"
   ]
  },
  {
   "cell_type": "markdown",
   "metadata": {},
   "source": [
    "Finally, here's a simple \"Magic 8-Ball\" game.  Credit for idea to: [Python for Beginners](https://www.pythonforbeginners.com/code-snippets-source-code/magic-8-ball-written-in-python/)"
   ]
  },
  {
   "cell_type": "code",
   "execution_count": null,
   "metadata": {},
   "outputs": [],
   "source": [
    "import random\n",
    "\n",
    "answers = [\"It is certain\",\"Outlook Good\",\"You may rely on it\",\"Ask again later\"]\n",
    "answers += [\"Concentrate and ask again\",\"Reply hazy, try again\",\"My reply is no\"]\n",
    "answers += [\"My sources say no\"]\n",
    "\n",
    "while 1:\n",
    "    question = input(\"Ask the magic 8 ball a question: (press enter to quit) \")\n",
    "    if question == \"\":\n",
    "        break\n",
    "    else:\n",
    "        print(answers[random.randint(0,7)])"
   ]
  },
  {
   "cell_type": "markdown",
   "metadata": {},
   "source": [
    "## Closing jupyter lab\n",
    "\n",
    "When you're done using jupyter lab, the easiest way to exit from it is to select \"Shutdown\" from the File menu in the browser.  You can then close the browser window where it's running (and saving any changes to your notebooks if desired)."
   ]
  },
  {
   "cell_type": "markdown",
   "metadata": {},
   "source": [
    "## Additional Resources\n",
    "\n",
    "There is so much more to Jupyter Notebooks than what's listed above, but it will get you started.  Trying Googling \"Jupyter Notebooks\", or check out some of these resources:\n",
    "\n",
    "*NOTE: Jupyter Lab is the next evolution of the Jupyter infrastructure.  The basic program (jupyter notebook) started it all.*\n",
    "\n",
    "[Getting Started With Jupyter Notebook for Python](https://medium.com/codingthesmartway-com-blog/getting-started-with-jupyter-notebook-for-python-4e7082bd5d46)\n",
    "\n",
    "[Jupyter Notebook for Beginners: A Tutorial](https://www.dataquest.io/blog/jupyter-notebook-tutorial/)\n",
    "\n",
    "[Jupyter Notebook Tutorial: Introduction, Setup, and Walkthrough](https://www.youtube.com/watch?v=HW29067qVWk) *YouTube Video*"
   ]
  },
  {
   "cell_type": "markdown",
   "metadata": {},
   "source": [
    "<hr>\n",
    "\n",
    "*MIT License*\n",
    "\n",
    "*Copyright 2019-2020 Peter Nardi*\n",
    "\n",
    "*Terms of use:*\n",
    "\n",
    "*Permission is hereby granted, free of charge, to any person obtaining a copy of this software and associated documentation files (the \"Software\"), to deal in the Software without restriction, including without limitation the rights to use, copy, modify, merge, publish, distribute, sublicense, and/or sell copies of the Software, and to permit persons to whom the Software is furnished to do so, subject to the following conditions:*\n",
    "\n",
    "*The above copyright notice and this permission notice shall be included in all copies or substantial portions of the Software.*\n",
    "\n",
    "*THE SOFTWARE IS PROVIDED \"AS IS\", WITHOUT WARRANTY OF ANY KIND, EXPRESS OR IMPLIED, INCLUDING BUT NOT LIMITED TO THE WARRANTIES OF MERCHANTABILITY, FITNESS FOR A PARTICULAR PURPOSE AND NON-INFRINGEMENT. IN NO EVENT SHALL THE AUTHORS OR COPYRIGHT HOLDERS BE LIABLE FOR ANY CLAIM, DAMAGES OR OTHER LIABILITY, WHETHER IN AN ACTION OF CONTRACT, TORT OR OTHERWISE, ARISING FROM, OUT OF OR IN CONNECTION WITH THE SOFTWARE OR THE USE OR OTHER DEALINGS IN THE SOFTWARE.*"
   ]
  }
 ],
 "metadata": {
  "kernelspec": {
   "display_name": "Python 3",
   "language": "python",
   "name": "python3"
  },
  "language_info": {
   "codemirror_mode": {
    "name": "ipython",
    "version": 3
   },
   "file_extension": ".py",
   "mimetype": "text/x-python",
   "name": "python",
   "nbconvert_exporter": "python",
   "pygments_lexer": "ipython3",
   "version": "3.6.9"
  }
 },
 "nbformat": 4,
 "nbformat_minor": 4
}
