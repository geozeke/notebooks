{
 "cells": [
  {
   "cell_type": "markdown",
   "metadata": {},
   "source": [
    "# Welcome To Python!"
   ]
  },
  {
   "cell_type": "markdown",
   "metadata": {},
   "source": [
    "Python provides a modern, flexible programming environment that scales from introductory programming courses, to full-fledged enterprise applications.  It's a great place to start if you want to learn how to write computer programs and it runs on just about any system you might have (Windows, Mac, Linux).  If you're curious about the history of Python (*for example, why is it called Python?*) then please visit [The Python History Wiki](https://en.wikipedia.org/wiki/History_of_Python):"
   ]
  },
  {
   "cell_type": "markdown",
   "metadata": {},
   "source": [
    "### Jumping right in\n",
    "\n",
    "No introduction to computer programming would complete without writing the wildly popular [Hello World](https://en.wikipedia.org/wiki/%22Hello,_World!%22_program) program.  The complete program in Python looks like this:"
   ]
  },
  {
   "cell_type": "code",
   "execution_count": null,
   "metadata": {},
   "outputs": [],
   "source": [
    "print(\"Hello World\")"
   ]
  },
  {
   "cell_type": "markdown",
   "metadata": {},
   "source": [
    "<br clear=\"all\" />\n",
    "<img src=\"../../images/check.png\" align=\"left\" />\n",
    "<br clear=\"all\" />\n",
    "\n",
    "Do you remember how to run a code cell?  Visit the [Jupyter Notebook Intro](00_Jupyter_Notebook_Intro.ipynb) if you need a refresher.\n",
    "\n",
    "To test your knowledge, run the code cell above and observe the output.  Then modify the program to print your name, rather than `Hello World`, and run it again."
   ]
  },
  {
   "cell_type": "markdown",
   "metadata": {},
   "source": [
    "### Basic Arithmetic Operations\n",
    "\n",
    "Like all modern programming languages, Python provides support for basic arithmetic operations.  Lets start with the big four:\n",
    "\n",
    "- Addition: `+`\n",
    "- Subtraction: `-`\n",
    "- Multiplication: `*`\n",
    "- Division: `\\`"
   ]
  },
  {
   "cell_type": "code",
   "execution_count": null,
   "metadata": {},
   "outputs": [],
   "source": [
    "print(2 + 2)\n",
    "print(100 - 4)\n",
    "print(3 * 9)\n",
    "print(6 / 5)"
   ]
  },
  {
   "cell_type": "markdown",
   "metadata": {},
   "source": [
    "<br clear=\"all\" />\n",
    "<img src=\"../../images/check.png\" align=\"left\" />\n",
    "<br clear=\"all\" />\n",
    "\n",
    "Run the code cell above and observe the output. Can you modify the program to calculate the value of 37 squared?"
   ]
  },
  {
   "cell_type": "markdown",
   "metadata": {},
   "source": [
    "### Variables\n",
    "\n",
    "In programming languages, a variable is a container than can hold a value that changes over time (hence the name, *variable*).  In Python, variables can hold data of many different types.  We'll dive deeper into data types in future lessons, but for now we'll stick with integers.  We place values into variables using the assignment operator, which is the equal sign: `=`.  We can use arithmetic operators on variables just like we can with integers:"
   ]
  },
  {
   "cell_type": "code",
   "execution_count": null,
   "metadata": {},
   "outputs": [],
   "source": [
    "length = 20\n",
    "width = 30\n",
    "area = length * width\n",
    "print(length)\n",
    "print(width)\n",
    "print(area)"
   ]
  },
  {
   "cell_type": "markdown",
   "metadata": {},
   "source": [
    "We can also use Python's `print()` statement to display the value of more than one variable on a single line."
   ]
  },
  {
   "cell_type": "code",
   "execution_count": null,
   "metadata": {},
   "outputs": [],
   "source": [
    "length = 20\n",
    "width = 30\n",
    "area = length * width\n",
    "print(length, width, area)"
   ]
  },
  {
   "cell_type": "markdown",
   "metadata": {},
   "source": [
    "Below is an interesting use of variables that is often difficult to understand when you see it for the first time.  Run the code cell below and examine the output."
   ]
  },
  {
   "cell_type": "code",
   "execution_count": null,
   "metadata": {},
   "outputs": [],
   "source": [
    "score = 45\n",
    "print(score)\n",
    "score = score + 10\n",
    "print(score)"
   ]
  },
  {
   "cell_type": "markdown",
   "metadata": {},
   "source": [
    "What's going on?  How can `score` show up on both the left and right side of an equal sign? If the line of code which reads: `score = score + 10` were given in an algebra class, you might say, \"***The statement is false.  `score` cannot be equal to itself, plus 10***\".  That's true in algebra, but in a computer programming context the logic flow works like this:\n",
    "\n",
    "1. Evaluate everything to the right of `=`.  That means, take the current value in `score` (45) and add 10 to it.\n",
    "2. Take the result from step 1 and store it in the variable named `score`.  This replaces `score`'s original value (45) with the newly calculated value (55).\n",
    "\n",
    "It's important to understand that the steps are followed in the order given above.  Before we replace `score` with a new value, we use the current value in `score` to calculate an interim result, then place that result back into `score`.\n",
    "\n",
    "You will see and use this design pattern often in any programming language you learn, including Python."
   ]
  },
  {
   "cell_type": "markdown",
   "metadata": {},
   "source": [
    "## Additional Resources\n",
    "\n",
    "[Python Resources for Beginners](https://wiki.python.org/moin/BeginnersGuide/Programmers)\n",
    "\n",
    "[Python Introduction (w3schools)](https://www.w3schools.com/python/python_intro.asp)"
   ]
  },
  {
   "cell_type": "markdown",
   "metadata": {},
   "source": [
    "<hr>\n",
    "\n",
    "*MIT License*\n",
    "\n",
    "*Copyright 2019-2020 Peter Nardi*\n",
    "\n",
    "*Terms of use:*\n",
    "\n",
    "*Permission is hereby granted, free of charge, to any person obtaining a copy of this software and associated documentation files (the \"Software\"), to deal in the Software without restriction, including without limitation the rights to use, copy, modify, merge, publish, distribute, sublicense, and/or sell copies of the Software, and to permit persons to whom the Software is furnished to do so, subject to the following conditions:*\n",
    "\n",
    "*The above copyright notice and this permission notice shall be included in all copies or substantial portions of the Software.*\n",
    "\n",
    "*THE SOFTWARE IS PROVIDED \"AS IS\", WITHOUT WARRANTY OF ANY KIND, EXPRESS OR IMPLIED, INCLUDING BUT NOT LIMITED TO THE WARRANTIES OF MERCHANTABILITY, FITNESS FOR A PARTICULAR PURPOSE AND NON-INFRINGEMENT. IN NO EVENT SHALL THE AUTHORS OR COPYRIGHT HOLDERS BE LIABLE FOR ANY CLAIM, DAMAGES OR OTHER LIABILITY, WHETHER IN AN ACTION OF CONTRACT, TORT OR OTHERWISE, ARISING FROM, OUT OF OR IN CONNECTION WITH THE SOFTWARE OR THE USE OR OTHER DEALINGS IN THE SOFTWARE.*"
   ]
  }
 ],
 "metadata": {
  "kernelspec": {
   "display_name": "Python 3",
   "language": "python",
   "name": "python3"
  },
  "language_info": {
   "codemirror_mode": {
    "name": "ipython",
    "version": 3
   },
   "file_extension": ".py",
   "mimetype": "text/x-python",
   "name": "python",
   "nbconvert_exporter": "python",
   "pygments_lexer": "ipython3",
   "version": "3.6.9"
  }
 },
 "nbformat": 4,
 "nbformat_minor": 4
}
