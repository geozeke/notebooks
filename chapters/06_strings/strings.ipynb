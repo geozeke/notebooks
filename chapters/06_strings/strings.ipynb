{
 "cells": [
  {
   "cell_type": "markdown",
   "metadata": {},
   "source": [
    "# Strings, Lists, Dictionaries and Sets\n",
    "\n",
    "* *Strings* are arrays of bytes representing Unicode characters. Python does not have a character data type, so a single character is simply a string with a length of 1.  Strings are **iterable**, **immutable** and **ordered**.  Duplicates are allowed in strings.\n",
    "\n",
    "* *Lists* are like arrays in other languages. Python lists can be heterogeneous, which makes them very powerful. For example, this is a perfectly legal list in Python: <br>`[\"Hello\", 0, 3.141]`. Lists are **iterable**, **mutable** and **ordered**.  Duplicates are allowed in lists.\n",
    "\n",
    "* *Dictionaries* are collections of key-value pairs. Keys in dictionaries can be any **immutable** type; for example, strings and numbers can always be keys. A Dictionary in Python works in a similar way to a Dictionary in a real world.  Dictionaries are **iterable**, **mutable** and **unordered**.  Duplicate *keys* are not allowed in dictionaries.\n",
    "\n",
    "* *Sets* in Python are equivalent to sets in mathematics. Python sets can be heterogeneous, which makes them very powerful. For example, this is a perfectly legal set in Python: <br>`{\"Hello\", 0, 3.141}`. Sets are **iterable**, **mutable** and **unordered**.  Duplicates are not allowed in sets (this actually makes them really useful, as we'll see later).\n",
    "\n",
    "Strings, Lists, Dictionaries and Sets are generally termed *Collection Classes*, meaning they are collections of other data types.\n",
    "\n",
    "*Like any other programming language, there are many ways to approach problems in Python.  Two completely different approaches may be equally valid.  Keep in mind that as you go through these examples you'll often see multiple ways of doing the same thing.  No particular approach is presented here as \"the best\" or \"the only\" way do do things.  Find your own unique programming style and embrace it!*"
   ]
  },
  {
   "cell_type": "markdown",
   "metadata": {},
   "source": [
    "### Strings\n",
    "Here are examples of some common design patterns using strings. Let's start with finding the length of a string and accessing individual characters."
   ]
  },
  {
   "cell_type": "markdown",
   "metadata": {},
   "source": [
    "<br clear=\"all\" />\n",
    "<img src=\"../../images/check.png\" align=\"left\" />\n",
    "<br clear=\"all\" />\n",
    "\n",
    "Why do we access the last character in the string below with `s[length-1]` instead of `s[length]`?"
   ]
  },
  {
   "cell_type": "code",
   "execution_count": null,
   "metadata": {},
   "outputs": [],
   "source": [
    "s = input(\"Enter a string: \")\n",
    "length = len(s)\n",
    "print(\"There are {0:d} characters in your string\".format(length))\n",
    "print(\"The first character in your string is: \\\"{0:s}\\\"\".format(s[0]))\n",
    "print(\"The last character in your string is: \\\"{0:s}\\\"\".format(s[length-1]))"
   ]
  },
  {
   "cell_type": "markdown",
   "metadata": {},
   "source": [
    "Splitting stings in python is known as *slicing*.  While strings are immutable, you can slice them and put them back together (concatenate) in various ways.  String concatenation in Python is performed with the plus sign (`+`).  Here are some syntax examples for various slicing operations (assume we have a string `S`):\n",
    "\n",
    "`S[start:end]` From the character at position `start` to the character at position `end`-1.\n",
    "\n",
    "`S[start:]` From the character at position `start` to the end of the string.\n",
    "\n",
    "`S[:end]` From the beginning of the string to the character at position `end`-1.\n",
    "\n",
    "`S[:]` A complete copy of `S`.\n",
    "\n",
    "*For brevity, the code sample below has no exception handling.*"
   ]
  },
  {
   "cell_type": "markdown",
   "metadata": {},
   "source": [
    "<br clear=\"all\" />\n",
    "<img src=\"../../images/check.png\" align=\"left\" />\n",
    "<br clear=\"all\" />\n",
    "\n",
    "What's the difference between division using `/` and division using `//`?"
   ]
  },
  {
   "cell_type": "code",
   "execution_count": null,
   "metadata": {},
   "outputs": [],
   "source": [
    "s1 = input(\"Enter a string: \")\n",
    "word = input(\"Enter a word to insert in the middle: \")\n",
    "middle = len(s1) // 2\n",
    "part1 = s1[:middle] # end = middle - 1\n",
    "part2 = s1[middle:] # start = middle\n",
    "print(\"Your new string is: {0:s}\".format(part1 + word + part2))"
   ]
  },
  {
   "cell_type": "markdown",
   "metadata": {},
   "source": [
    "Reversing a string.  I'm using the power of formatted strings here to line up my prompts to the user."
   ]
  },
  {
   "cell_type": "code",
   "execution_count": null,
   "metadata": {},
   "outputs": [],
   "source": [
    "s = input(\"{0:>26s}\".format(\"Enter a string:\"))\n",
    "s2 = \"\"\n",
    "for i in range(len(s)-1,-1,-1):\n",
    "    s2 += s[i]\n",
    "print(\"Your string in reverse is: {0:s}\".format(s2))"
   ]
  },
  {
   "cell_type": "markdown",
   "metadata": {},
   "source": [
    "### Lists\n",
    "\n",
    "Here are examples of some common design patterns using lists. Let's start with iterating through a list."
   ]
  },
  {
   "cell_type": "code",
   "execution_count": null,
   "metadata": {},
   "outputs": [],
   "source": [
    "L = [12,55,33,81]\n",
    "for item in L:\n",
    "    print(item)"
   ]
  },
  {
   "cell_type": "markdown",
   "metadata": {},
   "source": [
    "Next, let's examine how to add, remove and sort items in a list using different techniques."
   ]
  },
  {
   "cell_type": "code",
   "execution_count": null,
   "metadata": {},
   "outputs": [],
   "source": [
    "L = [] # Empty list\n",
    "L.append(23) # Append 23 to the end\n",
    "L += [15,55] # We can \"concatenate\" two lists together\n",
    "print(\"L = \",L)\n",
    "L.insert(1,99) # Insert 99 at index 1.  This adds to the list.\n",
    "print(\"L = \",L)\n",
    "n = L.pop() # Return (and remove) the last item in a list\n",
    "print(\"n = \",n)\n",
    "print(\"L = \",L)\n",
    "L.sort() # Sorting is performed in place\n",
    "print(\"L sorted = \",L)\n",
    "L[1] = 8 # Change the value at index 1\n",
    "print(\"L = \",L)\n",
    "L.pop(0) # Return (and remove) the item at index 0.  Ignore the return value\n",
    "print(\"L = \",L)"
   ]
  },
  {
   "cell_type": "markdown",
   "metadata": {},
   "source": [
    "You can test if an item is contained in a list using the `in` operator.\n",
    "\n",
    "*Note: For brevity, the code below does not use exception handling.*"
   ]
  },
  {
   "cell_type": "code",
   "execution_count": null,
   "metadata": {},
   "outputs": [],
   "source": [
    "import random\n",
    "\n",
    "# Create a list with 10 random integers from 1 to 100\n",
    "L = []\n",
    "# We can use \"_\" to mean \"I don't need a specific iterator, I just want to iterate 10 times\".\n",
    "for _ in range(10):\n",
    "    L.append(random.randint(1,100))\n",
    "    \n",
    "print(\"L = \",L)\n",
    "n = int(input(\"Enter an integer: \"))\n",
    "\n",
    "if n in L:\n",
    "    print(\"{0:d} is in L\".format(n))\n",
    "else:\n",
    "    print(\"{0:d} is not in L\".format(n))"
   ]
  },
  {
   "cell_type": "markdown",
   "metadata": {},
   "source": [
    "Strings are immutable, but you can convert strings into lists, manipulate individual characters, then turn the list back into a string.\n",
    "\n",
    "*Spend some time exploring the Python `join()` method for strings.  It's very powerful.*"
   ]
  },
  {
   "cell_type": "code",
   "execution_count": null,
   "metadata": {},
   "outputs": [],
   "source": [
    "# This program toggles the case of the input string (converts uppercase letters to lowercase\n",
    "# and lowercase letters to uppercase)\n",
    "\n",
    "s = input(\"Enter a string:\")\n",
    "L = list(s)\n",
    "print(s)\n",
    "print(L)\n",
    "\n",
    "for i in range(len(L)):\n",
    "    if L[i].islower():\n",
    "        L[i] = L[i].upper()\n",
    "    else:\n",
    "        L[i] = L[i].lower()\n",
    "\n",
    "print(L)\n",
    "s = \"\".join(L)\n",
    "print(s)"
   ]
  },
  {
   "cell_type": "markdown",
   "metadata": {},
   "source": [
    "The previous example was illustrative, but a bit overkill for the required task.  A more \"Pythonic\" way to do it would be as shown below :-)"
   ]
  },
  {
   "cell_type": "code",
   "execution_count": null,
   "metadata": {},
   "outputs": [],
   "source": [
    "# This program toggles the case of the input string (converts uppercase letters to lowercase\n",
    "# and lowercase letters to uppercase)\n",
    "\n",
    "s = input(\"Enter a string:\")\n",
    "print(s)\n",
    "print(\"\".join(c.lower() if c.isupper() else c.upper() for c in s))"
   ]
  },
  {
   "cell_type": "markdown",
   "metadata": {},
   "source": [
    "### Dictionaries\n",
    "\n",
    "Here are examples of some common design patterns using dictionaries. Let's start with creating a dictionary and adding / accessing *key:value* pairs.  Let's assume we're using strings for both keys and values in our dictionary.\n",
    "\n",
    "Note the syntax below for adding a *key:value* pair to a dictionary.  It looks a lot like the syntax for accessing items in a list."
   ]
  },
  {
   "cell_type": "code",
   "execution_count": null,
   "metadata": {},
   "outputs": [],
   "source": [
    "# This is how we create an empty dictionary\n",
    "D = {}\n",
    "# Add key-value pairs\n",
    "D[\"Jan\"] = \"This is the first month.\"\n",
    "D[\"Aug\"] = \"This month is very warm.\"\n",
    "D[\"Dec\"] = \"This month has holidays.\"\n",
    "# Note that dictionaries are unordered.  The order in which the key:value pairs print\n",
    "# may not match the order in which they were entered.\n",
    "print(D)\n",
    "key = input(\"Enter a month:\")\n",
    "# Dictionaries support the \"in\" operator when looking for keys\n",
    "if key in D:\n",
    "    print(D[key])\n",
    "else:\n",
    "    print(\"Sorry, {0:s} is not in the dictionary\".format(key))"
   ]
  },
  {
   "cell_type": "markdown",
   "metadata": {},
   "source": [
    "It's clear that dictionaries are unordered, but what if we want to traverse a dictionary in order by sorted keys?  Python allows you to extract the keys from a *dictionary* object using the `keys()` method, which returns a *dict_keys* object. You can then cast the *dict_keys* object into a list, using the `list()` function.  From there you can sort it and iterate across it."
   ]
  },
  {
   "cell_type": "markdown",
   "metadata": {},
   "source": [
    "<br clear=\"all\" />\n",
    "<img src=\"../../images/check.png\" align=\"left\" />\n",
    "<br clear=\"all\" />\n",
    "\n",
    "After exploring the code below, try inserting print statements with different variables and re-running it.  What do you get if you print `D.keys()`?  How about if you print `letters`?"
   ]
  },
  {
   "cell_type": "code",
   "execution_count": null,
   "metadata": {},
   "outputs": [],
   "source": [
    "import random\n",
    "import string\n",
    "\n",
    "# Create a dictionary with 10 random integers as keys and random 8-character strings as values.\n",
    "letters = string.ascii_lowercase\n",
    "D = {}\n",
    "# We can use \"_\" to mean \"I don't need a specific iterator, I just want to iterate 10 times\".\n",
    "for _ in range(10):\n",
    "    key = random.randint(1,100)\n",
    "    # Make sure to generate unique keys.\n",
    "    while key in D:\n",
    "        key = random.randint(1,100)\n",
    "    value = \"\".join(random.choice(letters) for _ in range(8))\n",
    "    D[key] = value\n",
    "    \n",
    "# Unordered iterating\n",
    "print(\"Unordered iterating:\")\n",
    "for key,value in D.items():\n",
    "    print(key,value)\n",
    "    \n",
    "# Ordered iterating\n",
    "print(\"\\nOrdered iterating:\")\n",
    "keys = list(D.keys())\n",
    "keys.sort()\n",
    "for key in keys:\n",
    "    print(key,D[key])"
   ]
  },
  {
   "cell_type": "markdown",
   "metadata": {},
   "source": [
    "A few final thoughts on dictionaries and one last example.\n",
    "\n",
    "* If you assign a value to a dictionary key, and the key is not in the dictionary, Python will add the new *key:value* pair to the dictionary.  If the key does exist in the dictionary, Python will replace the current value assigned to the given key with the new value.\n",
    "* You can use the `len()` function on dictionaries to get the number of entries.\n",
    "* You can't copy a dictionary simply by typing `D1 = D2`.  Dictionaries are objects, and the variables we use for them are pointers.  If you use D1 = D2, then D1 and D2 will point to the *same* dictionary.  You can use the `copy()` method for dictionaries instead.  *NOTE: The `copy()` method performs what's known as a \"shallow\" copy and works as expected when the values in your dictionary are simple, immutable data types.  If your dictionary contains objects as values, then you must perform a \"deep\" copy using the `deepcopy()` method.  This applies to sets and lists as well. See the Additional Resources section below for more information.*"
   ]
  },
  {
   "cell_type": "code",
   "execution_count": null,
   "metadata": {},
   "outputs": [],
   "source": [
    "D1 = {}\n",
    "D1[1] = \"Number 1\"\n",
    "D1[2] = \"Number 2\"\n",
    "D1[3] = \"Number 3\"\n",
    "\n",
    "print(D1)\n",
    "D1[2] = \"Number two\"\n",
    "print(D1)\n",
    "\n",
    "print(\"The number of entries in D1 =\",len(D1))\n",
    "\n",
    "# Does not make a copy, changing D2 will affect D1\n",
    "print(\"\\nIncorrect copy\")\n",
    "D2 = D1\n",
    "D2[2] = \"Number two\"\n",
    "print(D1)\n",
    "print(D2)\n",
    "\n",
    "# Makes a shallow copy, changing D2 will not affect D1\n",
    "print(\"\\nCorrect, shallow copy\")\n",
    "D2 = D1.copy()\n",
    "D2[3] = \"Number three\"\n",
    "print(D1)\n",
    "print(D2)"
   ]
  },
  {
   "cell_type": "markdown",
   "metadata": {},
   "source": [
    "### Sets\n",
    "\n",
    "Here are examples of some common design patterns using sets. Let's start with creating a set and adding / accessing values.  Remember that sets are **unordered**.\n",
    "\n",
    "NOTE: You can't initialize an empty set with this syntax: `S = {}`; that's the syntax for an empty dictionary.  You create an empty set like this: `S = set()`"
   ]
  },
  {
   "cell_type": "code",
   "execution_count": null,
   "metadata": {},
   "outputs": [],
   "source": [
    "S1 = set()\n",
    "\n",
    "S1.add(10)\n",
    "S1.add(11)\n",
    "S1.add(12)\n",
    "print(S1)\n",
    "\n",
    "S2 = {13,14,15}\n",
    "print(S2)"
   ]
  },
  {
   "cell_type": "markdown",
   "metadata": {},
   "source": [
    "Items in sets are unique (no duplicates)"
   ]
  },
  {
   "cell_type": "markdown",
   "metadata": {},
   "source": [
    "<br clear=\"all\" />\n",
    "<img src=\"../../images/check.png\" align=\"left\" />\n",
    "<br clear=\"all\" />\n",
    "\n",
    "What if you try to remove an item that's not in the set?  After exploring the code below, modify it and see what happens."
   ]
  },
  {
   "cell_type": "code",
   "execution_count": null,
   "metadata": {},
   "outputs": [],
   "source": [
    "S1 = {2,4,6,8}\n",
    "print(S1)\n",
    "S1.add(6) # Our set already contains 6\n",
    "print(S1)\n",
    "S1.remove(2)\n",
    "print(S1)"
   ]
  },
  {
   "cell_type": "markdown",
   "metadata": {},
   "source": [
    "Here's a really powerful use-case for sets.  Let's say you have a string and you want to know how many unique letters it contains and what they are.  This is super easy with sets!"
   ]
  },
  {
   "cell_type": "code",
   "execution_count": null,
   "metadata": {},
   "outputs": [],
   "source": [
    "strInput = input(\"Enter a string:\")\n",
    "S = set(strInput) # Cast the string to a set.  It will toss duplicate letters.\n",
    "print(\"There are {0:d} unique characters in your string.\".format(len(S)))\n",
    "L = list(S)\n",
    "L.sort() # Sort works \"in place\" so we need to create the list then sort it.\n",
    "print(\"They are:\",\"\".join(L)) # Convert the list of unique characters into a string"
   ]
  },
  {
   "cell_type": "markdown",
   "metadata": {},
   "source": [
    "Iterating across sets"
   ]
  },
  {
   "cell_type": "code",
   "execution_count": null,
   "metadata": {},
   "outputs": [],
   "source": [
    "import random\n",
    "\n",
    "# Create a set with random numbers and print it\n",
    "S = set()\n",
    "for _ in range(10):\n",
    "    S.add(random.randint(1,100))\n",
    "print(S)\n",
    "\n",
    "# Iterate through the set and print each item\n",
    "for item in S:\n",
    "    print(item)"
   ]
  },
  {
   "cell_type": "markdown",
   "metadata": {},
   "source": [
    "Python offers a robust library of methods to operate on sets.  Here are a few of the most commonly used:\n",
    "\n",
    "<html>\n",
    "<head>\n",
    "<style>\n",
    "table {\n",
    "  font-family: arial, sans-serif;\n",
    "  border-collapse: collapse;\n",
    "  width: 100%;\n",
    "}\n",
    "\n",
    "td, th {\n",
    "  border: 1px solid #dddddd;\n",
    "  text-align: left;\n",
    "  padding: 8px;\n",
    "}\n",
    "\n",
    "tr:nth-child(even) {\n",
    "  background-color: #dddddd;\n",
    "}\n",
    "</style>\n",
    "</head>\n",
    "<body>\n",
    "\n",
    "<table align=\"left\">\n",
    "  <tr>\n",
    "    <th align=\"left\">Method</th>\n",
    "    <th align=\"left\">Symbol</th>\n",
    "    <th align=\"left\">Description</th>\n",
    "  </tr>\n",
    "  <tr>\n",
    "    <td align=\"left\">S.add(n)</td>\n",
    "    <td align=\"left\">N/A</td>\n",
    "    <td>Adds n to the set S.</td>\n",
    "  </tr>\n",
    "  <tr>\n",
    "    <td align=\"left\">clear(S)</td>\n",
    "    <td align=\"left\">N/A</td>\n",
    "    <td>Removes all the elements from S.</td>\n",
    "  </tr>\n",
    "  <tr>\n",
    "    <td align=\"left\">S1.difference(S2)</td>\n",
    "    <td align=\"left\">S1 - S2</td>\n",
    "    <td>Returns a set containing elements in S1 that are not in S2.</td>\n",
    "  </tr>\n",
    "  <tr>\n",
    "    <td align=\"left\">S1.intersection(S1)</td>\n",
    "    <td align=\"left\">S1 &amp; S2</td>\n",
    "    <td>Returns a set containing elements common to S1 and S2.</td>\n",
    "  </tr>\n",
    "  <tr>\n",
    "    <td align=\"left\">S1.isdisjoint(S2)</td>\n",
    "    <td align=\"left\">N/A</td>\n",
    "    <td>Returns True if S1 and S2 have no intersection; False otherwise.</td>\n",
    "  </tr>\n",
    "  <tr>\n",
    "    <td align=\"left\">S1.issubset(S2)</td>\n",
    "    <td align=\"left\">S1 &lt;&#61; S2</td>\n",
    "    <td>Returns True if every element in S1 is in S2; False otherwise.</td>\n",
    "  </tr>\n",
    "  <tr>\n",
    "    <td align=\"left\">S1.isssuperset(S2)</td>\n",
    "    <td align=\"left\">S1 >= S2</td>\n",
    "    <td>Returns True if every element in S2 is in S1; False otherwise.</td>\n",
    "  </tr>\n",
    "  <tr>\n",
    "    <td align=\"left\">S1.remove(n)</td>\n",
    "    <td align=\"left\">N/A</td>\n",
    "    <td>Removes n from S1.</td>\n",
    "  </tr>\n",
    "  <tr>\n",
    "    <td align=\"left\">S1.difference(S2)</td>\n",
    "    <td align=\"left\">S1 - S2</td>\n",
    "    <td>Returns a set with elements in S1 but not in S2.</td>\n",
    "  </tr>\n",
    "  <tr>\n",
    "    <td align=\"left\">S1.symmetric_difference(S2)</td>\n",
    "    <td align=\"left\">S1 ^ S2</td>\n",
    "    <td>Returns a set with elements in either S1 or S2, but not both.</td>\n",
    "  </tr>\n",
    "  <tr>\n",
    "    <td align=\"left\">S1.union(S2)</td>\n",
    "    <td align=\"left\">S1 | S2</td>\n",
    "    <td>Returns a set with elements in both S1 and S2.</td>\n",
    "  </tr>\n",
    "</table>\n",
    "\n",
    "</body>\n",
    "</html>"
   ]
  },
  {
   "cell_type": "code",
   "execution_count": null,
   "metadata": {},
   "outputs": [],
   "source": [
    "S1 = {1,2,3,4,5}\n",
    "S2 = {3,4,5,6,7}\n",
    "S3 = {3,4}\n",
    "\n",
    "print(\"S1\",S1)\n",
    "print(\"S2\",S2)\n",
    "print(\"S3\",S3)\n",
    "print(\"\\nS1 - S2\",S1 - S2)\n",
    "print(\"S1 & S2\",S1 & S2)\n",
    "print(\"S3 <= S2\",S3 <= S2)\n",
    "print(\"S2 >= S1\",S2 >= S1)\n",
    "print(\"S1 ^ S2\",S1 ^ S2)\n",
    "print(\"S1 | S2\",S1 | S2)"
   ]
  },
  {
   "cell_type": "markdown",
   "metadata": {},
   "source": [
    "## Additional Resources\n",
    "\n",
    "[Data Structures (list, dict, tuples, sets, strings)](http://thomas-cokelaer.info/tutorials/python/data_structures.html)\n",
    "\n",
    "[Python Data Structures – Lists, Tuples, Sets, Dictionaries](https://data-flair.training/blogs/python-data-structures-tutorial/)\n",
    "\n",
    "[Shallow vs Deep Copying of Python Objects](https://realpython.com/copying-python-objects/)\n",
    "\n",
    "[Shallow and deep copy operations - Python Documentation](https://docs.python.org/3/library/copy.html)"
   ]
  },
  {
   "cell_type": "markdown",
   "metadata": {},
   "source": [
    "<hr>\n",
    "\n",
    "*MIT License*\n",
    "\n",
    "*Copyright 2019-2020 Peter Nardi*\n",
    "\n",
    "*Terms of use:*\n",
    "\n",
    "*Permission is hereby granted, free of charge, to any person obtaining a copy of this software and associated documentation files (the \"Software\"), to deal in the Software without restriction, including without limitation the rights to use, copy, modify, merge, publish, distribute, sublicense, and/or sell copies of the Software, and to permit persons to whom the Software is furnished to do so, subject to the following conditions:*\n",
    "\n",
    "*The above copyright notice and this permission notice shall be included in all copies or substantial portions of the Software.*\n",
    "\n",
    "*THE SOFTWARE IS PROVIDED \"AS IS\", WITHOUT WARRANTY OF ANY KIND, EXPRESS OR IMPLIED, INCLUDING BUT NOT LIMITED TO THE WARRANTIES OF MERCHANTABILITY, FITNESS FOR A PARTICULAR PURPOSE AND NON-INFRINGEMENT. IN NO EVENT SHALL THE AUTHORS OR COPYRIGHT HOLDERS BE LIABLE FOR ANY CLAIM, DAMAGES OR OTHER LIABILITY, WHETHER IN AN ACTION OF CONTRACT, TORT OR OTHERWISE, ARISING FROM, OUT OF OR IN CONNECTION WITH THE SOFTWARE OR THE USE OR OTHER DEALINGS IN THE SOFTWARE.*"
   ]
  }
 ],
 "metadata": {
  "kernelspec": {
   "display_name": "Python 3",
   "language": "python",
   "name": "python3"
  },
  "language_info": {
   "codemirror_mode": {
    "name": "ipython",
    "version": 3
   },
   "file_extension": ".py",
   "mimetype": "text/x-python",
   "name": "python",
   "nbconvert_exporter": "python",
   "pygments_lexer": "ipython3",
   "version": "3.6.9"
  }
 },
 "nbformat": 4,
 "nbformat_minor": 4
}
