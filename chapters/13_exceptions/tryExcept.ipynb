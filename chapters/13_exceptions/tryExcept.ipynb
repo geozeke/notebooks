{
 "cells": [
  {
   "cell_type": "markdown",
   "metadata": {},
   "source": [
    "# Introduction To Python Exception Handling"
   ]
  },
  {
   "cell_type": "markdown",
   "metadata": {},
   "source": [
    "## What is an exception?"
   ]
  },
  {
   "cell_type": "markdown",
   "metadata": {},
   "source": [
    "From the Python documentation located at [docs.python.org](https://docs.python.org):"
   ]
  },
  {
   "cell_type": "markdown",
   "metadata": {},
   "source": [
    "*Even if a statement or expression is syntactically correct, it may cause an error when an attempt is made to execute it. Errors detected during execution are called exceptions and are not unconditionally fatal.*"
   ]
  },
  {
   "cell_type": "markdown",
   "metadata": {},
   "source": [
    "<br clear=\"all\" />\n",
    "<img src=\"../../images/check.png\" align=\"left\" />\n",
    "<br clear=\"all\" />\n",
    "\n",
    "What will happen when you run the code below and why?"
   ]
  },
  {
   "cell_type": "code",
   "execution_count": null,
   "metadata": {},
   "outputs": [],
   "source": [
    "n = 0\n",
    "p = 10 * (1 / n)\n",
    "print(p)"
   ]
  },
  {
   "cell_type": "markdown",
   "metadata": {},
   "source": [
    "## Python's built-in construct for handling run time exceptions is: `try...except`"
   ]
  },
  {
   "cell_type": "markdown",
   "metadata": {},
   "source": [
    "<br clear=\"all\" />\n",
    "<img src=\"../../images/check.png\" align=\"left\" />\n",
    "<br clear=\"all\" />\n",
    "\n",
    "Examine and run the code below.  Why does `line 3` get executed if you enter the number 8, but it doesn't get executed if you enter the character 'A'?"
   ]
  },
  {
   "cell_type": "code",
   "execution_count": null,
   "metadata": {},
   "outputs": [],
   "source": [
    "try:\n",
    "    x = int(input(\"Enter an integer: \"))\n",
    "    print(\"Your integer is:\",x)\n",
    "except ValueError:\n",
    "    print(\"Oops! Invalid integer.\")\n",
    "\n",
    "print(\"The program is finished\")"
   ]
  },
  {
   "cell_type": "markdown",
   "metadata": {},
   "source": [
    "Python is extremely powerful.  Another way to handle errors from the code above is to capture the details from the `ValueError` exception as a variable and print them to the terminal."
   ]
  },
  {
   "cell_type": "code",
   "execution_count": null,
   "metadata": {},
   "outputs": [],
   "source": [
    "try:\n",
    "    x = int(input(\"Enter an integer: \"))\n",
    "    print(\"Your integer is:\",x)\n",
    "except ValueError as e:\n",
    "    print(e)\n",
    "\n",
    "print(\"The program is finished\")"
   ]
  },
  {
   "cell_type": "markdown",
   "metadata": {},
   "source": [
    "## Some Python exception handling best practices"
   ]
  },
  {
   "cell_type": "markdown",
   "metadata": {},
   "source": [
    "### 1. Make exceptions specific\n",
    "\n",
    "In the example above, we're dealing with one specific exception `ValueError`.  Recall that Python's `input` function always returns a string type and if we try to cast the string \"42\" to an int, it works fine.  If we try to cast the string \"Navy\" to an int, a `ValueError` exception is raised.  If we left the `ValueError` qualifier off our `except` clause, the code would still work, however we wouldn't able to determine exactly what cause the error or take specific actions based on specific errors.  To cover multiple exceptions, Python allows you to chain multiple `except` clauses within a single `try...except`.  Run the example below for a demonstration."
   ]
  },
  {
   "cell_type": "code",
   "execution_count": null,
   "metadata": {},
   "outputs": [],
   "source": [
    "L = ['N',0,3]\n",
    "\n",
    "for item in L:\n",
    "    try:\n",
    "        print(\"Item is:\", item)\n",
    "        r = 1/int(item)\n",
    "        print(\"Reciprocal is:\",r)\n",
    "    except ValueError:\n",
    "        print(\"Cannot cast\",item,\"to int\")\n",
    "        # Additional code to handle ValueError\n",
    "    except ZeroDivisionError:\n",
    "        print(\"Item causes Division by Zero Error\")\n",
    "        # Additional code to handle ZeroDivisionError"
   ]
  },
  {
   "cell_type": "markdown",
   "metadata": {},
   "source": [
    "### 2. Use only where appropriate\n",
    "\n",
    "Exception handling should only be used for situations that would cause run time errors.  Consider (and run) the example below. Not finding the desired sub-string is not a run time error, but trying to index beyond the end of the string is."
   ]
  },
  {
   "cell_type": "markdown",
   "metadata": {},
   "source": [
    "<br clear=\"all\" />\n",
    "<img src=\"../../images/check.png\" align=\"left\" />\n",
    "<br clear=\"all\" />\n",
    "\n",
    "Why will the `IndexError` exception be raised in the code below?"
   ]
  },
  {
   "cell_type": "code",
   "execution_count": null,
   "metadata": {},
   "outputs": [],
   "source": [
    "s = \"Go Navy, Beat Army!\"\n",
    "print(s.find(\"Beat\"))  # \"Beat\" starts at index 9\n",
    "print(s.find(\"Cyber\")) # \"Cyber\" is not contained in s, so find returns -1\n",
    "size = len(s)\n",
    "try:\n",
    "    print(s[size])\n",
    "    print(\"Success\")\n",
    "except IndexError as e:\n",
    "    print(e)"
   ]
  },
  {
   "cell_type": "markdown",
   "metadata": {},
   "source": [
    "### 3. Exception handling is very useful to validate user input\n",
    "\n",
    "The example below demonstrates a common `try...except` use case for validating user input."
   ]
  },
  {
   "cell_type": "code",
   "execution_count": null,
   "metadata": {},
   "outputs": [],
   "source": [
    "while (1):   \n",
    "    try:\n",
    "        n = int(input(\"Enter an integer between 1 and 10: \"))\n",
    "        if (n < 1) or (n > 10):\n",
    "            print(\"Input not between 1 and 10.  Please try again\")\n",
    "        else:\n",
    "            break\n",
    "    except ValueError:\n",
    "        print(\"Invalid integer format.  Please try again.\")\n",
    "        \n",
    "print(\"You entered:\",n)"
   ]
  },
  {
   "cell_type": "markdown",
   "metadata": {},
   "source": [
    "## Additional Resources\n",
    "\n",
    "[Python Exceptions: An Introduction](https://realpython.com/python-exceptions/)\n",
    "\n",
    "[Python Documentation Ch: 8. Errors and Exceptions](https://docs.python.org/3/tutorial/errors.html)"
   ]
  },
  {
   "cell_type": "markdown",
   "metadata": {},
   "source": [
    "<hr>\n",
    "\n",
    "*MIT License*\n",
    "\n",
    "*Copyright 2019-2020 Peter Nardi*\n",
    "\n",
    "*Terms of use:*\n",
    "\n",
    "*Permission is hereby granted, free of charge, to any person obtaining a copy of this software and associated documentation files (the \"Software\"), to deal in the Software without restriction, including without limitation the rights to use, copy, modify, merge, publish, distribute, sublicense, and/or sell copies of the Software, and to permit persons to whom the Software is furnished to do so, subject to the following conditions:*\n",
    "\n",
    "*The above copyright notice and this permission notice shall be included in all copies or substantial portions of the Software.*\n",
    "\n",
    "*THE SOFTWARE IS PROVIDED \"AS IS\", WITHOUT WARRANTY OF ANY KIND, EXPRESS OR IMPLIED, INCLUDING BUT NOT LIMITED TO THE WARRANTIES OF MERCHANTABILITY, FITNESS FOR A PARTICULAR PURPOSE AND NON-INFRINGEMENT. IN NO EVENT SHALL THE AUTHORS OR COPYRIGHT HOLDERS BE LIABLE FOR ANY CLAIM, DAMAGES OR OTHER LIABILITY, WHETHER IN AN ACTION OF CONTRACT, TORT OR OTHERWISE, ARISING FROM, OUT OF OR IN CONNECTION WITH THE SOFTWARE OR THE USE OR OTHER DEALINGS IN THE SOFTWARE.*"
   ]
  }
 ],
 "metadata": {
  "kernelspec": {
   "display_name": "Python 3",
   "language": "python",
   "name": "python3"
  },
  "language_info": {
   "codemirror_mode": {
    "name": "ipython",
    "version": 3
   },
   "file_extension": ".py",
   "mimetype": "text/x-python",
   "name": "python",
   "nbconvert_exporter": "python",
   "pygments_lexer": "ipython3",
   "version": "3.6.9"
  }
 },
 "nbformat": 4,
 "nbformat_minor": 4
}
