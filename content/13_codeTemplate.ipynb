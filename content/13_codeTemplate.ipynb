{
 "cells": [
  {
   "cell_type": "markdown",
   "metadata": {},
   "source": [
    "# Coding Template for Python Projects\n",
    "\n",
    "Below is the template you should use for assignments you submit in this class.  Your comment template should include the following fields:\n",
    "\n",
    "* Author\n",
    "* Alpha\n",
    "* Assignment\n",
    "* Date\n",
    "* Dependencies: If this file requires importing other code files (modules) list them here.\n",
    "* Description: The description field is free-form.  Give me a good overview, in your own words, of what your program does.  \n",
    "* Resources: This should include not only internet resources, but collaboration with classmates, MGSP, etc.\n",
    "\n",
    "The rest of the template may be adjusted or omitted as necessary, depending on the structure of your program. Make liberal use of in-line comments throughout your code to describe its function. Also make effective use of spacing and separators to give your code a clean, consistent, easy-to-read look.\n",
    "\n",
    "The code below will actually run."
   ]
  },
  {
   "cell_type": "code",
   "execution_count": null,
   "metadata": {},
   "outputs": [],
   "source": [
    "# Author: Peter Nardi\n",
    "# Alpha: 844939\n",
    "# Assignment: Lab 1\n",
    "# Date: 09/23/20\n",
    "#\n",
    "# Dependencies: N/A\n",
    "#\n",
    "# Description:\n",
    "# Provide a meaningful, high-level description of what your program does.\n",
    "#\n",
    "# Resources:\n",
    "# Cite any resources used in a style similar to MLA\n",
    "\n",
    "# Don't hesitate to use in-line comments to describe what's going on.\n",
    "print(\"Hello World!\")\n"
   ]
  },
  {
   "cell_type": "markdown",
   "metadata": {},
   "source": [
    "<hr>\n",
    "\n",
    "*MIT License*\n",
    "\n",
    "*Copyright 2019-2022 Peter Nardi*\n",
    "\n",
    "*Terms of use:*\n",
    "\n",
    "*Permission is hereby granted, free of charge, to any person obtaining a copy of this software and associated documentation files (the \"Software\"), to deal in the Software without restriction, including without limitation the rights to use, copy, modify, merge, publish, distribute, sublicense, and/or sell copies of the Software, and to permit persons to whom the Software is furnished to do so, subject to the following conditions:*\n",
    "\n",
    "*The above copyright notice and this permission notice shall be included in all copies or substantial portions of the Software.*\n",
    "\n",
    "*THE SOFTWARE IS PROVIDED \"AS IS\", WITHOUT WARRANTY OF ANY KIND, EXPRESS OR IMPLIED, INCLUDING BUT NOT LIMITED TO THE WARRANTIES OF MERCHANTABILITY, FITNESS FOR A PARTICULAR PURPOSE AND NON-INFRINGEMENT. IN NO EVENT SHALL THE AUTHORS OR COPYRIGHT HOLDERS BE LIABLE FOR ANY CLAIM, DAMAGES OR OTHER LIABILITY, WHETHER IN AN ACTION OF CONTRACT, TORT OR OTHERWISE, ARISING FROM, OUT OF OR IN CONNECTION WITH THE SOFTWARE OR THE USE OR OTHER DEALINGS IN THE SOFTWARE.*"
   ]
  }
 ],
 "metadata": {
  "celltoolbar": "Edit Metadata",
  "kernelspec": {
   "display_name": "Python 3",
   "language": "python",
   "name": "python3"
  },
  "language_info": {
   "codemirror_mode": {
    "name": "ipython",
    "version": 3
   },
   "file_extension": ".py",
   "mimetype": "text/x-python",
   "name": "python",
   "nbconvert_exporter": "python",
   "pygments_lexer": "ipython3",
   "version": "3.8.5"
  }
 },
 "nbformat": 4,
 "nbformat_minor": 4
}
