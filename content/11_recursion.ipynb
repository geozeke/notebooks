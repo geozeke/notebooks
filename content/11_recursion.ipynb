{
 "cells": [
  {
   "cell_type": "markdown",
   "metadata": {},
   "source": [
    "# Introduction to Recursion in Python\n",
    "\n",
    "Recursion is an extremely powerful tool in modern programming languages.  As powerful as it is, it can be equally daunting to learn it for the first time. But don't worry, you'll soon become an expert!\n",
    "\n",
    "Let's jump right in with an example program that is NOT recursive.  This program takes an integer (`n`) and sums the integers from 1 to `n`."
   ]
  },
  {
   "cell_type": "code",
   "execution_count": null,
   "metadata": {},
   "outputs": [],
   "source": [
    "def sumInts(n):\n",
    "    total = 0\n",
    "    for i in range(1,n+1):\n",
    "        total += i\n",
    "    return total\n",
    "\n",
    "def main():\n",
    "    n = int(input(\"Enter a positive integer >= 1: \"))\n",
    "    print(f\"The sum of integers from 1 to {n:d} is {sumInts(n):,d}\")\n",
    "    return\n",
    "    \n",
    "if __name__ == '__main__':\n",
    "    main()\n",
    "    print(\"Program is complete.\")"
   ]
  },
  {
   "cell_type": "markdown",
   "metadata": {},
   "source": [
    "*Note: The code above does not include any exception handling, so it's easy to crash it with the input you use.*"
   ]
  },
  {
   "cell_type": "markdown",
   "metadata": {},
   "source": [
    "## The Stack\n",
    "\n",
    "The first line of code to be executed above is line 12. It checks to see if our Python file is being run directly (as opposed to being imported). Since we are running it directly, line 13 executes a call to the `main()` function. Python then builds what's called a *Stack Frame* that contains all the information needed to continue execution at line 14, at a later time, and transfers control to the `main()` function. The `main()` function then runs until it performs its return (line 10).\n",
    "\n",
    "As the `main()` function executes, Python builds another *Stack Frame* for the call to `sumInts()`, so that execution can continue at line 10 (later), and transfers control to the `sumInts()` function. The `sumInts()` function runs until it performs its return (line 5). Control then transfers back, one *Stack Frame* at a time until the program is complete.\n",
    "\n",
    "This collection of *Stack Frames* is known as the *Call Stack*. Think of it like a stack of plates, where the one on top is the only one that's running, and all the plates below are waiting for their turn. The plates are arranged in Last-In-First-Out (LIFO) order and the picture looks something like this (start at the bottom right):\n",
    "\n",
    "<img src=\"../images/11stackframes.png\" width=\"70%\" height=\"70%\" align=\"left\" />\n",
    "<br clear=\"all\" />\n",
    "<br clear=\"all\" />\n"
   ]
  },
  {
   "cell_type": "markdown",
   "metadata": {},
   "source": [
    "## Recursion and Stack Frames\n",
    "\n",
    "Recursion in a programming language is the process of having a function call itself. Just like in the example above, every time a function is called, even if it's calling itself, another *Frame* is generated on the *Call Stack*. Below is the same program written recursively. Try it with a few integers below 1,000; then try 10,000. What happens?"
   ]
  },
  {
   "cell_type": "code",
   "execution_count": null,
   "metadata": {},
   "outputs": [],
   "source": [
    "def sumInts(n):\n",
    "    if n == 1:\n",
    "        return 1\n",
    "    else:\n",
    "        return n + sumInts(n-1)\n",
    "\n",
    "def main():\n",
    "    n = int(input(\"Enter a positive integer >= 1: \"))\n",
    "    print(\"The sum of integers from 1 to {0:d} is {1:,d}\".format(n,sumInts(n)))\n",
    "    return\n",
    "    \n",
    "if __name__ == '__main__':\n",
    "    main()\n",
    "    print(\"Program is complete.\")"
   ]
  },
  {
   "cell_type": "markdown",
   "metadata": {},
   "source": [
    "## If there are limits on how deep recursion can go, why do we use it?\n",
    "\n",
    "While there can be a speed and resource penalty when using recursion, there are many computing problems that can be ***greatly*** simplified when implemented recursively.  We'll talk about recursion and run time performance in later courses.\n",
    "\n",
    "For now, it's your turn.  Finish the code below to implement a function (`reverseIt()`) that uses recursion to take a given string and return it in reverse order.  For example: `reverseIt('Navy!')` would return `'!yvaN'`."
   ]
  },
  {
   "cell_type": "code",
   "execution_count": null,
   "metadata": {},
   "outputs": [],
   "source": [
    "def reverseIt(s):\n",
    "    # Write your code here.\n",
    "\n",
    "def main():\n",
    "    s = input(\"Enter a string: \")\n",
    "    print(\"The reverse of \\\"{0:s}\\\" is \\\"{1:s}\\\"\".format(s,reverseIt(s)))\n",
    "    return\n",
    "    \n",
    "if __name__ == '__main__':\n",
    "    main()\n",
    "    print(\"Program is complete.\")"
   ]
  },
  {
   "cell_type": "markdown",
   "metadata": {},
   "source": [
    "## Additional Resources\n",
    "\n",
    "[Thinking Recursively in Python](https://realpython.com/python-thinking-recursively/)\n",
    "\n",
    "[Introduction to Recursion (Data Structures & Algorithms #6) - Video](https://www.youtube.com/watch?v=B0NtAFf4bvU)\n",
    "\n",
    "[How Recursion Works — explained with flowcharts and a video](https://www.freecodecamp.org/news/how-recursion-works-explained-with-flowcharts-and-a-video-de61f40cb7f9/)"
   ]
  },
  {
   "cell_type": "markdown",
   "metadata": {},
   "source": [
    "<hr>\n",
    "\n",
    "*MIT License*\n",
    "\n",
    "*Copyright 2019-2021 Peter Nardi*\n",
    "\n",
    "*Terms of use:*\n",
    "\n",
    "*Permission is hereby granted, free of charge, to any person obtaining a copy of this software and associated documentation files (the \"Software\"), to deal in the Software without restriction, including without limitation the rights to use, copy, modify, merge, publish, distribute, sublicense, and/or sell copies of the Software, and to permit persons to whom the Software is furnished to do so, subject to the following conditions:*\n",
    "\n",
    "*The above copyright notice and this permission notice shall be included in all copies or substantial portions of the Software.*\n",
    "\n",
    "*THE SOFTWARE IS PROVIDED \"AS IS\", WITHOUT WARRANTY OF ANY KIND, EXPRESS OR IMPLIED, INCLUDING BUT NOT LIMITED TO THE WARRANTIES OF MERCHANTABILITY, FITNESS FOR A PARTICULAR PURPOSE AND NON-INFRINGEMENT. IN NO EVENT SHALL THE AUTHORS OR COPYRIGHT HOLDERS BE LIABLE FOR ANY CLAIM, DAMAGES OR OTHER LIABILITY, WHETHER IN AN ACTION OF CONTRACT, TORT OR OTHERWISE, ARISING FROM, OUT OF OR IN CONNECTION WITH THE SOFTWARE OR THE USE OR OTHER DEALINGS IN THE SOFTWARE.*"
   ]
  }
 ],
 "metadata": {
  "kernelspec": {
   "display_name": "Python 3",
   "language": "python",
   "name": "python3"
  },
  "language_info": {
   "codemirror_mode": {
    "name": "ipython",
    "version": 3
   },
   "file_extension": ".py",
   "mimetype": "text/x-python",
   "name": "python",
   "nbconvert_exporter": "python",
   "pygments_lexer": "ipython3",
   "version": "3.8.5"
  }
 },
 "nbformat": 4,
 "nbformat_minor": 4
}
