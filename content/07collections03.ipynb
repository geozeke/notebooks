{
 "cells": [
  {
   "cell_type": "markdown",
   "metadata": {},
   "source": [
    "# Tuples\n",
    "\n",
    "A [tuple](https://docs.python.org/3/library/stdtypes.html#typesseq) is an immutable sequence type of Python objects. They're frequently used when you want to return more than one value from a function. Python tuples can be heterogeneous, which makes them very powerful. For example, this is a perfectly legal tuple in Python: `(\"Hello\", 0, 3.141)`. Tuples are **iterable**, **immutable** and **ordered**.  Duplicates are allowed in tuples.\n",
    "\n",
    "Let's start with a simple example, then discuss how tuples are useful for returning more than one value from a function."
   ]
  },
  {
   "cell_type": "code",
   "execution_count": null,
   "metadata": {},
   "outputs": [],
   "source": [
    "T = (3,8,2)\n",
    "\n",
    "print(T)\n",
    "print(\"The first element in the tuple is:\",T[0])\n",
    "\n",
    "for t in T:\n",
    "    print(t)"
   ]
  },
  {
   "cell_type": "markdown",
   "metadata": {},
   "source": [
    "* Notice that tuples are described with parenthesis, rather than brackets which describe lists `[]` or braces that describe sets `{}`.\n",
    "* Even though you create a tuple with parenthesis, you access individual elements with brackets (e.g. line 4)\n",
    "* The loop uses `t` (lowercase) as a variable to iterate over the tuple `T` (uppercase)\n",
    "\n",
    "<br clear=\"all\" />\n",
    "<img src=\"../images/00check.png\" align=\"left\" />\n",
    "<br clear=\"all\" />\n",
    "\n",
    "I mentioned at the start that tuples are immutable. Once they're created, you can't change them. If you insert a line 2 in the code above that tries to change `T` like this: `T[1] = 12`, what happens?"
   ]
  },
  {
   "cell_type": "markdown",
   "metadata": {},
   "source": [
    "<hr>\n",
    "\n",
    "There's a classic problem in introductory computing classes: *Given a variable `x` and a variable `y`, how do you swap the values in `x` and `y`?*\n",
    "\n",
    "Examine this:"
   ]
  },
  {
   "cell_type": "code",
   "execution_count": null,
   "metadata": {},
   "outputs": [],
   "source": [
    "x = 3\n",
    "y = 5\n",
    "print(x,y)\n",
    "\n",
    "x = y\n",
    "y = x\n",
    "print(x,y)"
   ]
  },
  {
   "cell_type": "markdown",
   "metadata": {},
   "source": [
    "Does it work? Run it. What happens to the original value of `x` in line 5?\n",
    "\n",
    "<hr>\n",
    "\n",
    "The traditional way to solve this is by using a third variable as a placeholder like this:"
   ]
  },
  {
   "cell_type": "code",
   "execution_count": null,
   "metadata": {},
   "outputs": [],
   "source": [
    "x = 3\n",
    "y = 5\n",
    "print(x,y)\n",
    "\n",
    "z = x\n",
    "x = y\n",
    "y = z\n",
    "print(x,y)"
   ]
  },
  {
   "cell_type": "markdown",
   "metadata": {},
   "source": [
    "<hr>\n",
    "\n",
    "A cool way to solve it with tuples looks like this:"
   ]
  },
  {
   "cell_type": "code",
   "execution_count": null,
   "metadata": {},
   "outputs": [],
   "source": [
    "x = 3\n",
    "y = 5\n",
    "print(x,y)\n",
    "\n",
    "(x,y) = (y,x)\n",
    "print(x,y)"
   ]
  },
  {
   "cell_type": "markdown",
   "metadata": {},
   "source": [
    "<hr>\n",
    "\n",
    "### Returning Multiple Values From Functions\n",
    "\n",
    "When we introduced functions, it became apparent that we could only return one value (thing) from a function. It serves well for most uses, but what if you want to return more than one value from a function?\n",
    "\n",
    "Take the code below as an example. Suppose you want to write a function that takes a list of integers and returns the sum of all the odd integers **and also** the sum of all the even integers. It might start out with something like this:"
   ]
  },
  {
   "cell_type": "code",
   "execution_count": null,
   "metadata": {},
   "outputs": [],
   "source": [
    "def findSums(L):\n",
    "    odds = 0\n",
    "    evens = 0\n",
    "    \n",
    "    for i in L:\n",
    "        if i % 2 == 0:\n",
    "            evens += 1\n",
    "        else:\n",
    "            odds += 1\n",
    "    \n",
    "    return ????\n",
    "\n",
    "# Sample list\n",
    "L = [1,2,3,4,5,6,7,8,9,10,11,12,13,14,15,16,17,18,19,20]\n",
    "\n",
    "print(\"Even sum =\",findSums(L))\n",
    "print(\" Odd sum =\",findSums(L))"
   ]
  },
  {
   "cell_type": "markdown",
   "metadata": {},
   "source": [
    "The program above doesn't work. It's a good template, but it won't run. What do we return? How would you modify the code using tuples so that you could return both the sum of the odd numbers and the sum of the even numbers, using a single `return` statement?"
   ]
  },
  {
   "cell_type": "markdown",
   "metadata": {},
   "source": [
    "## Additional Resources\n",
    "\n",
    "[Data Structures (list, dict, tuples, sets, strings)](http://thomas-cokelaer.info/tutorials/python/data_structures.html)\n",
    "\n",
    "[Python Data Structures – Lists, Tuples, Sets, Dictionaries](https://data-flair.training/blogs/python-data-structures-tutorial/)"
   ]
  },
  {
   "cell_type": "markdown",
   "metadata": {},
   "source": [
    "<hr>\n",
    "\n",
    "*MIT License*\n",
    "\n",
    "*Copyright 2019-2020 Peter Nardi*\n",
    "\n",
    "*Terms of use:*\n",
    "\n",
    "*Permission is hereby granted, free of charge, to any person obtaining a copy of this software and associated documentation files (the \"Software\"), to deal in the Software without restriction, including without limitation the rights to use, copy, modify, merge, publish, distribute, sublicense, and/or sell copies of the Software, and to permit persons to whom the Software is furnished to do so, subject to the following conditions:*\n",
    "\n",
    "*The above copyright notice and this permission notice shall be included in all copies or substantial portions of the Software.*\n",
    "\n",
    "*THE SOFTWARE IS PROVIDED \"AS IS\", WITHOUT WARRANTY OF ANY KIND, EXPRESS OR IMPLIED, INCLUDING BUT NOT LIMITED TO THE WARRANTIES OF MERCHANTABILITY, FITNESS FOR A PARTICULAR PURPOSE AND NON-INFRINGEMENT. IN NO EVENT SHALL THE AUTHORS OR COPYRIGHT HOLDERS BE LIABLE FOR ANY CLAIM, DAMAGES OR OTHER LIABILITY, WHETHER IN AN ACTION OF CONTRACT, TORT OR OTHERWISE, ARISING FROM, OUT OF OR IN CONNECTION WITH THE SOFTWARE OR THE USE OR OTHER DEALINGS IN THE SOFTWARE.*"
   ]
  }
 ],
 "metadata": {
  "kernelspec": {
   "display_name": "Python 3",
   "language": "python",
   "name": "python3"
  },
  "language_info": {
   "codemirror_mode": {
    "name": "ipython",
    "version": 3
   },
   "file_extension": ".py",
   "mimetype": "text/x-python",
   "name": "python",
   "nbconvert_exporter": "python",
   "pygments_lexer": "ipython3",
   "version": "3.8.2"
  }
 },
 "nbformat": 4,
 "nbformat_minor": 4
}
