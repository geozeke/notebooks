{
 "cells": [
  {
   "cell_type": "markdown",
   "metadata": {},
   "source": [
    "# Hashing Strings in Python\n",
    "\n",
    "As a quick review from your Plebe Cyber Course, hash functions are one-way\n",
    "functions with the following properties:\n",
    "\n",
    "1. Easy (for a computer) to compute the hash for a string\n",
    "2. Hard (takes way too long) to start with a hash value and construct a string\n",
    "   that hashes to it\n",
    "3. Impossible to start with a string and find a different string that hashes to\n",
    "   the same value -- ideal hash functions produce unique keys\n",
    "\n",
    "<img src=\"../images/09hashing.png\" alt=\"Hashing Diagram\" width=\"50%\" height=\"50%\" align=\"left\" />\n",
    "<br clear=\"all\" />\n",
    "<br clear=\"all\" />\n",
    "\n",
    "Python's hashing library is quite powerful.  To hash a string in Python\n",
    "requires four basic steps:\n",
    "\n",
    "1. Select the algorithm (digest) to use for hashing\n",
    "2. Encode the string as a series of bytes\n",
    "3. Hash the encoded string\n",
    "4. Convert the result to a human-readable hexadecimal representation"
   ]
  },
  {
   "cell_type": "markdown",
   "metadata": {},
   "source": [
    "### Selecting an algorithm\n",
    "\n",
    "*The pros / cons and technical details of various hashing algorithms are beyond\n",
    "the scope of this course.*\n",
    "\n",
    "You can display the algorithms available on your system using the\n",
    "`algorithms_available` constant attribute.  This constant lists all the\n",
    "algorithms available in your system, including the ones available in the Python\n",
    "distribution as well as those in the `OpenSSl` package.  To use a hashing\n",
    "function, start by importing the\n",
    "[hashlib](https://docs.python.org/3/library/hashlib.html) module within your\n",
    "code."
   ]
  },
  {
   "cell_type": "code",
   "execution_count": null,
   "metadata": {},
   "outputs": [],
   "source": [
    "import hashlib\n",
    "\n",
    "print(hashlib.algorithms_available)\n"
   ]
  },
  {
   "cell_type": "markdown",
   "metadata": {},
   "source": [
    "### Encoding a String as a Series of Bytes\n",
    "\n",
    "You use the\n",
    "[encode()](https://docs.python.org/3/library/stdtypes.html#str.encode) method\n",
    "for string objects to accomplish this.  Encoding strings in byte format is\n",
    "usually an intermediate step.  We don't normally print the results of byte\n",
    "encoding, but we can."
   ]
  },
  {
   "cell_type": "markdown",
   "metadata": {},
   "source": [
    "<br clear=\"all\" />\n",
    "<img src=\"../images/00check.png\" align=\"left\" />\n",
    "<br clear=\"all\" />\n",
    "\n",
    "When you run the code below, how does Python indicate that a printed string is\n",
    "encoded in byte format?"
   ]
  },
  {
   "cell_type": "code",
   "execution_count": null,
   "metadata": {},
   "outputs": [],
   "source": [
    "import hashlib\n",
    "\n",
    "s = \"Hello World\"\n",
    "sEncoded = s.encode()\n",
    "print(sEncoded)\n"
   ]
  },
  {
   "cell_type": "markdown",
   "metadata": {},
   "source": [
    "### Hashing and Converting to Readable Format\n",
    "\n",
    "The result of hashing a byte-encoded string is a hash object, which may not be\n",
    "useful for presentation or analysis. Fortunately the\n",
    "[hexdigest()](https://docs.python.org/3/library/hashlib.html#hashlib.hash.hexdigest)\n",
    "method for hash objects converts them into a nice string format that we can\n",
    "display and analyze.\n",
    "\n",
    "*NOTE: When you create the `hashObject` in line 4, below, your input string\n",
    "(\"Hello World\") must be encoded as a sequence of bytes, rather being\n",
    "represented as a plain string. The `encode()` method for string objects\n",
    "accomplishes this.*"
   ]
  },
  {
   "cell_type": "code",
   "execution_count": null,
   "metadata": {},
   "outputs": [],
   "source": [
    "import hashlib\n",
    "\n",
    "s = \"Hello World\"\n",
    "hashObject = hashlib.md5(s.encode())\n",
    "readableHash = hashObject.hexdigest()\n",
    "print(readableHash)\n"
   ]
  },
  {
   "cell_type": "markdown",
   "metadata": {},
   "source": [
    "### Practical Implementation\n",
    "\n",
    "In practice, several of the steps above are usually combined to create concise\n",
    "code.  Try the example below."
   ]
  },
  {
   "cell_type": "code",
   "execution_count": null,
   "metadata": {},
   "outputs": [],
   "source": [
    "import hashlib\n",
    "\n",
    "s = input(\"Enter a string: \")\n",
    "hex = hashlib.sha1(s.encode()).hexdigest()\n",
    "print(f\"The sha1 hash of \\\"{s:s}\\\" is {hex:s}\")\n"
   ]
  },
  {
   "cell_type": "markdown",
   "metadata": {},
   "source": [
    "## Additional Resources\n",
    "\n",
    "[Python's hashlib module](https://docs.python.org/3/library/hashlib.html)\n",
    "\n",
    "[Cryptographic Hash Functions Explained: A Beginner’s\n",
    "Guide](https://komodoplatform.com/cryptographic-hash-function/)"
   ]
  },
  {
   "cell_type": "markdown",
   "metadata": {},
   "source": [
    "----\n",
    "\n",
    "MIT License\n",
    "\n",
    "Copyright 2019-2022 Peter Nardi\n",
    "\n",
    "Terms of use:\n",
    "\n",
    "Permission is hereby granted, free of charge, to any person obtaining a copy of\n",
    "this software and associated documentation files (the \"Software\"), to deal in\n",
    "the Software without restriction, including without limitation the rights to\n",
    "use, copy, modify, merge, publish, distribute, sublicense, and/or sell copies\n",
    "of the Software, and to permit persons to whom the Software is furnished to do\n",
    "so, subject to the following conditions:\n",
    "\n",
    "The above copyright notice and this permission notice shall be included in all\n",
    "copies or substantial portions of the Software.\n",
    "\n",
    "THE SOFTWARE IS PROVIDED \"AS IS\", WITHOUT WARRANTY OF ANY KIND, EXPRESS OR\n",
    "IMPLIED, INCLUDING BUT NOT LIMITED TO THE WARRANTIES OF MERCHANTABILITY,\n",
    "FITNESS FOR A PARTICULAR PURPOSE AND NON-INFRINGEMENT. IN NO EVENT SHALL THE\n",
    "AUTHORS OR COPYRIGHT HOLDERS BE LIABLE FOR ANY CLAIM, DAMAGES OR OTHER\n",
    "LIABILITY, WHETHER IN AN ACTION OF CONTRACT, TORT OR OTHERWISE, ARISING FROM,\n",
    "OUT OF OR IN CONNECTION WITH THE SOFTWARE OR THE USE OR OTHER DEALINGS IN THE\n",
    "SOFTWARE.\n"
   ]
  }
 ],
 "metadata": {
  "kernelspec": {
   "display_name": "Python 3 (ipykernel)",
   "language": "python",
   "name": "python3"
  },
  "language_info": {
   "codemirror_mode": {
    "name": "ipython",
    "version": 3
   },
   "file_extension": ".py",
   "mimetype": "text/x-python",
   "name": "python",
   "nbconvert_exporter": "python",
   "pygments_lexer": "ipython3",
   "version": "3.8.10"
  }
 },
 "nbformat": 4,
 "nbformat_minor": 4
}
