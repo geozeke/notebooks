{
 "cells": [
  {
   "cell_type": "markdown",
   "metadata": {},
   "source": [
    "# User Defined Functions\n",
    "\n",
    "In section 3 of the jupyter notebooks we explored some of Python's built-in functions. For example, by importing the [math](https://docs.python.org/3/library/math.html) module, we can access a range of useful functions, such as factorial:"
   ]
  },
  {
   "cell_type": "code",
   "execution_count": null,
   "metadata": {},
   "outputs": [],
   "source": [
    "import math\n",
    "\n",
    "n = 8\n",
    "fact = math.factorial(n)\n",
    "print(fact)"
   ]
  },
  {
   "cell_type": "markdown",
   "metadata": {},
   "source": [
    "<hr>\n",
    "\n",
    "That's great, but exactly what is a function in Python and how do you write your own custom functions?\n",
    "\n",
    "Let's start by looking at the equation for a line that you first learned in algebra:\n",
    "\n",
    "<br clear=\"all\" />\n",
    "<img src=\"../images/06lineEquation.png\" align=\"left\" width=\"20%\" height=\"20%\" />\n",
    "<br clear=\"all\" />\n",
    "\n",
    "It says that for a constant slope (`m`) and a constant base (`b`), you can find any `y` coordinate on a line for a given `x` coordinate by multiplying `x` by `m` and adding `b`. You may have said it like this: \"*`y` is a function of `x`*\", and written it like this:\n",
    "\n",
    "<br clear=\"all\" />\n",
    "<img src=\"../images/06lineEquation2.png\" align=\"left\"  width=\"20%\" height=\"20%\" />\n",
    "<br clear=\"all\" />\n",
    "\n",
    "That's all a function is in Python. You provide the inputs, and the function produces the outputs. To create your own functions in Python, you'll use the keyword `def`, along with the name of the function.\n",
    "\n",
    "### Defining and Calling Functions\n",
    "\n",
    "Let's jump right in with an example of a function that takes no inputs and returns no values, but performs a simple task:"
   ]
  },
  {
   "cell_type": "code",
   "execution_count": null,
   "metadata": {},
   "outputs": [],
   "source": [
    "def myPrintFunction():\n",
    "    print(\"Go Navy\")\n",
    "\n",
    "print(\"The program has started\")\n",
    "myPrintFunction()\n",
    "print(\"The program is complete\")"
   ]
  },
  {
   "cell_type": "markdown",
   "metadata": {},
   "source": [
    "As with many examples, it's a few lines of code that says a lot:\n",
    "\n",
    "* To define our function we use the keyword `def`, followed by a name we choose (`myPrintFunction` in this case).\n",
    "* The use of empty parenthesis `()` is required, even though we're not passing anything to our function.\n",
    "* We end the function definition with a colon (`:`).\n",
    "* More indentation! Everything indented below the function definition is considered part of the function. Lines 4, 5, and 6 are ***not*** part of the function.\n",
    "* When Python sees a function definition, it remembers it for later, but doesn't execute the code until the function is called.\n",
    "* We call our function by using its name, followed by parenthesis (line 5). When we call the function, program execution temporarily transfers to the function until it's complete, then resumes at the next line after the function call.\n",
    "\n",
    "### Arguments, Parameters and Return Values\n",
    "\n",
    "*Arguments* are values we pass to our functions; *Parameters* are placeholders within our functions that hold the arguments we pass; *Return Values* are things we want back from our functions when they've completed their calculations. To see this, lets revisit the equation for a line and write a function to calculate a `y` coordinate for a given `x` coordinate:"
   ]
  },
  {
   "cell_type": "code",
   "execution_count": null,
   "metadata": {},
   "outputs": [],
   "source": [
    "# Assume the slope of our line (m) is 5; and the base (b) is -3\n",
    "\n",
    "def lineEquation(x):\n",
    "    m = 5\n",
    "    b = -3\n",
    "    y = (m * x) + b\n",
    "    return y\n",
    "\n",
    "xValue = int(input(\"Enter x: \"))\n",
    "yValue = lineEquation(xValue)\n",
    "print(\"y =\",yValue)"
   ]
  },
  {
   "cell_type": "markdown",
   "metadata": {},
   "source": [
    "* Our function (called `lineEquation`) has a single *parameter* called `x`.\n",
    "* Lines 4 through 7 apply only to the function, because they're indented below line 3. Indentation is critical in Python!\n",
    "* Within our function I create three new variables `m`, `b`, and `y`.\n",
    "* The function calculates the value of `y` and using the keyword `return`, it returns that value to whatever code called the function.\n",
    "* In line 10, the function gets called, and the variable `xValue` is passed as an *argument*.\n",
    "* The return value from the function is assigned to the variable `yValue`.\n",
    "* Line 11 prints `yValue` to the screen.\n",
    "\n",
    "### Variable Scope\n",
    "\n",
    "The [scope](https://python-textbok.readthedocs.io/en/1.0/Variables_and_Scope.html) of a variable describes where in your code it's visible, and how long it's visible. For the previous example, the variables used within our function (including the parameter `x`) are considered *local* to that function. That means they're only visible within that function and they only exist as long as that function is running. To see that, let's tweak the code in several different ways to see what happens.\n",
    "\n",
    "What if I try to print the slope of our line (`m`) from outside the function?"
   ]
  },
  {
   "cell_type": "code",
   "execution_count": null,
   "metadata": {},
   "outputs": [],
   "source": [
    "# Assume the slope of our line (m) is 5; and the base (b) is -3\n",
    "\n",
    "def lineEquation(x):\n",
    "    m = 5\n",
    "    b = -3\n",
    "    y = (m * x) + b\n",
    "    return y\n",
    "\n",
    "xValue = int(input(\"Enter x: \"))\n",
    "yValue = lineEquation(xValue)\n",
    "print(\"m =\",m)\n",
    "print(\"y =\",yValue)"
   ]
  },
  {
   "cell_type": "markdown",
   "metadata": {},
   "source": [
    "<hr>\n",
    "\n",
    "How about if I try to print `xValue` from inside the function?"
   ]
  },
  {
   "cell_type": "code",
   "execution_count": null,
   "metadata": {},
   "outputs": [],
   "source": [
    "# Assume the slope of our line (m) is 5; and the base (b) is -3\n",
    "\n",
    "def lineEquation(x):\n",
    "    m = 5\n",
    "    b = -3\n",
    "    y = (m * x) + b\n",
    "    print(\"xValue =\",xValue)\n",
    "    return y\n",
    "\n",
    "xValue = int(input(\"Enter x: \"))\n",
    "yValue = lineEquation(xValue)\n",
    "print(\"y =\",yValue)"
   ]
  },
  {
   "cell_type": "markdown",
   "metadata": {},
   "source": [
    "What happened? Why did it work when we printed `xValue` from inside the function, but when we tried to print `m` from outside the function it crashed?  It has to do with the *scope* of those variables. Here's a simple visual aid and a few general rules I use to help me understand variable scope in Python. It covers most of the cases you'll encounter.\n",
    "\n",
    "Think of your code as being arranged in a series of boxes. Some boxes are nested inside others and some do not share a common nesting hierarchy.\n",
    "\n",
    "Here are the rules:\n",
    "\n",
    "* Code can look ***outside its box*** to see variables in boxes that contain it.\n",
    "* Code from one box cannot look ***inside another box***.\n",
    "* If two boxes have variables with the same name, the variables are considered different and ***local to each box***.\n",
    "\n",
    "*My rules ignore the fact that Python does support the concept of [global variables](https://docs.python.org/3/faq/programming.html#what-are-the-rules-for-local-and-global-variables-in-python), but we'll save that discussion for another time.*\n",
    "\n",
    "<br clear=\"all\" />\n",
    "<img src=\"../images/06variableScope.png\" align=\"left\"  width=\"40%\" height=\"40%\" />\n",
    "<br clear=\"all\" />\n",
    "\n",
    "* Box2 and Box3 share no nesting hierarchy.\n",
    "* Box2 and Box3 are both nested inside Box1.\n",
    "* Variables `x1` and `x2` are local to Box2 and Box3 respectively.\n",
    "* Code inside Box1 cannot see the variables in Box2 or Box3 (can't look inside the box).\n",
    "* Code inside Box2 cannot see the variables in Box3.\n",
    "* Code inside Box3 cannot see the variables in Box2.\n",
    "* Variable `y` is local to Box2, but another (considered different) variable `y` is local to Box3.\n",
    "* The variables `x`, `result1` and `result2` have scope in all three boxes. Box2 and Box3 can look ***outside their boxes*** to see the variables in Box1.\n",
    "\n",
    "Ugh! How can you keep this straight?\n",
    "\n",
    "Don't worry. With practice variable scope will become second nature. In general, programmers will try to structure their code in a modular way to keep variable scope as local as possible. Give each code block everything it needs to do a job and avoid having it reach *outside the box* to do its work. As with any coding technique there are always exceptions, but it's a good rule of thumb.\n",
    "\n",
    "A major benefit of local variable scope is that you don't have to come up with multiple variable names to do your work. If you focus on variable scope being local, your code can be much cleaner and still be easy to follow. Let's re-write our code for calculating `y` coordinates on a line.\n",
    "\n",
    "We started with this:"
   ]
  },
  {
   "cell_type": "code",
   "execution_count": null,
   "metadata": {},
   "outputs": [],
   "source": [
    "# Assume the slope of our line (m) is 5; and the base (b) is -3\n",
    "\n",
    "def lineEquation(x):\n",
    "    m = 5\n",
    "    b = -3\n",
    "    y = (m * x) + b\n",
    "    return y\n",
    "\n",
    "xValue = int(input(\"Enter x: \"))\n",
    "yValue = lineEquation(xValue)\n",
    "print(\"y =\",yValue)"
   ]
  },
  {
   "cell_type": "markdown",
   "metadata": {},
   "source": [
    "<hr>\n",
    "\n",
    "If I were coding this for a project, I'd probably do it like this:"
   ]
  },
  {
   "cell_type": "code",
   "execution_count": null,
   "metadata": {},
   "outputs": [],
   "source": [
    "# Assume the slope of our line (m) is 5; and the base (b) is -3\n",
    "\n",
    "def lineEquation(x):\n",
    "    m = 5\n",
    "    b = -3\n",
    "    return (m * x) + b\n",
    "\n",
    "x = int(input(\"Enter x: \"))\n",
    "print(\"y =\",lineEquation(x))"
   ]
  },
  {
   "cell_type": "markdown",
   "metadata": {},
   "source": [
    "* Notice that I used `x` as both a *parameter* in my function definition (line 3), and as an argument to my function call (line 9). Because the same variable (`x`) has local scope in both the `lineEquation()` function and the main part of the program, Python is able to keep track of them separately.\n",
    "* I didn't even use a `y` variable inside my function. I just performed the calculation in-line with the `return` statement.\n",
    "* I also didn't need a `y` variable when I printed the result. I just called the `lineEquation` function in-line with the [print()](https://docs.python.org/3/library/functions.html) statement."
   ]
  },
  {
   "cell_type": "markdown",
   "metadata": {},
   "source": [
    "### Multiple Parameters; Multiple Arguments\n",
    "\n",
    "You can have multiple *parameters* and pass multiple *arguments* to functions. Instead of hard coding it, let's say you wanted the user to enter a value for `x`, the slope (`m`) and the base (`b`). It could look like this:"
   ]
  },
  {
   "cell_type": "code",
   "execution_count": null,
   "metadata": {},
   "outputs": [],
   "source": [
    "def lineEquation(x,m,b):\n",
    "    return (m * x) + b\n",
    "\n",
    "x = int(input(\"Enter x: \"))\n",
    "m = int(input(\"Enter m: \"))\n",
    "b = int(input(\"Enter b: \"))\n",
    "print(\"y =\",lineEquation(x,m,b))"
   ]
  },
  {
   "cell_type": "markdown",
   "metadata": {},
   "source": [
    "<hr>\n",
    "\n",
    "You can also call functions as you iterate, which is very powerful. Let's say you wanted to allow the user to compute a series of `y` coordinates over a range of `x` coordinates, with a certain interval between `x` values. We can't use a [for()](https://docs.python.org/3/tutorial/controlflow.html#tut-for) loop with [range()](https://docs.python.org/3/library/stdtypes.html#typesseq-range), because [range()](https://docs.python.org/3/library/stdtypes.html#typesseq-range) only works with integer types, but we can use a [while()](https://docs.python.org/3/reference/compound_stmts.html#while) loop.\n",
    "\n",
    "The code is getting more advanced, but you can handle it. Examine the program below. Think about what it does, then run it with these inputs:\n",
    "\n",
    "* `m` = `2`\n",
    "* `b` = `-3`\n",
    "* `start` = `-5`\n",
    "* `end` = `5`\n",
    "* `interval` = `0.1`"
   ]
  },
  {
   "cell_type": "code",
   "execution_count": null,
   "metadata": {},
   "outputs": [],
   "source": [
    "def lineEquation(x,m,b):\n",
    "    return (m * x) + b\n",
    "\n",
    "m = float(input(\"Enter m: \"))\n",
    "b = float(input(\"Enter b: \"))\n",
    "start = float(input(\"Enter start: \"))\n",
    "end = float(input(\"Enter end: \"))\n",
    "interval = float(input(\"Enter interval: \"))\n",
    "\n",
    "print(\"Here are your x,y coordinates:\")\n",
    "\n",
    "x = start\n",
    "while x <= end:\n",
    "    y = lineEquation(x,m,b)\n",
    "    print(f\"x = {x:.3f}; y = {y:.3f}\")\n",
    "    x += interval\n",
    "\n",
    "print(\"The program is complete.\")"
   ]
  },
  {
   "cell_type": "markdown",
   "metadata": {},
   "source": [
    "* Do you remember how *f-strings* work in line 15? If you need a refresher, review this notebook again: [03_builtinFunctions01.ipynb](./03_builtinFunctions01.ipynb)\n",
    "* Line 16 is an example of an [augmented assignment statement](https://docs.python.org/3/reference/simple_stmts.html#augassign)."
   ]
  },
  {
   "cell_type": "markdown",
   "metadata": {},
   "source": [
    "## Additional Resources\n",
    "\n",
    "[Python Functions Explained](https://www.programiz.com/python-programming/function)\n",
    "\n",
    "[Section 8.6 Function Definitions](https://docs.python.org/3.8/reference/compound_stmts.html#function-definitions)"
   ]
  },
  {
   "cell_type": "markdown",
   "metadata": {},
   "source": [
    "<hr>\n",
    "\n",
    "*MIT License*\n",
    "\n",
    "*Copyright 2019-2021 Peter Nardi*\n",
    "\n",
    "*Terms of use:*\n",
    "\n",
    "*Permission is hereby granted, free of charge, to any person obtaining a copy of this software and associated documentation files (the \"Software\"), to deal in the Software without restriction, including without limitation the rights to use, copy, modify, merge, publish, distribute, sublicense, and/or sell copies of the Software, and to permit persons to whom the Software is furnished to do so, subject to the following conditions:*\n",
    "\n",
    "*The above copyright notice and this permission notice shall be included in all copies or substantial portions of the Software.*\n",
    "\n",
    "*THE SOFTWARE IS PROVIDED \"AS IS\", WITHOUT WARRANTY OF ANY KIND, EXPRESS OR IMPLIED, INCLUDING BUT NOT LIMITED TO THE WARRANTIES OF MERCHANTABILITY, FITNESS FOR A PARTICULAR PURPOSE AND NON-INFRINGEMENT. IN NO EVENT SHALL THE AUTHORS OR COPYRIGHT HOLDERS BE LIABLE FOR ANY CLAIM, DAMAGES OR OTHER LIABILITY, WHETHER IN AN ACTION OF CONTRACT, TORT OR OTHERWISE, ARISING FROM, OUT OF OR IN CONNECTION WITH THE SOFTWARE OR THE USE OR OTHER DEALINGS IN THE SOFTWARE.*"
   ]
  }
 ],
 "metadata": {
  "kernelspec": {
   "display_name": "Python 3",
   "language": "python",
   "name": "python3"
  },
  "language_info": {
   "codemirror_mode": {
    "name": "ipython",
    "version": 3
   },
   "file_extension": ".py",
   "mimetype": "text/x-python",
   "name": "python",
   "nbconvert_exporter": "python",
   "pygments_lexer": "ipython3",
   "version": "3.8.5"
  }
 },
 "nbformat": 4,
 "nbformat_minor": 4
}
