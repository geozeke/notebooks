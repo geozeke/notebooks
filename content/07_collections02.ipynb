{
 "cells": [
  {
   "cell_type": "markdown",
   "metadata": {},
   "source": [
    "# Sets\n",
    "\n",
    "A Python [set](https://docs.python.org/3/library/stdtypes.html#types-set)\n",
    "behaves like a set in mathematics. Python sets can be heterogeneous, which\n",
    "makes them very powerful. For example, this is a perfectly legal set in Python:\n",
    "`{\"Hello\", 0, 3.141}`. Sets are **iterable**, **mutable** and **unordered**.\n",
    "Duplicates are not allowed in sets (this actually makes them really useful, as\n",
    "we'll see later).\n",
    "\n",
    "Here are examples of some common design patterns using sets. Let's start with\n",
    "creating a set and adding / accessing values.  Remember that sets are\n",
    "**unordered**.\n",
    "\n",
    "NOTE: You can't initialize an empty set with this syntax: `S = {}`; that's the\n",
    "syntax for an empty dictionary.  You create an empty set like this: `S = set()`"
   ]
  },
  {
   "cell_type": "code",
   "execution_count": null,
   "metadata": {},
   "outputs": [],
   "source": [
    "S1 = set()\n",
    "\n",
    "S1.add(10)\n",
    "S1.add(11)\n",
    "S1.add(12)\n",
    "print(S1)\n",
    "\n",
    "S2 = {13, 14, 15}\n",
    "print(S2)\n"
   ]
  },
  {
   "cell_type": "markdown",
   "metadata": {},
   "source": [
    "Items in sets are unique (no duplicates)"
   ]
  },
  {
   "cell_type": "markdown",
   "metadata": {},
   "source": [
    "<br clear=\"all\" />\n",
    "<img src=\"../images/00check.png\" align=\"left\" />\n",
    "<br clear=\"all\" />\n",
    "\n",
    "What if you try to remove an item that's not in the set?  After exploring the\n",
    "code below, modify line 5 to try to remove a number not in the set and see what\n",
    "happens."
   ]
  },
  {
   "cell_type": "code",
   "execution_count": null,
   "metadata": {},
   "outputs": [],
   "source": [
    "S1 = {2, 4, 6, 8}\n",
    "print(S1)\n",
    "S1.add(6)  # Our set already contains 6\n",
    "print(S1)\n",
    "S1.remove(2)\n",
    "print(S1)\n"
   ]
  },
  {
   "cell_type": "markdown",
   "metadata": {},
   "source": [
    "----\n",
    "\n",
    "Here's a really powerful use-case for sets.  Let's say you have a string and\n",
    "you want to know how many unique letters it contains and what they are.  This\n",
    "is super easy with sets!"
   ]
  },
  {
   "cell_type": "code",
   "execution_count": null,
   "metadata": {},
   "outputs": [],
   "source": [
    "strInput = input(\"Enter a string:\")\n",
    "\n",
    "# Cast the string to a set. It will remove duplicate letters.\n",
    "S = set(strInput)\n",
    "print(S)\n",
    "print(f\"There are {len(S):d} unique characters in your string.\")\n",
    "L = list(S)\n",
    "\n",
    "# Sort works \"in place\" (mutates) so we need to create the list then sort it.\n",
    "L.sort()\n",
    "\n",
    "# Convert the list of unique characters into a string\n",
    "print(\"They are:\", \" \".join(L))\n"
   ]
  },
  {
   "cell_type": "markdown",
   "metadata": {},
   "source": [
    "----\n",
    "\n",
    "Iterating over a set:"
   ]
  },
  {
   "cell_type": "code",
   "execution_count": null,
   "metadata": {},
   "outputs": [],
   "source": [
    "import random\n",
    "\n",
    "# Create a set with random numbers and print it\n",
    "S = set()\n",
    "while len(S) < 10:\n",
    "    S.add(random.randint(1, 100))\n",
    "print(S)\n",
    "\n",
    "# Iterate through the set and print each item\n",
    "for item in S:\n",
    "    print(item)\n"
   ]
  },
  {
   "cell_type": "markdown",
   "metadata": {},
   "source": [
    "----\n",
    "\n",
    "Python offers a robust library of methods to operate on sets.  Here are a few\n",
    "of the most commonly used:\n",
    "\n",
    "<html>\n",
    "<head>\n",
    "<style>\n",
    "table {\n",
    "  font-family: arial, sans-serif;\n",
    "  border-collapse: collapse;\n",
    "  width: 100%;\n",
    "}\n",
    "\n",
    "td, th {\n",
    "  border: 1px solid #dddddd;\n",
    "  text-align: left;\n",
    "  padding: 8px;\n",
    "}\n",
    "\n",
    "tr:nth-child(even) {\n",
    "  background-color: #dddddd;\n",
    "}\n",
    "</style>\n",
    "</head>\n",
    "<body>\n",
    "\n",
    "<table align=\"left\">\n",
    "  <tr>\n",
    "    <th align=\"left\">Method</th>\n",
    "    <th align=\"left\">Symbol</th>\n",
    "    <th align=\"left\">Description</th>\n",
    "  </tr>\n",
    "  <tr>\n",
    "    <td align=\"left\">S.add(n)</td>\n",
    "    <td align=\"left\">N/A</td>\n",
    "    <td>Adds n to the set S.</td>\n",
    "  </tr>\n",
    "  <tr>\n",
    "    <td align=\"left\">S.clear()</td>\n",
    "    <td align=\"left\">N/A</td>\n",
    "    <td>Removes all the elements from S.</td>\n",
    "  </tr>\n",
    "  <tr>\n",
    "    <td align=\"left\">S1.difference(S2)</td>\n",
    "    <td align=\"left\">S1 - S2</td>\n",
    "    <td>Returns a set containing elements in S1 that are not in S2.</td>\n",
    "  </tr>\n",
    "  <tr>\n",
    "    <td align=\"left\">S1.intersection(S2)</td>\n",
    "    <td align=\"left\">S1 &amp; S2</td>\n",
    "    <td>Returns a set containing elements common to S1 and S2.</td>\n",
    "  </tr>\n",
    "  <tr>\n",
    "    <td align=\"left\">S1.isdisjoint(S2)</td>\n",
    "    <td align=\"left\">N/A</td>\n",
    "    <td>Returns True if S1 and S2 have no intersection; False otherwise.</td>\n",
    "  </tr>\n",
    "  <tr>\n",
    "    <td align=\"left\">S1.issubset(S2)</td>\n",
    "    <td align=\"left\">S1 &lt;&#61; S2</td>\n",
    "    <td>Returns True if every element in S1 is in S2; False otherwise.</td>\n",
    "  </tr>\n",
    "  <tr>\n",
    "    <td align=\"left\">S1.issuperset(S2)</td>\n",
    "    <td align=\"left\">S1 >= S2</td>\n",
    "    <td>Returns True if every element in S2 is in S1; False otherwise.</td>\n",
    "  </tr>\n",
    "  <tr>\n",
    "    <td align=\"left\">S1.remove(n)</td>\n",
    "    <td align=\"left\">N/A</td>\n",
    "    <td>Removes n from S1.</td>\n",
    "  </tr>\n",
    "  <tr>\n",
    "    <td align=\"left\">S1.difference(S2)</td>\n",
    "    <td align=\"left\">S1 - S2</td>\n",
    "    <td>Returns a set with elements in S1 but not in S2.</td>\n",
    "  </tr>\n",
    "  <tr>\n",
    "    <td align=\"left\">S1.symmetric_difference(S2)</td>\n",
    "    <td align=\"left\">S1 ^ S2</td>\n",
    "    <td>Returns a set with elements in either S1 or S2, but not both.</td>\n",
    "  </tr>\n",
    "  <tr>\n",
    "    <td align=\"left\">S1.union(S2)</td>\n",
    "    <td align=\"left\">S1 | S2</td>\n",
    "    <td>Returns a set with elements in both S1 and S2.</td>\n",
    "  </tr>\n",
    "</table>\n",
    "\n",
    "</body>\n",
    "</html>"
   ]
  },
  {
   "cell_type": "markdown",
   "metadata": {},
   "source": [
    "----\n",
    "\n",
    "Here's an example of many different set operations. Run the code and convince\n",
    "yourself you can follow what's happening. Refer to the set operations above."
   ]
  },
  {
   "cell_type": "code",
   "execution_count": null,
   "metadata": {},
   "outputs": [],
   "source": [
    "S1 = {1, 2, 3, 4, 5}\n",
    "S2 = {3, 4, 5, 6, 7}\n",
    "S3 = {3, 4}\n",
    "\n",
    "print(\"S1\", S1)\n",
    "print(\"S2\", S2)\n",
    "print(\"S3\", S3)\n",
    "print()  # Blank line for clean output\n",
    "print(\"S1 - S2\", S1 - S2)\n",
    "print(\"S1 & S2\", S1 & S2)\n",
    "print(\"S3 <= S2\", S3 <= S2)\n",
    "print(\"S2 >= S1\", S2 >= S1)\n",
    "print(\"S1 ^ S2\", S1 ^ S2)\n",
    "print(\"S1 | S2\", S1 | S2)\n"
   ]
  },
  {
   "cell_type": "markdown",
   "metadata": {},
   "source": [
    "## Additional Resources\n",
    "\n",
    "[Python sets](https://docs.python.org/3/library/stdtypes.html#types-set)\n",
    "\n",
    "[Data Structures (list, dict, tuples, sets,\n",
    "strings)](http://thomas-cokelaer.info/tutorials/python/data_structures.html)\n",
    "\n",
    "[Python Data Structures – Lists, Tuples, Sets,\n",
    "Dictionaries](https://data-flair.training/blogs/python-data-structures-tutorial/)"
   ]
  },
  {
   "cell_type": "markdown",
   "metadata": {},
   "source": [
    "----\n",
    "\n",
    "MIT License\n",
    "\n",
    "Copyright 2019-2022 Peter Nardi\n",
    "\n",
    "Terms of use:\n",
    "\n",
    "Permission is hereby granted, free of charge, to any person obtaining a copy of\n",
    "this software and associated documentation files (the \"Software\"), to deal in\n",
    "the Software without restriction, including without limitation the rights to\n",
    "use, copy, modify, merge, publish, distribute, sublicense, and/or sell copies\n",
    "of the Software, and to permit persons to whom the Software is furnished to do\n",
    "so, subject to the following conditions:\n",
    "\n",
    "The above copyright notice and this permission notice shall be included in all\n",
    "copies or substantial portions of the Software.\n",
    "\n",
    "THE SOFTWARE IS PROVIDED \"AS IS\", WITHOUT WARRANTY OF ANY KIND, EXPRESS OR\n",
    "IMPLIED, INCLUDING BUT NOT LIMITED TO THE WARRANTIES OF MERCHANTABILITY,\n",
    "FITNESS FOR A PARTICULAR PURPOSE AND NON-INFRINGEMENT. IN NO EVENT SHALL THE\n",
    "AUTHORS OR COPYRIGHT HOLDERS BE LIABLE FOR ANY CLAIM, DAMAGES OR OTHER\n",
    "LIABILITY, WHETHER IN AN ACTION OF CONTRACT, TORT OR OTHERWISE, ARISING FROM,\n",
    "OUT OF OR IN CONNECTION WITH THE SOFTWARE OR THE USE OR OTHER DEALINGS IN THE\n",
    "SOFTWARE.\n"
   ]
  }
 ],
 "metadata": {
  "kernelspec": {
   "display_name": "Python 3.10.6 ('.venv': poetry)",
   "language": "python",
   "name": "python3"
  },
  "language_info": {
   "codemirror_mode": {
    "name": "ipython",
    "version": 3
   },
   "file_extension": ".py",
   "mimetype": "text/x-python",
   "name": "python",
   "nbconvert_exporter": "python",
   "pygments_lexer": "ipython3",
   "version": "3.10.6"
  },
  "vscode": {
   "interpreter": {
    "hash": "8a6624f1d65858c9851721b3cef5bb4f0a62e9574006eec404b6e8b42f2ecf27"
   }
  }
 },
 "nbformat": 4,
 "nbformat_minor": 4
}
