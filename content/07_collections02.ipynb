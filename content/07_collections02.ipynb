{
 "cells": [
  {
   "cell_type": "markdown",
   "metadata": {},
   "source": [
    "# Sets\n",
    "\n",
    "A Python [set](https://docs.python.org/3/library/stdtypes.html#types-set) behaves like a set in mathematics. Python sets can be heterogeneous, which makes them very powerful. For example, this is a perfectly legal set in Python: `{\"Hello\", 0, 3.141}`. Sets are **iterable**, **mutable** and **unordered**.  Duplicates are not allowed in sets (this actually makes them really useful, as we'll see later).\n",
    "\n",
    "Here are examples of some common design patterns using sets. Let's start with creating a set and adding / accessing values.  Remember that sets are **unordered**.\n",
    "\n",
    "NOTE: You can't initialize an empty set with this syntax: `S = {}`; that's the syntax for an empty dictionary.  You create an empty set like this: `S = set()`"
   ]
  },
  {
   "cell_type": "code",
   "execution_count": null,
   "metadata": {},
   "outputs": [],
   "source": [
    "S1 = set()\n",
    "\n",
    "S1.add(10)\n",
    "S1.add(11)\n",
    "S1.add(12)\n",
    "print(S1)\n",
    "\n",
    "S2 = {13,14,15}\n",
    "print(S2)"
   ]
  },
  {
   "cell_type": "markdown",
   "metadata": {},
   "source": [
    "Items in sets are unique (no duplicates)"
   ]
  },
  {
   "cell_type": "markdown",
   "metadata": {},
   "source": [
    "<br clear=\"all\" />\n",
    "<img src=\"../images/00check.png\" align=\"left\" />\n",
    "<br clear=\"all\" />\n",
    "\n",
    "What if you try to remove an item that's not in the set?  After exploring the code below, modify it and see what happens."
   ]
  },
  {
   "cell_type": "code",
   "execution_count": null,
   "metadata": {},
   "outputs": [],
   "source": [
    "S1 = {2,4,6,8}\n",
    "print(S1)\n",
    "S1.add(6) # Our set already contains 6\n",
    "print(S1)\n",
    "S1.remove(2)\n",
    "print(S1)"
   ]
  },
  {
   "cell_type": "markdown",
   "metadata": {},
   "source": [
    "<hr>\n",
    "\n",
    "Here's a really powerful use-case for sets.  Let's say you have a string and you want to know how many unique letters it contains and what they are.  This is super easy with sets!"
   ]
  },
  {
   "cell_type": "code",
   "execution_count": null,
   "metadata": {},
   "outputs": [],
   "source": [
    "strInput = input(\"Enter a string:\")\n",
    "\n",
    "S = set(strInput) # Cast the string to a set. It will remove duplicate letters.\n",
    "\n",
    "print(\"There are {0:d} unique characters in your string.\".format(len(S)))\n",
    "\n",
    "L = list(S)\n",
    "\n",
    "L.sort() # Sort works \"in place\" so we need to create the list then sort it.\n",
    "\n",
    "print(\"They are:\",\"\".join(L)) # Convert the list of unique characters into a string"
   ]
  },
  {
   "cell_type": "markdown",
   "metadata": {},
   "source": [
    "<hr>\n",
    "\n",
    "Iterating over a set:"
   ]
  },
  {
   "cell_type": "code",
   "execution_count": null,
   "metadata": {},
   "outputs": [],
   "source": [
    "import random\n",
    "\n",
    "# Create a set with random numbers and print it\n",
    "S = set()\n",
    "for _ in range(10):\n",
    "    S.add(random.randint(1,100))\n",
    "print(S)\n",
    "\n",
    "# Iterate through the set and print each item\n",
    "for item in S:\n",
    "    print(item)"
   ]
  },
  {
   "cell_type": "markdown",
   "metadata": {},
   "source": [
    "<hr>\n",
    "\n",
    "Python offers a robust library of methods to operate on sets.  Here are a few of the most commonly used:\n",
    "\n",
    "<html>\n",
    "<head>\n",
    "<style>\n",
    "table {\n",
    "  font-family: arial, sans-serif;\n",
    "  border-collapse: collapse;\n",
    "  width: 100%;\n",
    "}\n",
    "\n",
    "td, th {\n",
    "  border: 1px solid #dddddd;\n",
    "  text-align: left;\n",
    "  padding: 8px;\n",
    "}\n",
    "\n",
    "tr:nth-child(even) {\n",
    "  background-color: #dddddd;\n",
    "}\n",
    "</style>\n",
    "</head>\n",
    "<body>\n",
    "\n",
    "<table align=\"left\">\n",
    "  <tr>\n",
    "    <th align=\"left\">Method</th>\n",
    "    <th align=\"left\">Symbol</th>\n",
    "    <th align=\"left\">Description</th>\n",
    "  </tr>\n",
    "  <tr>\n",
    "    <td align=\"left\">S.add(n)</td>\n",
    "    <td align=\"left\">N/A</td>\n",
    "    <td>Adds n to the set S.</td>\n",
    "  </tr>\n",
    "  <tr>\n",
    "    <td align=\"left\">clear(S)</td>\n",
    "    <td align=\"left\">N/A</td>\n",
    "    <td>Removes all the elements from S.</td>\n",
    "  </tr>\n",
    "  <tr>\n",
    "    <td align=\"left\">S1.difference(S2)</td>\n",
    "    <td align=\"left\">S1 - S2</td>\n",
    "    <td>Returns a set containing elements in S1 that are not in S2.</td>\n",
    "  </tr>\n",
    "  <tr>\n",
    "    <td align=\"left\">S1.intersection(S1)</td>\n",
    "    <td align=\"left\">S1 &amp; S2</td>\n",
    "    <td>Returns a set containing elements common to S1 and S2.</td>\n",
    "  </tr>\n",
    "  <tr>\n",
    "    <td align=\"left\">S1.isdisjoint(S2)</td>\n",
    "    <td align=\"left\">N/A</td>\n",
    "    <td>Returns True if S1 and S2 have no intersection; False otherwise.</td>\n",
    "  </tr>\n",
    "  <tr>\n",
    "    <td align=\"left\">S1.issubset(S2)</td>\n",
    "    <td align=\"left\">S1 &lt;&#61; S2</td>\n",
    "    <td>Returns True if every element in S1 is in S2; False otherwise.</td>\n",
    "  </tr>\n",
    "  <tr>\n",
    "    <td align=\"left\">S1.isssuperset(S2)</td>\n",
    "    <td align=\"left\">S1 >= S2</td>\n",
    "    <td>Returns True if every element in S2 is in S1; False otherwise.</td>\n",
    "  </tr>\n",
    "  <tr>\n",
    "    <td align=\"left\">S1.remove(n)</td>\n",
    "    <td align=\"left\">N/A</td>\n",
    "    <td>Removes n from S1.</td>\n",
    "  </tr>\n",
    "  <tr>\n",
    "    <td align=\"left\">S1.difference(S2)</td>\n",
    "    <td align=\"left\">S1 - S2</td>\n",
    "    <td>Returns a set with elements in S1 but not in S2.</td>\n",
    "  </tr>\n",
    "  <tr>\n",
    "    <td align=\"left\">S1.symmetric_difference(S2)</td>\n",
    "    <td align=\"left\">S1 ^ S2</td>\n",
    "    <td>Returns a set with elements in either S1 or S2, but not both.</td>\n",
    "  </tr>\n",
    "  <tr>\n",
    "    <td align=\"left\">S1.union(S2)</td>\n",
    "    <td align=\"left\">S1 | S2</td>\n",
    "    <td>Returns a set with elements in both S1 and S2.</td>\n",
    "  </tr>\n",
    "</table>\n",
    "\n",
    "</body>\n",
    "</html>"
   ]
  },
  {
   "cell_type": "markdown",
   "metadata": {},
   "source": [
    "<hr>\n",
    "\n",
    "Here's an example of many different set operations. Run the code and conveince yourself you can follow what's happening. Refer to the set operations above."
   ]
  },
  {
   "cell_type": "code",
   "execution_count": null,
   "metadata": {},
   "outputs": [],
   "source": [
    "S1 = {1,2,3,4,5}\n",
    "S2 = {3,4,5,6,7}\n",
    "S3 = {3,4}\n",
    "\n",
    "print(\"S1\",S1)\n",
    "print(\"S2\",S2)\n",
    "print(\"S3\",S3)\n",
    "print(\"\\nS1 - S2\",S1 - S2)\n",
    "print(\"S1 & S2\",S1 & S2)\n",
    "print(\"S3 <= S2\",S3 <= S2)\n",
    "print(\"S2 >= S1\",S2 >= S1)\n",
    "print(\"S1 ^ S2\",S1 ^ S2)\n",
    "print(\"S1 | S2\",S1 | S2)"
   ]
  },
  {
   "cell_type": "markdown",
   "metadata": {},
   "source": [
    "## Additional Resources\n",
    "\n",
    "[Python sets](https://docs.python.org/3/library/stdtypes.html#types-set)\n",
    "\n",
    "[Data Structures (list, dict, tuples, sets, strings)](http://thomas-cokelaer.info/tutorials/python/data_structures.html)\n",
    "\n",
    "[Python Data Structures – Lists, Tuples, Sets, Dictionaries](https://data-flair.training/blogs/python-data-structures-tutorial/)"
   ]
  },
  {
   "cell_type": "markdown",
   "metadata": {},
   "source": [
    "<hr>\n",
    "\n",
    "*MIT License*\n",
    "\n",
    "*Copyright 2019-2020 Peter Nardi*\n",
    "\n",
    "*Terms of use:*\n",
    "\n",
    "*Permission is hereby granted, free of charge, to any person obtaining a copy of this software and associated documentation files (the \"Software\"), to deal in the Software without restriction, including without limitation the rights to use, copy, modify, merge, publish, distribute, sublicense, and/or sell copies of the Software, and to permit persons to whom the Software is furnished to do so, subject to the following conditions:*\n",
    "\n",
    "*The above copyright notice and this permission notice shall be included in all copies or substantial portions of the Software.*\n",
    "\n",
    "*THE SOFTWARE IS PROVIDED \"AS IS\", WITHOUT WARRANTY OF ANY KIND, EXPRESS OR IMPLIED, INCLUDING BUT NOT LIMITED TO THE WARRANTIES OF MERCHANTABILITY, FITNESS FOR A PARTICULAR PURPOSE AND NON-INFRINGEMENT. IN NO EVENT SHALL THE AUTHORS OR COPYRIGHT HOLDERS BE LIABLE FOR ANY CLAIM, DAMAGES OR OTHER LIABILITY, WHETHER IN AN ACTION OF CONTRACT, TORT OR OTHERWISE, ARISING FROM, OUT OF OR IN CONNECTION WITH THE SOFTWARE OR THE USE OR OTHER DEALINGS IN THE SOFTWARE.*"
   ]
  }
 ],
 "metadata": {
  "kernelspec": {
   "display_name": "Python 3",
   "language": "python",
   "name": "python3"
  },
  "language_info": {
   "codemirror_mode": {
    "name": "ipython",
    "version": 3
   },
   "file_extension": ".py",
   "mimetype": "text/x-python",
   "name": "python",
   "nbconvert_exporter": "python",
   "pygments_lexer": "ipython3",
   "version": "3.8.2"
  }
 },
 "nbformat": 4,
 "nbformat_minor": 4
}
