{
 "cells": [
  {
   "cell_type": "markdown",
   "metadata": {},
   "source": [
    "# Basic Operations"
   ]
  },
  {
   "cell_type": "markdown",
   "metadata": {},
   "source": [
    "### Variables, Assignment Statements, Expressions\n",
    "\n",
    "In programming languages, a variable is a container that can hold a value which\n",
    "*varies* over time (hence the name, *variable*).  In Python, variables can hold\n",
    "data of many different types.  We'll dive deeper into data types in future\n",
    "notebooks, but for now we'll start with numbers.  We place values into\n",
    "variables using the assignment operator, which is the equal sign (`=`).  We can\n",
    "use arithmetic operators on variables just like we can with numbers:\n",
    "\n",
    "Try running the code cell below."
   ]
  },
  {
   "cell_type": "code",
   "execution_count": null,
   "metadata": {},
   "outputs": [],
   "source": [
    "length = 20\n",
    "width = 30\n",
    "area = length * width\n",
    "print(length)\n",
    "print(width)\n",
    "print(area)\n"
   ]
  },
  {
   "cell_type": "markdown",
   "metadata": {},
   "source": [
    "----\n",
    "\n",
    "We can combine operators in more complex expressions. Run the example below\n",
    "which calculates the perimeter of a square."
   ]
  },
  {
   "cell_type": "code",
   "execution_count": null,
   "metadata": {},
   "outputs": [],
   "source": [
    "width = 10\n",
    "length = 20\n",
    "perimeter = (2 * width) + (2 * length)\n",
    "print(perimeter)\n"
   ]
  },
  {
   "cell_type": "markdown",
   "metadata": {},
   "source": [
    "----\n",
    "\n",
    "We can also use Python's `print()` statement to display the value of more than\n",
    "one variable on a single line by separating each one with a comma. *Notice that\n",
    "the commas themselves don't show up in the output.*"
   ]
  },
  {
   "cell_type": "code",
   "execution_count": null,
   "metadata": {},
   "outputs": [],
   "source": [
    "length = 20\n",
    "width = 30\n",
    "area = length * width\n",
    "print(length, width, area)\n"
   ]
  },
  {
   "cell_type": "markdown",
   "metadata": {},
   "source": [
    "----\n",
    "\n",
    "Below is an interesting use of variables that is often difficult to understand\n",
    "when you see it for the first time. Before running the cell below, predict what\n",
    "you think it will print. Then run the code to check your result."
   ]
  },
  {
   "cell_type": "code",
   "execution_count": null,
   "metadata": {},
   "outputs": [],
   "source": [
    "score = 45\n",
    "print(score)\n",
    "score = score + 10\n",
    "print(score)\n"
   ]
  },
  {
   "cell_type": "markdown",
   "metadata": {},
   "source": [
    "What's going on?  How can `score` show up on both the left and right side of an\n",
    "equal sign? If the line of code which reads: `score = score + 10` were given in\n",
    "an algebra class, you might say, \"***The statement is false.  `score` cannot be\n",
    "equal to itself, plus 10***\".  That's true in algebra, but in a computer\n",
    "programming context the logic flows like this:\n",
    "\n",
    "1. Evaluate everything to the right of `=`.  That means, take the current value\n",
    "   in `score` (45) and add 10 to it.\n",
    "2. Take the result from step 1 and store it in the variable named `score`.\n",
    "   This replaces `score`'s original value (45) with the newly calculated value\n",
    "   (55).\n",
    "\n",
    "It's important to understand that the steps are followed in the order given\n",
    "above.  Before we replace `score` with a new value, we use the current value in\n",
    "`score` to calculate an interim result, then place that interim result back\n",
    "into `score`.\n",
    "\n",
    "You will see and use this design pattern often in any programming language you\n",
    "learn, including Python."
   ]
  },
  {
   "cell_type": "markdown",
   "metadata": {},
   "source": [
    "### User Input and Output\n",
    "\n",
    "We've already seen how Python produces output to the screen using the `print()`\n",
    "function."
   ]
  },
  {
   "cell_type": "code",
   "execution_count": null,
   "metadata": {},
   "outputs": [],
   "source": [
    "print(\"Go Navy!\")\n"
   ]
  },
  {
   "cell_type": "markdown",
   "metadata": {},
   "source": [
    "----\n",
    "\n",
    "How about getting input from the user? User input and output is such a\n",
    "fundamental and common part of most programs that it's worth taking time to\n",
    "make sure you understand it well. A very common way to collect user input is\n",
    "with Python's [input()](https://docs.python.org/3/library/functions.html#input)\n",
    "function. Here's an example:"
   ]
  },
  {
   "cell_type": "code",
   "execution_count": null,
   "metadata": {},
   "outputs": [],
   "source": [
    "name = input(\"Enter your name: \")\n",
    "print(name)\n"
   ]
  },
  {
   "cell_type": "markdown",
   "metadata": {},
   "source": [
    "There are several important things happening in those two lines of code:\n",
    "\n",
    "1. [input()](https://docs.python.org/3/library/functions.html#input) is a\n",
    "   Python function that takes a string which represents the prompt you want to\n",
    "   see on the screen (*Note: a string is a collection of characters. We'll\n",
    "   examine strings in more detail in the next notebook*).\n",
    "2. The [input()](https://docs.python.org/3/library/functions.html#input)\n",
    "   function prints the prompt to the screen, then pauses program execution\n",
    "   while waiting for the user to type something in. The\n",
    "   [input()](https://docs.python.org/3/library/functions.html#input) function\n",
    "   knows the input is complete when the user presses the <kbd>enter</kbd> key.\n",
    "3. The input function returns whatever the user types and stores it in the\n",
    "   variable `name`.\n",
    "4. Finally, the `print()` function prints the ***value*** stored in `name` to\n",
    "   the screen (*it doesn't print the characters `n` `a` `m` `e` to the\n",
    "   screen*)."
   ]
  },
  {
   "cell_type": "markdown",
   "metadata": {},
   "source": [
    "### Basic Arithmetic Operations\n",
    "\n",
    "Like all modern programming languages, Python provides support for basic\n",
    "[arithmetic\n",
    "operations](https://docs.python.org/3/reference/expressions.html#binary). Here\n",
    "are the big four:\n",
    "\n",
    "- Addition: <kbd>+</kbd>\n",
    "- Subtraction: <kbd>-</kbd>\n",
    "- Multiplication: <kbd>*</kbd>\n",
    "- Division: <kbd>/</kbd>"
   ]
  },
  {
   "cell_type": "code",
   "execution_count": null,
   "metadata": {},
   "outputs": [],
   "source": [
    "print(2 + 2)\n",
    "print(100 - 4)\n",
    "print(3 * 9)\n",
    "print(6 / 5)\n"
   ]
  },
  {
   "cell_type": "markdown",
   "metadata": {},
   "source": [
    "### Numeric Data Types\n",
    "\n",
    "Variables hold values that we can retrieve later and use in various ways. The\n",
    "two most common numeric data types are integers and floating point numbers\n",
    "(called *floats*).  Let's start with integers which are just whole numbers (no\n",
    "fractional part):"
   ]
  },
  {
   "cell_type": "code",
   "execution_count": null,
   "metadata": {},
   "outputs": [],
   "source": [
    "x = 20\n",
    "y = 5\n",
    "z = x + y\n",
    "print(z)\n"
   ]
  },
  {
   "cell_type": "markdown",
   "metadata": {},
   "source": [
    "----\n",
    "\n",
    "Integers can be positive or negative."
   ]
  },
  {
   "cell_type": "code",
   "execution_count": null,
   "metadata": {},
   "outputs": [],
   "source": [
    "x = -5\n",
    "y = 3\n",
    "z = y - x\n",
    "print(z)\n"
   ]
  },
  {
   "cell_type": "markdown",
   "metadata": {},
   "source": [
    "----\n",
    "\n",
    "Floats are numbers that have a fractional part (what type of number do you get\n",
    "when you add a float to an integer?)"
   ]
  },
  {
   "cell_type": "code",
   "execution_count": null,
   "metadata": {},
   "outputs": [],
   "source": [
    "x = 3.14159\n",
    "y = 6\n",
    "z = x + y\n",
    "print(z)\n"
   ]
  },
  {
   "cell_type": "markdown",
   "metadata": {},
   "source": [
    "### Operator Precedence\n",
    "\n",
    "Precedence refers to the order in which mathematical operations are performed.\n",
    "[Operator precedence in\n",
    "Python](https://docs.python.org/3/reference/expressions.html#operator-summary)\n",
    "for numeric operators is as follows (in order, from highest to lowest):\n",
    "\n",
    "1. Exponentiation (`**`)\n",
    "2. Multiplication (`*`), float division (`/`), [integer\n",
    "   division](https://docs.python.org/3/reference/expressions.html#binary)\n",
    "   (`//`),\n",
    "   [modulo](https://docs.python.org/3/reference/expressions.html#binary) (`%`)\n",
    "3. Addition (`+`), subtraction (`-`)\n",
    "\n",
    "Different operators within the same line above are applied left to right. The\n",
    "only exception to this rule is if you use multiple exponentiation operators.\n",
    "For example, if you used something like this: `3**2**4`, it would be evaluated\n",
    "right to left. The expression `2**4` (`16`) will be evaluated first; then\n",
    "`3**16` will be evaluated for a result of `43046721`."
   ]
  },
  {
   "cell_type": "markdown",
   "metadata": {},
   "source": [
    "What does this code print (calculate it on paper first, then run the code)?"
   ]
  },
  {
   "cell_type": "code",
   "execution_count": null,
   "metadata": {},
   "outputs": [],
   "source": [
    "x = 3 * 4 + 6 - 2 / 4 + 3 ** 2\n",
    "print(x)\n"
   ]
  },
  {
   "cell_type": "markdown",
   "metadata": {},
   "source": [
    "----\n",
    "\n",
    "How about now?"
   ]
  },
  {
   "cell_type": "code",
   "execution_count": null,
   "metadata": {},
   "outputs": [],
   "source": [
    "x = 3 * (4 + 6) - 2 / (4 + 3) ** 2\n",
    "print(x)\n"
   ]
  },
  {
   "cell_type": "markdown",
   "metadata": {},
   "source": [
    "----\n",
    "\n",
    "Notice that we can change how precedence is enforced with parentheses. Even if\n",
    "a line of code performs as intended without parenthesis, adding them can often\n",
    "make the code easier to follow and debug if necessary. For example, `x` and `y`\n",
    "evaluate to the same number below, but the expression in `y` makes it\n",
    "unambiguous what the programmer intended."
   ]
  },
  {
   "cell_type": "code",
   "execution_count": null,
   "metadata": {},
   "outputs": [],
   "source": [
    "x = 3 * 2 + 5 * 4\n",
    "y = (3 * 2) + (5 * 4)\n",
    "print(x, y)\n"
   ]
  },
  {
   "cell_type": "markdown",
   "metadata": {},
   "source": [
    "<br clear=\"all\" />\n",
    "<img src=\"../images/00check.png\" align=\"left\" />\n",
    "<br clear=\"all\" />\n",
    "\n",
    "Write a program in the code cell below that calculates the area of a circle\n",
    "with a radius of 12 and prints the result to the screen. Use a variable called\n",
    "`radius` to represent the radius of the circle."
   ]
  },
  {
   "cell_type": "code",
   "execution_count": null,
   "metadata": {},
   "outputs": [],
   "source": [
    "# Write your code below to calculate the area of a circle with a radius of 12\n"
   ]
  },
  {
   "cell_type": "markdown",
   "metadata": {},
   "source": [
    "## Additional Resources\n",
    "\n",
    "[An Informal Introduction to\n",
    "Python](https://docs.python.org/3/tutorial/introduction.html)\n",
    "\n",
    "[Python Resources for\n",
    "Beginners](https://wiki.python.org/moin/BeginnersGuide/Programmers)\n",
    "\n",
    "[Python Introduction\n",
    "(w3schools)](https://www.w3schools.com/python/python_intro.asp)"
   ]
  },
  {
   "cell_type": "markdown",
   "metadata": {},
   "source": [
    "----\n",
    "\n",
    "MIT License\n",
    "\n",
    "Copyright 2019-2022 Peter Nardi\n",
    "\n",
    "Terms of use:\n",
    "\n",
    "Permission is hereby granted, free of charge, to any person obtaining a copy of\n",
    "this software and associated documentation files (the \"Software\"), to deal in\n",
    "the Software without restriction, including without limitation the rights to\n",
    "use, copy, modify, merge, publish, distribute, sublicense, and/or sell copies\n",
    "of the Software, and to permit persons to whom the Software is furnished to do\n",
    "so, subject to the following conditions:\n",
    "\n",
    "The above copyright notice and this permission notice shall be included in all\n",
    "copies or substantial portions of the Software.\n",
    "\n",
    "THE SOFTWARE IS PROVIDED \"AS IS\", WITHOUT WARRANTY OF ANY KIND, EXPRESS OR\n",
    "IMPLIED, INCLUDING BUT NOT LIMITED TO THE WARRANTIES OF MERCHANTABILITY,\n",
    "FITNESS FOR A PARTICULAR PURPOSE AND NON-INFRINGEMENT. IN NO EVENT SHALL THE\n",
    "AUTHORS OR COPYRIGHT HOLDERS BE LIABLE FOR ANY CLAIM, DAMAGES OR OTHER\n",
    "LIABILITY, WHETHER IN AN ACTION OF CONTRACT, TORT OR OTHERWISE, ARISING FROM,\n",
    "OUT OF OR IN CONNECTION WITH THE SOFTWARE OR THE USE OR OTHER DEALINGS IN THE\n",
    "SOFTWARE.\n"
   ]
  }
 ],
 "metadata": {
  "kernelspec": {
   "display_name": "Python 3.10.6 ('.venv': poetry)",
   "language": "python",
   "name": "python3"
  },
  "language_info": {
   "codemirror_mode": {
    "name": "ipython",
    "version": 3
   },
   "file_extension": ".py",
   "mimetype": "text/x-python",
   "name": "python",
   "nbconvert_exporter": "python",
   "pygments_lexer": "ipython3",
   "version": "3.10.6"
  },
  "vscode": {
   "interpreter": {
    "hash": "8a6624f1d65858c9851721b3cef5bb4f0a62e9574006eec404b6e8b42f2ecf27"
   }
  }
 },
 "nbformat": 4,
 "nbformat_minor": 4
}
