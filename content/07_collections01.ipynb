{
 "cells": [
  {
   "cell_type": "markdown",
   "metadata": {},
   "source": [
    "# Dictionaries\n",
    "\n",
    "Python [dictionaries](https://docs.python.org/3/tutorial/datastructures.html#tut-dictionaries) are incredibly powerful structures composed of a collection of key-value pairs. Keys in dictionaries can be any **immutable** type; for example, strings and numbers can always be keys. A dictionary in Python works in a similar way to a dictionary in the real world.  Dictionaries are **iterable**, **mutable** and **unordered**.  Duplicate *keys* are not allowed in dictionaries.\n",
    "\n",
    "Here are examples of some common design patterns using dictionaries. Let's start by creating a dictionary and add / access *key:value* pairs.  Let's assume we're using strings for both keys and values in our dictionary. Take note of the syntax below for adding a *key:value* pair to a dictionary.  It looks a lot like the syntax for accessing items in a list."
   ]
  },
  {
   "cell_type": "code",
   "execution_count": null,
   "metadata": {},
   "outputs": [],
   "source": [
    "# This is how we create an empty dictionary\n",
    "D = {}\n",
    "\n",
    "# Add key-value pairs\n",
    "D[\"Jan\"] = \"This is the first month.\"\n",
    "D[\"Aug\"] = \"This month is very warm.\"\n",
    "D[\"Dec\"] = \"This month has holidays.\"\n",
    "\n",
    "# Note that dictionaries are unordered.  The order in which the key:value pairs\n",
    "# print may or may-not match the order in which they were entered.\n",
    "print(D)\n",
    "key = input(\"Enter a month:\")\n",
    "\n",
    "# Dictionaries support the \"in\" operator when looking for keys\n",
    "if key in D:\n",
    "    print(D[key])\n",
    "else:\n",
    "    print(f\"Sorry, {key} is not in the dictionary\")\n"
   ]
  },
  {
   "cell_type": "markdown",
   "metadata": {},
   "source": [
    "Dictionaries are unordered, but what if we want to traverse a dictionary in order by sorted keys?  Python allows you to extract the keys from a dictionary object using the [keys()](https://docs.python.org/3/library/stdtypes.html#dict-views) method, which returns a *dict_keys* object. You can then cast the *dict_keys* object into a list, using the [list()](https://docs.python.org/3/library/stdtypes.html#typesmapping) function.  From there you can sort it and iterate across it."
   ]
  },
  {
   "cell_type": "markdown",
   "metadata": {},
   "source": [
    "<hr>\n",
    "\n",
    "We can also create empty dictionaries with the [dict()](https://docs.python.org/3/library/functions.html) function"
   ]
  },
  {
   "cell_type": "code",
   "execution_count": null,
   "metadata": {
    "tags": []
   },
   "outputs": [],
   "source": [
    "# Create an empty dictionary with the dict() function\n",
    "D = dict()\n",
    "\n",
    "# Add key-value pairs\n",
    "D[1] = \"ONE\"\n",
    "D[2] = \"TWO\"\n",
    "D[3] = \"THREE\"\n",
    "\n",
    "print(D)\n"
   ]
  },
  {
   "cell_type": "markdown",
   "metadata": {},
   "source": [
    "<hr>\n",
    "\n",
    "There are also multiple ways to get the keys and values from a dict"
   ]
  },
  {
   "cell_type": "code",
   "execution_count": null,
   "metadata": {
    "tags": []
   },
   "outputs": [],
   "source": [
    "# Create an empty dictionary\n",
    "D = {}\n",
    "\n",
    "# Add key-value pairs\n",
    "D[1] = \"ONE\"\n",
    "D[2] = \"TWO\"\n",
    "D[3] = \"THREE\"\n",
    "\n",
    "print(list(D.keys()))\n",
    "print(list(D.values()))\n",
    "print(list(D.items()))\n"
   ]
  },
  {
   "cell_type": "markdown",
   "metadata": {},
   "source": [
    "<hr>\n",
    "\n",
    "Like the [keys()](https://docs.python.org/3/library/stdtypes.html#dict-views) method, the [values()](https://docs.python.org/3/library/stdtypes.html#dict-views) and [items()](https://docs.python.org/3/library/stdtypes.html#dict-views) methods both return a [special data type called a view object](https://docs.python.org/3/library/stdtypes.html#dict-views). The good news is that we can cast the result to a list to suite our purposes."
   ]
  },
  {
   "cell_type": "markdown",
   "metadata": {},
   "source": [
    "<br clear=\"all\" />\n",
    "<img src=\"../images/00check.png\" align=\"left\" />\n",
    "<br clear=\"all\" />\n",
    "\n",
    "After exploring the code below, try inserting print statements with different variables and re-running it.  What do you get if you print `D.keys()`?  How about if you print `letters`?"
   ]
  },
  {
   "cell_type": "code",
   "execution_count": null,
   "metadata": {},
   "outputs": [],
   "source": [
    "import random\n",
    "import string\n",
    "\n",
    "# Create a dictionary with 10 random integers as keys and random 8-character\n",
    "# strings as values.\n",
    "letters = string.ascii_lowercase\n",
    "D = {}\n",
    "\n",
    "# We can use \"_\" to mean \"I don't need a specific iterator, I just want to\n",
    "# iterate 10 times\".\n",
    "for _ in range(10):\n",
    "    key = random.randint(1, 100)\n",
    "    # Make sure to generate unique keys.\n",
    "    while key in D:\n",
    "        key = random.randint(1, 100)\n",
    "    value = \"\".join(random.choice(letters) for _ in range(8))\n",
    "    D[key] = value\n",
    "\n",
    "# Unordered iterating\n",
    "print(\"Unordered iterating:\")\n",
    "for key, value in D.items():\n",
    "    print(key, value)\n",
    "\n",
    "# Ordered iterating\n",
    "print(\"\\nOrdered iterating:\")\n",
    "keys = list(D.keys())\n",
    "keys.sort()\n",
    "for key in keys:\n",
    "    print(key, D[key])\n"
   ]
  },
  {
   "cell_type": "markdown",
   "metadata": {},
   "source": [
    "A few thoughts on dictionaries and copying them:\n",
    "\n",
    "* If you assign a value to a dictionary with a given key, and the key is not already in the dictionary, Python will add the new *key:value* pair to the dictionary.  If the key does exist in the dictionary, Python will replace the current value assigned to the given key with the new value.\n",
    "* You can use the [len()](https://docs.python.org/3/library/functions.html) function on dictionaries to get the number of entries.\n",
    "* You can't copy a dictionary simply by typing `D1 = D2`, because the variables we use for them are pointers.  If you use `D1 = D2`, then `D1` and `D2` will point to the *same* dictionary. You must use the [copy()](https://docs.python.org/3/library/copy.html) method for dictionaries instead.\n",
    "* The [copy()](https://docs.python.org/3/library/copy.html) method performs what's known as a *shallow* copy and works as expected when the values in your dictionary are simple, immutable data types.  If your dictionary contains objects as values, then you must perform a *deep* copy using the [deepcopy()](https://docs.python.org/3/library/copy.html) method.  This applies to sets and lists as well. See the Additional Resources section below for more information."
   ]
  },
  {
   "cell_type": "markdown",
   "metadata": {},
   "source": [
    "Let's start with a few pictures to describe what happens when you copy a dictionary, then we'll look at some code.\n",
    "\n",
    "If you create a dictionary, say `D1`, like this:\n",
    "\n",
    "<br clear=\"all\" />\n",
    "<img src=\"../images/07sampleDictionary.png\" align=\"left\"  width=\"50%\" height=\"50%\" />\n",
    "<br clear=\"all\" />\n",
    "\n",
    "and you try to make a copy of it to store in a variable called `D2` using this syntax: `D2 = D1`; then what you end up with is this:\n",
    "\n",
    "<br clear=\"all\" />\n",
    "<img src=\"../images/07dictionaryCopy01.png\" align=\"left\"  width=\"50%\" height=\"50%\" />\n",
    "<br clear=\"all\" />\n",
    "\n",
    "We would say that `D1` and `D2` *point* to the same object in memory. Any changes you make to `D1` will affect `D2` and visa-versa. If you wanted a true, independent copy of `D1` stored in `D2`, then use this syntax: `D2 = D1.copy()`. Now you have this:\n",
    "\n",
    "<br clear=\"all\" />\n",
    "<img src=\"../images/07dictionaryCopy02.png\" align=\"left\"  width=\"50%\" height=\"50%\" />\n",
    "<br clear=\"all\" />\n",
    "\n",
    "Below is a coding example. Notice how I start with an empty dictionary (`D1`), then I add key value pairs one at a time. Both the keys and values in our dictionary are strings.\n",
    "\n",
    "Run the code and trace the output. Convince yourself you can follow what's happening. Change the code and try some different operations."
   ]
  },
  {
   "cell_type": "code",
   "execution_count": null,
   "metadata": {},
   "outputs": [],
   "source": [
    "D1 = {}\n",
    "D1['k1'] = \"Number 1\"\n",
    "D1['k2'] = \"Number 2\"\n",
    "D1['k3'] = \"Number 3\"\n",
    "\n",
    "print(D1)\n",
    "D1['k2'] = \"Number two\"\n",
    "print(D1)\n",
    "\n",
    "print(\"The number of entries in D1 =\", len(D1))\n",
    "\n",
    "# Does not make a separate copy, changing D2 will affect D1\n",
    "print(\"\\nIncorrect copy\")\n",
    "D2 = D1\n",
    "D2['k2'] = \"Go Navy!\"\n",
    "print(D1)\n",
    "print(D2)\n",
    "\n",
    "# Makes a separate copy, changing D2 will not affect D1\n",
    "print(\"\\nCorrect, shallow copy\")\n",
    "D2 = D1.copy()\n",
    "D2['k3'] = \"Beat Army!\"\n",
    "D2['k4'] = \"Python is awesome!\"\n",
    "print(D1)\n",
    "print(D2)\n"
   ]
  },
  {
   "cell_type": "markdown",
   "metadata": {},
   "source": [
    "## Additional Resources\n",
    "\n",
    "[Python Dictionaries](https://docs.python.org/3/tutorial/datastructures.html#tut-dictionaries)\n",
    "\n",
    "[Python Data Structures – Lists, Tuples, Sets, Dictionaries](https://data-flair.training/blogs/python-data-structures-tutorial/)\n",
    "\n",
    "[Python Copy Operations](https://docs.python.org/3/library/copy.html)\n",
    "\n",
    "[Shallow vs Deep Copying of Python Objects](https://realpython.com/copying-python-objects/)"
   ]
  },
  {
   "cell_type": "markdown",
   "metadata": {},
   "source": [
    "<hr>\n",
    "\n",
    "*MIT License*\n",
    "\n",
    "*Copyright 2019-2022 Peter Nardi*\n",
    "\n",
    "*Terms of use:*\n",
    "\n",
    "*Permission is hereby granted, free of charge, to any person obtaining a copy of this software and associated documentation files (the \"Software\"), to deal in the Software without restriction, including without limitation the rights to use, copy, modify, merge, publish, distribute, sublicense, and/or sell copies of the Software, and to permit persons to whom the Software is furnished to do so, subject to the following conditions:*\n",
    "\n",
    "*The above copyright notice and this permission notice shall be included in all copies or substantial portions of the Software.*\n",
    "\n",
    "*THE SOFTWARE IS PROVIDED \"AS IS\", WITHOUT WARRANTY OF ANY KIND, EXPRESS OR IMPLIED, INCLUDING BUT NOT LIMITED TO THE WARRANTIES OF MERCHANTABILITY, FITNESS FOR A PARTICULAR PURPOSE AND NON-INFRINGEMENT. IN NO EVENT SHALL THE AUTHORS OR COPYRIGHT HOLDERS BE LIABLE FOR ANY CLAIM, DAMAGES OR OTHER LIABILITY, WHETHER IN AN ACTION OF CONTRACT, TORT OR OTHERWISE, ARISING FROM, OUT OF OR IN CONNECTION WITH THE SOFTWARE OR THE USE OR OTHER DEALINGS IN THE SOFTWARE.*"
   ]
  }
 ],
 "metadata": {
  "kernelspec": {
   "display_name": "Python 3 (ipykernel)",
   "language": "python",
   "name": "python3"
  },
  "language_info": {
   "codemirror_mode": {
    "name": "ipython",
    "version": 3
   },
   "file_extension": ".py",
   "mimetype": "text/x-python",
   "name": "python",
   "nbconvert_exporter": "python",
   "pygments_lexer": "ipython3",
   "version": "3.8.10"
  }
 },
 "nbformat": 4,
 "nbformat_minor": 4
}
