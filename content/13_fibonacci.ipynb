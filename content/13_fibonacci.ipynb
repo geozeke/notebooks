{
 "cells": [
  {
   "cell_type": "markdown",
   "metadata": {},
   "source": [
    "# Recurrence Relations Using The Fibonacci Sequence\n",
    "\n",
    "Here's an example of calculating recurrence relations on a recursive implementation of the Fibonacci Sequence.  Let's start with the code:"
   ]
  },
  {
   "cell_type": "code",
   "execution_count": null,
   "metadata": {},
   "outputs": [],
   "source": [
    "def fib(n):\n",
    "    if (n == 0) or (n == 1):\n",
    "        return n\n",
    "    else:\n",
    "        return fib(n-1) + fib(n-2)\n",
    "\n",
    "def main():\n",
    "    n = int(input(\"Enter n: \"))\n",
    "    for i in range(n+1):\n",
    "        print(f\"{fib(i):d} \",end = \"\")\n",
    "    print()\n",
    "    \n",
    "if __name__ == '__main__':\n",
    "    main()"
   ]
  },
  {
   "cell_type": "markdown",
   "metadata": {},
   "source": [
    "*Note: The code above does not include any exception handling, so it's easy to crash it with the input you use.*"
   ]
  },
  {
   "cell_type": "markdown",
   "metadata": {},
   "source": [
    "# Writing And Solving The Recurrence Relation\n",
    "\n",
    "Let's start with the baseline conditions.  There are two of them:\n",
    "\n",
    "*T(0) = O(1)*<br>\n",
    "*T(1) = O(1)*\n",
    "\n",
    "Before we write the generalized recurrence relation, let's take a look at how the algorithm behaves for a few iterations:\n",
    "\n",
    "<img src=\"../images/13fibonacci.png\" width=\"70%\" height=\"80%\" align=\"left\" />\n",
    "<br clear=\"all\" />\n",
    "\n",
    "So how would we write the generalized relation for the worst case scenario? Well, let's start with this:\n",
    "\n",
    "*T(n) = O(1) + O(1) + T(n-1) + T(n-2)*\n",
    "\n",
    "From what we know, *O(1) + O(1)* is the same as *O(1)*, so we can just write it like this:\n",
    "\n",
    "*T(n) = O(1) + T(n-1) + T(n-2)*\n",
    "\n",
    "Let's simplify it a bit.  We can assume that the time taken for *T(n-1)* will always be one unit more (greater) than *T(n-2)*.  Given that *T(n-1)* and *T(n-2)* are so closely related, let's rewrite our expression for the worse case scenario like this:\n",
    "\n",
    "*i = 1 --- T(n) = O(1) + 2 x T(n-1)*<br>\n",
    "*i = 2 --- T(n) = O(1) + O(1) + 2 x (2 x T(n-2))*<br>\n",
    "*i = 3 --- T(n) = O(1) + O(1) + O(1) + 2 x 2 x (2 x T(n-3))*<br>\n",
    "\n",
    "*T(n) = i x O(1) + 2^i x T(n-i)*\n",
    "\n",
    "if we set *(n-i) = 0* (to get *T(0)*), we get *i = n*.  Therefor:\n",
    "\n",
    "*T(n) = n * O(1) + 2^n x O(1)*<br>\n",
    "*T(n) = O(2^n)*\n",
    "\n",
    "Does that look right according to the picture?\n",
    "\n",
    "Note: *O(2^n)* is the __upper__ bound on recursive Fibonacci performance.  There is a tighter bound that is slightly better (about *O(1.62^n)*)"
   ]
  },
  {
   "cell_type": "markdown",
   "metadata": {},
   "source": [
    "## Non-recursive Fibonacci\n",
    "\n",
    "Here's some code to calculate the Fibonacci Sequence iteratively (without recursion).  What is the Big-O run time performance of this algorithm?  Is it better than the recursive version?"
   ]
  },
  {
   "cell_type": "code",
   "execution_count": null,
   "metadata": {},
   "outputs": [],
   "source": [
    "def fib(n):\n",
    "    a,b = 0,1\n",
    "    for i in range(0,n):\n",
    "        a,b = b,a + b\n",
    "    return a\n",
    "\n",
    "def main():\n",
    "    n = int(input(\"Enter n: \"))\n",
    "    for i in range(n+1):\n",
    "        print(f\"{fib(i):d} \",end = \"\")\n",
    "    print()\n",
    "    \n",
    "if __name__ == '__main__':\n",
    "    main()"
   ]
  },
  {
   "cell_type": "markdown",
   "metadata": {},
   "source": [
    "## Additional Resources\n",
    "\n",
    "[Fibonacci Sequence - Math is Fun](https://www.mathsisfun.com/numbers/fibonacci-sequence.html)\n",
    "\n",
    "[7 Beautiful Examples Of The Fibonacci Sequence In Nature](https://www.theodysseyonline.com/7-beautiful-examples-fibonacci-sequence-nature)\n",
    "\n",
    "[What Is The Fibonacci Sequence? Why Is It So Special?](https://www.scienceabc.com/eyeopeners/why-are-fibonacci-numbers-so-important.html)"
   ]
  },
  {
   "cell_type": "markdown",
   "metadata": {},
   "source": [
    "<hr>\n",
    "\n",
    "*MIT License*\n",
    "\n",
    "*Copyright 2019-2021 Peter Nardi*\n",
    "\n",
    "*Terms of use:*\n",
    "\n",
    "*Permission is hereby granted, free of charge, to any person obtaining a copy of this software and associated documentation files (the \"Software\"), to deal in the Software without restriction, including without limitation the rights to use, copy, modify, merge, publish, distribute, sublicense, and/or sell copies of the Software, and to permit persons to whom the Software is furnished to do so, subject to the following conditions:*\n",
    "\n",
    "*The above copyright notice and this permission notice shall be included in all copies or substantial portions of the Software.*\n",
    "\n",
    "*THE SOFTWARE IS PROVIDED \"AS IS\", WITHOUT WARRANTY OF ANY KIND, EXPRESS OR IMPLIED, INCLUDING BUT NOT LIMITED TO THE WARRANTIES OF MERCHANTABILITY, FITNESS FOR A PARTICULAR PURPOSE AND NON-INFRINGEMENT. IN NO EVENT SHALL THE AUTHORS OR COPYRIGHT HOLDERS BE LIABLE FOR ANY CLAIM, DAMAGES OR OTHER LIABILITY, WHETHER IN AN ACTION OF CONTRACT, TORT OR OTHERWISE, ARISING FROM, OUT OF OR IN CONNECTION WITH THE SOFTWARE OR THE USE OR OTHER DEALINGS IN THE SOFTWARE.*"
   ]
  }
 ],
 "metadata": {
  "kernelspec": {
   "display_name": "Python 3",
   "language": "python",
   "name": "python3"
  },
  "language_info": {
   "codemirror_mode": {
    "name": "ipython",
    "version": 3
   },
   "file_extension": ".py",
   "mimetype": "text/x-python",
   "name": "python",
   "nbconvert_exporter": "python",
   "pygments_lexer": "ipython3",
   "version": "3.8.5"
  }
 },
 "nbformat": 4,
 "nbformat_minor": 4
}
