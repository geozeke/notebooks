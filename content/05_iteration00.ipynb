{
 "cells": [
  {
   "cell_type": "markdown",
   "metadata": {},
   "source": [
    "# Iteration (Looping)\n",
    "\n",
    "Iteration is a fancy term for *looping*. When you want to perform the same\n",
    "operation over-and-over on a collection of data elements, then iterating is the\n",
    "way to do it.\n",
    "\n",
    "Let's revisit this example from our [introduction to\n",
    "strings](02_operations01.ipynb):"
   ]
  },
  {
   "cell_type": "code",
   "execution_count": null,
   "metadata": {},
   "outputs": [],
   "source": [
    "s = \"Go Navy\"\n",
    "print(s[0])\n",
    "print(s[1])\n",
    "print(s[2])\n",
    "print(s[3])\n",
    "print(s[4])\n",
    "print(s[5])\n",
    "print(s[6])\n"
   ]
  },
  {
   "cell_type": "markdown",
   "metadata": {},
   "source": [
    "The code is pretty straightforward: create a string (`s`) that contains `\"Go\n",
    "Navy\"`, then print out every character in the string. Run the code above and\n",
    "give it a try.\n",
    "\n",
    "While it works, it does seem a bit wasteful to have repeat `print()` seven\n",
    "times. It would be great if we could automatically generate an arithmetic\n",
    "progression from `0` to `6` and use that to index each character in `s`. Let's\n",
    "start with a plain language description of what we want, then see how that\n",
    "translates into code.\n",
    "\n",
    "*For every integer from 0 to 6, use that number as an index to print the\n",
    "associated character in the string `s`*.\n",
    "\n",
    "The translation to Python is pretty simple. We'll use both the\n",
    "[for()](https://docs.python.org/3/tutorial/controlflow.html#tut-for) statement,\n",
    "and the\n",
    "[range()](https://docs.python.org/3/tutorial/controlflow.html#tut-range)\n",
    "function like this:"
   ]
  },
  {
   "cell_type": "code",
   "execution_count": null,
   "metadata": {},
   "outputs": [],
   "source": [
    "for i in range(0, 7):\n",
    "    print(i)\n",
    "print(\"The program is complete\")\n"
   ]
  },
  {
   "cell_type": "markdown",
   "metadata": {},
   "source": [
    "Important points:\n",
    "\n",
    "* The variable `i` can be any legal variable name. In practice, though, it's\n",
    "  very common to use `i` when iterating over a range of values, so you may see\n",
    "  it often.\n",
    "* In line 1 we're iterating over a range starting at `0` and ending at one less\n",
    "  than `7`. This is how\n",
    "  [range()](https://docs.python.org/3/tutorial/controlflow.html#tut-range)\n",
    "  works: it goes from the starting value to one less than the ending value.\n",
    "* Notice that we're indenting code again! This is a very common design pattern\n",
    "  in Python, so you should start to feel comfortable with it. It says that\n",
    "  everything indented below the line ending in colon (`:`) applies to that\n",
    "  line. As an experiment, change the indentation of line 3 so that it lines up\n",
    "  with line 2 and re-run the code. What happened?\n",
    "\n",
    "----\n",
    "\n",
    "Here's an example of a\n",
    "[for()](https://docs.python.org/3/tutorial/controlflow.html#tut-for) loop using\n",
    "a different variable name and\n",
    "[range()](https://docs.python.org/3/tutorial/controlflow.html#tut-range)\n",
    "starting at a value other than `0`. Predict what gets printed before running\n",
    "the code to check your answer."
   ]
  },
  {
   "cell_type": "code",
   "execution_count": null,
   "metadata": {},
   "outputs": [],
   "source": [
    "for my_variable in range(3, 20):\n",
    "    print(my_variable)\n"
   ]
  },
  {
   "cell_type": "markdown",
   "metadata": {},
   "source": [
    "----\n",
    "\n",
    "If you do want to start your\n",
    "[range()](https://docs.python.org/3/tutorial/controlflow.html#tut-range) at\n",
    "`0`, then you can leave that part out and just use the endpoint:"
   ]
  },
  {
   "cell_type": "code",
   "execution_count": null,
   "metadata": {},
   "outputs": [],
   "source": [
    "for item in range(10):\n",
    "    print(item)\n"
   ]
  },
  {
   "cell_type": "markdown",
   "metadata": {},
   "source": [
    "----\n",
    "\n",
    "There's actually a third optional input to\n",
    "[range()](https://docs.python.org/3/tutorial/controlflow.html#tut-range) that\n",
    "allows you to set the step size. For example, instead of generating a\n",
    "progression that always counts by `1`, you can change it to another value."
   ]
  },
  {
   "cell_type": "code",
   "execution_count": null,
   "metadata": {},
   "outputs": [],
   "source": [
    "# range(<start>,<end>,<step>)\n",
    "\n",
    "print(\"Even numbers less than or equal to 10:\")\n",
    "for number in range(0, 11, 2):\n",
    "    print(number)\n"
   ]
  },
  {
   "cell_type": "markdown",
   "metadata": {},
   "source": [
    "----\n",
    "\n",
    "You can also use the step option to count backwards:"
   ]
  },
  {
   "cell_type": "code",
   "execution_count": null,
   "metadata": {},
   "outputs": [],
   "source": [
    "# range(<start>,<end>,<step>)\n",
    "\n",
    "print(\"Counting backwards from 10:\")\n",
    "for number in range(10, 0, -1):\n",
    "    print(number)\n"
   ]
  },
  {
   "cell_type": "markdown",
   "metadata": {},
   "source": [
    "### Back to Strings\n",
    "\n",
    "Let's re-write our string program to take advantage of iteration"
   ]
  },
  {
   "cell_type": "code",
   "execution_count": null,
   "metadata": {},
   "outputs": [],
   "source": [
    "s = \"Go Navy\"\n",
    "for i in range(7):\n",
    "    print(s[i])\n"
   ]
  },
  {
   "cell_type": "markdown",
   "metadata": {},
   "source": [
    "----\n",
    "\n",
    "What if you didn't know how many characters there are in `s` beforehand? You\n",
    "could use Python's [len()](https://docs.python.org/3/library/functions.html)\n",
    "like this:"
   ]
  },
  {
   "cell_type": "code",
   "execution_count": null,
   "metadata": {},
   "outputs": [],
   "source": [
    "s = input(\"Enter a string: \")\n",
    "s_length = len(s)\n",
    "\n",
    "for i in range(s_length):\n",
    "    print(s[i])\n"
   ]
  },
  {
   "cell_type": "markdown",
   "metadata": {},
   "source": [
    "----\n",
    "\n",
    "Python also provides a neat short-hand way to iterate across every item in a\n",
    "collection (strings are collections of characters). We might describe it like\n",
    "this:\n",
    "\n",
    "*For every character in the string, print it.*\n",
    "\n",
    "It looks like this:"
   ]
  },
  {
   "cell_type": "code",
   "execution_count": null,
   "metadata": {},
   "outputs": [],
   "source": [
    "s = input(\"Enter a string: \")\n",
    "\n",
    "for character in s:\n",
    "    print(character)\n"
   ]
  },
  {
   "cell_type": "markdown",
   "metadata": {},
   "source": [
    "Note: `character` is just a variable name. You could have written the code like\n",
    "this:"
   ]
  },
  {
   "cell_type": "code",
   "execution_count": null,
   "metadata": {},
   "outputs": [],
   "source": [
    "s = input(\"Enter a string: \")\n",
    "\n",
    "for each_letter in s:\n",
    "    print(each_letter)\n"
   ]
  },
  {
   "cell_type": "markdown",
   "metadata": {},
   "source": [
    "## Additional Resources\n",
    "\n",
    "[Python for()\n",
    "statement](https://docs.python.org/3/tutorial/controlflow.html#tut-for)\n",
    "\n",
    "[Python range()\n",
    "function](https://docs.python.org/3/tutorial/controlflow.html#tut-range)"
   ]
  },
  {
   "cell_type": "markdown",
   "metadata": {},
   "source": [
    "----\n",
    "\n",
    "MIT License\n",
    "\n",
    "Copyright 2019-2022 Peter Nardi\n",
    "\n",
    "Terms of use:\n",
    "\n",
    "Permission is hereby granted, free of charge, to any person obtaining a copy of\n",
    "this software and associated documentation files (the \"Software\"), to deal in\n",
    "the Software without restriction, including without limitation the rights to\n",
    "use, copy, modify, merge, publish, distribute, sublicense, and/or sell copies\n",
    "of the Software, and to permit persons to whom the Software is furnished to do\n",
    "so, subject to the following conditions:\n",
    "\n",
    "The above copyright notice and this permission notice shall be included in all\n",
    "copies or substantial portions of the Software.\n",
    "\n",
    "THE SOFTWARE IS PROVIDED \"AS IS\", WITHOUT WARRANTY OF ANY KIND, EXPRESS OR\n",
    "IMPLIED, INCLUDING BUT NOT LIMITED TO THE WARRANTIES OF MERCHANTABILITY,\n",
    "FITNESS FOR A PARTICULAR PURPOSE AND NON-INFRINGEMENT. IN NO EVENT SHALL THE\n",
    "AUTHORS OR COPYRIGHT HOLDERS BE LIABLE FOR ANY CLAIM, DAMAGES OR OTHER\n",
    "LIABILITY, WHETHER IN AN ACTION OF CONTRACT, TORT OR OTHERWISE, ARISING FROM,\n",
    "OUT OF OR IN CONNECTION WITH THE SOFTWARE OR THE USE OR OTHER DEALINGS IN THE\n",
    "SOFTWARE.\n"
   ]
  }
 ],
 "metadata": {
  "kernelspec": {
   "display_name": "Python 3.10.6 ('.venv': poetry)",
   "language": "python",
   "name": "python3"
  },
  "language_info": {
   "codemirror_mode": {
    "name": "ipython",
    "version": 3
   },
   "file_extension": ".py",
   "mimetype": "text/x-python",
   "name": "python",
   "nbconvert_exporter": "python",
   "pygments_lexer": "ipython3",
   "version": "3.10.6"
  },
  "vscode": {
   "interpreter": {
    "hash": "8a6624f1d65858c9851721b3cef5bb4f0a62e9574006eec404b6e8b42f2ecf27"
   }
  }
 },
 "nbformat": 4,
 "nbformat_minor": 4
}
