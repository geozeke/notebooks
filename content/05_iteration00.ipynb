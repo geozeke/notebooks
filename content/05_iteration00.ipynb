{
 "cells": [
  {
   "cell_type": "markdown",
   "metadata": {},
   "source": [
    "# Iteration (Looping)\n",
    "\n",
    "Iteration if a fancy term for *looping*. When you want to perform the same operation over-and-over on a collection of data elements, then iterating is the way to do it.\n",
    "\n",
    "Let's revisit this example from our [introduction to strings](02_operations01.ipynb):"
   ]
  },
  {
   "cell_type": "code",
   "execution_count": null,
   "metadata": {},
   "outputs": [],
   "source": [
    "s = \"Go Navy\"\n",
    "print(s[0])\n",
    "print(s[1])\n",
    "print(s[2])\n",
    "print(s[3])\n",
    "print(s[4])\n",
    "print(s[5])\n",
    "print(s[6])"
   ]
  },
  {
   "cell_type": "markdown",
   "metadata": {},
   "source": [
    "The code is pretty straightforward: create a string (`s`) that contains `\"Go Navy\"`, then print out every character in the string. Run the code above and give it a try.\n",
    "\n",
    "While it works, it does seem a bit wasteful to have repeat `print()` seven times. It would be great if we could automatically generate an arithmetic progression from `0` to `6` and use that to index each character in `s`. Let's start with a plain language description of what we want, then see how that translates into code.\n",
    "\n",
    "*For every integer from 0 to 6, use that number as an index to print the associated character in the string `s`*.\n",
    "\n",
    "The translation to Python is pretty simple. We'll use both the [for()](https://docs.python.org/3/tutorial/controlflow.html#tut-for) statement, and the [range()](https://docs.python.org/3/tutorial/controlflow.html#tut-range) function like this:"
   ]
  },
  {
   "cell_type": "code",
   "execution_count": null,
   "metadata": {},
   "outputs": [],
   "source": [
    "for i in range(0,7):\n",
    "    print(i)\n",
    "print(\"The program is complete\")"
   ]
  },
  {
   "cell_type": "markdown",
   "metadata": {},
   "source": [
    "Important points:\n",
    "\n",
    "* The variable `i` can be any legal variable name. In practice, though, it's very common to use `i` when iterating over a range of values, so you may see it often.\n",
    "* In line 1 we're iterating over a range starting at `0` and ending at one less than `7`. This is how [range()](https://docs.python.org/3/tutorial/controlflow.html#tut-range) works: it goes from the starting value to one less than the ending value.\n",
    "* Notice that we're indenting code again! This is a very common design pattern in Python, so you should start to feel comfortable with it. It says that everything indented below the line ending in colon (`:`), applies to that line. As an experiment, change the indentation of line 3 so that it lines up with line 2 and re-run the code. What happened?\n",
    "\n",
    "<hr>\n",
    "\n",
    "Here's an example of a [for()](https://docs.python.org/3/tutorial/controlflow.html#tut-for) loop using a different variable name and [range()](https://docs.python.org/3/tutorial/controlflow.html#tut-range) starting at a value other than `0`. Predict what gets printed before running the code to check your answer."
   ]
  },
  {
   "cell_type": "code",
   "execution_count": null,
   "metadata": {},
   "outputs": [],
   "source": [
    "for myVariable in range(3,20):\n",
    "    print(myVariable)"
   ]
  },
  {
   "cell_type": "markdown",
   "metadata": {},
   "source": [
    "<hr>\n",
    "\n",
    "If you do want to start your [range()](https://docs.python.org/3/tutorial/controlflow.html#tut-range) at `0`, then you can leave that part out and just use the endpoint:"
   ]
  },
  {
   "cell_type": "code",
   "execution_count": null,
   "metadata": {},
   "outputs": [],
   "source": [
    "for item in range(10):\n",
    "    print(item)"
   ]
  },
  {
   "cell_type": "markdown",
   "metadata": {},
   "source": [
    "<hr>\n",
    "\n",
    "There's actually a third option input to [range()](https://docs.python.org/3/tutorial/controlflow.html#tut-range) that allows you to set the step size. For example, instead of generating a progression that always counts by `1`, you can change it to another value."
   ]
  },
  {
   "cell_type": "code",
   "execution_count": null,
   "metadata": {},
   "outputs": [],
   "source": [
    "# range(<start>,<end>,<step>)\n",
    "\n",
    "print(\"Even numbers less than 10:\")\n",
    "for number in range(0,11,2):\n",
    "    print(number)"
   ]
  },
  {
   "cell_type": "markdown",
   "metadata": {},
   "source": [
    "<hr>\n",
    "\n",
    "You can also use the step option to count backwards:"
   ]
  },
  {
   "cell_type": "code",
   "execution_count": null,
   "metadata": {},
   "outputs": [],
   "source": [
    "# range(<start>,<end>,<step>)\n",
    "\n",
    "print(\"Counting backwards from 10:\")\n",
    "for number in range(10,0,-1):\n",
    "    print(number)"
   ]
  },
  {
   "cell_type": "markdown",
   "metadata": {},
   "source": [
    "### Back To Strings\n",
    "\n",
    "Let's re-write our string program to take advantage of iteration"
   ]
  },
  {
   "cell_type": "code",
   "execution_count": null,
   "metadata": {},
   "outputs": [],
   "source": [
    "s = \"Go Navy\"\n",
    "for i in range(7):\n",
    "    print(s[i])"
   ]
  },
  {
   "cell_type": "markdown",
   "metadata": {},
   "source": [
    "<hr>\n",
    "\n",
    "What if you didn't know how many characters there are in `s` beforehand? You could use Python's [len()](https://docs.python.org/3/library/functions.html) like this:"
   ]
  },
  {
   "cell_type": "code",
   "execution_count": null,
   "metadata": {},
   "outputs": [],
   "source": [
    "s = input(\"Enter a string: \")\n",
    "sLength = len(s)\n",
    "\n",
    "for i in range(sLength):\n",
    "    print(s[i])"
   ]
  },
  {
   "cell_type": "markdown",
   "metadata": {},
   "source": [
    "<hr>\n",
    "\n",
    "Python also provides a neat short-hand way to iterate across every item in a collection (strings are collections of characters). We might describe it like this:\n",
    "\n",
    "*For every character in the string, print it.*\n",
    "\n",
    "It looks like this:"
   ]
  },
  {
   "cell_type": "code",
   "execution_count": null,
   "metadata": {},
   "outputs": [],
   "source": [
    "s = input(\"Enter a string: \")\n",
    "\n",
    "for character in s:\n",
    "    print(character)"
   ]
  },
  {
   "cell_type": "markdown",
   "metadata": {},
   "source": [
    "Note: `character` is just a variable name. You could have written the code like this:"
   ]
  },
  {
   "cell_type": "code",
   "execution_count": null,
   "metadata": {},
   "outputs": [],
   "source": [
    "s = input(\"Enter a string: \")\n",
    "\n",
    "for eachLetter in s:\n",
    "    print(eachLetter)"
   ]
  },
  {
   "cell_type": "markdown",
   "metadata": {},
   "source": [
    "## Additional Resources\n",
    "\n",
    "[Python for() statement](https://docs.python.org/3/tutorial/controlflow.html#tut-for)\n",
    "\n",
    "[Python range() function](https://docs.python.org/3/tutorial/controlflow.html#tut-range)"
   ]
  },
  {
   "cell_type": "markdown",
   "metadata": {},
   "source": [
    "<hr>\n",
    "\n",
    "*MIT License*\n",
    "\n",
    "*Copyright 2019-2020 Peter Nardi*\n",
    "\n",
    "*Terms of use:*\n",
    "\n",
    "*Permission is hereby granted, free of charge, to any person obtaining a copy of this software and associated documentation files (the \"Software\"), to deal in the Software without restriction, including without limitation the rights to use, copy, modify, merge, publish, distribute, sublicense, and/or sell copies of the Software, and to permit persons to whom the Software is furnished to do so, subject to the following conditions:*\n",
    "\n",
    "*The above copyright notice and this permission notice shall be included in all copies or substantial portions of the Software.*\n",
    "\n",
    "*THE SOFTWARE IS PROVIDED \"AS IS\", WITHOUT WARRANTY OF ANY KIND, EXPRESS OR IMPLIED, INCLUDING BUT NOT LIMITED TO THE WARRANTIES OF MERCHANTABILITY, FITNESS FOR A PARTICULAR PURPOSE AND NON-INFRINGEMENT. IN NO EVENT SHALL THE AUTHORS OR COPYRIGHT HOLDERS BE LIABLE FOR ANY CLAIM, DAMAGES OR OTHER LIABILITY, WHETHER IN AN ACTION OF CONTRACT, TORT OR OTHERWISE, ARISING FROM, OUT OF OR IN CONNECTION WITH THE SOFTWARE OR THE USE OR OTHER DEALINGS IN THE SOFTWARE.*"
   ]
  }
 ],
 "metadata": {
  "kernelspec": {
   "display_name": "Python 3",
   "language": "python",
   "name": "python3"
  },
  "language_info": {
   "codemirror_mode": {
    "name": "ipython",
    "version": 3
   },
   "file_extension": ".py",
   "mimetype": "text/x-python",
   "name": "python",
   "nbconvert_exporter": "python",
   "pygments_lexer": "ipython3",
   "version": "3.8.2"
  }
 },
 "nbformat": 4,
 "nbformat_minor": 4
}
