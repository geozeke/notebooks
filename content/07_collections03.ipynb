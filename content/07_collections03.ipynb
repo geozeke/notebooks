{
 "cells": [
  {
   "cell_type": "markdown",
   "metadata": {},
   "source": [
    "# Tuples\n",
    "\n",
    "A [tuple](https://docs.python.org/3/library/stdtypes.html#typesseq) is an\n",
    "immutable sequence type of Python objects. They're frequently used when you\n",
    "want to return more than one value from a function. Python tuples can be\n",
    "heterogeneous, which makes them very powerful. For example, this is a perfectly\n",
    "legal tuple in Python: `(\"Hello\", 0, 3.141)`. Tuples are **iterable**,\n",
    "**immutable** and **ordered**.  Duplicates are allowed in tuples.\n",
    "\n",
    "Let's start with a simple example, then discuss how tuples are useful for\n",
    "returning more than one value from a function."
   ]
  },
  {
   "cell_type": "code",
   "execution_count": null,
   "metadata": {},
   "outputs": [],
   "source": [
    "T = (3, 8, 2)\n",
    "\n",
    "print(T)\n",
    "print(\"The first element in the tuple is:\", T[0])\n",
    "\n",
    "for t in T:\n",
    "    print(t)\n"
   ]
  },
  {
   "cell_type": "markdown",
   "metadata": {},
   "source": [
    "* Notice that tuples are described with parenthesis, rather than brackets which\n",
    "  describe lists `[]`, or braces which describe sets `{}`.\n",
    "* Even though you create a tuple with parenthesis, you access individual\n",
    "  elements with brackets (e.g. line 4)\n",
    "* The loop uses `t` (lowercase) as a variable to iterate over the tuple `T`\n",
    "  (uppercase)\n",
    "\n",
    "<br clear=\"all\" />\n",
    "<img src=\"../images/00check.png\" align=\"left\" />\n",
    "<br clear=\"all\" />\n",
    "\n",
    "I mentioned at the start that tuples are immutable. Once they're created, you\n",
    "can't change them. If you insert a line 2 in the code above that tries to\n",
    "change `T` like this: `T[1] = 33`, what happens?"
   ]
  },
  {
   "cell_type": "markdown",
   "metadata": {},
   "source": [
    "----\n",
    "\n",
    "There's a classic problem in introductory computing classes: *Given a variable\n",
    "`x` and a variable `y`, how do you swap the values in `x` and `y`?*\n",
    "\n",
    "Examine this:"
   ]
  },
  {
   "cell_type": "code",
   "execution_count": null,
   "metadata": {},
   "outputs": [],
   "source": [
    "x = 3\n",
    "y = 5\n",
    "print(x, y)\n",
    "\n",
    "x = y\n",
    "y = x\n",
    "print(x, y)\n"
   ]
  },
  {
   "cell_type": "markdown",
   "metadata": {},
   "source": [
    "Does it work? Run it. What happens to the original value of `x` in line 5? The\n",
    "traditional way to solve this is by using a third variable as a placeholder\n",
    "like this:"
   ]
  },
  {
   "cell_type": "code",
   "execution_count": null,
   "metadata": {},
   "outputs": [],
   "source": [
    "x = 3\n",
    "y = 5\n",
    "print(x, y)\n",
    "\n",
    "z = x\n",
    "x = y\n",
    "y = z\n",
    "print(x, y)\n"
   ]
  },
  {
   "cell_type": "markdown",
   "metadata": {},
   "source": [
    "A cool way to solve it with tuples looks like this:"
   ]
  },
  {
   "cell_type": "code",
   "execution_count": null,
   "metadata": {},
   "outputs": [],
   "source": [
    "x = 3\n",
    "y = 5\n",
    "print(x, y)\n",
    "\n",
    "(x, y) = (y, x)\n",
    "print(x, y)\n"
   ]
  },
  {
   "cell_type": "markdown",
   "metadata": {},
   "source": [
    "----\n",
    "\n",
    "Since they're immutable, tuples can be used as keys to dictionaries which can\n",
    "be very useful. For example, there are many towns in America named\n",
    "*Springfield*. You could create a dictionary of towns where the keys are\n",
    "`(town,state)` tuples, and the values are elevation above sea level (in feet).\n",
    "Using tuples, you could keep all the *Springfields* straight."
   ]
  },
  {
   "cell_type": "code",
   "execution_count": null,
   "metadata": {},
   "outputs": [],
   "source": [
    "D = {}\n",
    "\n",
    "D[('springfield', 'CA')] = 2056\n",
    "D[('goshen', 'CT')] = 1319\n",
    "D[('trade', 'TN')] = 3133\n",
    "D[('springfield', 'ME')] = 417\n",
    "D[('springfield', 'NE')] = 1066\n",
    "D[('isabella', 'MN')] = 2000\n",
    "\n",
    "for k, v in D.items():\n",
    "    print(f\"The elevation of {k[0].title()}, {k[1].upper()} is {v:,d} feet.\")\n"
   ]
  },
  {
   "cell_type": "markdown",
   "metadata": {},
   "source": [
    "----\n",
    "\n",
    "### Returning Multiple Values From Functions\n",
    "\n",
    "When we introduced functions, it became apparent that we could only return one\n",
    "value (thing) from a function. It serves well for most uses, but what if you\n",
    "want to return more than one value from a function? Take the code below as an\n",
    "example. Suppose you want to write a function that takes a list of integers and\n",
    "returns the number of odd integers **and also** the number of even integers. It\n",
    "might start out with something like this:"
   ]
  },
  {
   "cell_type": "code",
   "execution_count": null,
   "metadata": {},
   "outputs": [],
   "source": [
    "def find_sums(L):\n",
    "    odds = 0\n",
    "    evens = 0\n",
    "\n",
    "    for i in L:\n",
    "        if i % 2 == 0:\n",
    "            evens += 1\n",
    "        else:\n",
    "            odds += 1\n",
    "\n",
    "    return ????\n",
    "\n",
    "\n",
    "# Sample list\n",
    "L = [1, 2, 3, 4, 5, 6, 7, 8, 9, 10, 11, 12, 13, 14, 15, 16, 17, 18, 19, 20]\n",
    "\n",
    "print(\"Even sum =\", find_sums(L))\n",
    "print(\" Odd sum =\", find_sums(L))\n"
   ]
  },
  {
   "cell_type": "markdown",
   "metadata": {},
   "source": [
    "The program above doesn't work. It's a good template, but it won't run. What do\n",
    "we return? How would you modify the code using tuples so that you could return\n",
    "both the sum of the odd numbers and the sum of the even numbers, using a single\n",
    "`return` statement (line 11)?"
   ]
  },
  {
   "cell_type": "markdown",
   "metadata": {},
   "source": [
    "## Additional Resources\n",
    "\n",
    "[Data Structures (list, dict, tuples, sets,\n",
    "strings)](http://thomas-cokelaer.info/tutorials/python/data_structures.html)\n",
    "\n",
    "[Python Data Structures – Lists, Tuples, Sets,\n",
    "Dictionaries](https://data-flair.training/blogs/python-data-structures-tutorial/)"
   ]
  },
  {
   "cell_type": "markdown",
   "metadata": {},
   "source": [
    "----\n",
    "\n",
    "MIT License\n",
    "\n",
    "Copyright 2019-2022 Peter Nardi\n",
    "\n",
    "Terms of use:\n",
    "\n",
    "Permission is hereby granted, free of charge, to any person obtaining a copy of\n",
    "this software and associated documentation files (the \"Software\"), to deal in\n",
    "the Software without restriction, including without limitation the rights to\n",
    "use, copy, modify, merge, publish, distribute, sublicense, and/or sell copies\n",
    "of the Software, and to permit persons to whom the Software is furnished to do\n",
    "so, subject to the following conditions:\n",
    "\n",
    "The above copyright notice and this permission notice shall be included in all\n",
    "copies or substantial portions of the Software.\n",
    "\n",
    "THE SOFTWARE IS PROVIDED \"AS IS\", WITHOUT WARRANTY OF ANY KIND, EXPRESS OR\n",
    "IMPLIED, INCLUDING BUT NOT LIMITED TO THE WARRANTIES OF MERCHANTABILITY,\n",
    "FITNESS FOR A PARTICULAR PURPOSE AND NON-INFRINGEMENT. IN NO EVENT SHALL THE\n",
    "AUTHORS OR COPYRIGHT HOLDERS BE LIABLE FOR ANY CLAIM, DAMAGES OR OTHER\n",
    "LIABILITY, WHETHER IN AN ACTION OF CONTRACT, TORT OR OTHERWISE, ARISING FROM,\n",
    "OUT OF OR IN CONNECTION WITH THE SOFTWARE OR THE USE OR OTHER DEALINGS IN THE\n",
    "SOFTWARE.\n"
   ]
  }
 ],
 "metadata": {
  "kernelspec": {
   "display_name": "Python 3.10.6 ('.venv': poetry)",
   "language": "python",
   "name": "python3"
  },
  "language_info": {
   "codemirror_mode": {
    "name": "ipython",
    "version": 3
   },
   "file_extension": ".py",
   "mimetype": "text/x-python",
   "name": "python",
   "nbconvert_exporter": "python",
   "pygments_lexer": "ipython3",
   "version": "3.10.6"
  },
  "vscode": {
   "interpreter": {
    "hash": "8a6624f1d65858c9851721b3cef5bb4f0a62e9574006eec404b6e8b42f2ecf27"
   }
  }
 },
 "nbformat": 4,
 "nbformat_minor": 4
}
