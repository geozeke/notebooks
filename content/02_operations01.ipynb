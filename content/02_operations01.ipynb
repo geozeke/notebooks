{
 "cells": [
  {
   "cell_type": "markdown",
   "metadata": {},
   "source": [
    "# Introduction to Strings\n",
    "\n",
    "Let's begin our exploration of strings with a technical definition:\n",
    "\n",
    "*[Strings](https://docs.python.org/3/library/stdtypes.html#textseq) are\n",
    "considered a \"Collection Class\", meaning they are a collection of other data\n",
    "types. A String is an array of [bytes](https://simple.wikipedia.org/wiki/Byte)\n",
    "representing [Unicode](https://en.wikipedia.org/wiki/Unicode) characters.\n",
    "Python does not have a character data type, so a single character is simply a\n",
    "string with a length of 1.  Strings are iterable, immutable and ordered.\n",
    "Duplicates are allowed in strings.*\n",
    "\n",
    "We'll explore this definition in more detail throughout this notebook.\n",
    "\n",
    "*Note: Like any other programming language, there are many ways to approach\n",
    "problems in Python. Two completely different approaches may be equally valid.\n",
    "Keep in mind that as you go through these examples you'll often see multiple\n",
    "ways of doing the same thing. No particular approach is presented here as \"the\n",
    "best\" or \"the only\" way to do things.  Find your own unique programming style\n",
    "and embrace it!*"
   ]
  },
  {
   "cell_type": "markdown",
   "metadata": {},
   "source": [
    "### Representing Strings\n",
    "\n",
    "Strings are represented with quotation marks.  Python is more forgiving than\n",
    "some other programming languages, so you may represent strings with either\n",
    "double-quote marks (`\"`) or single quote marks (`'`).  The only rule is that\n",
    "you start a string with one type of quote, you have to finish it with the same\n",
    "type.\n",
    "\n",
    "Run the code samples below, in particular examine the error message that\n",
    "results when using mixed quotes:"
   ]
  },
  {
   "cell_type": "markdown",
   "metadata": {},
   "source": [
    "#### Valid strings"
   ]
  },
  {
   "cell_type": "code",
   "execution_count": null,
   "metadata": {},
   "outputs": [],
   "source": [
    "s1 = \"Welcome to Python\"  # Double quotes\n",
    "print(s1)\n",
    "s2 = 'Exploring Strings'  # Single Quotes\n",
    "print(s2)\n",
    "s3 = 'A'  # A string with one character is allowed\n",
    "print(s3)\n"
   ]
  },
  {
   "cell_type": "markdown",
   "metadata": {},
   "source": [
    "#### Invalid string"
   ]
  },
  {
   "cell_type": "code",
   "execution_count": null,
   "metadata": {},
   "outputs": [],
   "source": [
    "s1 = \"Different starting and ending quotes are not allowed'\n",
    "print(s1)\n"
   ]
  },
  {
   "cell_type": "markdown",
   "metadata": {},
   "source": [
    "When first learning a programming language, it's not uncommon to confuse\n",
    "numbers as integers (e.g. `x = 42`), with numbers as strings (e.g. `x = \"42\"`).\n",
    "Explore the code samples below:"
   ]
  },
  {
   "cell_type": "markdown",
   "metadata": {},
   "source": [
    "#### Sample 1"
   ]
  },
  {
   "cell_type": "code",
   "execution_count": null,
   "metadata": {},
   "outputs": [],
   "source": [
    "x = 42\n",
    "y = 43\n",
    "print(x)\n",
    "print(y)\n",
    "print(x + y)\n"
   ]
  },
  {
   "cell_type": "markdown",
   "metadata": {},
   "source": [
    "#### Sample 2"
   ]
  },
  {
   "cell_type": "code",
   "execution_count": null,
   "metadata": {},
   "outputs": [],
   "source": [
    "x = 42\n",
    "y = \"43\"\n",
    "print(x)\n",
    "print(y)\n",
    "print(x + y)  # This line should cause a crash\n"
   ]
  },
  {
   "cell_type": "markdown",
   "metadata": {},
   "source": [
    "#### Sample 3"
   ]
  },
  {
   "cell_type": "code",
   "execution_count": null,
   "metadata": {},
   "outputs": [],
   "source": [
    "x = \"42\"\n",
    "y = \"43\"\n",
    "print(x)\n",
    "print(y)\n",
    "print(x + y)\n"
   ]
  },
  {
   "cell_type": "markdown",
   "metadata": {},
   "source": [
    "Sample 3 is interesting.  Why doesn't it crash? Doesn't Sample 2 demonstrate\n",
    "that you can't add strings?\n",
    "\n",
    "Not exactly.  Sample 2 demonstrates that you can't add a string to an integer.\n",
    "Sample 3 demonstrates that you can merge two (or more) strings together using\n",
    "the `+` operator, and the result is a new string that represents the\n",
    "combination of the two. The term for combining strings in this way is\n",
    "*concatenation*.\n",
    "\n",
    "Python has so many awesome little tricks that make it such a fun programming\n",
    "language.  We certainly won't be able to explore every single one, but I'll try\n",
    "to point them out as we demonstrate new topics.  Run the code below to see what\n",
    "I mean :-)"
   ]
  },
  {
   "cell_type": "code",
   "execution_count": null,
   "metadata": {},
   "outputs": [],
   "source": [
    "name = input(\"Enter your first name: \")\n",
    "print(name * 5)\n"
   ]
  },
  {
   "cell_type": "markdown",
   "metadata": {},
   "source": [
    "### Definitions\n",
    "\n",
    "In the technical definition of a string, we introduced three new terms:\n",
    "*iterable*, *immutable* and *ordered*. Let's examine each of these."
   ]
  },
  {
   "cell_type": "markdown",
   "metadata": {},
   "source": [
    "#### __*iterable*__\n",
    "\n",
    "Iteration (iterable) is just a fancy term for looping again and again. It's a\n",
    "critically important part of any programming language and we'll spend several\n",
    "lessons on this topic throughout the course. For now, let's just think of\n",
    "iteration as performing some operation on every character in a string. To make\n",
    "use of iteration on strings, you need to know how we access individual\n",
    "characters.\n",
    "\n",
    "We refer to a character's position in a string as its *index*.  The first\n",
    "character in a string is always located at index `0`, and the last character in\n",
    "a string is always at an index that is one less then the number of characters\n",
    "in the string (`n-1`). We access an individual character at a particular index\n",
    "by using bracket notation (`[]`), along with the desired index.\n",
    "\n",
    "Explore the code samples below:"
   ]
  },
  {
   "cell_type": "markdown",
   "metadata": {},
   "source": [
    "#### Sample 1"
   ]
  },
  {
   "cell_type": "code",
   "execution_count": null,
   "metadata": {},
   "outputs": [],
   "source": [
    "s = \"Go Navy\"\n",
    "print(s[0])\n",
    "print(s[3])\n"
   ]
  },
  {
   "cell_type": "markdown",
   "metadata": {},
   "source": [
    "The character in the string `s` at position `0` is `'G'`; and the character at\n",
    "position `3` is `'N'`"
   ]
  },
  {
   "cell_type": "markdown",
   "metadata": {},
   "source": [
    "#### Sample 2"
   ]
  },
  {
   "cell_type": "code",
   "execution_count": null,
   "metadata": {},
   "outputs": [],
   "source": [
    "s = \"Go Navy\"\n",
    "print(s[0])\n",
    "print(s[1])\n",
    "print(s[2])\n",
    "print(s[3])\n",
    "print(s[4])\n",
    "print(s[5])\n",
    "print(s[6])\n"
   ]
  },
  {
   "cell_type": "markdown",
   "metadata": {},
   "source": [
    "Sample 2 shows a simple form of iteration to print every character in a string.\n",
    "It's a good start, but we'll explore more sophisticated iteration techniques\n",
    "throughout the course.  Also note that a `space` is considered a character\n",
    "(e.g. the character at `s[2]`)."
   ]
  },
  {
   "cell_type": "markdown",
   "metadata": {},
   "source": [
    "#### Sample 3"
   ]
  },
  {
   "cell_type": "code",
   "execution_count": null,
   "metadata": {},
   "outputs": [],
   "source": [
    "s = \"Go Navy\"\n",
    "print(s[0])\n",
    "print(s[5])\n",
    "print(s[7])\n"
   ]
  },
  {
   "cell_type": "markdown",
   "metadata": {},
   "source": [
    "The code above should crash when you run it. Remember, for a string of length\n",
    "`n`, individual characters are located at indices in the range from `0` to\n",
    "`n-1`.\n",
    "\n",
    "* Which line above caused the crash?\n",
    "* What error message did you get?\n",
    "* Change the code above so it prints `o`, `N`, `v`, each on a separate line,\n",
    "  without crashing."
   ]
  },
  {
   "cell_type": "markdown",
   "metadata": {},
   "source": [
    "#### __*immutable*__\n",
    "\n",
    "If something is immutable, it means that once it's created it can't be changed.\n",
    "Mutability can be a confusing topic, so we'll explore with examples.\n",
    "\n",
    "Strings are immutable. While you can change the entire value of a string in a\n",
    "variable, you cannot change the value of an individual character *inside* a\n",
    "string variable.\n",
    "\n",
    "Explore the code samples below:"
   ]
  },
  {
   "cell_type": "markdown",
   "metadata": {},
   "source": [
    "#### Sample 1"
   ]
  },
  {
   "cell_type": "code",
   "execution_count": null,
   "metadata": {},
   "outputs": [],
   "source": [
    "s = \"Go\"\n",
    "print(s)\n",
    "s = \"Navy\"\n",
    "print(s)\n"
   ]
  },
  {
   "cell_type": "markdown",
   "metadata": {},
   "source": [
    "The code above runs fine. The variable `s` starts with a value of `Go`, is\n",
    "printed, then changes to the value `Navy`, and is printed again."
   ]
  },
  {
   "cell_type": "markdown",
   "metadata": {},
   "source": [
    "#### Sample 2"
   ]
  },
  {
   "cell_type": "code",
   "execution_count": null,
   "metadata": {},
   "outputs": [],
   "source": [
    "s = \"Hot Air\"\n",
    "print(s)\n",
    "s[0] = \"N\"\n",
    "print(s)\n"
   ]
  },
  {
   "cell_type": "markdown",
   "metadata": {},
   "source": [
    "The code above crashes. Which line causes the crash and what error did you get?\n",
    "Does that mean we can never change `Hot Air` to `Not Air`? Not really. Advanced\n",
    "string manipulation techniques include __*slicing*__ and __*splitting*__, which\n",
    "we'll cover in future topics. For now, we can use the straightforward technique\n",
    "shown in Sample 3"
   ]
  },
  {
   "cell_type": "markdown",
   "metadata": {},
   "source": [
    "#### Sample 3"
   ]
  },
  {
   "cell_type": "code",
   "execution_count": null,
   "metadata": {},
   "outputs": [],
   "source": [
    "s = \"Hot Air\"\n",
    "print(s)\n",
    "s = \"Not Air\"\n",
    "print(s)\n"
   ]
  },
  {
   "cell_type": "markdown",
   "metadata": {},
   "source": [
    "#### __*ordered*__\n",
    "\n",
    "Strings are ordered, because the programmer controls the order in which the\n",
    "characters are arranged and can be confident that once created, a particular\n",
    "character will always be in the same place within a string. It may sound\n",
    "obvious at this point, but we'll explore **dictionaries** and **sets** later in\n",
    "the course, which are examples of unordered collections. The comparison will\n",
    "become clearer when we see those advanced data types.\n",
    "\n",
    "Explore the code samples below:"
   ]
  },
  {
   "cell_type": "markdown",
   "metadata": {},
   "source": [
    "#### Sample 1"
   ]
  },
  {
   "cell_type": "code",
   "execution_count": null,
   "metadata": {},
   "outputs": [],
   "source": [
    "s = \"Python is awesome\"\n",
    "print(s[3])\n"
   ]
  },
  {
   "cell_type": "markdown",
   "metadata": {},
   "source": [
    "The character at index `3` will always be `h`, as long as the value of `s`\n",
    "doesn't change."
   ]
  },
  {
   "cell_type": "markdown",
   "metadata": {},
   "source": [
    "### A Final Word About Empty Strings\n",
    "\n",
    "Can we create a string variable without any characters in it? The answer is,\n",
    "yes. It's a very handy and frequently used design pattern.\n",
    "\n",
    "Remember this example from the [previous notebook](02_operations00.ipynb) that\n",
    "shows a variable (`score`) on both sides of the equal sign?"
   ]
  },
  {
   "cell_type": "code",
   "execution_count": null,
   "metadata": {},
   "outputs": [],
   "source": [
    "score = 45\n",
    "print(score)\n",
    "score = score + 10\n",
    "print(score)\n"
   ]
  },
  {
   "cell_type": "markdown",
   "metadata": {},
   "source": [
    "1. Evaluate everything to the right of `=`.  That means, take the current value\n",
    "   in `score` (45) and add 10 to it.\n",
    "2. Take the result from step 1 and store it in the variable named `score`.\n",
    "   This replaces `score`'s original value (45) with the newly calculated value\n",
    "   (55)."
   ]
  },
  {
   "cell_type": "markdown",
   "metadata": {},
   "source": [
    "We can initialize string variables to be empty strings (`\"\"`) and perform\n",
    "concatenation in a similar fashion:"
   ]
  },
  {
   "cell_type": "code",
   "execution_count": null,
   "metadata": {},
   "outputs": [],
   "source": [
    "fullname = \"\"\n",
    "firstname = input(\"Enter your first name: \")\n",
    "fullname = fullname + firstname\n",
    "lastname = input(\"Enter your last name: \")\n",
    "fullname = fullname + lastname\n",
    "print(fullname)\n"
   ]
  },
  {
   "cell_type": "markdown",
   "metadata": {},
   "source": [
    "<br clear=\"all\" />\n",
    "<img src=\"../images/00check.png\" align=\"left\" />\n",
    "<br clear=\"all\" />\n",
    "\n",
    "The code above will print your full name with no spaces between first name and\n",
    "last name. When asked for your first name, you could just add a space to the\n",
    "end of what you type, but try modifying the code above to insert a space\n",
    "between first and last name in the output without making the user have to type\n",
    "it."
   ]
  },
  {
   "cell_type": "markdown",
   "metadata": {},
   "source": [
    "## Additional Resources\n",
    "\n",
    "[Python Strings:\n",
    "w3schools](https://www.w3schools.com/python/python_strings.asp)\n",
    "\n",
    "[An Informal Introduction to\n",
    "Python](https://docs.python.org/3/tutorial/introduction.html)\n",
    "\n",
    "[Strings and Character Data in Python](https://realpython.com/python-strings/)"
   ]
  },
  {
   "cell_type": "markdown",
   "metadata": {},
   "source": [
    "----\n",
    "\n",
    "MIT License\n",
    "\n",
    "Copyright 2019-2022 Peter Nardi\n",
    "\n",
    "Terms of use:\n",
    "\n",
    "Permission is hereby granted, free of charge, to any person obtaining a copy of\n",
    "this software and associated documentation files (the \"Software\"), to deal in\n",
    "the Software without restriction, including without limitation the rights to\n",
    "use, copy, modify, merge, publish, distribute, sublicense, and/or sell copies\n",
    "of the Software, and to permit persons to whom the Software is furnished to do\n",
    "so, subject to the following conditions:\n",
    "\n",
    "The above copyright notice and this permission notice shall be included in all\n",
    "copies or substantial portions of the Software.\n",
    "\n",
    "THE SOFTWARE IS PROVIDED \"AS IS\", WITHOUT WARRANTY OF ANY KIND, EXPRESS OR\n",
    "IMPLIED, INCLUDING BUT NOT LIMITED TO THE WARRANTIES OF MERCHANTABILITY,\n",
    "FITNESS FOR A PARTICULAR PURPOSE AND NON-INFRINGEMENT. IN NO EVENT SHALL THE\n",
    "AUTHORS OR COPYRIGHT HOLDERS BE LIABLE FOR ANY CLAIM, DAMAGES OR OTHER\n",
    "LIABILITY, WHETHER IN AN ACTION OF CONTRACT, TORT OR OTHERWISE, ARISING FROM,\n",
    "OUT OF OR IN CONNECTION WITH THE SOFTWARE OR THE USE OR OTHER DEALINGS IN THE\n",
    "SOFTWARE.\n"
   ]
  }
 ],
 "metadata": {
  "kernelspec": {
   "display_name": "Python 3",
   "language": "python",
   "name": "python3"
  },
  "language_info": {
   "codemirror_mode": {
    "name": "ipython",
    "version": 3
   },
   "file_extension": ".py",
   "mimetype": "text/x-python",
   "name": "python",
   "nbconvert_exporter": "python",
   "pygments_lexer": "ipython3",
   "version": "3.8.5"
  }
 },
 "nbformat": 4,
 "nbformat_minor": 4
}
