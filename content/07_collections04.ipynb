{
 "cells": [
  {
   "cell_type": "markdown",
   "metadata": {},
   "source": [
    "# Pass by Value; Pass by Reference\n",
    "\n",
    "This is an important topic in the study of computing. It's tricky to understand at first, but you'll get it with practice. Once you understand this topic (and you will) your programming skills will really take off.\n",
    "\n",
    "In an Object Oriented Programming (OOP) language like Python, an Object contains both the data itself and a set of methods (like functions) that can operate on that data. When an Object is created it is assigned a unique Object id, often referred-to as its memory address or ***Pointer***. An immutable Object can't be changed once it's created; and a mutable Object can be changed once it's created. Here's a list of mutable and immutable data types that we've seen so far:\n",
    "\n",
    "#### Immutable Data Types\n",
    "\n",
    "* String\n",
    "* Int\n",
    "* Bool\n",
    "* Float\n",
    "* Tuple\n",
    "\n",
    "#### Mutable Data Types\n",
    "\n",
    "* List\n",
    "* Dictionary\n",
    "* Set\n",
    "\n",
    "The concept of mutability can be difficult to understand. We've discussed it in previous notebooks, but consider the code below:"
   ]
  },
  {
   "cell_type": "code",
   "execution_count": null,
   "metadata": {},
   "outputs": [],
   "source": [
    "s = \"Go Navy\"\n",
    "print(s)\n",
    "s = \"Beat Army\"\n",
    "print(s)"
   ]
  },
  {
   "cell_type": "markdown",
   "metadata": {},
   "source": [
    "Doesn't that make `s` mutable? Saying a variable is immutable means that it can't be changed, but it sure looks like `s` is changing. What's going on?\n",
    "\n",
    "In the code above, we're not changing (mutating) `s`, we're actually throwing away the old Object associated with `s` and creating an entirely new Object for `s`. To illustrate this, remember: ***When an Object is created it is assigned a unique Object id.*** Python provides a built-in function to display an Object's id and we can use it to see how `s` is assigned a new string Object as the code runs:"
   ]
  },
  {
   "cell_type": "code",
   "execution_count": null,
   "metadata": {},
   "outputs": [],
   "source": [
    "s = \"Go Navy\"   # Create a new string Object\n",
    "print(s)\n",
    "print(id(s))\n",
    "s = \"Beat Army\" # Create a different string Object (throwing the old one away)\n",
    "print(s)\n",
    "print(id(s))"
   ]
  },
  {
   "cell_type": "markdown",
   "metadata": {},
   "source": [
    "Run the code above and observe how `s` gets a new Object id when it goes from `Go Navy` to `Beat Army`. The variable `s` is immutable, but we can discard its Object and create a new one. That's different from changing an immutable variable. To see this, examine the code below. Since the variable `s` is immutable, the code will crash:"
   ]
  },
  {
   "cell_type": "code",
   "execution_count": null,
   "metadata": {},
   "outputs": [],
   "source": [
    "s = \"Go Navy\"\n",
    "print(\"The first letter is\",s[0])\n",
    "s[0] = 'B'\n",
    "print(\"The first letter is\",s[0])"
   ]
  },
  {
   "cell_type": "markdown",
   "metadata": {},
   "source": [
    "We can *access* individual letters in a string (line 2), but the code crashes at line 3 because we cannot *change* (mutate) individual letters in a string."
   ]
  },
  {
   "cell_type": "markdown",
   "metadata": {},
   "source": [
    "### Passing Variables to Functions\n",
    "\n",
    "Understanding how Python handles Objects is key to understanding the difference between ***Pass by Value*** and ***Pass by Reference***. A simple set of rules emerges:\n",
    "\n",
    "* If you pass an immutable variable to a function as an argument, any changes the function makes to the associated parameter <ins>**will not**</ins> affect the value of the original argument. We call this ***Pass by Value***.\n",
    "* If you pass a mutable variable to a function, any changes the function makes to the associated parameter <ins>**will**</ins> affect the value of the original argument. We call this ***Pass by Reference***.\n",
    "\n",
    "Programming with those simple rules in mind is enough, and you'll get it right if you understand them. It's okay if you just memorize them for now, but you're more advanced than that. You're becoming a skilled programmer and the sky is the limit. It's been long journey, and the journey will continue throughout your entire life, but as you embark on the next phase you're now ready to hear the unvarnished truth: [***All Python Variables are Actually Pointers to Objects***](https://medium.com/@abdullah.tech/python-variables-are-pointers-c8b85880f21e).\n",
    "\n",
    "Let's start with a simple function that takes an integer and returns double that value:"
   ]
  },
  {
   "cell_type": "code",
   "execution_count": null,
   "metadata": {},
   "outputs": [],
   "source": [
    "def doubleIt(base):\n",
    "    return 2 * base\n",
    "\n",
    "\n",
    "n = int(input(\"Enter an integer: \"))\n",
    "print(f\"2 x {n:,d} = {doubleIt(n):,d}\")"
   ]
  },
  {
   "cell_type": "markdown",
   "metadata": {},
   "source": [
    "Run the code above and explore how it works. You should be comfortable with the use of *f-strings*.\n",
    "\n",
    "<hr>\n",
    "\n",
    "Now let's use Python's [id()](https://docs.python.org/3/library/functions.html) function to examine the unique id numbers of the variables being used:"
   ]
  },
  {
   "cell_type": "code",
   "execution_count": null,
   "metadata": {},
   "outputs": [],
   "source": [
    "def doubleIt(x):\n",
    "    print(f\"Inside function: x = {x:,d}; id(x) = {id(x):d}\")\n",
    "    return 2 * x\n",
    "\n",
    "\n",
    "n = int(input(\"Enter an integer: \"))\n",
    "print(f\"Outside function before call: n = {n:,d}; id(n) = {id(n):d}\")\n",
    "print(f\"2 x {n:,d} = {doubleIt(n):,d}\")\n",
    "print(f\"Outside function after call: n = {n:,d}; id(n) = {id(n):d}\")"
   ]
  },
  {
   "cell_type": "markdown",
   "metadata": {},
   "source": [
    "The id of `x` (the function parameter) should be the same as the id of `n` (the argument in the function call). That's because Python is passing `n` as a Pointer for use in the function `doubleIt()`. Now let's examine what happens if we change the value of the `x` parameter inside the function:"
   ]
  },
  {
   "cell_type": "code",
   "execution_count": null,
   "metadata": {},
   "outputs": [],
   "source": [
    "def doubleIt(x):\n",
    "    print(f\"Inside function before mod: x = {x:,d}; id(x) = {id(x):d}\")\n",
    "    x *= 2\n",
    "    print(f\"Inside function after mod: x = {x:,d}; id(x) = {id(x):d}\")\n",
    "    return x\n",
    "\n",
    "\n",
    "n = int(input(\"Enter an integer: \"))\n",
    "print(f\"Outside function before call: n = {n:,d}; id(n) = {id(n):d}\")\n",
    "print(f\"2 x {n:,d} = {doubleIt(n):,d}\")\n",
    "print(f\"Outside function after call: n = {n:,d}; id(n) = {id(n):d}\")"
   ]
  },
  {
   "cell_type": "markdown",
   "metadata": {},
   "source": [
    "Run the code. Notice that the parameter `x` starts with the same id as the argument `n`. It then gets a new id inside the function, however the id of `n` never changes. Since the argument `n` is an immutable type (integer) any changes to `x` are local in scope to `doubleIt()` and have no impact on the value of `n`. We we would call this situation ***Pass by Value***.\n",
    "\n",
    "### Passing by Reference\n",
    "\n",
    "So, if you pass an immutable variable to a function as an argument, any changes the function makes to the associated parameter <ins>**will not**</ins> affect the value of the original argument. We call this ***Pass by Value***. Now let's take a look at how it works using a mutable variable type. We'll tweak the code to take a Python list and double the second item in the list:"
   ]
  },
  {
   "cell_type": "code",
   "execution_count": null,
   "metadata": {},
   "outputs": [],
   "source": [
    "def modifySecond(aList):\n",
    "    print(\n",
    "        f\"Inside function before mod: aList = {str(aList):s}; id(aList) = {id(aList):d}\")\n",
    "    aList[1] = 100\n",
    "    print(\n",
    "        f\"Inside function after mod: aList = {str(aList):s}; id(aList) = {id(aList):d}\")\n",
    "    return\n",
    "\n",
    "\n",
    "L = [2, 4, 6]\n",
    "print(f\"Outside function before call: L = {str(L):s}; id(L) = {id(L):d}\")\n",
    "modifySecond(L)\n",
    "print(f\"Outside function after call: L = {str(L):s}; id(L) = {id(L):d}\")"
   ]
  },
  {
   "cell_type": "markdown",
   "metadata": {},
   "source": [
    "Lots going on here:\n",
    "\n",
    "* I'm making use of Python's [str()](https://docs.python.org/3/library/stdtypes.html#str) function which takes a variable and provides a string representation of it. Very handy when using *f-strings* with lists.\n",
    "* Notice that I use a single `return` at the end of my function, with nothing after it. Using return all by itself means I'm actually returning a special pointer called [None](https://docs.python.org/3/library/constants.html#None). You could leave the `return` statement off all together and it would still work, but it enhances your code's clarity to delineate the end of your function with a solitary `return` statement.\n",
    "* The id of our list never changes. It's the same outside the function as well as inside.\n",
    "* Since Python lists are mutable, any changes we make to the parameter `aList` (inside the function) ***will*** impact the argument `L` (outside the function).\n",
    "\n",
    "That's ***Passing by Reference***. If you pass a mutable variable to a function as an argument, any changes the function makes to the associated parameter <ins>**will**</ins> affect the value of the original argument. We call this ***Pass by Reference***.\n",
    "\n",
    "If all this makes your head hurt, just take a deep breath. Learning and truly internalizing this topic can take a long time, but with practice you'll get it. Python is interesting, because all variables are actually holding Pointers to Objects, but the concepts of ***Pass by Value*** and ***Pass by Reference*** still help us control the behavior of our code. For now, just remember:\n",
    "\n",
    "* Changes to immutable variables passed to functions ***don't*** have an impact outside the function (***Pass by Value***).\n",
    "* Changes to mutable variables passed to functions ***do*** have an impact outside the function (***Pass by Reference***)."
   ]
  },
  {
   "cell_type": "markdown",
   "metadata": {},
   "source": [
    "## Additional Resources\n",
    "\n",
    "[Parameter Passing in Python](https://www.python-course.eu/passing_arguments.php)\n",
    "\n",
    "[All Python Variables are Actually Pointers to Objects](https://medium.com/@abdullah.tech/python-variables-are-pointers-c8b85880f21e)\n",
    "\n",
    "[What is the None keyword in Python?](https://www.educative.io/edpresso/what-is-the-none-keyword-in-python)\n",
    "\n",
    "[Tricky Python II: Parameter Passing for Mutable & Immutable Objects](https://medium.com/@tyastropheus/tricky-python-ii-parameter-passing-for-mutable-immutable-objects-10e968cbda35)"
   ]
  },
  {
   "cell_type": "markdown",
   "metadata": {},
   "source": [
    "<hr>\n",
    "\n",
    "*MIT License*\n",
    "\n",
    "*Copyright 2019-2021 Peter Nardi*\n",
    "\n",
    "*Terms of use:*\n",
    "\n",
    "*Permission is hereby granted, free of charge, to any person obtaining a copy of this software and associated documentation files (the \"Software\"), to deal in the Software without restriction, including without limitation the rights to use, copy, modify, merge, publish, distribute, sublicense, and/or sell copies of the Software, and to permit persons to whom the Software is furnished to do so, subject to the following conditions:*\n",
    "\n",
    "*The above copyright notice and this permission notice shall be included in all copies or substantial portions of the Software.*\n",
    "\n",
    "*THE SOFTWARE IS PROVIDED \"AS IS\", WITHOUT WARRANTY OF ANY KIND, EXPRESS OR IMPLIED, INCLUDING BUT NOT LIMITED TO THE WARRANTIES OF MERCHANTABILITY, FITNESS FOR A PARTICULAR PURPOSE AND NON-INFRINGEMENT. IN NO EVENT SHALL THE AUTHORS OR COPYRIGHT HOLDERS BE LIABLE FOR ANY CLAIM, DAMAGES OR OTHER LIABILITY, WHETHER IN AN ACTION OF CONTRACT, TORT OR OTHERWISE, ARISING FROM, OUT OF OR IN CONNECTION WITH THE SOFTWARE OR THE USE OR OTHER DEALINGS IN THE SOFTWARE.*"
   ]
  }
 ],
 "metadata": {
  "kernelspec": {
   "display_name": "Python 3 (ipykernel)",
   "language": "python",
   "name": "python3"
  },
  "language_info": {
   "codemirror_mode": {
    "name": "ipython",
    "version": 3
   },
   "file_extension": ".py",
   "mimetype": "text/x-python",
   "name": "python",
   "nbconvert_exporter": "python",
   "pygments_lexer": "ipython3",
   "version": "3.8.10"
  }
 },
 "nbformat": 4,
 "nbformat_minor": 4
}
