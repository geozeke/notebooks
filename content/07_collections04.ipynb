{
 "cells": [
  {
   "cell_type": "markdown",
   "metadata": {},
   "source": [
    "# Pass by Value; Pass by Reference\n",
    "\n",
    "This is an important topic in the study of computing. It's tricky to understand\n",
    "at first, but you'll get it with practice. Once you understand this topic (and\n",
    "you will) your programming skills will really take off.\n",
    "\n",
    "In an Object Oriented Programming (OOP) language like Python, an Object\n",
    "contains both the data itself and a set of methods (like functions) that can\n",
    "operate on that data. When an Object is created it is assigned a unique Object\n",
    "id, often referred-to as its memory address or ***Pointer***. An immutable\n",
    "Object can't be changed once it's created; and a mutable Object can be changed\n",
    "once it's created. Here's a list of mutable and immutable data types that we've\n",
    "seen so far:\n",
    "\n",
    "#### Immutable Data Types\n",
    "\n",
    "* String\n",
    "* Int\n",
    "* Bool\n",
    "* Float\n",
    "* Tuple\n",
    "\n",
    "#### Mutable Data Types\n",
    "\n",
    "* List\n",
    "* Dictionary\n",
    "* Set\n",
    "\n",
    "The concept of mutability can be difficult to understand. We've discussed it in\n",
    "previous notebooks, but consider the code below:"
   ]
  },
  {
   "cell_type": "code",
   "execution_count": null,
   "metadata": {},
   "outputs": [],
   "source": [
    "s = \"Go Navy\"\n",
    "print(s)\n",
    "s = \"Beat Army\"\n",
    "print(s)\n"
   ]
  },
  {
   "cell_type": "markdown",
   "metadata": {},
   "source": [
    "Doesn't that make `s` mutable? Saying a variable is immutable means that it\n",
    "can't be changed, but it sure looks like `s` is changing. What's going on?\n",
    "\n",
    "In the code above, we're not changing (mutating) `s`, we're actually throwing\n",
    "away the old Object associated with `s` and creating an entirely new Object for\n",
    "`s`. To illustrate this, remember: ***When an Object is created it is assigned\n",
    "a unique Object id.*** Python provides a built-in function to display an\n",
    "Object's id and we can use it to see how `s` is assigned a new string Object as\n",
    "the code runs:"
   ]
  },
  {
   "cell_type": "code",
   "execution_count": null,
   "metadata": {},
   "outputs": [],
   "source": [
    "s = \"Go Navy\"    # Create a new string Object\n",
    "print(s)\n",
    "print(id(s))\n",
    "s = \"Beat Army\"  # Create a different string Object (throwing the old one away)\n",
    "print(s)\n",
    "print(id(s))\n"
   ]
  },
  {
   "cell_type": "markdown",
   "metadata": {},
   "source": [
    "Run the code above and observe how `s` gets a new Object id when it goes from\n",
    "`Go Navy` to `Beat Army`. The variable `s` is immutable, but we can discard its\n",
    "Object and create a new one. That's different from trying to change an immutable\n",
    "variable. To see this, examine the code below. Since the variable `s` is\n",
    "immutable, the code will crash:"
   ]
  },
  {
   "cell_type": "code",
   "execution_count": null,
   "metadata": {},
   "outputs": [],
   "source": [
    "s = \"Go Navy\"\n",
    "print(\"The first letter is\", s[0])\n",
    "s[0] = 'B'\n",
    "print(\"The first letter is\", s[0])\n"
   ]
  },
  {
   "cell_type": "markdown",
   "metadata": {},
   "source": [
    "We can *access* individual letters in a string (line 2), but the code crashes\n",
    "at line 3 because we cannot *change* (mutate) individual letters in a string."
   ]
  },
  {
   "cell_type": "markdown",
   "metadata": {},
   "source": [
    "### Passing Variables to Functions\n",
    "\n",
    "Understanding how Python handles Objects is key to understanding the difference\n",
    "between ***Pass by Value*** and ***Pass by Reference***. A simple set of rules\n",
    "emerges:\n",
    "\n",
    "* If you pass an immutable variable to a function as an argument, any changes\n",
    "  the function makes to the associated parameter <ins>**will not**</ins> affect\n",
    "  the value of the original argument. We call this ***Pass by Value***.\n",
    "* If you pass a mutable variable to a function, any changes the function makes\n",
    "  to the associated parameter <ins>**will**</ins> affect the value of the\n",
    "  original argument. We call this ***Pass by Reference***.\n",
    "\n",
    "Programming with those simple rules in mind is enough, and you'll get it right\n",
    "if you understand them. It's okay if you just memorize them for now, but you're\n",
    "more advanced than that. You're becoming a skilled programmer and the sky is\n",
    "the limit. It's been long journey, and the journey will continue throughout\n",
    "your entire life, but as you embark on the next phase you're now ready to hear\n",
    "the unvarnished truth: [***All Python Variables are Actually Pointers to\n",
    "Objects***](https://medium.com/@abdullah.tech/python-variables-are-pointers-c8b85880f21e).\n",
    "\n",
    "Let's start with a simple function that takes an integer and returns double\n",
    "that value:"
   ]
  },
  {
   "cell_type": "code",
   "execution_count": null,
   "metadata": {},
   "outputs": [],
   "source": [
    "def double_it(base):\n",
    "    return 2 * base\n",
    "\n",
    "\n",
    "n = int(input(\"Enter an integer: \"))\n",
    "print(f\"2 x {n:,d} = {double_it(n):,d}\")\n"
   ]
  },
  {
   "cell_type": "markdown",
   "metadata": {},
   "source": [
    "Run the code above and explore how it works. You should be comfortable with the\n",
    "use of *f-strings*.\n",
    "\n",
    "----\n",
    "\n",
    "Now let's use Python's [id()](https://docs.python.org/3/library/functions.html)\n",
    "function to examine the unique id numbers of the variables being used:"
   ]
  },
  {
   "cell_type": "code",
   "execution_count": null,
   "metadata": {},
   "outputs": [],
   "source": [
    "def double_it(x):\n",
    "    print(f\"Inside function: x = {x:,d}; id(x) = {id(x):d}\")\n",
    "    return 2 * x\n",
    "\n",
    "\n",
    "n = int(input(\"Enter an integer: \"))\n",
    "print(f\"Outside function before call: n = {n:,d}; id(n) = {id(n):d}\")\n",
    "print(f\"2 x {n:,d} = {double_it(n):,d}\")\n",
    "print(f\"Outside function after call: n = {n:,d}; id(n) = {id(n):d}\")\n"
   ]
  },
  {
   "cell_type": "markdown",
   "metadata": {},
   "source": [
    "The id of `x` (the function parameter) should be the same as the id of `n` (the\n",
    "argument in the function call). That's because Python is passing `n` as a\n",
    "Pointer for use in the function `double_it()`. Now let's examine what happens if\n",
    "we change the value of the `x` parameter inside the function:"
   ]
  },
  {
   "cell_type": "code",
   "execution_count": null,
   "metadata": {},
   "outputs": [],
   "source": [
    "def double_it(x):\n",
    "    print(f\"Inside function before mod: x = {x:,d}; id(x) = {id(x):d}\")\n",
    "    x *= 2\n",
    "    print(f\"Inside function after mod: x = {x:,d}; id(x) = {id(x):d}\")\n",
    "    return x\n",
    "\n",
    "\n",
    "n = int(input(\"Enter an integer: \"))\n",
    "print(f\"Outside function before call: n = {n:,d}; id(n) = {id(n):d}\")\n",
    "print(f\"2 x {n:,d} = {double_it(n):,d}\")\n",
    "print(f\"Outside function after call: n = {n:,d}; id(n) = {id(n):d}\")\n"
   ]
  },
  {
   "cell_type": "markdown",
   "metadata": {},
   "source": [
    "Run the code. Notice that the parameter `x` starts with the same id as the\n",
    "argument `n`. It then gets a new id inside the function, however the id of `n`\n",
    "never changes. Since the argument `n` is an immutable type (integer) any\n",
    "changes to `x` are local in scope to `double_it()` and have no impact on the\n",
    "value of `n`. We we would call this situation ***Pass by Value***.\n",
    "\n",
    "### Passing by Reference\n",
    "\n",
    "So, if you pass an immutable variable to a function as an argument, any changes\n",
    "the function makes to the associated parameter <ins>**will not**</ins> affect\n",
    "the value of the original argument. We call this ***Pass by Value***. Now let's\n",
    "take a look at how it works using a mutable variable type. We'll tweak the code\n",
    "to take a Python list and double the second item in the list:"
   ]
  },
  {
   "cell_type": "code",
   "execution_count": null,
   "metadata": {},
   "outputs": [],
   "source": [
    "def modify_second(a_list):\n",
    "    print(f\"In, pre-mod: a_list={str(a_list):s}; id(a_list)={id(a_list):d}\")\n",
    "    a_list[1] = 100\n",
    "    print(f\"In, post-mod: a_list={str(a_list):s}; id(a_list)={id(a_list):d}\")\n",
    "    return\n",
    "\n",
    "\n",
    "L = [2, 4, 6]\n",
    "print(f\"Outside function before call: L = {str(L):s}; id(L) = {id(L):d}\")\n",
    "modify_second(L)\n",
    "print(f\"Outside function after call: L = {str(L):s}; id(L) = {id(L):d}\")\n"
   ]
  },
  {
   "cell_type": "markdown",
   "metadata": {},
   "source": [
    "Lots going on here:\n",
    "\n",
    "* I'm making use of Python's\n",
    "  [str()](https://docs.python.org/3/library/stdtypes.html#str) function which\n",
    "  takes a variable and provides a string representation of it. Very handy when\n",
    "  using *f-strings* with lists.\n",
    "* Notice that I use a single `return` at the end of my function, with nothing\n",
    "  after it. Using return all by itself means I'm actually returning a special\n",
    "  pointer called [None](https://docs.python.org/3/library/constants.html#None).\n",
    "  You could leave the `return` statement off all together and it would still\n",
    "  work, but it enhances your code's clarity to delineate the end of your\n",
    "  function with a solitary `return` statement.\n",
    "* The id of our list never changes. It's the same outside the function as well\n",
    "  as inside.\n",
    "* Since Python lists are mutable, any changes we make to the parameter `a_list`\n",
    "  (inside the function) ***will*** impact the argument `L` (outside the\n",
    "  function).\n",
    "\n",
    "That's ***Passing by Reference***. If you pass a mutable variable to a function\n",
    "as an argument, any changes the function makes to the associated parameter\n",
    "<ins>**will**</ins> affect the value of the original argument. We call this\n",
    "***Pass by Reference***.\n",
    "\n",
    "If all this makes your head hurt, just take a deep breath. Learning and truly\n",
    "internalizing this topic can take a long time, but with practice you'll get it.\n",
    "Python is interesting, because all variables are actually holding Pointers to\n",
    "Objects, but the concepts of ***Pass by Value*** and ***Pass by Reference***\n",
    "still help us control the behavior of our code. For now, just remember:\n",
    "\n",
    "* Changes to immutable variables passed to functions ***don't*** have an impact\n",
    "  outside the function (***Pass by Value***).\n",
    "* Changes to mutable variables passed to functions ***do*** have an impact\n",
    "  outside the function (***Pass by Reference***)."
   ]
  },
  {
   "cell_type": "markdown",
   "metadata": {},
   "source": [
    "## Additional Resources\n",
    "\n",
    "[Parameter Passing in\n",
    "Python](https://www.python-course.eu/passing_arguments.php)\n",
    "\n",
    "[All Python Variables are Actually Pointers to\n",
    "Objects](https://medium.com/@abdullah.tech/python-variables-are-pointers-c8b85880f21e)\n",
    "\n",
    "[What is the None keyword in\n",
    "Python?](https://www.educative.io/edpresso/what-is-the-none-keyword-in-python)\n",
    "\n",
    "[Tricky Python II: Parameter Passing for Mutable & Immutable\n",
    "Objects](https://medium.com/@tyastropheus/tricky-python-ii-parameter-passing-for-mutable-immutable-objects-10e968cbda35)"
   ]
  },
  {
   "cell_type": "markdown",
   "metadata": {},
   "source": [
    "----\n",
    "\n",
    "MIT License\n",
    "\n",
    "Copyright 2019-2022 Peter Nardi\n",
    "\n",
    "Terms of use:\n",
    "\n",
    "Permission is hereby granted, free of charge, to any person obtaining a copy of\n",
    "this software and associated documentation files (the \"Software\"), to deal in\n",
    "the Software without restriction, including without limitation the rights to\n",
    "use, copy, modify, merge, publish, distribute, sublicense, and/or sell copies\n",
    "of the Software, and to permit persons to whom the Software is furnished to do\n",
    "so, subject to the following conditions:\n",
    "\n",
    "The above copyright notice and this permission notice shall be included in all\n",
    "copies or substantial portions of the Software.\n",
    "\n",
    "THE SOFTWARE IS PROVIDED \"AS IS\", WITHOUT WARRANTY OF ANY KIND, EXPRESS OR\n",
    "IMPLIED, INCLUDING BUT NOT LIMITED TO THE WARRANTIES OF MERCHANTABILITY,\n",
    "FITNESS FOR A PARTICULAR PURPOSE AND NON-INFRINGEMENT. IN NO EVENT SHALL THE\n",
    "AUTHORS OR COPYRIGHT HOLDERS BE LIABLE FOR ANY CLAIM, DAMAGES OR OTHER\n",
    "LIABILITY, WHETHER IN AN ACTION OF CONTRACT, TORT OR OTHERWISE, ARISING FROM,\n",
    "OUT OF OR IN CONNECTION WITH THE SOFTWARE OR THE USE OR OTHER DEALINGS IN THE\n",
    "SOFTWARE.\n"
   ]
  }
 ],
 "metadata": {
  "kernelspec": {
   "display_name": "Python 3.10.6 ('.venv': poetry)",
   "language": "python",
   "name": "python3"
  },
  "language_info": {
   "codemirror_mode": {
    "name": "ipython",
    "version": 3
   },
   "file_extension": ".py",
   "mimetype": "text/x-python",
   "name": "python",
   "nbconvert_exporter": "python",
   "pygments_lexer": "ipython3",
   "version": "3.10.6"
  },
  "vscode": {
   "interpreter": {
    "hash": "8a6624f1d65858c9851721b3cef5bb4f0a62e9574006eec404b6e8b42f2ecf27"
   }
  }
 },
 "nbformat": 4,
 "nbformat_minor": 4
}
