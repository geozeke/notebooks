{
 "cells": [
  {
   "cell_type": "markdown",
   "metadata": {},
   "source": [
    "# Welcome to Jupyter Notebooks!\n",
    "\n",
    "Jupyter Notebooks are powerful interactive documents that allow you to run code blocks directly inside them."
   ]
  },
  {
   "cell_type": "markdown",
   "metadata": {},
   "source": [
    "### Quickstart Guide for Jupyter Notebooks:\n",
    "\n",
    "* Jupyter Notebooks are arranged as a collection of \"cells\".  Cells can contain descriptions or code.\n",
    "* A cell is selected if you see a blue bar to its left.\n",
    "* To minimize a cell, click once on its blue bar.  Click the blue bar again to expand.\n",
    "* To edit a code cell, click on it.\n",
    "* To run a code cell, make sure it's selected, then hold the <kbd>control</kbd> key and press the <kbd>enter</kbd> key (<kbd>control</kbd>+<kbd>enter</kbd>).\n",
    "* You can repeatedly run a cell as long as it's highlighted.  Each re-run of a cell will start by clearing its output.\n",
    "* To clear the output in a code cell: Right-click it; select **Clear Outputs**.\n",
    "* To clear the output for all code cells in a notebook, right-click on the window and select **Clear All Outputs**"
   ]
  },
  {
   "cell_type": "markdown",
   "metadata": {},
   "source": [
    "<br clear=\"all\" />\n",
    "<img src=\"../images/00check.png\" align=\"left\" />\n",
    "<br clear=\"all\" />\n",
    "\n",
    "Throughout these notebooks you'll occasionally see a green check mark like the one shown above.  These are knowledge checkpoints intended to test your skills and understanding of the material.  They usually involve asking a question before having you run a snippet of code to check your answer.\n",
    "<hr>"
   ]
  },
  {
   "cell_type": "markdown",
   "metadata": {},
   "source": [
    "### Code Examples\n",
    "Here are some examples of executable Python3 code blocks that you'll see in Jupyter Notebooks."
   ]
  },
  {
   "cell_type": "markdown",
   "metadata": {},
   "source": [
    "- To run a code cell, make sure it's selected, then hold the <kbd>control</kbd> key and press <kbd>enter</kbd> (<kbd>control</kbd>+<kbd>enter</kbd>).\n",
    "- To re-run the code, press <kbd>control</kbd>+<kbd>enter</kbd> again.\n",
    "- To clear the output, right-click on the cell and select `Clear Outputs`"
   ]
  },
  {
   "cell_type": "code",
   "execution_count": null,
   "metadata": {},
   "outputs": [],
   "source": [
    "print(\"This is a Python Program\")"
   ]
  },
  {
   "cell_type": "markdown",
   "metadata": {},
   "source": [
    "Here's another example that demonstrates simple addition.  Try running it."
   ]
  },
  {
   "cell_type": "code",
   "execution_count": null,
   "metadata": {},
   "outputs": [],
   "source": [
    "print(10 + 25)"
   ]
  },
  {
   "cell_type": "markdown",
   "metadata": {},
   "source": [
    "### If Code Cells Won't Clear or Run\n",
    "\n",
    "Occasionally jupyter lab will appear to \"hang\" when running a code cell. This is often because some code in the background is waiting for input or is dealing with an error condition. Take the example below, which prints `Hello`, then goes into a loop that runs forever (what's called an [infinite loop](https://en.wikipedia.org/wiki/Infinite_loop)). As a result, `Goodbye` never prints to the screen and jupyter lab appears to be unresponsive; no other code cells will run.\n",
    "\n",
    "Try running the code cell below. You should see `Hello` print to the screen, then nothing. Clear the cell and try to run it again. Notice that nothing happens. You'll know that the cell is unresponsive because you'll see an asterisk next to the top of the cell. If that happens, just press the *Interrupt the kernel* button (small square at the top of the window) to reset it."
   ]
  },
  {
   "cell_type": "code",
   "execution_count": null,
   "metadata": {},
   "outputs": [],
   "source": [
    "print(\"Hello\")\n",
    "while(1):\n",
    "    x = 1\n",
    "print(\"Goodbye\")"
   ]
  },
  {
   "cell_type": "markdown",
   "metadata": {},
   "source": [
    "<br clear=\"all\" />\n",
    "<img src=\"../images/00restartkernel.png\" align=\"left\" />\n",
    "<br clear=\"all\" />"
   ]
  },
  {
   "cell_type": "markdown",
   "metadata": {},
   "source": [
    "### If You Accidentally Double-click a Text Cell\n",
    "\n",
    "Don't worry :-)\n",
    "\n",
    "If you double-click a text cell you put it in *edit mode*. Text cells are written in a language called [markdown](https://www.markdownguide.org/getting-started/) and double-clicking on one allows you to edit the underlying content. If you accidentally double-click on one, just \"run\" the cell like you would a code cell (using <kbd>control</kbd>+<kbd>enter</kbd>). This will put it back into *display mode*. Go ahead and try it. Double-click this cell to enter *edit mode*, then use <kbd>control</kbd>+<kbd>enter</kbd> to put it back into *display mode*.\n",
    "\n",
    "You shouldn't have a need to manipulate text cells in these notebooks, but if you put one in *edit mode* by mistake, now you know how to put it back into *display mode*."
   ]
  },
  {
   "cell_type": "markdown",
   "metadata": {},
   "source": [
    "### Closing Jupyter Lab\n",
    "\n",
    "When you're done using jupyter lab, the easiest way to exit is to select \"Shutdown\" from the File menu in the browser.  You can then close the browser, saving any changes to your notebooks if desired.\n",
    "\n",
    "<br clear=\"all\" />\n",
    "<img src=\"../images/00shutdown.png\" align=\"left\" />\n",
    "<br clear=\"all\" />"
   ]
  },
  {
   "cell_type": "markdown",
   "metadata": {},
   "source": [
    "## Additional Resources\n",
    "\n",
    "There is so much more to Jupyter Notebooks than what's listed above, but it will get you started.  Trying Googling `Jupyter Notebooks`, or check out some of these resources:\n",
    "\n",
    "*NOTE: Jupyter Lab is the next evolution of the Jupyter infrastructure.  The basic program (jupyter notebook) started it all.*\n",
    "\n",
    "[Getting Started With Jupyter Notebook for Python](https://medium.com/codingthesmartway-com-blog/getting-started-with-jupyter-notebook-for-python-4e7082bd5d46)\n",
    "\n",
    "[Jupyter Notebook for Beginners: A Tutorial](https://www.dataquest.io/blog/jupyter-notebook-tutorial/)\n",
    "\n",
    "[Jupyter Notebook Tutorial: Introduction, Setup, and Walkthrough](https://www.youtube.com/watch?v=HW29067qVWk) *YouTube Video*"
   ]
  },
  {
   "cell_type": "markdown",
   "metadata": {},
   "source": [
    "<hr>\n",
    "\n",
    "*MIT License*\n",
    "\n",
    "*Copyright 2019-2021 Peter Nardi*\n",
    "\n",
    "*Terms of use:*\n",
    "\n",
    "*Permission is hereby granted, free of charge, to any person obtaining a copy of this software and associated documentation files (the \"Software\"), to deal in the Software without restriction, including without limitation the rights to use, copy, modify, merge, publish, distribute, sublicense, and/or sell copies of the Software, and to permit persons to whom the Software is furnished to do so, subject to the following conditions:*\n",
    "\n",
    "*The above copyright notice and this permission notice shall be included in all copies or substantial portions of the Software.*\n",
    "\n",
    "*THE SOFTWARE IS PROVIDED \"AS IS\", WITHOUT WARRANTY OF ANY KIND, EXPRESS OR IMPLIED, INCLUDING BUT NOT LIMITED TO THE WARRANTIES OF MERCHANTABILITY, FITNESS FOR A PARTICULAR PURPOSE AND NON-INFRINGEMENT. IN NO EVENT SHALL THE AUTHORS OR COPYRIGHT HOLDERS BE LIABLE FOR ANY CLAIM, DAMAGES OR OTHER LIABILITY, WHETHER IN AN ACTION OF CONTRACT, TORT OR OTHERWISE, ARISING FROM, OUT OF OR IN CONNECTION WITH THE SOFTWARE OR THE USE OR OTHER DEALINGS IN THE SOFTWARE.*"
   ]
  }
 ],
 "metadata": {
  "kernelspec": {
   "display_name": "Python 3 (ipykernel)",
   "language": "python",
   "name": "python3"
  },
  "language_info": {
   "codemirror_mode": {
    "name": "ipython",
    "version": 3
   },
   "file_extension": ".py",
   "mimetype": "text/x-python",
   "name": "python",
   "nbconvert_exporter": "python",
   "pygments_lexer": "ipython3",
   "version": "3.8.10"
  }
 },
 "nbformat": 4,
 "nbformat_minor": 4
}
