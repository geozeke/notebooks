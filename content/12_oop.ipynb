{
 "cells": [
  {
   "cell_type": "markdown",
   "metadata": {},
   "source": [
    "# User Defined Classes\n",
    "\n",
    "\n",
    "Classes are convenient wrappers that allow us to gather related data elements into one location.  Classes provide two important things:\n",
    "\n",
    "1. A group of related properties (or data fields) that we can *set* or *get*.\n",
    "2. A collection of methods (similar to functions) that perform useful operations on the properties.\n",
    "\n",
    "Objects are instances of a class. Strings and Lists are actually classes and `sort()` is one of the methods of the List class.  For example:"
   ]
  },
  {
   "cell_type": "code",
   "execution_count": null,
   "metadata": {},
   "outputs": [],
   "source": [
    "L = [3, 2, 1]  # L (the object) is an instance of the List class\n",
    "print(L)\n",
    "L.sort()       # Invoking the sort() method on object L\n",
    "print(L)"
   ]
  },
  {
   "cell_type": "markdown",
   "metadata": {},
   "source": [
    "<hr>\n",
    "\n",
    "Classes are declared using the keyword `class` and the name of the class.  By convention, class names are capitalized.  Here's an example of a simple class:"
   ]
  },
  {
   "cell_type": "code",
   "execution_count": null,
   "metadata": {},
   "outputs": [],
   "source": [
    "class Midshipman:\n",
    "    alpha = 242234\n",
    "    company = 13\n",
    "\n",
    "# --------------------------\n",
    "\n",
    "\n",
    "mid1 = Midshipman()\n",
    "mid2 = Midshipman()\n",
    "\n",
    "print(mid1.alpha, mid1.company)\n",
    "print(mid2.alpha, mid2.company)"
   ]
  },
  {
   "cell_type": "markdown",
   "metadata": {},
   "source": [
    "In the example above, we're accessing the properties of the class directly using \"dot notation\". In lines 10 and 11, we print the `alpha` and `company` properties of the `mid1` and `mid2` objects by using the object name, followed by a dot (\".\"), followed by the name of the property we want to access, e.g. `mid1.alpha`. We'll seen an example later in this notebook where directly accessing properties using dot notation can lead to some problems."
   ]
  },
  {
   "cell_type": "markdown",
   "metadata": {},
   "source": [
    "## So Every Instance of a Class Has the Same Property Values?"
   ]
  },
  {
   "cell_type": "markdown",
   "metadata": {},
   "source": [
    "Classes would have limited utility if every instance of a given class had the same values in its properties. We need a way to initialize new instances of a given class with unique values.  That’s where *initializers* come in (they're also referred-to as *constructors*).  Initializers are class methods and are always named: `__init__` (that's double underscore, followed by *init*, followed by double underscore -- Python Jedi call these double underscore methods \"*Dunder Methods*\"). Here's an example of a class with an initializer.  Run the code below and ensure you can describe what's going on."
   ]
  },
  {
   "cell_type": "code",
   "execution_count": null,
   "metadata": {},
   "outputs": [],
   "source": [
    "class Midshipman:\n",
    "\n",
    "    def __init__(self, alpha, company):\n",
    "        self.alpha = alpha\n",
    "        self.company = company\n",
    "\n",
    "# --------------------------\n",
    "\n",
    "\n",
    "mid1 = Midshipman(241234, 13)\n",
    "mid2 = Midshipman(249999, 8)\n",
    "\n",
    "print(mid1.alpha, mid1.company)\n",
    "print(mid2.alpha, mid2.company)"
   ]
  },
  {
   "cell_type": "markdown",
   "metadata": {},
   "source": [
    "## What is `self`?"
   ]
  },
  {
   "cell_type": "markdown",
   "metadata": {},
   "source": [
    "The name `self` has special meaning in Python (and many other object oriented languages). The first argument of every class method is always a reference (memory pointer) to the instance of the class that's currently being worked on. By convention, this argument is always named `self`.  You don’t need to pass `self` to a class method when you invoke it, but **you do** need to include it in any method definitions for the class.\n",
    "\n",
    "Initializers often use the same names for parameters and properties, and `self` allows us to tell them apart. Examine the previous code sample again. In the line: `self.alpha = alpha`, The `self.alpha` refers to the `alpha` property of a `Midshipman` class object. The `alpha` after the equal sign refers to the parameter passed to the initializer. With some practice, this syntax will become second nature."
   ]
  },
  {
   "cell_type": "markdown",
   "metadata": {},
   "source": [
    "## Adding Some More Methods\n",
    "\n",
    "Since the properties of a class (also called *fields*) are contained within each instance of the class, any class method can access them.\n",
    "\n",
    "Run the sample code below.  Try changing the logic in the `regiment()` method and re-running the code to see what happens."
   ]
  },
  {
   "cell_type": "code",
   "execution_count": null,
   "metadata": {},
   "outputs": [],
   "source": [
    "class Midshipman:\n",
    "\n",
    "    def __init__(self, alpha, company):\n",
    "        self.alpha = alpha\n",
    "        self.company = company\n",
    "\n",
    "    def regiment(self):\n",
    "        if self.company <= 15:\n",
    "            reg = \"First\"\n",
    "        else:\n",
    "            reg = \"Second\"\n",
    "        return reg\n",
    "\n",
    "# --------------------------\n",
    "\n",
    "\n",
    "mid1 = Midshipman(241234, 13)\n",
    "print(mid1.regiment())\n",
    "mid2 = Midshipman(249999, 22)\n",
    "print(mid2.regiment())"
   ]
  },
  {
   "cell_type": "markdown",
   "metadata": {},
   "source": [
    "## Class Methods Can Also Take Arguments\n",
    "\n",
    "Run the sample code below.  Ensure you can follow the logic flow and explain what's happening."
   ]
  },
  {
   "cell_type": "code",
   "execution_count": null,
   "metadata": {},
   "outputs": [],
   "source": [
    "class Midshipman:\n",
    "\n",
    "    def __init__(self, alpha, company, prtScore):\n",
    "        self.alpha = alpha\n",
    "        self.company = company\n",
    "        self.prtScore = prtScore\n",
    "\n",
    "    def prtBonus(self, additionalPoints):\n",
    "        self.prtScore += additionalPoints\n",
    "\n",
    "# --------------------------\n",
    "\n",
    "\n",
    "mid1 = Midshipman(241234, 13, 81)\n",
    "print(mid1.prtScore)\n",
    "mid1.prtBonus(7)\n",
    "print(mid1.prtScore)"
   ]
  },
  {
   "cell_type": "markdown",
   "metadata": {},
   "source": [
    "## Managing Private Properties Using Getters and Setters\n",
    "Earlier we noted that dot notation (accessing object properties directly) can sometimes lead to problems. In some instances you'll want to write classes that strictly control how properties are set and returned.  You will make these properties *private* so that only class methods can manipulate them.\n",
    "\n",
    "Let's examine the example below of a class that calculates the area of a circle.  When you run the code, what happens?"
   ]
  },
  {
   "cell_type": "code",
   "execution_count": null,
   "metadata": {},
   "outputs": [],
   "source": [
    "import math\n",
    "\n",
    "\n",
    "class Circle:\n",
    "\n",
    "    def __init__(self, radius):\n",
    "        self.radius = radius\n",
    "\n",
    "    def area(self):\n",
    "        return math.pi * self.radius**2\n",
    "\n",
    "# --------------------------\n",
    "\n",
    "\n",
    "c1 = Circle(5)\n",
    "print(c1.area())"
   ]
  },
  {
   "cell_type": "markdown",
   "metadata": {},
   "source": [
    "Pretty straightforward, right?  It calculates and prints the area of a circle with radius 5.\n",
    "\n",
    "Now change line 13 above to read: `c1 = Circle(-1)` and re-run the code.  It doesn't crash, but is the answer correct?  Is -1 a valid value for the radius of a circle?  What if you changed line 13 to read: `c1 = Circle(\"NAVY\")` and re-run the code again?  What happens now?\n",
    "\n",
    "Making properties private and controlling access to them though *getter* and *setter* methods allows you (the programmer) to perform data validation and establish default values for properties when invalid entries are received.  To designate a property as private, precede its name with two underscore characters (`__`).  Examine and run the updated code for our circle class below.  Ensure you can explain everything that's happening."
   ]
  },
  {
   "cell_type": "code",
   "execution_count": null,
   "metadata": {},
   "outputs": [],
   "source": [
    "import math\n",
    "\n",
    "\n",
    "class Circle:\n",
    "\n",
    "    def __init__(self, radius):\n",
    "        self.setRadius(radius)\n",
    "\n",
    "    def __str__(self):\n",
    "        return f\"Circle of radius: {self.__radius}\"\n",
    "\n",
    "    def area(self):\n",
    "        return math.pi * self.__radius**2\n",
    "\n",
    "    def getRadius(self):\n",
    "        return self.__radius\n",
    "\n",
    "    def setRadius(self, radius):\n",
    "        if (type(radius) == int or type(radius) == float) and radius >= 0:\n",
    "            self.__radius = radius\n",
    "        else:\n",
    "            self.__radius = 0\n",
    "\n",
    "# --------------------------\n",
    "\n",
    "\n",
    "c1 = Circle(5)\n",
    "print(c1.getRadius())\n",
    "print(c1.area())\n",
    "c1.setRadius(25)\n",
    "print(c1.getRadius())\n",
    "print(c1.area())\n",
    "c1.setRadius(\"Navy\")\n",
    "print(c1.getRadius())\n",
    "print(c1.area())\n",
    "c1 = Circle(10)\n",
    "print(c1)"
   ]
  },
  {
   "cell_type": "markdown",
   "metadata": {},
   "source": [
    "What you if you tried to access the `__radius` property directly?  Add this line to the bottom of the code above: `print(c1.__radius)`.  What happens when you run the code and why?"
   ]
  },
  {
   "cell_type": "markdown",
   "metadata": {},
   "source": [
    "## Your turn!\n",
    "\n",
    "Below is a code template for a new class called CyberStudent.  Complete the class definitions and write a program to utilize the class in accordance with the directions given.  Test and run your code."
   ]
  },
  {
   "cell_type": "code",
   "execution_count": null,
   "metadata": {},
   "outputs": [],
   "source": [
    "class CyberStudent:\n",
    "\n",
    "    def __init__(self, alpha):\n",
    "        # Initializes a new CyberStudent with alpha, and sets the hwScores\n",
    "        # property to an empty list.\n",
    "        # Returns: Nothing\n",
    "\n",
    "    def addHW(self, score):\n",
    "        # Adds score to the hwScores (list) property.\n",
    "        # Returns: Nothing\n",
    "\n",
    "    def average(self):\n",
    "        # Computes the average of all the scores in the hwScores (list)\n",
    "        # property.\n",
    "        # Returns: <float> hwAverage\n",
    "\n",
    "\n",
    "def main():\n",
    "    pass\n",
    "\n",
    "    # Write a program here that creates a new CyberStudent object. Add three\n",
    "    # homework grades of your choosing (integers) to the student's record.\n",
    "    # Note: You should have designed average to compute the average for any\n",
    "    # length hwScores list, not just a list of length three. Have your program\n",
    "    # print the average of the student's three homework grades using the\n",
    "    # average method for the CyberStudent class.\n",
    "\n",
    "# --------------------------\n",
    "\n",
    "\n",
    "if __name__ == '__main__':\n",
    "    main()"
   ]
  },
  {
   "cell_type": "markdown",
   "metadata": {},
   "source": [
    "## A Final Note About Managing Properties\n",
    "\n",
    "Using setters and getters is a perfectly appropriate way to manage properties in Python. It's considered the \"classic\" way to do it, and is usually pretty straightforward and easier to understand when you're first learning about this topic.\n",
    "\n",
    "As the Python language has matured, a new technique to manage class properties has evolved using what is known as the ***@property decorator***. We won't get into using decorators in this course, but you can explore them by searching for \"Python Decorators\"."
   ]
  },
  {
   "cell_type": "markdown",
   "metadata": {},
   "source": [
    "## Additional Resources\n",
    "\n",
    "[Python Classes (W3 Schools)](https://www.w3schools.com/python/python_classes.asp)\n",
    "\n",
    "[Python Classes (python documentation)](https://docs.python.org/3/tutorial/classes.html)\n",
    "\n",
    "[Classes and Objects I - Hacker Earth](https://www.hackerearth.com/practice/python/object-oriented-programming/classes-and-objects-i/tutorial/)"
   ]
  },
  {
   "cell_type": "markdown",
   "metadata": {},
   "source": [
    "<hr>\n",
    "\n",
    "*MIT License*\n",
    "\n",
    "*Copyright 2019-2021 Peter Nardi*\n",
    "\n",
    "*Terms of use:*\n",
    "\n",
    "*Permission is hereby granted, free of charge, to any person obtaining a copy of this software and associated documentation files (the \"Software\"), to deal in the Software without restriction, including without limitation the rights to use, copy, modify, merge, publish, distribute, sublicense, and/or sell copies of the Software, and to permit persons to whom the Software is furnished to do so, subject to the following conditions:*\n",
    "\n",
    "*The above copyright notice and this permission notice shall be included in all copies or substantial portions of the Software.*\n",
    "\n",
    "*THE SOFTWARE IS PROVIDED \"AS IS\", WITHOUT WARRANTY OF ANY KIND, EXPRESS OR IMPLIED, INCLUDING BUT NOT LIMITED TO THE WARRANTIES OF MERCHANTABILITY, FITNESS FOR A PARTICULAR PURPOSE AND NON-INFRINGEMENT. IN NO EVENT SHALL THE AUTHORS OR COPYRIGHT HOLDERS BE LIABLE FOR ANY CLAIM, DAMAGES OR OTHER LIABILITY, WHETHER IN AN ACTION OF CONTRACT, TORT OR OTHERWISE, ARISING FROM, OUT OF OR IN CONNECTION WITH THE SOFTWARE OR THE USE OR OTHER DEALINGS IN THE SOFTWARE.*"
   ]
  }
 ],
 "metadata": {
  "kernelspec": {
   "display_name": "Python 3 (ipykernel)",
   "language": "python",
   "name": "python3"
  },
  "language_info": {
   "codemirror_mode": {
    "name": "ipython",
    "version": 3
   },
   "file_extension": ".py",
   "mimetype": "text/x-python",
   "name": "python",
   "nbconvert_exporter": "python",
   "pygments_lexer": "ipython3",
   "version": "3.8.10"
  }
 },
 "nbformat": 4,
 "nbformat_minor": 4
}
