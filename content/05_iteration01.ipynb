{
 "cells": [
  {
   "cell_type": "markdown",
   "metadata": {},
   "source": [
    "# More Ways to Loop\n",
    "\n",
    "### `while` Loops\n",
    "\n",
    "In addition to\n",
    "[for()](https://docs.python.org/3/tutorial/controlflow.html#tut-for) loops,\n",
    "which iterate over an arithmetic progression, Python offers a way to iterate\n",
    "indefinitely as long as a particular Boolean expression remains true. It's\n",
    "called a\n",
    "[while()](https://docs.python.org/3/reference/compound_stmts.html#while) loop.\n",
    "Here's an example:"
   ]
  },
  {
   "cell_type": "code",
   "execution_count": null,
   "metadata": {},
   "outputs": [],
   "source": [
    "n = 10\n",
    "while n > 0:\n",
    "    print(n)\n",
    "    n = n - 1\n",
    "print(\"The program is complete\")\n"
   ]
  },
  {
   "cell_type": "markdown",
   "metadata": {},
   "source": [
    "----\n",
    "\n",
    "If your reaction is: \"*Why is that needed? I could accomplish the same thing\n",
    "with a `for()` loop.*\" then excellent! You're becoming a coder! Try this next\n",
    "example to appreciate when a\n",
    "[while()](https://docs.python.org/3/reference/compound_stmts.html#while) loop\n",
    "becomes useful:"
   ]
  },
  {
   "cell_type": "code",
   "execution_count": null,
   "metadata": {},
   "outputs": [],
   "source": [
    "n = 1\n",
    "while n > 0:\n",
    "    n = int(input(\"Enter an integer greater than 0:\"))\n",
    "    print(\"You entered:\", n)\n",
    "print(\"The program is complete.\")\n"
   ]
  },
  {
   "cell_type": "markdown",
   "metadata": {},
   "source": [
    "*Note: It's easy to crash the program above by entering something other than an\n",
    "integer. Telling you it's easy to crash a program should immediately make you\n",
    "want to try to do it :-)*"
   ]
  },
  {
   "cell_type": "markdown",
   "metadata": {},
   "source": [
    "### Nested Loops\n",
    "\n",
    "It's possible to have loops inside of loops, as long as you carefully manage\n",
    "the indentation of the code. Let's write a program that prints out the times\n",
    "table (starting with `1 x 1` and going up to `10 x 10`. We could start like\n",
    "this:"
   ]
  },
  {
   "cell_type": "code",
   "execution_count": null,
   "metadata": {},
   "outputs": [],
   "source": [
    "for i in range(1, 11):\n",
    "    for j in range(1, 11):\n",
    "        print(i * j)\n"
   ]
  },
  {
   "cell_type": "markdown",
   "metadata": {},
   "source": [
    "Key points:\n",
    "\n",
    "* We often refer to code written like this as having an *inner* loop and an\n",
    "  *outer* loop.\n",
    "* The *inner* loop is this one: `for j in range(1,11):`\n",
    "* The *outer* loop is this one: `for i in range(1,11):`\n",
    "* Notice that the\n",
    "  [range()](https://docs.python.org/3/tutorial/controlflow.html#tut-range)\n",
    "  function goes from `1` (the starting point) to `10` (one less than the end\n",
    "  point)\n",
    "* The indentation is very important!\n",
    "\n",
    "---\n",
    "\n",
    "It's a decent start, but it doesn't look very much like a times \"table\". To do\n",
    "that, we need to print out an entire row within the inner loop, then print a\n",
    "new line within the outer loop. Explore this code:"
   ]
  },
  {
   "cell_type": "code",
   "execution_count": null,
   "metadata": {},
   "outputs": [],
   "source": [
    "for i in range(1, 11):\n",
    "    for j in range(1, 11):\n",
    "        print(i * j, end=' ')\n",
    "    print()\n"
   ]
  },
  {
   "cell_type": "markdown",
   "metadata": {},
   "source": [
    "I'm making use of an important feature in Python called *optional arguments*.\n",
    "We'll explore optional arguments later in the course, but for now it's enough\n",
    "to say that when you call a function (like\n",
    "[print()](https://docs.python.org/3/library/functions.html)), there are things\n",
    "you can pass to the function that are optional. In the case of\n",
    "[print()](https://docs.python.org/3/library/functions.html), the argument `end\n",
    "= ` is optional. If you don't use it (like all the examples of\n",
    "[print()](https://docs.python.org/3/library/functions.html) we've seen up to\n",
    "this point), then Python puts a newline after what gets printed. If you specify\n",
    "something using `end = `, then what you specify will be printed (a space in\n",
    "this case) instead of a newline.\n",
    "\n",
    "---\n",
    "\n",
    "To really make it pop, let's use Python's\n",
    "[f-strings](https://docs.python.org/3/tutorial/inputoutput.html) (which we\n",
    "discussed in notebook [02_operations04.ipynb](./02_operations04.ipynb))."
   ]
  },
  {
   "cell_type": "code",
   "execution_count": null,
   "metadata": {},
   "outputs": [],
   "source": [
    "for i in range(1, 11):\n",
    "    for j in range(1, 11):\n",
    "        print(f\"{i*j:3d}\", end=' ')\n",
    "    print()\n"
   ]
  },
  {
   "cell_type": "markdown",
   "metadata": {},
   "source": [
    "### `break`\n",
    "\n",
    "The [break and\n",
    "continue](https://docs.python.org/3/tutorial/controlflow.html#tut-break)\n",
    "statements are two ways to change the behavior of a loop while its executing.\n",
    "Here's what the Python documentation has to say:\n",
    "\n",
    "* *The break statement, like in C, breaks out of the innermost enclosing for or\n",
    "  while loop.*\n",
    "* *The continue statement, also borrowed from C, continues with the next\n",
    "  iteration of the loop*\n",
    "\n",
    "Here's a simple example of using\n",
    "[break](https://docs.python.org/3/tutorial/controlflow.html#tut-break). It will\n",
    "try to print every number from `1` to `10`, but will stop early if it\n",
    "encounters the number `5`. ***NOTE: Before you run the code, think about this\n",
    "question: Do you think it will actually print the number `5` or not? Run the\n",
    "code to check your answer.***"
   ]
  },
  {
   "cell_type": "code",
   "execution_count": null,
   "metadata": {},
   "outputs": [],
   "source": [
    "for i in range(1, 11):\n",
    "    if i == 5:\n",
    "        break\n",
    "    print(i)\n"
   ]
  },
  {
   "cell_type": "markdown",
   "metadata": {},
   "source": [
    "----\n",
    "\n",
    "Here's a more complex example that determines if an integer is\n",
    "[prime](https://www.mathsisfun.com/definitions/prime-number.html). It uses a\n",
    "[while()](https://docs.python.org/3/reference/compound_stmts.html#while) loop,\n",
    "an [if](https://docs.python.org/3/tutorial/controlflow.html#if-statements)\n",
    "statement, and a\n",
    "[break](https://docs.python.org/3/tutorial/controlflow.html#tut-break)\n",
    "statement. There are comments in the code to aid with clarity, which gives you\n",
    "an idea of how to express your thoughts in code comments. Note: I'm using the\n",
    "[modulo\n",
    "operator](https://docs.python.org/3.3/reference/expressions.html#binary) (`%`)\n",
    "to see if one number divides evenly into another number."
   ]
  },
  {
   "cell_type": "code",
   "execution_count": null,
   "metadata": {},
   "outputs": [],
   "source": [
    "# We'll skip the number 2, since it's the only even prime number.\n",
    "\n",
    "# Check every integer from 2, up to the candidate number. If none of them\n",
    "# divides evenly into the candidate, then its only factors are one and itself;\n",
    "# therefore it's prime. If we find a number that divides evenly into the\n",
    "# candidate, then we can quit the loop right away, because we know the\n",
    "# candidate is not prime.\n",
    "\n",
    "n = int(input(\"Enter an integer greater than 2: \"))\n",
    "divisor = 2\n",
    "\n",
    "while divisor < n:\n",
    "    if n % divisor == 0:\n",
    "        break\n",
    "    divisor += 1\n",
    "\n",
    "# if divisor == n, it means we didn't break out of the loop\n",
    "if divisor == n:\n",
    "    print(n, \"is prime.\")\n",
    "\n",
    "# if divisor is not equal to n, it means we found a divisor that goes evenly\n",
    "# into n, so n is not prime\n",
    "else:\n",
    "    print(n, \"is not prime\")\n"
   ]
  },
  {
   "cell_type": "markdown",
   "metadata": {},
   "source": [
    "*Line 14 is an example of an [augmented assignment\n",
    "statement](https://docs.python.org/3/reference/simple_stmts.html#augassign); a\n",
    "shorthand way of writing: `divisor = divisor + 1`.*\n",
    "\n",
    "Prime numbers are a critical part of modern cryptography. It's quite easy to\n",
    "multiply two large prime numbers together (say, `p1` and `p2`) to get a\n",
    "composite number we'll call `C`. However, for really large numbers (think\n",
    "thousands of digits) it's super-hard to start with `C` and figure out the\n",
    "original `p1` and `p2`.\n",
    "\n",
    "Our little prime calculator works pretty well, and it's relatively easy to\n",
    "follow, but it's very inefficient. It can tell you a number is **not** prime\n",
    "pretty quickly, but for large numbers it can take a seriously long time to tell\n",
    "you the number is prime. For example, this modest 10-digit prime number takes a\n",
    "couple of minutes to produce a result: `1000000349`.\n",
    "\n",
    "We can make our calculator much more efficient in a few ways:\n",
    "\n",
    "* By only examining divisors up to and including the square root of the\n",
    "  candidate, rather than going all the way to the candidate itself. If there's\n",
    "  a divisor greater than `sqrt(n)` that goes evenly into `n`, then the result\n",
    "  of `n` divided by that divisor would have been discovered somewhere less than\n",
    "  or equal to `sqrt(n)`. To use Python's\n",
    "  [sqrt()](https://docs.python.org/3/library/math.html#math.sqrt) function,\n",
    "  we'll need to import the\n",
    "  [math](https://docs.python.org/3/library/math.html?highlight=sqrt#module-math)\n",
    "  module.\n",
    "\n",
    "* We can start by checking if the candidate is an even number (`n % 2 == 0`).\n",
    "  If so, we know right away that it can't be prime.\n",
    "\n",
    "* Once we rule out `n` being an even number, we don't need to bother checking\n",
    "  any even divisors. If a number doesn't divide evenly by 2, then it won't\n",
    "  divide evenly by a multiple of 2 (4, 6, 8, etc.).\n",
    "\n",
    "\n",
    "Using these techniques our new program is shown below. It makes use of some\n",
    "very interesting nested control structures. Try it with our original 10-digit\n",
    "prime (`1000000349`). Then try this 15-digit prime: `939147656661311`. Not bad\n",
    "for a few lines of Python :-)"
   ]
  },
  {
   "cell_type": "code",
   "execution_count": null,
   "metadata": {},
   "outputs": [],
   "source": [
    "import math\n",
    "\n",
    "n = int(input(\"Enter an integer greater than 2: \"))\n",
    "\n",
    "if n % 2 == 0:\n",
    "    print(n, \"is not prime\")\n",
    "\n",
    "else:\n",
    "    divisor = 3\n",
    "    while divisor <= math.sqrt(n):\n",
    "        if n % divisor == 0:\n",
    "            break\n",
    "        divisor += 2\n",
    "\n",
    "    if divisor > math.sqrt(n):\n",
    "        print(n, \"is prime.\")\n",
    "    else:\n",
    "        print(n, \"is not prime\")\n"
   ]
  },
  {
   "cell_type": "markdown",
   "metadata": {},
   "source": [
    "*NOTE: Even with the improvements to our prime calculator, it is still quite\n",
    "unsuitable for working with large integers -- think tens, hundreds or thousands\n",
    "of digits. While factoring large integers remains difficult, there are better\n",
    "ways to do it. To explore more exotic factorization algorithms, [start\n",
    "here](https://en.wikipedia.org/wiki/Integer_factorization).*"
   ]
  },
  {
   "cell_type": "markdown",
   "metadata": {},
   "source": [
    "### `continue`\n",
    "\n",
    "The [continue](https://docs.python.org/3/tutorial/controlflow.html#tut-break)\n",
    "statement allows you to skip an iteration cycle of a loop and move on to the\n",
    "next one. Here's a simple example:"
   ]
  },
  {
   "cell_type": "code",
   "execution_count": null,
   "metadata": {},
   "outputs": [],
   "source": [
    "# Print even numbers less than or equal to 10\n",
    "\n",
    "for i in range(1, 11):\n",
    "    if i % 2 != 0:\n",
    "        continue\n",
    "    print(i)\n"
   ]
  },
  {
   "cell_type": "markdown",
   "metadata": {},
   "source": [
    "The code above is quite interesting. It uses\n",
    "[range()](https://docs.python.org/3/library/stdtypes.html#typesseq-range) in a\n",
    "[for()](https://docs.python.org/3/tutorial/controlflow.html#tut-for) loop to\n",
    "iterate over the progression from `1` to `10` and print just the even numbers\n",
    "(*Remember: `range(start,end)` goes from `start` to `end - 1`*). If we\n",
    "encounter an odd number (meaning the remainder of the number divided by `2` is\n",
    "not zero), then we\n",
    "[continue](https://docs.python.org/3/tutorial/controlflow.html#tut-break). That\n",
    "means skipping the [print()](https://docs.python.org/3/library/functions.html)\n",
    "statement in line 6 and going to the next cycle of the loop."
   ]
  },
  {
   "cell_type": "markdown",
   "metadata": {},
   "source": [
    "## Additional Resources\n",
    "\n",
    "[More Control Flow Tools](https://docs.python.org/3/tutorial/controlflow.html)\n",
    "\n",
    "[Python range() function](https://docs.python.org/3/tutorial/controlflow.html#tut-range)"
   ]
  },
  {
   "cell_type": "markdown",
   "metadata": {},
   "source": [
    "----\n",
    "\n",
    "MIT License\n",
    "\n",
    "Copyright 2019-2022 Peter Nardi\n",
    "\n",
    "Terms of use:\n",
    "\n",
    "Permission is hereby granted, free of charge, to any person obtaining a copy\n",
    "of this software and associated documentation files (the \"Software\"), to deal\n",
    "in the Software without restriction, including without limitation the rights to\n",
    "use, copy, modify, merge, publish, distribute, sublicense, and/or sell copies\n",
    "of the Software, and to permit persons to whom the Software is furnished to do\n",
    "so, subject to the following conditions:\n",
    "\n",
    "The above copyright notice and this permission notice shall be included in all\n",
    "copies or substantial portions of the Software.\n",
    "\n",
    "THE SOFTWARE IS PROVIDED \"AS IS\", WITHOUT WARRANTY OF ANY KIND, EXPRESS OR\n",
    "IMPLIED, INCLUDING BUT NOT LIMITED TO THE WARRANTIES OF MERCHANTABILITY,\n",
    "FITNESS FOR A PARTICULAR PURPOSE AND NON-INFRINGEMENT. IN NO EVENT SHALL THE\n",
    "AUTHORS OR COPYRIGHT HOLDERS BE LIABLE FOR ANY CLAIM, DAMAGES OR OTHER\n",
    "LIABILITY, WHETHER IN AN ACTION OF CONTRACT, TORT OR OTHERWISE, ARISING FROM,\n",
    "OUT OF OR IN CONNECTION WITH THE SOFTWARE OR THE USE OR OTHER DEALINGS IN THE\n",
    "SOFTWARE."
   ]
  }
 ],
 "metadata": {
  "kernelspec": {
   "display_name": "Python 3 (ipykernel)",
   "language": "python",
   "name": "python3"
  },
  "language_info": {
   "codemirror_mode": {
    "name": "ipython",
    "version": 3
   },
   "file_extension": ".py",
   "mimetype": "text/x-python",
   "name": "python",
   "nbconvert_exporter": "python",
   "pygments_lexer": "ipython3",
   "version": "3.8.10"
  }
 },
 "nbformat": 4,
 "nbformat_minor": 4
}
