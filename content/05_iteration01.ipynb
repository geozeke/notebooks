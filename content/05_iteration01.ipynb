{
 "cells": [
  {
   "cell_type": "markdown",
   "metadata": {},
   "source": [
    "# More ways to loop\n",
    "\n",
    "### `while` Loops\n",
    "\n",
    "In addition to [for()](https://docs.python.org/3/tutorial/controlflow.html#tut-for) loops, which iterate over an arithmetic progression, Python offers a way to iterate indefinitely as long as a particular Boolen expression remains true. It's called a [while()](https://docs.python.org/3/reference/compound_stmts.html#while) loop. Here's an example:"
   ]
  },
  {
   "cell_type": "code",
   "execution_count": null,
   "metadata": {},
   "outputs": [],
   "source": [
    "n = 10\n",
    "while n > 0:\n",
    "    print(n)\n",
    "    n = n - 1\n",
    "print(\"The program is complete\")"
   ]
  },
  {
   "cell_type": "markdown",
   "metadata": {},
   "source": [
    "<hr>\n",
    "\n",
    "If your reaction is: \"*Why is that needed? I could accomplish the same thing with a `for()` loop.*\" then excellent! You're becoming a coder! Try this next example to appreciate when a [while()](https://docs.python.org/3/reference/compound_stmts.html#while) loop becomes useful:"
   ]
  },
  {
   "cell_type": "code",
   "execution_count": null,
   "metadata": {},
   "outputs": [],
   "source": [
    "n = 1\n",
    "while n > 0:\n",
    "    n = int(input(\"Enter an integer greater than 0:\"))\n",
    "    print(\"You entered:\",n)\n",
    "print(\"The program is complete.\")"
   ]
  },
  {
   "cell_type": "markdown",
   "metadata": {},
   "source": [
    "*Note: It's easy to crash the program above by entering something other than an integer. Telling you it's easy to crash a program should immediately make you want to try to do it :-)*"
   ]
  },
  {
   "cell_type": "markdown",
   "metadata": {},
   "source": [
    "### Nested loops\n",
    "\n",
    "It's possible to have loops inside of loops, as long as you carefully manage the indentation of the code.\n",
    "\n",
    "Let's write a program that prints out the times table (starting with `1 x 1` and going up to `10 x 10`. We could start like this:"
   ]
  },
  {
   "cell_type": "code",
   "execution_count": null,
   "metadata": {},
   "outputs": [],
   "source": [
    "for i in range(1,11):\n",
    "    for j in range(1,11):\n",
    "        print(i * j)"
   ]
  },
  {
   "cell_type": "markdown",
   "metadata": {},
   "source": [
    "Key points:\n",
    "\n",
    "* We often refer to code written like this as having an *inner* loop and an *outer* loop.\n",
    "* The *inner* loop is this one: `for j in range(1,11):`\n",
    "* The *outer* loop is this one: `for i in range(1,11):`\n",
    "* Notice that the [range()](https://docs.python.org/3/tutorial/controlflow.html#tut-range) function goes from `1` (the starting point) to `10` (one less than the end point)\n",
    "* The indentation is very important!\n",
    "\n",
    "<hr>\n",
    "\n",
    "It's a decent start, but it doesn't look very much like a \"table\". To do that, we need to print out an entire row within the inner loop, then print a new line within the outer loop. Explore this code:"
   ]
  },
  {
   "cell_type": "code",
   "execution_count": null,
   "metadata": {},
   "outputs": [],
   "source": [
    "for i in range(1,11):\n",
    "    for j in range(1,11):\n",
    "        print(i * j,end = ' ')\n",
    "    print()"
   ]
  },
  {
   "cell_type": "markdown",
   "metadata": {},
   "source": [
    "I'm making use of an important feature in Python called *optional arguments*. We'll explore optional arguments later in the course, but for now it's enough to say that when you call a function (like [print()](https://docs.python.org/3/library/functions.html)), there are things you can pass to the function that are optional. In the case of [print()](https://docs.python.org/3/library/functions.html), the argument `end = ` is optional. If you don't use it (like all the examples of [print()](https://docs.python.org/3/library/functions.html) we've seen up to this point), then Python puts a newline after what gets printed. If you specify something using `end = `, then what you specify will be printed (a space in this case) instead of a newline.\n",
    "\n",
    "<hr>\n",
    "\n",
    "To really make it pop, let's use Python's [format()](https://docs.python.org/3/library/stdtypes.html#str.format) statement (which we discussed in notebook [03_builtinFunctions01.ipynb](./03_builtinFunctions01.ipynb))."
   ]
  },
  {
   "cell_type": "code",
   "execution_count": null,
   "metadata": {},
   "outputs": [],
   "source": [
    "for i in range(1,11):\n",
    "    for j in range(1,11):\n",
    "        print(\"{0:3d}\".format(i * j),end = ' ')\n",
    "    print()"
   ]
  },
  {
   "cell_type": "markdown",
   "metadata": {},
   "source": [
    "### `break`\n",
    "\n",
    "The [break and continue](https://docs.python.org/3/tutorial/controlflow.html#tut-break) statements are two ways to change the behavior of a loop while its executing. Here's what the Python documentation has to say:\n",
    "\n",
    "* *The break statement, like in C, breaks out of the innermost enclosing for or while loop.*\n",
    "* *The continue statement, also borrowed from C, continues with the next iteration of the loop*\n",
    "\n",
    "Here's a simple example of using [break](https://docs.python.org/3/tutorial/controlflow.html#tut-break). It will try to print every number from `1` to `10`, but will stop early if it encounters the number `5`. ***NOTE: Before you run the code, think about this question: Do you think it will actually print the number `5` or not? Run the code to check your answer.***"
   ]
  },
  {
   "cell_type": "code",
   "execution_count": null,
   "metadata": {},
   "outputs": [],
   "source": [
    "for i in range(1,11):\n",
    "    if i == 5:\n",
    "        break\n",
    "    print(i)"
   ]
  },
  {
   "cell_type": "markdown",
   "metadata": {},
   "source": [
    "<hr>\n",
    "\n",
    "Here's a more complex example that determines if an integer is [prime](https://www.mathsisfun.com/definitions/prime-number.html). It uses a [while()](https://docs.python.org/3/reference/compound_stmts.html#while) loop, an [if](https://docs.python.org/3/tutorial/controlflow.html#if-statements) statement, and a [break](https://docs.python.org/3/tutorial/controlflow.html#tut-break) statement. There are comments in the code to aid with clarity, which gives you an idea of how to express your thoughts in code comments. Note: I'm using the [modulo operator](https://docs.python.org/3.3/reference/expressions.html#binary) (`%`) to see if one number divides evenly into another number."
   ]
  },
  {
   "cell_type": "code",
   "execution_count": null,
   "metadata": {},
   "outputs": [],
   "source": [
    "# We'll skip the number 2, since it's the only even prime number.\n",
    "\n",
    "# Check every integer from 2, up to the candidate number. If none of them divides\n",
    "# evenly into the candidate, then its only factors are one and itself; therefore\n",
    "# it's prime. If we find a number that divides evenly into the candidate, then we\n",
    "# can quit the loop right away, because we know the candidate is not prime.\n",
    "\n",
    "n = int(input(\"Enter an integer greater than 2: \"))\n",
    "divisor = 2\n",
    "\n",
    "while divisor < n:\n",
    "    if n % divisor == 0:\n",
    "        break\n",
    "    divisor += 1\n",
    "\n",
    "# if divisor == n, it means we didn't break out of the loop\n",
    "if divisor == n:\n",
    "    print(n,\"is prime.\")\n",
    "    \n",
    "# if divisor is not equal to n, it means we found a divisor that goes evenly into\n",
    "# n, so n is not prime\n",
    "else:\n",
    "    print(n,\"is not prime\")"
   ]
  },
  {
   "cell_type": "markdown",
   "metadata": {},
   "source": [
    "*Line 14 is an example of an [augmented assignment statement](https://docs.python.org/3/reference/simple_stmts.html#augassign); a shorthand way of writing `divisor = divisor + 1`.*\n",
    "\n",
    "Prime numbers are a critical part of modern cryptography. It's quite easy to multiply two large prime numbers together (say, `p1` and `p2`) to get a composite number we'll call `C`. However, for really large numbers (think thousands of digits) it's super-hard to start with `C` and figure out the original `p1` and `p2`.\n",
    "\n",
    "Our little prime calculator works pretty well, and it's relatively easy to follow, but it's very inefficient. It can tell you a number is **not** prime pretty quickly, but for large numbers it can take a seriously long time to tell you the number is prime. For example, this modest 10-digit prime number takes a couple of minutes to produce a result: `1000000349`.\n",
    "\n",
    "We can make our calculator much more efficient in a few ways:\n",
    "\n",
    "* By only examining divisors up to and including the square root of the candidate, rather than going all the way to the candidate itself. If there's a divisor greater than `sqrt(n)` that goes evenly into `n`, then the result of `n` divided by that divisor would have been discovered somewhere less than or equal to `sqrt(n)`. To use Python's [sqrt()](https://docs.python.org/3/library/math.html#math.sqrt) function, we'll need to import the [math](https://docs.python.org/3/library/math.html?highlight=sqrt#module-math) module.\n",
    "\n",
    "* We can start by checking if the candidate is an even number (`n % 2 == 0`). If so, we know right away that it can't be prime.\n",
    "\n",
    "* Once we rule out `n` being even, we don't need to bother checking any even divisors. If a number doesn't divide evenly by 2, then it won't divide evenly by a multiple of 2 (4, 6, 8, etc.).\n",
    "\n",
    "\n",
    "Using these techniques our new program is shown below. It makes use of some very interesting nested control structures. Try it with our original 10-digit prime (`1000000349`). Then try this 15-digit prime: `939147656661311`. Not bad for a few lines of Python :-)"
   ]
  },
  {
   "cell_type": "code",
   "execution_count": null,
   "metadata": {},
   "outputs": [],
   "source": [
    "import math\n",
    "\n",
    "n = int(input(\"Enter an integer greater than 2: \"))\n",
    "\n",
    "if n % 2 == 0:\n",
    "    print(n,\"is not prime\")\n",
    "    \n",
    "else:\n",
    "    divisor = 3\n",
    "    while divisor <= math.sqrt(n):\n",
    "        if n % divisor == 0:\n",
    "            break\n",
    "        divisor += 2\n",
    "\n",
    "    if divisor > math.sqrt(n):\n",
    "        print(n,\"is prime.\")\n",
    "    else:\n",
    "        print(n,\"is not prime\")"
   ]
  },
  {
   "cell_type": "markdown",
   "metadata": {},
   "source": [
    "### `continue`\n",
    "\n",
    "The [continue](https://docs.python.org/3/tutorial/controlflow.html#tut-break) statement allows you to skip an iteration cycle of a loop and move on to the next one. Here's a simple example:"
   ]
  },
  {
   "cell_type": "code",
   "execution_count": null,
   "metadata": {},
   "outputs": [],
   "source": [
    "# Print even numbers less than or equal to 10\n",
    "\n",
    "for i in range(1,11):\n",
    "    if i % 2 != 0:\n",
    "        continue\n",
    "    print(i)"
   ]
  },
  {
   "cell_type": "markdown",
   "metadata": {},
   "source": [
    "The code above is quite interesting. It uses [range()](https://docs.python.org/3/library/stdtypes.html#typesseq-range) in a [for()](https://docs.python.org/3/tutorial/controlflow.html#tut-for) loop to iterate over the progression from `1` to `10` and print just the even numbers (*Remember: `range(start,end)` goes from `start` to `end - 1`*). If we encounter an odd number (meaning the remainder of the number divided by `2` is not zero), then we [continue](https://docs.python.org/3/tutorial/controlflow.html#tut-break). That means skipping the [print()](https://docs.python.org/3/library/functions.html) statement in line 6 and going to the next cycle of the loop."
   ]
  },
  {
   "cell_type": "markdown",
   "metadata": {},
   "source": [
    "## Additional Resources\n",
    "\n",
    "[More Control Flow Tools](https://docs.python.org/3/tutorial/controlflow.html)\n",
    "\n",
    "[Python range() function](https://docs.python.org/3/tutorial/controlflow.html#tut-range)"
   ]
  },
  {
   "cell_type": "markdown",
   "metadata": {},
   "source": [
    "<hr>\n",
    "\n",
    "*MIT License*\n",
    "\n",
    "*Copyright 2019-2020 Peter Nardi*\n",
    "\n",
    "*Terms of use:*\n",
    "\n",
    "*Permission is hereby granted, free of charge, to any person obtaining a copy of this software and associated documentation files (the \"Software\"), to deal in the Software without restriction, including without limitation the rights to use, copy, modify, merge, publish, distribute, sublicense, and/or sell copies of the Software, and to permit persons to whom the Software is furnished to do so, subject to the following conditions:*\n",
    "\n",
    "*The above copyright notice and this permission notice shall be included in all copies or substantial portions of the Software.*\n",
    "\n",
    "*THE SOFTWARE IS PROVIDED \"AS IS\", WITHOUT WARRANTY OF ANY KIND, EXPRESS OR IMPLIED, INCLUDING BUT NOT LIMITED TO THE WARRANTIES OF MERCHANTABILITY, FITNESS FOR A PARTICULAR PURPOSE AND NON-INFRINGEMENT. IN NO EVENT SHALL THE AUTHORS OR COPYRIGHT HOLDERS BE LIABLE FOR ANY CLAIM, DAMAGES OR OTHER LIABILITY, WHETHER IN AN ACTION OF CONTRACT, TORT OR OTHERWISE, ARISING FROM, OUT OF OR IN CONNECTION WITH THE SOFTWARE OR THE USE OR OTHER DEALINGS IN THE SOFTWARE.*"
   ]
  }
 ],
 "metadata": {
  "kernelspec": {
   "display_name": "Python 3",
   "language": "python",
   "name": "python3"
  },
  "language_info": {
   "codemirror_mode": {
    "name": "ipython",
    "version": 3
   },
   "file_extension": ".py",
   "mimetype": "text/x-python",
   "name": "python",
   "nbconvert_exporter": "python",
   "pygments_lexer": "ipython3",
   "version": "3.8.2"
  }
 },
 "nbformat": 4,
 "nbformat_minor": 4
}
