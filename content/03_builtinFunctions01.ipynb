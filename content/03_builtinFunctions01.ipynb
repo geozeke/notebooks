{
 "cells": [
  {
   "cell_type": "markdown",
   "metadata": {},
   "source": [
    "# Formatting Output in Python"
   ]
  },
  {
   "cell_type": "markdown",
   "metadata": {},
   "source": [
    "So far, we've just used Python's [print()](https://docs.python.org/3/library/functions.html) function to send output the screen. It's simple and it works well, but what if we want to format the output in a particular way?  Consider this example:"
   ]
  },
  {
   "cell_type": "code",
   "execution_count": null,
   "metadata": {},
   "outputs": [],
   "source": [
    "n = 12345\n",
    "print(n)"
   ]
  },
  {
   "cell_type": "markdown",
   "metadata": {},
   "source": [
    "What gets printed when you run the code?  What if we wanted this to be printed instead:\n",
    "\n",
    "`12,345`\n",
    "\n",
    "To answer that question, we first need to understand something called a *format specifier*.\n",
    "\n",
    "A format specifier is a placeholder in Python that says: *Don't actually print the placeholder you see here, but fill it in with something that I'll provide to you later.*  We denote format specifiers in Python strings by using curly braces `{}` and a number indicating the position of the placeholder (always start counting from `0`).  We follow that with the [format()](https://docs.python.org/3/library/stdtypes.html#str.format) method and a comma-separated list of items to fill in the placeholders.\n",
    "\n",
    "Lots of words! Here's an example (run the code):"
   ]
  },
  {
   "cell_type": "code",
   "execution_count": null,
   "metadata": {},
   "outputs": [],
   "source": [
    "print(\"Go {0}! Beat {1}!\".format(\"Navy\",\"Army\"))"
   ]
  },
  {
   "cell_type": "markdown",
   "metadata": {},
   "source": [
    "- What gets printed?\n",
    "- What if you switch the `0` and `1`?\n",
    "- What if you switch `Navy` and `Army` within the [format()](https://docs.python.org/3/library/stdtypes.html#str.format) method?\n",
    "- What if you delete `Army` so the line reads: `print(\"Go {0}! Beat {1}!\".format(\"Navy\"))`\n",
    "\n",
    "To reinforce: format specifiers in Python are positional references that map, one for one, to each item in a comma separated listing of items contained in the [format()](https://docs.python.org/3/library/stdtypes.html#str.format) method.  In Object Oriented Programming terms, [format()](https://docs.python.org/3/library/stdtypes.html#str.format) is a method that operates on string objects.\n",
    "\n",
    "You can add a qualifier to a format specifier to refine how the output is displayed. In the coming examples, we'll see that these qualifiers can be incredibly powerful.  Available qualifiers are shown below:\n",
    "\n",
    "<html>\n",
    "<head>\n",
    "<style>\n",
    "table {\n",
    "  font-family: arial, sans-serif;\n",
    "  border-collapse: collapse;\n",
    "  width: 100%;\n",
    "}\n",
    "\n",
    "td, th {\n",
    "  border: 1px solid #dddddd;\n",
    "  text-align: left;\n",
    "  padding: 8px;\n",
    "}\n",
    "\n",
    "tr:nth-child(even) {\n",
    "  background-color: #dddddd;\n",
    "}\n",
    "</style>\n",
    "</head>\n",
    "<body>\n",
    "\n",
    "<table align=\"left\">\n",
    "  <tr>\n",
    "    <th>Qualifier</th>\n",
    "    <th align=\"left\">Meaning</th>\n",
    "  </tr>\n",
    "  <tr>\n",
    "    <td align=\"center\">s</td>\n",
    "    <td>String</td>\n",
    "  </tr>\n",
    "  <tr>\n",
    "    <td align=\"center\">d</td>\n",
    "    <td>Decimal integer</td>\n",
    "  </tr>\n",
    "  <tr>\n",
    "    <td align=\"center\">c</td>\n",
    "    <td>Corresponding Unicode character</td>\n",
    "  </tr>\n",
    "  <tr>\n",
    "    <td align=\"center\">b</td>\n",
    "    <td>Binary format</td>\n",
    "  </tr>\n",
    "  <tr>\n",
    "    <td align=\"center\">o</td>\n",
    "    <td>Octal format</td>\n",
    "  </tr>\n",
    "  <tr>\n",
    "    <td align=\"center\">x</td>\n",
    "    <td>Hexadecimal format (lower case)</td>\n",
    "  </tr>\n",
    "  <tr>\n",
    "    <td align=\"center\">X</td>\n",
    "    <td>Hexadecimal format (upper case)</td>\n",
    "  </tr>\n",
    "  <tr>\n",
    "    <td align=\"center\">n</td>\n",
    "    <td>Same as 'd'. Except it uses current locale setting for number separator</td>\n",
    "  </tr>\n",
    "  <tr>\n",
    "    <td align=\"center\">e</td>\n",
    "    <td>Exponential notation. (lowercase e)</td>\n",
    "  </tr>\n",
    "  <tr>\n",
    "    <td align=\"center\">E</td>\n",
    "    <td>Exponential notation (uppercase E)</td>\n",
    "  </tr>\n",
    "  <tr>\n",
    "    <td align=\"center\">f</td>\n",
    "    <td>Displays floating point number (Default: 6)</td>\n",
    "  </tr>\n",
    "  <tr>\n",
    "    <td align=\"center\">F</td>\n",
    "    <td>Same as 'f'. Except displays 'inf' as 'INF' and 'nan' as 'NAN'</td>\n",
    "  </tr>\n",
    "  <tr>\n",
    "    <td align=\"center\">%</td>\n",
    "    <td>Percentage. Multiples by 100 and puts % at the end</td>\n",
    "  </tr>\n",
    "  <tr>\n",
    "    <td align=\"center\">&#60;</td>\n",
    "    <td>Left aligned to the remaining space</td>\n",
    "  </tr>\n",
    "  <tr>\n",
    "    <td align=\"center\">&#94;</td>\n",
    "    <td>Center aligned to the remaining space</td>\n",
    "  </tr>\n",
    "  <tr>\n",
    "    <td align=\"center\">&#62;</td>\n",
    "    <td>Right aligned to the remaining space</td>\n",
    "  </tr>\n",
    "  <tr>\n",
    "    <td align=\"center\">&#43;</td>\n",
    "    <td>Force a plus sign on positive numbers</td>\n",
    "  </tr>\n",
    "  <tr>\n",
    "    <td align=\"center\">&#61;</td>\n",
    "    <td>Forces a sign (+) or (-) to the leftmost position, before any padding</td>\n",
    "  </tr>\n",
    "</table>\n",
    "\n",
    "</body>\n",
    "</html>"
   ]
  },
  {
   "cell_type": "markdown",
   "metadata": {},
   "source": [
    "### Examples"
   ]
  },
  {
   "cell_type": "markdown",
   "metadata": {},
   "source": [
    "Let's revisit our Army / Navy example with qualifiers. The original code worked fine, but we could have also written it like this, using the qualifiers for string data:"
   ]
  },
  {
   "cell_type": "code",
   "execution_count": null,
   "metadata": {},
   "outputs": [],
   "source": [
    "print(\"Go {0:s}! Beat {1:s}!\".format(\"Navy\",\"Army\"))"
   ]
  },
  {
   "cell_type": "markdown",
   "metadata": {},
   "source": [
    "<hr>\n",
    "\n",
    "You can switch the order of format specifiers.  Just remember that items in the format listing are ***zero-based indexed***, meaning we always start counting from `0`. For example, if there were two items in a [format()](https://docs.python.org/3/library/stdtypes.html#str.format) statement they would be numbered `0` and `1`."
   ]
  },
  {
   "cell_type": "code",
   "execution_count": null,
   "metadata": {},
   "outputs": [],
   "source": [
    "s1 = \"Navy\"\n",
    "s2 = \"Army\"\n",
    "print(\"Go {0:s}, Beat {1:s}!\".format(s1,s2))\n",
    "print(\"Go {1:s}, Beat {0:s}!\".format(s1,s2))"
   ]
  },
  {
   "cell_type": "markdown",
   "metadata": {},
   "source": [
    "<hr>\n",
    "\n",
    "The code below shows how to align text within a given allocation of characters (25 in this case)."
   ]
  },
  {
   "cell_type": "code",
   "execution_count": null,
   "metadata": {},
   "outputs": [],
   "source": [
    "s = \"Go Navy!\"\n",
    "print(\"{0:<25s}\".format(s)) # Align left\n",
    "print(\"{0:^25s}\".format(s)) # Align middle\n",
    "print(\"{0:>25s}\".format(s)) # Align right"
   ]
  },
  {
   "cell_type": "markdown",
   "metadata": {},
   "source": [
    "<hr>\n",
    "\n",
    "Run the code below as-is. Then change `1:d` to `1:s`.  What happens?"
   ]
  },
  {
   "cell_type": "code",
   "execution_count": null,
   "metadata": {},
   "outputs": [],
   "source": [
    "n1 = 12\n",
    "n2 = n1 * 2\n",
    "print(\"n = {0:d} and 2 * n = {1:d}\".format(n1,n2))"
   ]
  },
  {
   "cell_type": "markdown",
   "metadata": {},
   "source": [
    "<hr>\n",
    "\n",
    "You can even use format specifiers to convert between number bases! Note that even though I'm using one value (`n`), I need to list it twice within the [format()](https://docs.python.org/3/library/stdtypes.html#str.format) method.  For every specifier enclosed in `{}` within a string, you must have a positional partner in the listing within the [format()](https://docs.python.org/3/library/stdtypes.html#str.format) method."
   ]
  },
  {
   "cell_type": "code",
   "execution_count": null,
   "metadata": {},
   "outputs": [],
   "source": [
    "n = 65535\n",
    "print(\"n = {0:d} in decimal and {1:X} in hexadecimal.\".format(n,n))"
   ]
  },
  {
   "cell_type": "markdown",
   "metadata": {},
   "source": [
    "<hr>\n",
    "\n",
    "You can use format specifiers to specify a certain number of decimal places of precision.  If no value is specified for the number of decimal places in a floating point number, the default is six. Note that you can also perform calculations inside the [format()](https://docs.python.org/3/library/stdtypes.html#str.format) method."
   ]
  },
  {
   "cell_type": "code",
   "execution_count": null,
   "metadata": {},
   "outputs": [],
   "source": [
    "n = 27\n",
    "print(\"n = {0:d} and 1/n = {1:f}. The value of 1/n to two places = {2:.2f}\".format(n,1/n,1/n))"
   ]
  },
  {
   "cell_type": "markdown",
   "metadata": {},
   "source": [
    "The print statement above is a little complex, but just follow the numbers. Each format specifier has a positional partner in the [format()](https://docs.python.org/3/library/stdtypes.html#str.format) method.\n",
    "\n",
    "<br clear=\"all\" />\n",
    "<img src=\"../images/03formatSpecifier.png\" align=\"left\" alt=\"formatSpecifier\" width=\"70%\" height=\"70%\" />\n",
    "<br clear=\"all\" />"
   ]
  },
  {
   "cell_type": "markdown",
   "metadata": {},
   "source": [
    "<hr>\n",
    "\n",
    "The example below shows how to display floating point numbers as percentages (with a percent sign `%`) "
   ]
  },
  {
   "cell_type": "code",
   "execution_count": null,
   "metadata": {},
   "outputs": [],
   "source": [
    "half = 1/2\n",
    "print(\"half = {0:%}\".format(half))"
   ]
  },
  {
   "cell_type": "markdown",
   "metadata": {},
   "source": [
    "<hr>\n",
    "\n",
    "Here's how to round percentages (with a percent sign `%`) "
   ]
  },
  {
   "cell_type": "code",
   "execution_count": null,
   "metadata": {},
   "outputs": [],
   "source": [
    "allocation = 2/3\n",
    "print(\"allocation = {0:.2%}\".format(allocation))"
   ]
  },
  {
   "cell_type": "markdown",
   "metadata": {},
   "source": [
    "<hr>\n",
    "\n",
    "You can place a sign on numeric values.  The default for negative numbers is to display the sign."
   ]
  },
  {
   "cell_type": "code",
   "execution_count": null,
   "metadata": {},
   "outputs": [],
   "source": [
    "n1 = 4\n",
    "n2 = -3\n",
    "print(\"n1 = {0:+d}; n2 = {1:+d}\".format(n1,n2))"
   ]
  },
  {
   "cell_type": "markdown",
   "metadata": {},
   "source": [
    "<hr>\n",
    "\n",
    "You can pad with leading zeros.  This can be tricky.  When padding, the number specified indicates the *maximum* total display length, including any signs and / or decimal points.  If the maximum length already exceeds the padding specifier, then no leading zeros are applied. Run the example below and examine the output and the code to understand how padding with zeros works."
   ]
  },
  {
   "cell_type": "code",
   "execution_count": null,
   "metadata": {},
   "outputs": [],
   "source": [
    "n1 = 4.345\n",
    "n2 = -3.223456\n",
    "print(\"n1 = {0:+08.2f}; n2 = {1:04.3f}\".format(n1,n2))"
   ]
  },
  {
   "cell_type": "markdown",
   "metadata": {},
   "source": [
    "<br clear=\"all\" />\n",
    "<img src=\"../images/00check.png\" align=\"left\" />\n",
    "<br clear=\"all\" />\n",
    "\n",
    "Why does `n2` get printed with no leading zeros when you run the code above?  If you change `{1:04.3f}` to `{1:09.3f}` how many leading zeros will get printed with `n2` now?"
   ]
  },
  {
   "cell_type": "markdown",
   "metadata": {},
   "source": [
    "### Back to our first example\n",
    "\n",
    "We started this notebook with the code below, with the goal of having a thousands separator appear in the output."
   ]
  },
  {
   "cell_type": "code",
   "execution_count": null,
   "metadata": {},
   "outputs": [],
   "source": [
    "n = 12345\n",
    "print(n)"
   ]
  },
  {
   "cell_type": "markdown",
   "metadata": {},
   "source": [
    "<hr>\n",
    "\n",
    "Here's how it's done using a format specifier, with a decimal (`d`) qualifier and a comma indicator:"
   ]
  },
  {
   "cell_type": "code",
   "execution_count": null,
   "metadata": {},
   "outputs": [],
   "source": [
    "n = 12345\n",
    "print(\"n = {0:,d}\".format(n))"
   ]
  },
  {
   "cell_type": "markdown",
   "metadata": {},
   "source": [
    "## Additional Resources\n",
    "\n",
    "[Format String Syntax](https://docs.python.org/3/library/string.html#formatstrings)"
   ]
  },
  {
   "cell_type": "markdown",
   "metadata": {},
   "source": [
    "<hr>\n",
    "\n",
    "*MIT License*\n",
    "\n",
    "*Copyright 2019-2020 Peter Nardi*\n",
    "\n",
    "*Terms of use:*\n",
    "\n",
    "*Permission is hereby granted, free of charge, to any person obtaining a copy of this software and associated documentation files (the \"Software\"), to deal in the Software without restriction, including without limitation the rights to use, copy, modify, merge, publish, distribute, sublicense, and/or sell copies of the Software, and to permit persons to whom the Software is furnished to do so, subject to the following conditions:*\n",
    "\n",
    "*The above copyright notice and this permission notice shall be included in all copies or substantial portions of the Software.*\n",
    "\n",
    "*THE SOFTWARE IS PROVIDED \"AS IS\", WITHOUT WARRANTY OF ANY KIND, EXPRESS OR IMPLIED, INCLUDING BUT NOT LIMITED TO THE WARRANTIES OF MERCHANTABILITY, FITNESS FOR A PARTICULAR PURPOSE AND NON-INFRINGEMENT. IN NO EVENT SHALL THE AUTHORS OR COPYRIGHT HOLDERS BE LIABLE FOR ANY CLAIM, DAMAGES OR OTHER LIABILITY, WHETHER IN AN ACTION OF CONTRACT, TORT OR OTHERWISE, ARISING FROM, OUT OF OR IN CONNECTION WITH THE SOFTWARE OR THE USE OR OTHER DEALINGS IN THE SOFTWARE.*"
   ]
  }
 ],
 "metadata": {
  "kernelspec": {
   "display_name": "Python 3",
   "language": "python",
   "name": "python3"
  },
  "language_info": {
   "codemirror_mode": {
    "name": "ipython",
    "version": 3
   },
   "file_extension": ".py",
   "mimetype": "text/x-python",
   "name": "python",
   "nbconvert_exporter": "python",
   "pygments_lexer": "ipython3",
   "version": "3.8.2"
  }
 },
 "nbformat": 4,
 "nbformat_minor": 4
}
