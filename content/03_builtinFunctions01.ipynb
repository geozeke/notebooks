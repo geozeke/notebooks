{
 "cells": [
  {
   "cell_type": "markdown",
   "metadata": {},
   "source": [
    "# Formatting Output in Python"
   ]
  },
  {
   "cell_type": "markdown",
   "metadata": {},
   "source": [
    "So far, we've just used Python's [print()](https://docs.python.org/3/library/functions.html) function to send output the screen. It's simple and it works well, but what if we want to format the output in a particular way?  Consider this example:"
   ]
  },
  {
   "cell_type": "code",
   "execution_count": null,
   "metadata": {},
   "outputs": [],
   "source": [
    "n = 12345\n",
    "print(n)"
   ]
  },
  {
   "cell_type": "markdown",
   "metadata": {},
   "source": [
    "What gets printed when you run the code?  What if we wanted this to be printed instead:\n",
    "\n",
    "`12,345`\n",
    "\n",
    "To answer that question, we need to explore two new terms:\n",
    "\n",
    "* *Formatted String Literals*: Similar to regular Python strings, but they begin with a lowercase `f` just before the leading quotation mark. *Formatted String Literals* are also called *f-strings* for short.\n",
    "* *Format Specifier*: A placeholder in Python that says: *Don't actually print the placeholder you see here, but fill it in with something that I'll provide to you later.*  We denote format specifiers in *f-strings* by using curly braces `{}`.\n",
    "\n",
    "Lots of words! Here's an example (run the code):"
   ]
  },
  {
   "cell_type": "code",
   "execution_count": null,
   "metadata": {},
   "outputs": [],
   "source": [
    "n = \"Navy\"\n",
    "a = \"Army\"\n",
    "print(f\"Go {n}! Beat {a}!\")"
   ]
  },
  {
   "cell_type": "markdown",
   "metadata": {},
   "source": [
    "- What gets printed?\n",
    "- What if you switch `n` and `a` on line 3?\n",
    "\n",
    "To reinforce: format specifiers in Python are positional references. The value of any variable between curly braces is evaluated at runtime.\n",
    "\n",
    "You can add a qualifier to a format specifier to refine how the output is displayed. In the coming examples, we'll see that these qualifiers can be incredibly powerful.  Available qualifiers are shown below:\n",
    "\n",
    "<html>\n",
    "<head>\n",
    "<style>\n",
    "table {\n",
    "  font-family: arial, sans-serif;\n",
    "  border-collapse: collapse;\n",
    "  width: 100%;\n",
    "}\n",
    "\n",
    "td, th {\n",
    "  border: 1px solid #dddddd;\n",
    "  text-align: left;\n",
    "  padding: 8px;\n",
    "}\n",
    "\n",
    "tr:nth-child(even) {\n",
    "  background-color: #dddddd;\n",
    "}\n",
    "</style>\n",
    "</head>\n",
    "<body>\n",
    "\n",
    "<table align=\"left\">\n",
    "  <tr>\n",
    "    <th>Qualifier</th>\n",
    "    <th align=\"left\">Meaning</th>\n",
    "  </tr>\n",
    "  <tr>\n",
    "    <td align=\"center\">s</td>\n",
    "    <td>String</td>\n",
    "  </tr>\n",
    "  <tr>\n",
    "    <td align=\"center\">d</td>\n",
    "    <td>Decimal integer</td>\n",
    "  </tr>\n",
    "  <tr>\n",
    "    <td align=\"center\">c</td>\n",
    "    <td>Corresponding Unicode character</td>\n",
    "  </tr>\n",
    "  <tr>\n",
    "    <td align=\"center\">b</td>\n",
    "    <td>Binary format</td>\n",
    "  </tr>\n",
    "  <tr>\n",
    "    <td align=\"center\">o</td>\n",
    "    <td>Octal format</td>\n",
    "  </tr>\n",
    "  <tr>\n",
    "    <td align=\"center\">x</td>\n",
    "    <td>Hexadecimal format (lower case)</td>\n",
    "  </tr>\n",
    "  <tr>\n",
    "    <td align=\"center\">X</td>\n",
    "    <td>Hexadecimal format (upper case)</td>\n",
    "  </tr>\n",
    "  <tr>\n",
    "    <td align=\"center\">n</td>\n",
    "    <td>Same as 'd'. Except it uses current locale setting for number separator</td>\n",
    "  </tr>\n",
    "  <tr>\n",
    "    <td align=\"center\">e</td>\n",
    "    <td>Exponential notation. (lowercase e)</td>\n",
    "  </tr>\n",
    "  <tr>\n",
    "    <td align=\"center\">E</td>\n",
    "    <td>Exponential notation (uppercase E)</td>\n",
    "  </tr>\n",
    "  <tr>\n",
    "    <td align=\"center\">f</td>\n",
    "    <td>Displays floating point number (Default: 6)</td>\n",
    "  </tr>\n",
    "  <tr>\n",
    "    <td align=\"center\">F</td>\n",
    "    <td>Same as 'f'. Except displays 'inf' as 'INF' and 'nan' as 'NAN'</td>\n",
    "  </tr>\n",
    "  <tr>\n",
    "    <td align=\"center\">%</td>\n",
    "    <td>Percentage. Multiples by 100 and puts % at the end</td>\n",
    "  </tr>\n",
    "  <tr>\n",
    "    <td align=\"center\">&#60;</td>\n",
    "    <td>Left aligned to the remaining space</td>\n",
    "  </tr>\n",
    "  <tr>\n",
    "    <td align=\"center\">&#94;</td>\n",
    "    <td>Center aligned to the remaining space</td>\n",
    "  </tr>\n",
    "  <tr>\n",
    "    <td align=\"center\">&#62;</td>\n",
    "    <td>Right aligned to the remaining space</td>\n",
    "  </tr>\n",
    "  <tr>\n",
    "    <td align=\"center\">&#43;</td>\n",
    "    <td>Force a plus sign on positive numbers</td>\n",
    "  </tr>\n",
    "  <tr>\n",
    "    <td align=\"center\">&#61;</td>\n",
    "    <td>Forces a sign (+) or (-) to the leftmost position, before any padding</td>\n",
    "  </tr>\n",
    "</table>\n",
    "\n",
    "</body>\n",
    "</html>"
   ]
  },
  {
   "cell_type": "markdown",
   "metadata": {},
   "source": [
    "### Examples"
   ]
  },
  {
   "cell_type": "markdown",
   "metadata": {},
   "source": [
    "Let's revisit our Army / Navy example with qualifiers. The original code worked fine, but we could have also written it like this, using the qualifiers for string data:"
   ]
  },
  {
   "cell_type": "code",
   "execution_count": null,
   "metadata": {
    "tags": []
   },
   "outputs": [],
   "source": [
    "n = \"Navy\"\n",
    "a = \"Army\"\n",
    "print(f\"Go {n:s}! Beat {a:s}!\")"
   ]
  },
  {
   "cell_type": "markdown",
   "metadata": {},
   "source": [
    "<br>\n",
    "\n",
    "NOTE: It's a very common mistake to forget to include the leading `f` when using *f-strings*.\n",
    "\n",
    "The code in the cell below is exactly the same as the one above, except that the leading `f` is missing. What gets printed when you run it?:"
   ]
  },
  {
   "cell_type": "code",
   "execution_count": null,
   "metadata": {
    "tags": []
   },
   "outputs": [],
   "source": [
    "n = \"Navy\"\n",
    "a = \"Army\"\n",
    "print(\"Go {n:s}! Beat {a:s}!\")"
   ]
  },
  {
   "cell_type": "markdown",
   "metadata": {},
   "source": [
    "<hr>\n",
    "\n",
    "The code below shows how to align text within a given allocation of characters (25 in this case)."
   ]
  },
  {
   "cell_type": "code",
   "execution_count": null,
   "metadata": {},
   "outputs": [],
   "source": [
    "cheer = \"Go Navy!\"\n",
    "print(f\"{cheer:<25s}\") # Align left\n",
    "print(f\"{cheer:^25s}\") # Align middle\n",
    "print(f\"{cheer:>25s}\") # Align right"
   ]
  },
  {
   "cell_type": "markdown",
   "metadata": {},
   "source": [
    "<hr>\n",
    "\n",
    "Run the code below as-is. Then change `{n2:d}` to `{n2:s}`.  Run it again. What error message do you get?"
   ]
  },
  {
   "cell_type": "code",
   "execution_count": null,
   "metadata": {},
   "outputs": [],
   "source": [
    "n1 = 12\n",
    "n2 = n1 * 2\n",
    "print(f\"n = {n1:d} and 2 * n = {n2:d}\")"
   ]
  },
  {
   "cell_type": "markdown",
   "metadata": {},
   "source": [
    "<hr>\n",
    "\n",
    "You can even use format specifiers to convert between number bases! Note that I can use the same variable in multiple format specifiers."
   ]
  },
  {
   "cell_type": "code",
   "execution_count": null,
   "metadata": {},
   "outputs": [],
   "source": [
    "n = 65535\n",
    "print(f\"n = {n:d} in decimal and {n:X} in hexadecimal.\")"
   ]
  },
  {
   "cell_type": "markdown",
   "metadata": {},
   "source": [
    "<hr>\n",
    "\n",
    "You can use format specifiers to specify a certain number of decimal places of precision.  If no value is specified for the number of decimal places in a floating point number, the default is six. Note that you can also perform calculations inside format specifiers."
   ]
  },
  {
   "cell_type": "code",
   "execution_count": null,
   "metadata": {},
   "outputs": [],
   "source": [
    "n = 27\n",
    "print(f\"n = {n:d} and 1/n = {1/n:f}. The value of 1/n to two places = {1/n:.2f}\")"
   ]
  },
  {
   "cell_type": "markdown",
   "metadata": {},
   "source": [
    "<hr>\n",
    "\n",
    "The example below shows how to display floating point numbers as percentages."
   ]
  },
  {
   "cell_type": "code",
   "execution_count": null,
   "metadata": {},
   "outputs": [],
   "source": [
    "half = 1/2\n",
    "print(f\"half = {half:%}\")"
   ]
  },
  {
   "cell_type": "markdown",
   "metadata": {},
   "source": [
    "<hr>\n",
    "\n",
    "Here's how to round percentages."
   ]
  },
  {
   "cell_type": "code",
   "execution_count": null,
   "metadata": {},
   "outputs": [],
   "source": [
    "allocation = 2/3\n",
    "print(f\"allocation = {allocation:.2%}\")"
   ]
  },
  {
   "cell_type": "markdown",
   "metadata": {},
   "source": [
    "<hr>\n",
    "\n",
    "You can place a sign on numeric values.  The default for negative numbers is to display the sign."
   ]
  },
  {
   "cell_type": "code",
   "execution_count": null,
   "metadata": {},
   "outputs": [],
   "source": [
    "n1 = 4\n",
    "n2 = -3\n",
    "print(f\"n1 = {n1:+d}; n2 = {n2:+d}\")"
   ]
  },
  {
   "cell_type": "markdown",
   "metadata": {},
   "source": [
    "<hr>\n",
    "\n",
    "You can pad with leading zeros, which can be tricky.  When padding, the number specified indicates the *maximum* total display length, including any signs and / or decimal points.  If the maximum length already exceeds the padding specifier, then no leading zeros are applied.\n",
    "\n",
    "Run the example below and examine the output and the code to get a better understanding of how padding with zeros works."
   ]
  },
  {
   "cell_type": "code",
   "execution_count": null,
   "metadata": {},
   "outputs": [],
   "source": [
    "n1 = 4.345\n",
    "n2 = -3.223456\n",
    "print(f\"n1 = {n1:+08.2f}; n2 = {n2:04.3f}\")"
   ]
  },
  {
   "cell_type": "markdown",
   "metadata": {},
   "source": [
    "<br clear=\"all\" />\n",
    "<img src=\"../images/00check.png\" align=\"left\" />\n",
    "<br clear=\"all\" />\n",
    "\n",
    "Why does `n2` get printed with no leading zeros when you run the code above?  If you change `{n2:04.3f}` to `{n2:09.3f}` how many leading zeros will get printed with `n2` now?"
   ]
  },
  {
   "cell_type": "markdown",
   "metadata": {},
   "source": [
    "### Back to our first example\n",
    "\n",
    "We started this notebook with the code below, with the goal of having a thousands separator appear in the output."
   ]
  },
  {
   "cell_type": "code",
   "execution_count": null,
   "metadata": {},
   "outputs": [],
   "source": [
    "n = 12345\n",
    "print(n)"
   ]
  },
  {
   "cell_type": "markdown",
   "metadata": {},
   "source": [
    "<br>\n",
    "\n",
    "Here's how it's done using a *f-string* and a format specifier, with a decimal (`d`) qualifier and a comma indicator:"
   ]
  },
  {
   "cell_type": "code",
   "execution_count": null,
   "metadata": {},
   "outputs": [],
   "source": [
    "n = 12345\n",
    "print(f\"n = {n:,d}\")"
   ]
  },
  {
   "cell_type": "markdown",
   "metadata": {},
   "source": [
    "## Additional Resources\n",
    "\n",
    "[Formatted String Literals in Python](https://docs.python.org/3/tutorial/inputoutput.html)"
   ]
  },
  {
   "cell_type": "markdown",
   "metadata": {},
   "source": [
    "<hr>\n",
    "\n",
    "*MIT License*\n",
    "\n",
    "*Copyright 2019-2021 Peter Nardi*\n",
    "\n",
    "*Terms of use:*\n",
    "\n",
    "*Permission is hereby granted, free of charge, to any person obtaining a copy of this software and associated documentation files (the \"Software\"), to deal in the Software without restriction, including without limitation the rights to use, copy, modify, merge, publish, distribute, sublicense, and/or sell copies of the Software, and to permit persons to whom the Software is furnished to do so, subject to the following conditions:*\n",
    "\n",
    "*The above copyright notice and this permission notice shall be included in all copies or substantial portions of the Software.*\n",
    "\n",
    "*THE SOFTWARE IS PROVIDED \"AS IS\", WITHOUT WARRANTY OF ANY KIND, EXPRESS OR IMPLIED, INCLUDING BUT NOT LIMITED TO THE WARRANTIES OF MERCHANTABILITY, FITNESS FOR A PARTICULAR PURPOSE AND NON-INFRINGEMENT. IN NO EVENT SHALL THE AUTHORS OR COPYRIGHT HOLDERS BE LIABLE FOR ANY CLAIM, DAMAGES OR OTHER LIABILITY, WHETHER IN AN ACTION OF CONTRACT, TORT OR OTHERWISE, ARISING FROM, OUT OF OR IN CONNECTION WITH THE SOFTWARE OR THE USE OR OTHER DEALINGS IN THE SOFTWARE.*"
   ]
  }
 ],
 "metadata": {
  "kernelspec": {
   "display_name": "Python 3",
   "language": "python",
   "name": "python3"
  },
  "language_info": {
   "codemirror_mode": {
    "name": "ipython",
    "version": 3
   },
   "file_extension": ".py",
   "mimetype": "text/x-python",
   "name": "python",
   "nbconvert_exporter": "python",
   "pygments_lexer": "ipython3",
   "version": "3.8.5"
  }
 },
 "nbformat": 4,
 "nbformat_minor": 4
}
