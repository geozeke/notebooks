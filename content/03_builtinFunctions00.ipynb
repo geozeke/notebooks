{
 "cells": [
  {
   "cell_type": "markdown",
   "metadata": {},
   "source": [
    "# Functions and Objects"
   ]
  },
  {
   "cell_type": "markdown",
   "metadata": {},
   "source": [
    "Python includes many built-in functions to accomplish tasks. A good list of Python's basic built-ins is available [here](https://docs.python.org/3/library/functions.html). We've already explored several (`input()`, `int()`, `str()`, etc.), and we'll take a look at many more throughout the course.\n",
    "\n",
    "In addition to Python's built-in functions, you can extend its capabilities by importing libraries (or modules) that contain additional functionality. When you install Python it includes many useful libraries that go beyond the built-in functions, and it even allows you to write your own libraries that you can share with others.\n",
    "\n",
    "Let's get a sense for how modules work with Python's [math](https://docs.python.org/3/library/math.html) module. In order to use it, we need to import the library into our code using the `import` statement like this at the top of our program:"
   ]
  },
  {
   "cell_type": "code",
   "execution_count": null,
   "metadata": {},
   "outputs": [],
   "source": [
    "import math"
   ]
  },
  {
   "cell_type": "markdown",
   "metadata": {},
   "source": [
    "<hr>\n",
    "\n",
    "Once we import the library, we can use a particular function that it provides by using \"dot\" (.) notation. That's the module name (`math`) followed by a period, then followed by the name of the function you want to use. Here's an example of using the `factorial` function in Python's `math` library: "
   ]
  },
  {
   "cell_type": "code",
   "execution_count": null,
   "metadata": {},
   "outputs": [],
   "source": [
    "import math\n",
    "\n",
    "n = 5\n",
    "print(math.factorial(n))"
   ]
  },
  {
   "cell_type": "markdown",
   "metadata": {},
   "source": [
    "<hr>\n",
    "\n",
    "Here's how to calculate the square root of a number: "
   ]
  },
  {
   "cell_type": "code",
   "execution_count": null,
   "metadata": {},
   "outputs": [],
   "source": [
    "import math\n",
    "\n",
    "n = 12345\n",
    "print(math.sqrt(n))"
   ]
  },
  {
   "cell_type": "markdown",
   "metadata": {},
   "source": [
    "<hr>\n",
    "\n",
    "In previous examples, we hard-coded the value of pi as 3.14159. Python's math library actually includes that constant for us:"
   ]
  },
  {
   "cell_type": "code",
   "execution_count": null,
   "metadata": {},
   "outputs": [],
   "source": [
    "import math\n",
    "\n",
    "print(math.pi)"
   ]
  },
  {
   "cell_type": "markdown",
   "metadata": {},
   "source": [
    "<hr>\n",
    "\n",
    "One more. Here's how to calculate the cosine of an angle expressed in radians:"
   ]
  },
  {
   "cell_type": "code",
   "execution_count": null,
   "metadata": {},
   "outputs": [],
   "source": [
    "import math\n",
    "\n",
    "a = 0.785398 # This is roughly 45-degrees\n",
    "print(math.cos(a))"
   ]
  },
  {
   "cell_type": "markdown",
   "metadata": {},
   "source": [
    "<br clear=\"all\" />\n",
    "<img src=\"../images/00check.png\" align=\"left\" />\n",
    "<br clear=\"all\" />\n",
    "\n",
    "Bring it all together. Write a program in the code block below that does the following:\n",
    "\n",
    "- Prompt the user for a radius (hint: use `input()` and cast the results to a float using `float()`)\n",
    "- Use Python's `math` library to calculate pi, compute the area of the circle and print the result to the screen with a suitable message (e.g. *The area of your circle is: * "
   ]
  },
  {
   "cell_type": "code",
   "execution_count": null,
   "metadata": {},
   "outputs": [],
   "source": [
    "# Write an interactive program that prompts for the radius of a circle.\n",
    "# The program should then compute and display the area of the circle with a \n",
    "# suitable message.\n",
    "\n"
   ]
  },
  {
   "cell_type": "markdown",
   "metadata": {},
   "source": [
    "### Objects and Methods\n",
    "\n",
    "Object Oriented Programming (OOP) is a modern software design method that scales from small programs to large enterprise systems, with widely distributed teams working in collaboration to build functionality. While this is not a course on OOP, and most of our programs won't be designed using OOP, it's important to know some key terminology. If you've got a little time, you can learn [Object-oriented Programming in 7 minutes](https://www.youtube.com/watch?v=pTB0EiLXUC8). Well, at least you can get a good overview and learn some important terminology.\n",
    "\n",
    "At its core, Python is an Objected Oriented Programming Language. To really unleash the power of Python, you'll make use of its OOP features. For now, let's start with two key terms: *Objects* and *Methods*.\n",
    "\n",
    "- An *Object* is like a container that holds not only the data itself, but all the functions that can operate on the data.\n",
    "- OOP designers call the functions that operate on the data *Methods*.\n",
    "\n",
    "There's so much more to OOP than just that, but it's a great start. As you expand your Python programming skills, many more tenants of OOP design will reveal themselves along the way. For now, let's just focus on *Objects* and *Methods*.\n",
    "\n",
    "You haven't thought this way yet, but just about any variable you create in Python is actually an *Object*. String variables that you create are more appropriately referred-to as *[Objects of the String Class](https://docs.python.org/3/library/stdtypes.html#textseq)*, and they bring with them a collection of *Methods* that allow you to do a lot of powerful things to strings. We invoke (call) an *Object's* *Method* by using \"dot\" notation (just like using a function from an imported module).\n",
    "\n",
    "It's easiest to demonstrate with an example:"
   ]
  },
  {
   "cell_type": "code",
   "execution_count": null,
   "metadata": {},
   "outputs": [],
   "source": [
    "# Here's a string method that returns a copy of the original in all uppercase\n",
    "\n",
    "s = \"Go Navy!\"\n",
    "print(s.upper())\n",
    "print(s)"
   ]
  },
  {
   "cell_type": "markdown",
   "metadata": {},
   "source": [
    "<hr>\n",
    "\n",
    "In OOP terms we would say, \"*I have called the `upper()` method on the string object `s`.*\" Notice that the `upper()` method didn't modify `s`, but returned a copy of `s` that was all uppercase. The original value of `s` remains unchanged. The code could be written like this:"
   ]
  },
  {
   "cell_type": "code",
   "execution_count": null,
   "metadata": {},
   "outputs": [],
   "source": [
    "# Here's a string method that returns a copy of the original in all uppercase\n",
    "\n",
    "s = \"Go Navy!\"\n",
    "sUppercase = s.upper()\n",
    "print(sUppercase)\n",
    "print(s)"
   ]
  },
  {
   "cell_type": "markdown",
   "metadata": {},
   "source": [
    "How do you know whether a method returns a copy of an object or modifies the object itself? The best way is [check the documentation](https://docs.python.org/3/). In this case, though, since string objects are immutable it's a good guess that most methods that operate on string objects return copies.\n",
    "\n",
    "Here are some more examples:"
   ]
  },
  {
   "cell_type": "code",
   "execution_count": null,
   "metadata": {},
   "outputs": [],
   "source": [
    "# Here's a string method that returns a copy of the original in all lowercase\n",
    "\n",
    "s = \"Go Navy!\"\n",
    "sLower = s.lower()\n",
    "print(sLower)\n",
    "print(s)"
   ]
  },
  {
   "cell_type": "code",
   "execution_count": null,
   "metadata": {},
   "outputs": [],
   "source": [
    "# Without explanation, what does this string method do?\n",
    "\n",
    "s = \"Now colleges from sea to sea may sing of colors true!\"\n",
    "number = s.count(\"ol\")\n",
    "print(number)"
   ]
  },
  {
   "cell_type": "code",
   "execution_count": null,
   "metadata": {},
   "outputs": [],
   "source": [
    "# Without explanation, what does this string method do?\n",
    "\n",
    "s = \"Now colleges from sea to sea may sing of colors true!\"\n",
    "index = s.find(\"from\")\n",
    "print(index)"
   ]
  },
  {
   "cell_type": "code",
   "execution_count": null,
   "metadata": {},
   "outputs": [],
   "source": [
    "# Without explanation, what does this string method do?\n",
    "\n",
    "s = \"Now colleges from sea to sea may sing of colors true!\"\n",
    "newString = s.replace(\"sea\",\"shore\")\n",
    "print(s)\n",
    "print(newString)"
   ]
  },
  {
   "cell_type": "markdown",
   "metadata": {},
   "source": [
    "### More to Come\n",
    "\n",
    "There are many (**MANY!**) more awesome methods for strings and other objects that we'll explore throughout the course. As always, if you ever have a question don't hesitate to consult [the documentation](https://docs.python.org/3/)"
   ]
  },
  {
   "cell_type": "markdown",
   "metadata": {},
   "source": [
    "## Additional Resources\n",
    "\n",
    "[The Python Tutorial](https://docs.python.org/3/tutorial/index.html)"
   ]
  },
  {
   "cell_type": "markdown",
   "metadata": {},
   "source": [
    "<hr>\n",
    "\n",
    "*MIT License*\n",
    "\n",
    "*Copyright 2019-2020 Peter Nardi*\n",
    "\n",
    "*Terms of use:*\n",
    "\n",
    "*Permission is hereby granted, free of charge, to any person obtaining a copy of this software and associated documentation files (the \"Software\"), to deal in the Software without restriction, including without limitation the rights to use, copy, modify, merge, publish, distribute, sublicense, and/or sell copies of the Software, and to permit persons to whom the Software is furnished to do so, subject to the following conditions:*\n",
    "\n",
    "*The above copyright notice and this permission notice shall be included in all copies or substantial portions of the Software.*\n",
    "\n",
    "*THE SOFTWARE IS PROVIDED \"AS IS\", WITHOUT WARRANTY OF ANY KIND, EXPRESS OR IMPLIED, INCLUDING BUT NOT LIMITED TO THE WARRANTIES OF MERCHANTABILITY, FITNESS FOR A PARTICULAR PURPOSE AND NON-INFRINGEMENT. IN NO EVENT SHALL THE AUTHORS OR COPYRIGHT HOLDERS BE LIABLE FOR ANY CLAIM, DAMAGES OR OTHER LIABILITY, WHETHER IN AN ACTION OF CONTRACT, TORT OR OTHERWISE, ARISING FROM, OUT OF OR IN CONNECTION WITH THE SOFTWARE OR THE USE OR OTHER DEALINGS IN THE SOFTWARE.*"
   ]
  }
 ],
 "metadata": {
  "kernelspec": {
   "display_name": "Python 3",
   "language": "python",
   "name": "python3"
  },
  "language_info": {
   "codemirror_mode": {
    "name": "ipython",
    "version": 3
   },
   "file_extension": ".py",
   "mimetype": "text/x-python",
   "name": "python",
   "nbconvert_exporter": "python",
   "pygments_lexer": "ipython3",
   "version": "3.8.2"
  }
 },
 "nbformat": 4,
 "nbformat_minor": 4
}
