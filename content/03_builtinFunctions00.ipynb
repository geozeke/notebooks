{
 "cells": [
  {
   "cell_type": "markdown",
   "metadata": {},
   "source": [
    "# Functions and Objects"
   ]
  },
  {
   "cell_type": "markdown",
   "metadata": {},
   "source": [
    "Python includes many built-in functions to accomplish tasks. A good list of\n",
    "Python's basic built-ins is available\n",
    "[here](https://docs.python.org/3/library/functions.html). We've already\n",
    "explored several ([input()](https://docs.python.org/3/library/functions.html),\n",
    "[int()](https://docs.python.org/3/library/functions.html),\n",
    "[str()](https://docs.python.org/3/library/functions.html), etc.), and we'll\n",
    "take a look at many more throughout the course.\n",
    "\n",
    "In addition to Python's built-in functions, you can extend its capabilities by\n",
    "importing libraries (or modules) that contain additional functionality. When\n",
    "you install Python it includes many useful libraries that go beyond the\n",
    "built-in functions, and it even allows you to write your own libraries that you\n",
    "can share with others.\n",
    "\n",
    "Let's get a sense for how modules work with Python's\n",
    "[math](https://docs.python.org/3/library/math.html) module. In order to use it,\n",
    "we need to import the module into our code using the `import` statement like\n",
    "this at the top of our program:"
   ]
  },
  {
   "cell_type": "code",
   "execution_count": null,
   "metadata": {},
   "outputs": [],
   "source": [
    "import math\n"
   ]
  },
  {
   "cell_type": "markdown",
   "metadata": {},
   "source": [
    "----\n",
    "\n",
    "Once we import the module, we can use a particular function that it provides by\n",
    "using \"dot\" (.) notation. That's the module name\n",
    "([math](https://docs.python.org/3/library/math.html)) followed by a period,\n",
    "then followed by the name of the function you want to use.\n",
    "\n",
    "Here's an example using the `factorial` function in Python's\n",
    "[math](https://docs.python.org/3/library/math.html) module:"
   ]
  },
  {
   "cell_type": "code",
   "execution_count": null,
   "metadata": {},
   "outputs": [],
   "source": [
    "import math\n",
    "\n",
    "n = 5\n",
    "print(math.factorial(n))\n"
   ]
  },
  {
   "cell_type": "markdown",
   "metadata": {},
   "source": [
    "----\n",
    "\n",
    "Here's how to calculate the square root of a number: "
   ]
  },
  {
   "cell_type": "code",
   "execution_count": null,
   "metadata": {},
   "outputs": [],
   "source": [
    "import math\n",
    "\n",
    "n = 12345\n",
    "print(math.sqrt(n))\n"
   ]
  },
  {
   "cell_type": "markdown",
   "metadata": {},
   "source": [
    "----\n",
    "\n",
    "In previous examples, we hard-coded the value of pi as 3.14159. Python's\n",
    "[math](https://docs.python.org/3/library/math.html) module actually includes\n",
    "that constant for us:"
   ]
  },
  {
   "cell_type": "code",
   "execution_count": null,
   "metadata": {},
   "outputs": [],
   "source": [
    "import math\n",
    "\n",
    "print(math.pi)\n"
   ]
  },
  {
   "cell_type": "markdown",
   "metadata": {},
   "source": [
    "----\n",
    "\n",
    "Here's how to calculate the cosine of an angle expressed in radians:"
   ]
  },
  {
   "cell_type": "code",
   "execution_count": null,
   "metadata": {},
   "outputs": [],
   "source": [
    "import math\n",
    "\n",
    "a = math.radians(45)\n",
    "print(math.cos(a))\n",
    "print(math.cos(math.radians(45)))\n"
   ]
  },
  {
   "cell_type": "markdown",
   "metadata": {},
   "source": [
    "<br clear=\"all\" />\n",
    "<img src=\"../images/00check.png\" align=\"left\" />\n",
    "<br clear=\"all\" />\n",
    "\n",
    "Bring it all together. Write a program in the code block below that does the\n",
    "following:\n",
    "\n",
    "- Prompt the user for a radius (hint: use\n",
    "  [input()](https://docs.python.org/3/library/functions.html) and cast the\n",
    "  result to a float using\n",
    "  [float()](https://docs.python.org/3/library/functions.html))\n",
    "- Use Python's [math](https://docs.python.org/3/library/math.html) module to\n",
    "  get the value of pi; then compute the area of the circle; then print the\n",
    "  result to the screen with a suitable message (e.g. *The area of your circle\n",
    "  is:*)"
   ]
  },
  {
   "cell_type": "code",
   "execution_count": null,
   "metadata": {},
   "outputs": [],
   "source": [
    "# Write an interactive program that prompts for the radius of a circle. The\n",
    "# program should then compute and display the area of the circle with a\n",
    "# suitable message.\n"
   ]
  },
  {
   "cell_type": "markdown",
   "metadata": {},
   "source": [
    "### Objects and Methods\n",
    "\n",
    "Object Oriented Programming (OOP) is a modern software design method that\n",
    "scales from small programs to large enterprise systems, with widely distributed\n",
    "teams working in collaboration to build functionality. While this is not a\n",
    "course on OOP, and most of our programs won't be overtly designed using OOP,\n",
    "it's important to know some key terminology. If you've got a little time, you\n",
    "can learn [Object-Oriented Programming in 7\n",
    "minutes](https://www.youtube.com/watch?v=pTB0EiLXUC8). Well, at least you can\n",
    "get a good overview and learn some important terminology.\n",
    "\n",
    "At its core, Python is an Objected Oriented Programming Language. To really\n",
    "unleash the power of Python you'll make use of its OOP features. For now,\n",
    "let's start with two key terms: *Objects* and *Methods*.\n",
    "\n",
    "- An *Object* is like a container that holds not only the data itself, but all\n",
    "  the functions that can operate on the data.\n",
    "- OOP designers call the functions that operate on the data *Methods*.\n",
    "\n",
    "There's so much more to OOP than just that, but it's a great start. As you\n",
    "expand your Python programming skills, many more tenants of OOP design will\n",
    "reveal themselves along the way. For now, let's just focus on *Objects* and\n",
    "*Methods*.\n",
    "\n",
    "You haven't thought this way yet, but any variable you create in Python is\n",
    "actually an *Object*. String variables that you create are more appropriately\n",
    "referred-to as *[Objects of the String\n",
    "Class](https://docs.python.org/3/library/stdtypes.html#textseq)*, and they\n",
    "bring with them a collection of *Methods* that allow you to do a lot of\n",
    "powerful things to strings. We invoke (call) an *Object's* *Method* by using\n",
    "\"dot\" notation (just like using a function from an imported module).\n",
    "\n",
    "It's easiest to demonstrate with an example:"
   ]
  },
  {
   "cell_type": "code",
   "execution_count": null,
   "metadata": {},
   "outputs": [],
   "source": [
    "# Here's a string method that returns a copy of the original in all uppercase\n",
    "\n",
    "s = \"Go Navy!\"\n",
    "print(s.upper())\n",
    "print(s)\n"
   ]
  },
  {
   "cell_type": "markdown",
   "metadata": {},
   "source": [
    "----\n",
    "\n",
    "In OOP terms we might say, \"*I have invoked the `upper()` method on the string\n",
    "object `s`.*\" Notice that the `upper()` method didn't modify `s`, but returned\n",
    "a copy of `s` that was all uppercase. The original value of `s` remains\n",
    "unchanged. The code could be written like this:"
   ]
  },
  {
   "cell_type": "code",
   "execution_count": null,
   "metadata": {},
   "outputs": [],
   "source": [
    "# Here's a string method that returns a copy of the original in all uppercase\n",
    "\n",
    "s = \"Go Navy!\"\n",
    "s_upper = s.upper()\n",
    "print(s_upper)\n",
    "print(s)\n"
   ]
  },
  {
   "cell_type": "markdown",
   "metadata": {},
   "source": [
    "How do you know whether a method returns a copy of an object or modifies the\n",
    "object itself? The best way is to [check the\n",
    "documentation](https://docs.python.org/3/). In this case, though, since string\n",
    "objects are immutable it's a good guess that most methods that operate on\n",
    "string objects return copies.\n",
    "\n",
    "Here are some more examples:"
   ]
  },
  {
   "cell_type": "code",
   "execution_count": null,
   "metadata": {},
   "outputs": [],
   "source": [
    "# Here's a string method that returns a copy of the original in all lowercase\n",
    "\n",
    "s = \"Go Navy!\"\n",
    "s_lower = s.lower()\n",
    "print(s_lower)\n",
    "print(s)\n"
   ]
  },
  {
   "cell_type": "code",
   "execution_count": null,
   "metadata": {},
   "outputs": [],
   "source": [
    "# Without explanation, what does this string method do?\n",
    "\n",
    "s = \"Now colleges from sea to sea may sing of colors true!\"\n",
    "n = s.count(\"ol\")\n",
    "print(n)\n"
   ]
  },
  {
   "cell_type": "code",
   "execution_count": null,
   "metadata": {},
   "outputs": [],
   "source": [
    "# Without explanation, what does this string method do?\n",
    "\n",
    "s = \"Now colleges from sea to sea may sing of colors true!\"\n",
    "index = s.find(\"from\")\n",
    "print(index)\n"
   ]
  },
  {
   "cell_type": "code",
   "execution_count": null,
   "metadata": {},
   "outputs": [],
   "source": [
    "# Without explanation, what does this string method do?\n",
    "\n",
    "s = \"Now colleges from sea to sea may sing of colors true!\"\n",
    "new_string = s.replace(\"sea\", \"shore\")\n",
    "print(s)\n",
    "print(new_string)\n"
   ]
  },
  {
   "cell_type": "markdown",
   "metadata": {},
   "source": [
    "### More to Come\n",
    "\n",
    "There are many (**MANY!**) more awesome methods for strings and other objects\n",
    "that we'll explore throughout the course. As always, if you ever have a\n",
    "question don't hesitate to consult [the\n",
    "documentation](https://docs.python.org/3/)"
   ]
  },
  {
   "cell_type": "markdown",
   "metadata": {},
   "source": [
    "## Additional Resources\n",
    "\n",
    "[The Python Tutorial](https://docs.python.org/3/tutorial/index.html)"
   ]
  },
  {
   "cell_type": "markdown",
   "metadata": {},
   "source": [
    "----\n",
    "\n",
    "MIT License\n",
    "\n",
    "Copyright 2019-2022 Peter Nardi\n",
    "\n",
    "Terms of use:\n",
    "\n",
    "Permission is hereby granted, free of charge, to any person obtaining a copy of\n",
    "this software and associated documentation files (the \"Software\"), to deal in\n",
    "the Software without restriction, including without limitation the rights to\n",
    "use, copy, modify, merge, publish, distribute, sublicense, and/or sell copies\n",
    "of the Software, and to permit persons to whom the Software is furnished to do\n",
    "so, subject to the following conditions:\n",
    "\n",
    "The above copyright notice and this permission notice shall be included in all\n",
    "copies or substantial portions of the Software.\n",
    "\n",
    "THE SOFTWARE IS PROVIDED \"AS IS\", WITHOUT WARRANTY OF ANY KIND, EXPRESS OR\n",
    "IMPLIED, INCLUDING BUT NOT LIMITED TO THE WARRANTIES OF MERCHANTABILITY,\n",
    "FITNESS FOR A PARTICULAR PURPOSE AND NON-INFRINGEMENT. IN NO EVENT SHALL THE\n",
    "AUTHORS OR COPYRIGHT HOLDERS BE LIABLE FOR ANY CLAIM, DAMAGES OR OTHER\n",
    "LIABILITY, WHETHER IN AN ACTION OF CONTRACT, TORT OR OTHERWISE, ARISING FROM,\n",
    "OUT OF OR IN CONNECTION WITH THE SOFTWARE OR THE USE OR OTHER DEALINGS IN THE\n",
    "SOFTWARE.\n"
   ]
  }
 ],
 "metadata": {
  "kernelspec": {
   "display_name": "Python 3.10.6 ('.venv': poetry)",
   "language": "python",
   "name": "python3"
  },
  "language_info": {
   "codemirror_mode": {
    "name": "ipython",
    "version": 3
   },
   "file_extension": ".py",
   "mimetype": "text/x-python",
   "name": "python",
   "nbconvert_exporter": "python",
   "pygments_lexer": "ipython3",
   "version": "3.10.6"
  },
  "vscode": {
   "interpreter": {
    "hash": "8a6624f1d65858c9851721b3cef5bb4f0a62e9574006eec404b6e8b42f2ecf27"
   }
  }
 },
 "nbformat": 4,
 "nbformat_minor": 4
}
