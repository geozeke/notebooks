{
 "cells": [
  {
   "cell_type": "markdown",
   "metadata": {},
   "source": [
    "# Branch Logic\n",
    "\n",
    "The term branch logic is a fancy way of saying: *Based on some condition, make\n",
    "a decision about what to do next.* You do this every day. You take input,\n",
    "analyze it, and make decisions about what to do next. With a few simple\n",
    "techniques we can program a computer to make these kinds of decisions as well.\n",
    "\n",
    "### Boolean Data Types\n",
    "\n",
    "A [Boolean Data Type](https://en.wikipedia.org/wiki/Boolean_data_type) is one\n",
    "that has two possible values: `True` or `False`. In Python, we use the reserved\n",
    "words `True` and `False` for these values. A reserved word in Python means that\n",
    "it's reserved for Python's use, so you cannot have a variable with the name\n",
    "`True` or `False`.\n",
    "\n",
    "A few other points:\n",
    "\n",
    "* The Boolean values for `True` and `False` are written without quotation marks\n",
    "  (they're not strings)\n",
    "* The words are\n",
    "  [case-sensitive](https://www.computerhope.com/jargon/c/casesens.htm), meaning\n",
    "  the character case is specific. `True` is not the same as `true`.\n",
    "* In many other computer languages, `True` is represented by the integer `1`,\n",
    "  and `False` is represented by the integer `0`. In the C programming language,\n",
    "  the integer `0` represents `False` and any other number (including floats and\n",
    "  negative numbers) represents `True`.\n",
    "\n",
    "Let's look at a programming example with a simple mathematical statement: `2`\n",
    "is greater than `1` (coded as: `2 > 1`). When you run the code below, what gets\n",
    "printed?"
   ]
  },
  {
   "cell_type": "code",
   "execution_count": null,
   "metadata": {},
   "outputs": [],
   "source": [
    "print(2 > 1)\n"
   ]
  },
  {
   "cell_type": "markdown",
   "metadata": {},
   "source": [
    "Remember, the result is not the string `\"True\"`, it's a Boolean value `True`.\n",
    "\n",
    "----\n",
    "\n",
    "How about this one?"
   ]
  },
  {
   "cell_type": "code",
   "execution_count": null,
   "metadata": {},
   "outputs": [],
   "source": [
    "print(2 > 1)\n",
    "print(5 < 3)\n"
   ]
  },
  {
   "cell_type": "markdown",
   "metadata": {},
   "source": [
    "----\n",
    "\n",
    "Since `2 > 1` is an expression, I can even assign it to a variable like this:"
   ]
  },
  {
   "cell_type": "code",
   "execution_count": null,
   "metadata": {},
   "outputs": [],
   "source": [
    "result = (2 > 1)\n",
    "print(result)\n"
   ]
  },
  {
   "cell_type": "markdown",
   "metadata": {},
   "source": [
    "----\n",
    "\n",
    "This one's tricky! (*and something I probably wouldn't use in a program I was\n",
    "writing*) Didn't I say that `False` was reserved by Python and I couldn't use\n",
    "it as a variable name? Why does the code below work?"
   ]
  },
  {
   "cell_type": "code",
   "execution_count": null,
   "metadata": {},
   "outputs": [],
   "source": [
    "false = (20 < 50)\n",
    "print(false)\n"
   ]
  },
  {
   "cell_type": "markdown",
   "metadata": {},
   "source": [
    "Hint: Case sensitive."
   ]
  },
  {
   "cell_type": "markdown",
   "metadata": {},
   "source": [
    "### What `if`?\n",
    "\n",
    "One of the most fundamental program control techniques is the humble [if\n",
    "statement](https://docs.python.org/3/tutorial/controlflow.html#if-statements).\n",
    "Think of it this way: \"*`if` an expression you evaluate is `True`, then do\n",
    "this.*\"\n",
    "\n",
    "Here's an example:"
   ]
  },
  {
   "cell_type": "code",
   "execution_count": null,
   "metadata": {},
   "outputs": [],
   "source": [
    "x = 5\n",
    "if x > 3:\n",
    "    print(\"Hello\")\n"
   ]
  },
  {
   "cell_type": "markdown",
   "metadata": {},
   "source": [
    "Some key elements in the code above:\n",
    "\n",
    "* `if` is a reserved word; you can't have a variable named `if`.\n",
    "* What follows `if` is an expression that must evaluate to a Boolean result\n",
    "  (`True` or `False`).\n",
    "* The colon (`:`) at the end of line 2 is an important and required element.\n",
    "* The `print()` statement in line 3 is indented to the right below line 2. This\n",
    "  is our first time exploring [indentation in\n",
    "  Python](https://docs.python.org/3/faq/design.html?highlight=indentation#why-does-python-use-indentation-for-grouping-of-statements),\n",
    "  but it's a critical part of the language. Lines of code (and there can be\n",
    "  multiple) that are indented following a colon are specifically grouped to\n",
    "  apply to the line with the colon. Many of the errors you'll wrestle with in\n",
    "  Python result from improper indentation.\n",
    "\n",
    "----\n",
    "\n",
    "Here's an example with multiple lines after the indentation, followed by a line\n",
    "that is not indented. Run the code, then change line 1 from `x = 5` to `x = 2`.\n",
    "Run the code again. What happened and why?:"
   ]
  },
  {
   "cell_type": "code",
   "execution_count": null,
   "metadata": {},
   "outputs": [],
   "source": [
    "x = 5\n",
    "\n",
    "if x > 3:\n",
    "    print(\"My variable\")\n",
    "    print(\"is greater than three\")\n",
    "\n",
    "print(\"The program is complete\")\n"
   ]
  },
  {
   "cell_type": "markdown",
   "metadata": {},
   "source": [
    "----\n",
    "\n",
    "You can combine interactive user input with `if` statements:"
   ]
  },
  {
   "cell_type": "code",
   "execution_count": null,
   "metadata": {},
   "outputs": [],
   "source": [
    "x = int(input(\"Enter an integer: \"))\n",
    "\n",
    "if x > 20:\n",
    "    print(\"You entered an integer greater than 20.\")\n",
    "\n",
    "print(\"The program is complete.\")\n"
   ]
  },
  {
   "cell_type": "markdown",
   "metadata": {},
   "source": [
    "Some important points about the code above:\n",
    "\n",
    "* Remember that `input()` always returns a string. As a result, we have to cast\n",
    "  whatever the user enters into an integer using Python's\n",
    "  [int()](https://docs.python.org/3/library/stdtypes.html#typesnumeric)\n",
    "  function.\n",
    "* You can easily crash the program by entering something other than a valid\n",
    "  integer (e.g. `Hello`). Give it a try! What error message do you get?\n",
    "* If you entered an integer that was less than or equal to 20, what happened?\n",
    "  Wouldn't it be better to print something like, \"*You entered an integer less\n",
    "  than or equal to 20*\"? Yes, it would! We'll explore that next.\n",
    "\n",
    "### What `else` Can You Do With `if`?\n",
    "\n",
    "The previous example is okay, for its limited utility, but what about the case\n",
    "where the user entered an integer less than or equal to 20? Behold the `else`\n",
    "clause!\n",
    "\n",
    "Here's an example of the use of the `else` clause. Pay particular attention to\n",
    "the indentation."
   ]
  },
  {
   "cell_type": "code",
   "execution_count": null,
   "metadata": {},
   "outputs": [],
   "source": [
    "x = int(input(\"Enter an integer: \"))\n",
    "\n",
    "if x > 20:\n",
    "    print(\"You entered an integer greater than 20.\")\n",
    "else:\n",
    "    print(\"You entered an integer less than or equal to 20.\")\n",
    "\n",
    "print(\"The program is complete.\")\n"
   ]
  },
  {
   "cell_type": "markdown",
   "metadata": {},
   "source": [
    "Important points:\n",
    "\n",
    "* Notice that we a use a colon (`:`) after the `if` statement, and again after\n",
    "  the `else` clause.\n",
    "* The use of `else` is optional. You can write an `if` statement without using\n",
    "  `else`.\n",
    "* We indent the line of code below the `else` clause, meaning it's grouped to\n",
    "  apply to the `else` clause and only gets executed if the `else` clause\n",
    "  applies.\n",
    "* Since line 8 is not indented, it always gets executed regardless of the\n",
    "  results of the `if`-`else` statement.\n",
    "\n",
    "### What if You Want to Make a Decision With More Than Two Branches?\n",
    "\n",
    "With an `if`-`else` statement, you can think of its execution as a binary\n",
    "choice. Do *this* or *that*. It's a great start, but very often your program\n",
    "logic requires decisions that flow like this: *If something is true, then do\n",
    "this; else if this other thing is true, then do that; else if this third thing\n",
    "is true, then do that.....etc., etc.* What we need is a compound statement that\n",
    "allows for multiple branches in our logic, like this:\n",
    "\n",
    "<br clear=\"all\" />\n",
    "<img src=\"../images/04if-else-elifstatement.png\" align=\"left\" alt=\"if-else-elif\" width=\"50%\" height=\"50%\" />\n",
    "<br clear=\"all\" />\n",
    "\n",
    "Python provides just that! Rather than completely spelling out `else if`, it's\n",
    "written as a compound expression like this: `elif`.\n",
    "\n",
    "Let's revisit the previous example and modify it to do the following:\n",
    "\n",
    "* If the user enters an integer greater than 20, print: *You entered an integer\n",
    "  greater than 20*\n",
    "* If the user enters an integer less than 20, print: *You entered an integer\n",
    "  less than 20*\n",
    "* If the user enters an integer equal to 20, print: *You entered 20*"
   ]
  },
  {
   "cell_type": "code",
   "execution_count": null,
   "metadata": {},
   "outputs": [],
   "source": [
    "x = int(input(\"Enter an integer: \"))\n",
    "\n",
    "if x > 20:\n",
    "    print(\"You entered an integer greater than 20.\")\n",
    "elif x < 20:\n",
    "    print(\"You entered an integer less than 20.\")\n",
    "else:\n",
    "    print(\"You entered 20\")\n",
    "\n",
    "print(\"The program is complete.\")\n"
   ]
  },
  {
   "cell_type": "markdown",
   "metadata": {},
   "source": [
    "Notice how we finished the logic with a final `else` statement. It's a way of\n",
    "saying: *If it's not greater than twenty; and it's not less than twenty; it's\n",
    "20.*\n",
    "\n",
    "*If you're familiar with other programming languages, live java, you might have\n",
    "experience with something called a [switch\n",
    "statement](https://docs.oracle.com/javase/tutorial/java/nutsandbolts/switch.html)\n",
    "for handling compound conditionals like the one above. Starting in Python 3.10,\n",
    "that capability was introduced using the `match` statement in a very powerful\n",
    "technique known as [Structural Pattern\n",
    "Matching](https://docs.python.org/3.10/whatsnew/3.10.html#pep-634-structural-pattern-matching).\n",
    "As you become a more experienced programmer you may find [Structural Pattern\n",
    "Matching](https://docs.python.org/3.10/whatsnew/3.10.html#pep-634-structural-pattern-matching)\n",
    "to be preferable to nested conditional statements for some use cases. Just keep\n",
    "in mind that this capability only exists in versions of Python greater than or\n",
    "equal to 3.10.*"
   ]
  },
  {
   "cell_type": "markdown",
   "metadata": {},
   "source": [
    "### Comparison Operators\n",
    "\n",
    "We've used the comparison operators for less than (`<`) and greater than (`>`).\n",
    "To make the full use of Python, you'll frequently need to use many different\n",
    "comparison operators. There are just eight of them and they're similar to the\n",
    "ones you've used in algebra. You can [find them\n",
    "here](https://docs.python.org/3/library/stdtypes.html#comparisons).\n",
    "\n",
    "Note: When you first start programming it's very common to mix up the\n",
    "assignment operator (`=`) with the comparison operator for equality (`==`).\n",
    "\n",
    "* `x = 3` is a statement: *Make the variable x equal to 3.*\n",
    "* `x == 3` asks a question: *Is x equal to 3?*"
   ]
  },
  {
   "cell_type": "markdown",
   "metadata": {},
   "source": [
    "## Additional Resources\n",
    "\n",
    "[Python if-elif-else\n",
    "Statements](https://www.tutorialspoint.com/python/python_if_else.htm)\n",
    "\n",
    "[Python Flow Control\n",
    "Tutorial](https://docs.python.org/3/tutorial/controlflow.html)"
   ]
  },
  {
   "cell_type": "markdown",
   "metadata": {},
   "source": [
    "----\n",
    "\n",
    "MIT License\n",
    "\n",
    "Copyright 2019-2022 Peter Nardi\n",
    "\n",
    "Terms of use:\n",
    "\n",
    "Permission is hereby granted, free of charge, to any person obtaining a copy of\n",
    "this software and associated documentation files (the \"Software\"), to deal in\n",
    "the Software without restriction, including without limitation the rights to\n",
    "use, copy, modify, merge, publish, distribute, sublicense, and/or sell copies\n",
    "of the Software, and to permit persons to whom the Software is furnished to do\n",
    "so, subject to the following conditions:\n",
    "\n",
    "The above copyright notice and this permission notice shall be included in all\n",
    "copies or substantial portions of the Software.\n",
    "\n",
    "THE SOFTWARE IS PROVIDED \"AS IS\", WITHOUT WARRANTY OF ANY KIND, EXPRESS OR\n",
    "IMPLIED, INCLUDING BUT NOT LIMITED TO THE WARRANTIES OF MERCHANTABILITY,\n",
    "FITNESS FOR A PARTICULAR PURPOSE AND NON-INFRINGEMENT. IN NO EVENT SHALL THE\n",
    "AUTHORS OR COPYRIGHT HOLDERS BE LIABLE FOR ANY CLAIM, DAMAGES OR OTHER\n",
    "LIABILITY, WHETHER IN AN ACTION OF CONTRACT, TORT OR OTHERWISE, ARISING FROM,\n",
    "OUT OF OR IN CONNECTION WITH THE SOFTWARE OR THE USE OR OTHER DEALINGS IN THE\n",
    "SOFTWARE.\n"
   ]
  }
 ],
 "metadata": {
  "kernelspec": {
   "display_name": "Python 3.10.6 ('.venv': poetry)",
   "language": "python",
   "name": "python3"
  },
  "language_info": {
   "codemirror_mode": {
    "name": "ipython",
    "version": 3
   },
   "file_extension": ".py",
   "mimetype": "text/x-python",
   "name": "python",
   "nbconvert_exporter": "python",
   "pygments_lexer": "ipython3",
   "version": "3.10.6"
  },
  "vscode": {
   "interpreter": {
    "hash": "8a6624f1d65858c9851721b3cef5bb4f0a62e9574006eec404b6e8b42f2ecf27"
   }
  }
 },
 "nbformat": 4,
 "nbformat_minor": 4
}
