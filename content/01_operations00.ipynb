{
 "cells": [
  {
   "cell_type": "markdown",
   "metadata": {},
   "source": [
    "# Basic Operations"
   ]
  },
  {
   "cell_type": "markdown",
   "metadata": {},
   "source": [
    "### Variables, Assignment Statements, Expressions\n",
    "\n",
    "In programming languages, a variable is a container than can hold a value that changes over time (hence the name, *variable*).  In Python, variables can hold data of many different types.  We'll dive deeper into data types in future notebooks, but for now we'll stick with integers.  We place values into variables using the assignment operator, which is the equal sign: `=`.  We can use arithmetic operators on variables just like we can with integers:"
   ]
  },
  {
   "cell_type": "code",
   "execution_count": null,
   "metadata": {},
   "outputs": [],
   "source": [
    "length = 20\n",
    "width = 30\n",
    "area = length * width\n",
    "print(length)\n",
    "print(width)\n",
    "print(area)"
   ]
  },
  {
   "cell_type": "markdown",
   "metadata": {},
   "source": [
    "We can combine operations in more complex expressions. Run the example below which calculates the perimeter of a square."
   ]
  },
  {
   "cell_type": "code",
   "execution_count": null,
   "metadata": {},
   "outputs": [],
   "source": [
    "width = 10\n",
    "length = 20\n",
    "perimeter = (2 * width) + (2 * length)\n",
    "print(perimeter)"
   ]
  },
  {
   "cell_type": "markdown",
   "metadata": {},
   "source": [
    "We can also use Python's `print()` statement to display the value of more than one variable on a single line by separating each one with commas."
   ]
  },
  {
   "cell_type": "code",
   "execution_count": null,
   "metadata": {},
   "outputs": [],
   "source": [
    "length = 20\n",
    "width = 30\n",
    "area = length * width\n",
    "print(length, width, area)"
   ]
  },
  {
   "cell_type": "markdown",
   "metadata": {},
   "source": [
    "Below is an interesting use of variables that is often difficult to understand when you see it for the first time.  Run the code cell below and examine the output."
   ]
  },
  {
   "cell_type": "code",
   "execution_count": null,
   "metadata": {},
   "outputs": [],
   "source": [
    "score = 45\n",
    "print(score)\n",
    "score = score + 10\n",
    "print(score)"
   ]
  },
  {
   "cell_type": "markdown",
   "metadata": {},
   "source": [
    "What's going on?  How can `score` show up on both the left and right side of an equal sign? If the line of code which reads: `score = score + 10` were given in an algebra class, you might say, \"***The statement is false.  `score` cannot be equal to itself, plus 10***\".  That's true in algebra, but in a computer programming context the logic flow works like this:\n",
    "\n",
    "1. Evaluate everything to the right of `=`.  That means, take the current value in `score` (45) and add 10 to it.\n",
    "2. Take the result from step 1 and store it in the variable named `score`.  This replaces `score`'s original value (45) with the newly calculated value (55).\n",
    "\n",
    "It's important to understand that the steps are followed in the order given above.  Before we replace `score` with a new value, we use the current value in `score` to calculate an interim result, then place that result back into `score`.\n",
    "\n",
    "You will see and use this design pattern often in any programming language you learn, including Python."
   ]
  },
  {
   "cell_type": "markdown",
   "metadata": {},
   "source": [
    "### User Input and Output\n",
    "\n",
    "We've already seen how Python produces output to the screen using the `print()` function."
   ]
  },
  {
   "cell_type": "code",
   "execution_count": null,
   "metadata": {},
   "outputs": [],
   "source": [
    "print(\"Go Navy!\")"
   ]
  },
  {
   "cell_type": "markdown",
   "metadata": {},
   "source": [
    "How about getting input from the user? User input and output is such a fundamental and common part of most programs that it's worth taking time to make sure you understand it well. A very common way to collect user input is with Python's `input()` function. Here's an example:"
   ]
  },
  {
   "cell_type": "code",
   "execution_count": null,
   "metadata": {},
   "outputs": [],
   "source": [
    "name = input(\"Enter your name: \")\n",
    "print(name)"
   ]
  },
  {
   "cell_type": "markdown",
   "metadata": {},
   "source": [
    "There are several important things happening in those two lines of code:\n",
    "\n",
    "1. `input()` is a Python function that takes a string which represents the prompt you want to see on the screen (*Note: a string is a collection of characters. We'll examine strings in more detail in the next notebook*).\n",
    "2. The `input()` function prints the prompt the screen, then pauses program execution while waiting for the user to type something in. The `input()` function knows the input is complete when the user presses the return key.\n",
    "3. The input function returns whatever the user types and stores it in the variable `name`.\n",
    "4. Finally, the `print()` function prints the ***value*** stored in `name` to the screen (it doesn't print the characters `n` `a` `m` `e` to the screen)."
   ]
  },
  {
   "cell_type": "markdown",
   "metadata": {},
   "source": [
    "### Basic Arithmetic Operations\n",
    "\n",
    "Like all modern programming languages, Python provides support for basic arithmetic operations. Here are the big four:\n",
    "\n",
    "- Addition: `+`\n",
    "- Subtraction: `-`\n",
    "- Multiplication: `*`\n",
    "- Division: `/`"
   ]
  },
  {
   "cell_type": "code",
   "execution_count": null,
   "metadata": {},
   "outputs": [],
   "source": [
    "print(2 + 2)\n",
    "print(100 - 4)\n",
    "print(3 * 9)\n",
    "print(6 / 5)"
   ]
  },
  {
   "cell_type": "markdown",
   "metadata": {},
   "source": [
    "### Numeric Data Types\n",
    "\n",
    "Variables hold values that we can retrieve later and use in various ways. The two most common numeric data types are integers and floating point numbers (called *floats*).  Let's start with integers which are just whole numbers (no fractional part):"
   ]
  },
  {
   "cell_type": "code",
   "execution_count": null,
   "metadata": {},
   "outputs": [],
   "source": [
    "x = 20\n",
    "y = 5\n",
    "z = x + y\n",
    "print(z)"
   ]
  },
  {
   "cell_type": "markdown",
   "metadata": {},
   "source": [
    "Integers can be positive or negative."
   ]
  },
  {
   "cell_type": "code",
   "execution_count": null,
   "metadata": {},
   "outputs": [],
   "source": [
    "x = -5\n",
    "y = 3\n",
    "z = y - x\n",
    "print(z)"
   ]
  },
  {
   "cell_type": "markdown",
   "metadata": {},
   "source": [
    "Floats are numbers that have a fractional part (notice what you get when you add a float to an integer)."
   ]
  },
  {
   "cell_type": "code",
   "execution_count": null,
   "metadata": {},
   "outputs": [],
   "source": [
    "x = 3.14159\n",
    "y = 6\n",
    "z = x + y\n",
    "print(z)"
   ]
  },
  {
   "cell_type": "markdown",
   "metadata": {},
   "source": [
    "### Operator Precedence\n",
    "\n",
    "Precedence refers to the order in which mathematical operations are performed. The order of operator precedence in Python is as follows:\n",
    "\n",
    "1. Exponentiation (`**`)\n",
    "2. Multiplication (`*`), float division (`/`), [integer division](https://docs.python.org/3.3/reference/expressions.html#binary) (`//`), [modulo](https://docs.python.org/3.3/reference/expressions.html#binary) (`%`)\n",
    "3. Addition (`+`), subtraction (`-`)\n",
    "\n",
    "Different operators within the same line above are applied left to right.\n",
    "\n",
    "Examples!"
   ]
  },
  {
   "cell_type": "markdown",
   "metadata": {},
   "source": [
    "#### What does this code print?"
   ]
  },
  {
   "cell_type": "code",
   "execution_count": null,
   "metadata": {},
   "outputs": [],
   "source": [
    "x = 3 * 4 + 6 - 2 / 4 + 3 ** 2\n",
    "print(x)"
   ]
  },
  {
   "cell_type": "markdown",
   "metadata": {},
   "source": [
    "#### How about now?"
   ]
  },
  {
   "cell_type": "code",
   "execution_count": null,
   "metadata": {},
   "outputs": [],
   "source": [
    "x = 3 * (4 + 6) - 2 / (4 + 3) ** 2\n",
    "print(x)"
   ]
  },
  {
   "cell_type": "markdown",
   "metadata": {},
   "source": [
    "Notice how we can change how precedence is enforced with parentheses. Even if a line of code performs as intended without parenthesis, adding them can often make the code easier to follow, and debug if necessary. For example, `x` and `y` evaluate to the same number below, but the expression in `y` makes it unambiguous what the programmer intended."
   ]
  },
  {
   "cell_type": "code",
   "execution_count": null,
   "metadata": {},
   "outputs": [],
   "source": [
    "x = 3 * 2 + 5 * 4\n",
    "y = (3 * 2) + (5 * 4)\n",
    "print(x,y)"
   ]
  },
  {
   "cell_type": "markdown",
   "metadata": {},
   "source": [
    "<br clear=\"all\" />\n",
    "<img src=\"../images/00check.png\" align=\"left\" />\n",
    "<br clear=\"all\" />\n",
    "\n",
    "Write a program in the code cell below that calculates the area of a circle with a radius of 12"
   ]
  },
  {
   "cell_type": "code",
   "execution_count": null,
   "metadata": {},
   "outputs": [],
   "source": [
    "# Write your code below to calculate the area of a circle with a radius of 12\n",
    "\n"
   ]
  },
  {
   "cell_type": "markdown",
   "metadata": {},
   "source": [
    "## Additional Resources\n",
    "\n",
    "[An Informal Introduction to Python](https://docs.python.org/3/tutorial/introduction.html)\n",
    "\n",
    "[Python Resources for Beginners](https://wiki.python.org/moin/BeginnersGuide/Programmers)\n",
    "\n",
    "[Python Introduction (w3schools)](https://www.w3schools.com/python/python_intro.asp)"
   ]
  },
  {
   "cell_type": "markdown",
   "metadata": {},
   "source": [
    "<hr>\n",
    "\n",
    "*MIT License*\n",
    "\n",
    "*Copyright 2019-2020 Peter Nardi*\n",
    "\n",
    "*Terms of use:*\n",
    "\n",
    "*Permission is hereby granted, free of charge, to any person obtaining a copy of this software and associated documentation files (the \"Software\"), to deal in the Software without restriction, including without limitation the rights to use, copy, modify, merge, publish, distribute, sublicense, and/or sell copies of the Software, and to permit persons to whom the Software is furnished to do so, subject to the following conditions:*\n",
    "\n",
    "*The above copyright notice and this permission notice shall be included in all copies or substantial portions of the Software.*\n",
    "\n",
    "*THE SOFTWARE IS PROVIDED \"AS IS\", WITHOUT WARRANTY OF ANY KIND, EXPRESS OR IMPLIED, INCLUDING BUT NOT LIMITED TO THE WARRANTIES OF MERCHANTABILITY, FITNESS FOR A PARTICULAR PURPOSE AND NON-INFRINGEMENT. IN NO EVENT SHALL THE AUTHORS OR COPYRIGHT HOLDERS BE LIABLE FOR ANY CLAIM, DAMAGES OR OTHER LIABILITY, WHETHER IN AN ACTION OF CONTRACT, TORT OR OTHERWISE, ARISING FROM, OUT OF OR IN CONNECTION WITH THE SOFTWARE OR THE USE OR OTHER DEALINGS IN THE SOFTWARE.*"
   ]
  }
 ],
 "metadata": {
  "kernelspec": {
   "display_name": "Python 3",
   "language": "python",
   "name": "python3"
  },
  "language_info": {
   "codemirror_mode": {
    "name": "ipython",
    "version": 3
   },
   "file_extension": ".py",
   "mimetype": "text/x-python",
   "name": "python",
   "nbconvert_exporter": "python",
   "pygments_lexer": "ipython3",
   "version": "3.8.2"
  }
 },
 "nbformat": 4,
 "nbformat_minor": 4
}
