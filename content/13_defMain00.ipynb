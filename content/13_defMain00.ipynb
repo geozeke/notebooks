{
 "cells": [
  {
   "cell_type": "markdown",
   "metadata": {},
   "source": [
    "# Structured programming using `__name__` and a `def main()` function.\n",
    "\n",
    "You've probably seen Python programs that define a separate `main()` function, then include a call to that function in the same file; and you may have wondered what the purpose of this was.  Let's jump right to an example:"
   ]
  },
  {
   "cell_type": "code",
   "execution_count": null,
   "metadata": {},
   "outputs": [],
   "source": [
    "def factorial(n):\n",
    "    fact = 1\n",
    "    for i in range(1, n+1):\n",
    "        fact *= i\n",
    "    return fact\n",
    "\n",
    "\n",
    "def main():\n",
    "    n = int(input(\"Enter an integer: \"))\n",
    "    print(f\"The factorial of {n:d} is {factorial(n):,d}\")\n",
    "    return\n",
    "\n",
    "\n",
    "if __name__ == '__main__':\n",
    "    main()"
   ]
  },
  {
   "cell_type": "markdown",
   "metadata": {},
   "source": [
    "*Note: The code above does not include any exception handling, so it's easy to crash it with the input you use.*"
   ]
  },
  {
   "cell_type": "markdown",
   "metadata": {},
   "source": [
    "## Why Is This useful?\n",
    "\n",
    "Writing code this way allows you to create a program that is *both* a standalone program and an importable module.  Let's say you're developing the `factorial(n)` function and you've debugged it and got it working well; and let's assume you name the file above `myGreatFactorial.py`.  You can now ship this file to someone else and she can put it in a folder with another Python file and import it as follows:\n",
    "\n",
    "`import factorial`\n",
    "\n",
    "Even if it's imported using this:\n",
    "\n",
    "`from functions import *`\n",
    "\n",
    "it's okay, because lines 12 and 13 in the code above ensure that `main()` will only be called if `myGreatFactorial.py` is being run directly in Python and will not be called if `myGreatFactorial.py` is imported as a module in another Python program.  You didn't have to comment-out or remove your testing code when you shipped your factorial function.  You've written one program that can be used, unmodified, in multiple ways - very efficient!"
   ]
  },
  {
   "cell_type": "markdown",
   "metadata": {},
   "source": [
    "## Additional Resources\n",
    "\n",
    "[What’s in a (Python’s) `__name__`?](https://www.freecodecamp.org/news/whats-in-a-python-s-name-506262fe61e8/)\n",
    "\n",
    "[IF `__NAME__` == `'__MAIN__':`](https://www.bogotobogo.com/python/python_if__name__equals__main__.php)\n",
    "\n",
    "[Python: `__name__ == “__main__”` Explained](https://www.afternerd.com/blog/python-__name__-__main__/)"
   ]
  },
  {
   "cell_type": "markdown",
   "metadata": {},
   "source": [
    "<hr>\n",
    "\n",
    "*MIT License*\n",
    "\n",
    "*Copyright 2019-2021 Peter Nardi*\n",
    "\n",
    "*Terms of use:*\n",
    "\n",
    "*Permission is hereby granted, free of charge, to any person obtaining a copy of this software and associated documentation files (the \"Software\"), to deal in the Software without restriction, including without limitation the rights to use, copy, modify, merge, publish, distribute, sublicense, and/or sell copies of the Software, and to permit persons to whom the Software is furnished to do so, subject to the following conditions:*\n",
    "\n",
    "*The above copyright notice and this permission notice shall be included in all copies or substantial portions of the Software.*\n",
    "\n",
    "*THE SOFTWARE IS PROVIDED \"AS IS\", WITHOUT WARRANTY OF ANY KIND, EXPRESS OR IMPLIED, INCLUDING BUT NOT LIMITED TO THE WARRANTIES OF MERCHANTABILITY, FITNESS FOR A PARTICULAR PURPOSE AND NON-INFRINGEMENT. IN NO EVENT SHALL THE AUTHORS OR COPYRIGHT HOLDERS BE LIABLE FOR ANY CLAIM, DAMAGES OR OTHER LIABILITY, WHETHER IN AN ACTION OF CONTRACT, TORT OR OTHERWISE, ARISING FROM, OUT OF OR IN CONNECTION WITH THE SOFTWARE OR THE USE OR OTHER DEALINGS IN THE SOFTWARE.*"
   ]
  }
 ],
 "metadata": {
  "kernelspec": {
   "display_name": "Python 3 (ipykernel)",
   "language": "python",
   "name": "python3"
  },
  "language_info": {
   "codemirror_mode": {
    "name": "ipython",
    "version": 3
   },
   "file_extension": ".py",
   "mimetype": "text/x-python",
   "name": "python",
   "nbconvert_exporter": "python",
   "pygments_lexer": "ipython3",
   "version": "3.8.10"
  }
 },
 "nbformat": 4,
 "nbformat_minor": 4
}
