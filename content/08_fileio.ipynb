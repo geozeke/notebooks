{
 "cells": [
  {
   "cell_type": "markdown",
   "metadata": {},
   "source": [
    "# File Input/Output (I/O)\n",
    "\n",
    "Moving data between our program and our users using the terminal is helpful, but has limitations. If you're writing a program to perform analysis on some large data set it may not be practical to key the data by-hand each time you run the program. You may also want to write a program that generates data for use in another application. Again, working with large data sets in this scenario becomes problematic if you can only move data in and out of your program using [input()](https://docs.python.org/3/library/functions.html) and [print()](https://docs.python.org/3/library/functions.html).\n",
    "\n",
    "Enter file I/O.\n",
    "\n",
    "Like most programming languages, Python provides the tools to read and write data using a file that's separate from the file containing our code. There's a good overview of [file I/O available in the Python documentation](https://docs.python.org/3/library/io.html). In this notebook we'll explore the basic operations necessary to perform input and output on text files; files that can be opened and examined with any text editor. While Python does provide the tools for operating on *binary* files, we'll save that topic for a later course. For now, just think of a data file as multiple lines of text, like this:\n",
    "\n",
    "```text\n",
    "Now colleges from sea to sea \n",
    "May sing of colors true, \n",
    "But who has better right than we \n",
    "To hoist a symbol hue: \n",
    "For sailors brave in battle fair \n",
    "Since fighting days of old, \n",
    "Have proved the sailor's right to wear \n",
    "The Navy Blue & Gold.\n",
    "```\n",
    "\n",
    "### About File Paths\n",
    "\n",
    "Using Jupyter Notebooks to explore file I/O in Python requires a little trick.\n",
    "\n",
    "When you open (create) a file within a Python program, the file usually resides in the same directory as your program. We don't want to start creating extraneous files in our Jupyter notebooks directory for any sample programs we work with, so for programs in this notebook we have to create our files somewhere else. Putting them on your Linux desktop is a good choice. You'll be able to easily find them and delete them after you're done exploring this notebook. Luckily for us, Linux treats your desktop as just another directory. The `Desktop` directory is located in your home directory, and for me it's: `/home/nardi/Desktop`. If I write a program and specify that I want to create a new file (let's say `test1.txt`), and I want to put that file on my desktop, I would create this file: `/home/nardi/Desktop/test1.txt`.\n",
    "\n",
    "That's great for me, but what about you? How can I write example programs for this notebook and know in advance what the correct path would be to create them on ***YOUR*** desktop?\n",
    "\n",
    "\n",
    "<br clear=\"all\" />\n",
    "<img src=\"../images/08thoughtemoji.png\" width=\"8%\" height=\"8%\" align=\"left\" />\n",
    "<br clear=\"all\" />\n",
    "<br>\n",
    "\n",
    "Linux and Python to the rescue!\n",
    "\n",
    "Within Linux (or any Unix-based system), there is a shortcut to each user's home directory. The tilde character (`~`) means: *The home directory of the current user.* In Python, there is an importable module called [os](https://docs.python.org/3/library/os.html) which provides access to miscellaneous operating system interfaces. Using the [os](https://docs.python.org/3/library/os.html) module, we can expand the generic shortcut for a user's home directory (`~`) into the absolute path needed to create files on the desktop of *whoever is running the program*.\n",
    "\n",
    "Example time!"
   ]
  },
  {
   "cell_type": "code",
   "execution_count": null,
   "metadata": {},
   "outputs": [],
   "source": [
    "import os\n",
    "\n",
    "print(os.path.expanduser('~'))"
   ]
  },
  {
   "cell_type": "markdown",
   "metadata": {},
   "source": [
    "When I run the code above, I see `/home/nardi`. When you run it, you should see the path for ***YOUR*** home directory.\n",
    "\n",
    "<hr>\n",
    "\n"
   ]
  },
  {
   "cell_type": "markdown",
   "metadata": {},
   "source": [
    "Now let's create the full path for a file on the desktop called `test1.txt` using the [os](https://docs.python.org/3/library/os.html) module and string concatenation. The code below will not actually create a file on your machine, it will just print a string containing the full pathname of the file."
   ]
  },
  {
   "cell_type": "code",
   "execution_count": null,
   "metadata": {},
   "outputs": [],
   "source": [
    "import os\n",
    "\n",
    "path = os.path.expanduser('~') + '/Desktop/test1.txt'\n",
    "print(path)"
   ]
  },
  {
   "cell_type": "markdown",
   "metadata": {},
   "source": [
    "When I run the code above, I see `/home/nardi/Desktop/test1.txt`. When you run it, what do you see?"
   ]
  },
  {
   "cell_type": "markdown",
   "metadata": {},
   "source": [
    "### How Does a Python Program Access Files?\n",
    "\n",
    "When we open a file in Python we create a link between the file on the disk and a variable our program can use to refer to the file. This variable is called a *file descriptor*. The act of opening a file creates this link. Once we connect a file on the disk with a *file descriptor*, we use the *file descriptor* throughout our program to read and write to the file.\n",
    "\n",
    "We create a file descriptor using Python's [open()](https://docs.python.org/3/library/functions.html#open) command. Click on the link for the [open()](https://docs.python.org/3/library/functions.html#open) command and examine the documentation. You'll see a listing of seven different *modes* for opening a file. In this course, we'll explore just three: read (`'r'`); write (`'w'`) and append (`'a'`). *Note: The single quotation marks around each letter are part of the syntax.*\n",
    "\n",
    "Here are the rules for our three *modes* (no need to memorize these, just practice them and they'll become second nature):\n",
    "\n",
    "1. `'r'`: If the file exists, open it and go to the beginning of the file and start reading. If the file doesn't exist, opening it with `'r'` mode will throw an exception (cause an error).\n",
    "\n",
    "2. `'w'`: If the file exists, open it and go to the ***beginning*** of the file. Any content you write to the file will ***overwrite*** what's already there. If the file doesn't exist, then `'w'` will create it; open it; and start writing to it from the beginning.\n",
    "\n",
    "3. `'a'`: If the file exists, open it and go to the ***end*** of the file. Any new content you write to the file will ***be appended*** to what's already there. If the file doesn't exist, then `'a'` will create it; open it; and start writing to it from the end (which is the same as the beginning for an empty file).\n",
    "\n",
    "The syntax for using the [open()](https://docs.python.org/3/library/functions.html#open) command shown in the documentation can look a little confusing. Here it is in its simplified form:\n",
    "\n",
    "`open(filename,mode)`\n",
    "\n",
    "### Writing and Appending\n",
    "\n",
    "Let's look at some examples, starting with `'w'`:"
   ]
  },
  {
   "cell_type": "code",
   "execution_count": null,
   "metadata": {},
   "outputs": [],
   "source": [
    "# Remember, we'll use the os module to allow all these examples to create and\n",
    "# manipulate files on your desktop. To achieve this, you'll see the same header\n",
    "# below on each example.\n",
    "\n",
    "import os\n",
    "path = os.path.expanduser('~') + '/Desktop/'\n",
    "\n",
    "# -----------------------------------------------------\n",
    "\n",
    "# Create the path for a new (empty) file on the desktop called \"example1.txt\"\n",
    "path += 'example1.txt'\n",
    "\n",
    "# Open the file in 'w' mode so that it will be created. I will use the variable\n",
    "# f as my file descriptor\n",
    "f = open(path, 'w')\n",
    "\n",
    "# Close the file\n",
    "f.close()"
   ]
  },
  {
   "cell_type": "markdown",
   "metadata": {},
   "source": [
    "Lots of goodness in a few lines of code:\n",
    "\n",
    "* The complete pathname for the new file is stored in the variable named `path`. On my machine, this will be: `/home/nardi/Desktop/example1.txt`. For you, it should be created on your desktop.\n",
    "* The [open()](https://docs.python.org/3/library/functions.html#open) command creates a *file descriptor* associated with the file and returns that *file descriptor* which is stored in the variable `f`. Throughout the rest of our program's run time, we refer to the file by its descriptor (`f`).\n",
    "* I introduced a new method: [close()](https://docs.python.org/3/library/io.html#io.IOBase.close). You may see samples in other books or online that skip the [close()](https://docs.python.org/3/library/io.html#io.IOBase.close) method when working with files. In ***most*** cases it's safe to leave it out, because Python will close it for you when your program is complete, but there can be moments when manually closing a file after you open it is very important. If you open a file, it's just good programming style to close it when you're done with it.\n",
    "* The *mode* for our file is `w`. Since the file didn't exist, Python created it and made it ready for writing. Try opening the `example1.txt` file on your desktop using your text editor. It should open just fine, but it will be empty (no content).\n",
    "\n",
    "<hr>\n",
    "\n",
    "Let's try another example that writes some content to a file."
   ]
  },
  {
   "cell_type": "code",
   "execution_count": null,
   "metadata": {},
   "outputs": [],
   "source": [
    "# Set up the path so we create our file on the desktop.\n",
    "\n",
    "import os\n",
    "path = os.path.expanduser('~') + '/Desktop/'\n",
    "\n",
    "# -----------------------------------------------------\n",
    "\n",
    "path += 'example2.txt'\n",
    "f = open(path, 'w')\n",
    "\n",
    "message = input(\"Enter some text: \")\n",
    "f.write(message)\n",
    "\n",
    "# Close the file\n",
    "f.close()"
   ]
  },
  {
   "cell_type": "markdown",
   "metadata": {},
   "source": [
    "Run the program. It will ask you for some text, then write that text to the file `example2.txt` (located on the desktop). In this example, we're introducing a new method: [write()](https://docs.python.org/3/library/io.html#io.TextIOBase.write). To write string data to a file, you use the *file descriptor*; followed by a dot (`.`); followed by [write(s)](https://docs.python.org/3/library/io.html#io.TextIOBase.write), where `s` is the string data you want to write to the file.\n",
    "\n",
    "* After you run the program above, open the file `example2.txt` (located on your desktop) with a text editor and examine the contents.\n",
    "* Close the file in your text editor.\n",
    "* Come back here and run the program again. Enter some different text.\n",
    "* Re-open the file `example2.txt` with a text editor and examine the contents.\n",
    "\n",
    "What happened and why?\n",
    "\n",
    "<hr>\n",
    "\n",
    "Here's the same example as the one above, but the file is opened with a mode of `'a'`, rather than `'w'`."
   ]
  },
  {
   "cell_type": "code",
   "execution_count": null,
   "metadata": {},
   "outputs": [],
   "source": [
    "# Set up the path so we create our file on the desktop.\n",
    "\n",
    "import os\n",
    "path = os.path.expanduser('~') + '/Desktop/'\n",
    "\n",
    "# -----------------------------------------------------\n",
    "\n",
    "path += 'example3.txt'\n",
    "f = open(path, 'a')\n",
    "\n",
    "message = input(\"Enter some text: \")\n",
    "f.write(message)\n",
    "\n",
    "# Close the file\n",
    "f.close()"
   ]
  },
  {
   "cell_type": "markdown",
   "metadata": {},
   "source": [
    "Run the program. It will ask you for some text, then write that to the file `example3.txt` (located on the desktop).\n",
    "\n",
    "* After you run the program, open the file `example3.txt` (located on your desktop) with a text editor and examine the contents.\n",
    "* Close the file in your text editor.\n",
    "* Come back here and run the program again. Enter some different text.\n",
    "* Re-open the file `example3.txt` with a text editor and examine the contents.\n",
    "\n",
    "What happened and why? Did Python put a newline between the text for each run of the program or just smash it all together? If you wanted newlines, how would you do that? (Hint: `\\n`)\n",
    "\n",
    "### Reading\n",
    "\n",
    "To begin our exploration of reading from files, we need a sample file to work with. Open a second terminal window (the one you have running jupyter lab is busy). You can do that by right-clicking on the terminal icon in your favorites and selecting `New Window`. Now, enter the command below to create a file on your desktop (*Note: Commands in Linux are case sensitive*)\n",
    "\n",
    "```\n",
    "cp ~/notebooks/misc/gettysburg.txt ~/Desktop\n",
    "```\n",
    "\n",
    "You should now see the file `gettysburg.txt` on your desktop. Begin by opening it with a text editor. Notice that it's just a plaintext file containing Lincoln's Gettysburg Address. We'll open the file in Python and demonstrate three different ways to read from it.\n",
    "\n",
    "### [read()](https://docs.python.org/3/library/io.html#io.BufferedIOBase.read)\n",
    "\n",
    "Look at the documentation for [read()](https://docs.python.org/3/library/io.html#io.BufferedIOBase.read). If you specify a number of bytes (letters in the case of text files), then [read()](https://docs.python.org/3/library/io.html#io.BufferedIOBase.read) extracts that number of bytes from the file. If you omit a number of bytes to [read()](https://docs.python.org/3/library/io.html#io.BufferedIOBase.read), then the entire contents of the file are extracted until the end is reached.\n",
    "\n",
    "Let's start by reading a few bytes from our sample file:"
   ]
  },
  {
   "cell_type": "code",
   "execution_count": null,
   "metadata": {},
   "outputs": [],
   "source": [
    "# Set up the path so we work with files our file on the desktop.\n",
    "\n",
    "import os\n",
    "path = os.path.expanduser('~') + '/Desktop/'\n",
    "\n",
    "# -----------------------------------------------------\n",
    "\n",
    "path += 'gettysburg.txt'\n",
    "f = open(path, 'r')\n",
    "\n",
    "sample = f.read(10)  # Read 10 bytes\n",
    "print(sample)        # Print them to the screen\n",
    "\n",
    "# Close the file\n",
    "f.close()"
   ]
  },
  {
   "cell_type": "markdown",
   "metadata": {},
   "source": [
    "Run the program. What happened and why?\n",
    "\n",
    "<hr>\n",
    "\n",
    "When you execute a partial [read()](https://docs.python.org/3/library/io.html#io.BufferedIOBase.read) from a file, like we did above, Python remembers where you left off the next time you want to [read()](https://docs.python.org/3/library/io.html#io.BufferedIOBase.read). This behavior persists until either the file is closed, or the program completes execution.\n",
    "\n",
    "Here's a demonstration:"
   ]
  },
  {
   "cell_type": "code",
   "execution_count": null,
   "metadata": {},
   "outputs": [],
   "source": [
    "# Set up the path so we create our file on the desktop.\n",
    "\n",
    "import os\n",
    "path = os.path.expanduser('~') + '/Desktop/'\n",
    "\n",
    "# -----------------------------------------------------\n",
    "\n",
    "path += 'gettysburg.txt'\n",
    "f = open(path, 'r')\n",
    "\n",
    "sample = f.read(10)  # Read 10 bytes\n",
    "print(sample)        # Print them to the screen\n",
    "sample = f.read(20)  # Read 20 more bytes\n",
    "print(sample)        # Print them to the screen\n",
    "\n",
    "# Close the file\n",
    "f.close()"
   ]
  },
  {
   "cell_type": "markdown",
   "metadata": {},
   "source": [
    "Run the program. What happened and why? Why does the second line of the output look like it's shifted to the right in relation to the first line?\n",
    "\n",
    "Your current position in a file moves forward as you perform [read()](https://docs.python.org/3/library/io.html#io.BufferedIOBase.read) operations. However, you can reset the current position to any point in the file. Let's say you read a few bytes, then you want to \"rewind\" to the beginning to start again. Explore the [seek()](https://docs.python.org/3/library/io.html#io.IOBase.seek) method to learn now to do this.\n",
    "\n",
    "<hr>\n",
    "\n",
    "If you do not specify a number of bytes to read, then Python reads the entire contents of the file, like this:"
   ]
  },
  {
   "cell_type": "code",
   "execution_count": null,
   "metadata": {},
   "outputs": [],
   "source": [
    "# Set up the path so what we create our file on the desktop.\n",
    "\n",
    "import os\n",
    "path = os.path.expanduser('~') + '/Desktop/'\n",
    "\n",
    "# -----------------------------------------------------\n",
    "\n",
    "path += 'gettysburg.txt'\n",
    "f = open(path, 'r')\n",
    "\n",
    "sample = f.read()\n",
    "print(sample)\n",
    "\n",
    "# Close the file\n",
    "f.close()"
   ]
  },
  {
   "cell_type": "markdown",
   "metadata": {},
   "source": [
    "Run the code. What happened and why?"
   ]
  },
  {
   "cell_type": "markdown",
   "metadata": {},
   "source": [
    "### [readline()](https://docs.python.org/3/library/io.html#io.IOBase.readline)\n",
    "\n",
    "Rather than reading one byte (character) at a time, we can read an entire line at a time using [readline()](https://docs.python.org/3/library/io.html#io.IOBase.readline). As you read a line, Python keeps track of where you are in the file, so subsequent [readline()](https://docs.python.org/3/library/io.html#io.IOBase.readline) operations advance through the file. A \"line\" is defined as a string of characters that ends with `\\n`. Here's an example:"
   ]
  },
  {
   "cell_type": "code",
   "execution_count": null,
   "metadata": {},
   "outputs": [],
   "source": [
    "# Set up the path so what we create our file on the desktop.\n",
    "\n",
    "import os\n",
    "path = os.path.expanduser('~') + '/Desktop/'\n",
    "\n",
    "# -----------------------------------------------------\n",
    "\n",
    "path += 'gettysburg.txt'\n",
    "f = open(path, 'r')\n",
    "\n",
    "sample = f.readline()\n",
    "print(sample)\n",
    "sample = f.readline()\n",
    "print(sample)\n",
    "\n",
    "# Close the file\n",
    "f.close()"
   ]
  },
  {
   "cell_type": "markdown",
   "metadata": {},
   "source": [
    "<br clear=\"all\" />\n",
    "<img src=\"../images/00check.png\" align=\"left\" />\n",
    "<br clear=\"all\" />\n",
    "    \n",
    "When you run the code above, you get the first line; a blank line; the second line; then a blank line after that. Where do the blank lines come from?"
   ]
  },
  {
   "cell_type": "markdown",
   "metadata": {},
   "source": [
    "### [readlines()](https://docs.python.org/3/library/io.html#io.IOBase.readlines)\n",
    "\n",
    "The [readlines()](https://docs.python.org/3/library/io.html#io.IOBase.readlines) method is very powerful. It extracts the entire contents of the file and splits it into a [list](https://docs.python.org/3/library/stdtypes.html#typesseq) of strings, where each item in the list is a line from the file. Here's an example:"
   ]
  },
  {
   "cell_type": "code",
   "execution_count": null,
   "metadata": {},
   "outputs": [],
   "source": [
    "# Set up the path so what we create our file on the desktop.\n",
    "\n",
    "import os\n",
    "path = os.path.expanduser('~') + '/Desktop/'\n",
    "\n",
    "# -----------------------------------------------------\n",
    "\n",
    "path += 'gettysburg.txt'\n",
    "f = open(path, 'r')\n",
    "\n",
    "sample = f.readlines()\n",
    "print(sample)\n",
    "\n",
    "# Close the file\n",
    "f.close()"
   ]
  },
  {
   "cell_type": "markdown",
   "metadata": {},
   "source": [
    "Run the program above. The output is a little busy, but examine it carefully. It is a list that begins and ends with brackets (`[]`), and each line of the file is a separate item in the list. Also notice that [readlines()](https://docs.python.org/3/library/io.html#io.IOBase.readlines) includes the newline characters as well (`\\n`). As the programmer, you get to decide if you want to strip those off or leave them in place.\n",
    "\n",
    "<hr>\n",
    "\n",
    "Here's a neat example that counts the number of lines in the file:"
   ]
  },
  {
   "cell_type": "code",
   "execution_count": null,
   "metadata": {},
   "outputs": [],
   "source": [
    "# Set up the path so what we create our file on the desktop.\n",
    "\n",
    "import os\n",
    "path = os.path.expanduser('~') + '/Desktop/'\n",
    "\n",
    "# -----------------------------------------------------\n",
    "\n",
    "path += 'gettysburg.txt'\n",
    "f = open(path, 'r')\n",
    "\n",
    "sample = f.readlines()\n",
    "print(f\"There are {len(sample):d} lines in the file\")\n",
    "\n",
    "# Close the file\n",
    "f.close()"
   ]
  },
  {
   "cell_type": "markdown",
   "metadata": {},
   "source": [
    "<hr>\n",
    "\n",
    "Here's another example that counts the occurrences of a user-selected letter:"
   ]
  },
  {
   "cell_type": "code",
   "execution_count": null,
   "metadata": {},
   "outputs": [],
   "source": [
    "# Set up the path so what we create our file on the desktop.\n",
    "\n",
    "import os\n",
    "path = os.path.expanduser('~') + '/Desktop/'\n",
    "\n",
    "# -----------------------------------------------------\n",
    "\n",
    "path += 'gettysburg.txt'\n",
    "f = open(path, 'r')\n",
    "\n",
    "letter = input(\"Enter a letter: \")\n",
    "count = 0\n",
    "text = f.readlines()\n",
    "\n",
    "for line in text:   # Examine each line in the list\n",
    "    for c in line:  # Examine each character in each line\n",
    "        # Account for both upper and lower case\n",
    "        if c == letter.lower() or c == letter.upper():\n",
    "            count += 1\n",
    "\n",
    "print(f\"The letter {letter:s} appears {count:d} times\")\n",
    "\n",
    "# Close the file\n",
    "f.close()"
   ]
  },
  {
   "cell_type": "markdown",
   "metadata": {},
   "source": [
    "The code above works fine and provides a good illustration of a nested loop. However, it's not very \"Pythonic\". A Python Jedi might write it something like this:"
   ]
  },
  {
   "cell_type": "code",
   "execution_count": null,
   "metadata": {},
   "outputs": [],
   "source": [
    "# Set up the path so what we create our file on the desktop.\n",
    "\n",
    "import os\n",
    "path = os.path.expanduser('~') + '/Desktop/'\n",
    "\n",
    "# -----------------------------------------------------\n",
    "\n",
    "path += 'gettysburg.txt'\n",
    "f = open(path, 'r')\n",
    "\n",
    "# Convert everything to uppercase to make for easy comparisons\n",
    "letter = input(\"Enter a letter: \").upper()\n",
    "print(f\"The letter {letter:s} appears {f.read().upper().count(letter):d} times\")\n",
    "\n",
    "# Close the file\n",
    "f.close()"
   ]
  },
  {
   "cell_type": "markdown",
   "metadata": {},
   "source": [
    "### Cleaning Up and Resetting\n",
    "\n",
    "Great job!\n",
    "\n",
    "Like any other programming topic, file I/O gets easier with practice. Try writing your own programs and exploring how it works. If you're still a little shaky, feel free to run through this notebook again.\n",
    "\n",
    "When you're done, or if you're going to run through this notebook again, you should clean up all the data files that this notebook generated. Here's a list of all the files that should be on your desktop, which you can safely delete:\n",
    "\n",
    "* `example1.txt`\n",
    "* `example2.txt`\n",
    "* `example3.txt`\n",
    "* `gettysburg.txt`"
   ]
  },
  {
   "cell_type": "markdown",
   "metadata": {},
   "source": [
    "## Additional Resources\n",
    "\n",
    "[Core tools for working with streams](https://docs.python.org/3/library/io.html)\n",
    "\n",
    "[Python File Handling: Create, Open, Append, Read, Write](https://www.guru99.com/reading-and-writing-files-in-python.html)"
   ]
  },
  {
   "cell_type": "markdown",
   "metadata": {},
   "source": [
    "<hr>\n",
    "\n",
    "*MIT License*\n",
    "\n",
    "*Copyright 2019-2021 Peter Nardi*\n",
    "\n",
    "*Terms of use:*\n",
    "\n",
    "*Permission is hereby granted, free of charge, to any person obtaining a copy of this software and associated documentation files (the \"Software\"), to deal in the Software without restriction, including without limitation the rights to use, copy, modify, merge, publish, distribute, sublicense, and/or sell copies of the Software, and to permit persons to whom the Software is furnished to do so, subject to the following conditions:*\n",
    "\n",
    "*The above copyright notice and this permission notice shall be included in all copies or substantial portions of the Software.*\n",
    "\n",
    "*THE SOFTWARE IS PROVIDED \"AS IS\", WITHOUT WARRANTY OF ANY KIND, EXPRESS OR IMPLIED, INCLUDING BUT NOT LIMITED TO THE WARRANTIES OF MERCHANTABILITY, FITNESS FOR A PARTICULAR PURPOSE AND NON-INFRINGEMENT. IN NO EVENT SHALL THE AUTHORS OR COPYRIGHT HOLDERS BE LIABLE FOR ANY CLAIM, DAMAGES OR OTHER LIABILITY, WHETHER IN AN ACTION OF CONTRACT, TORT OR OTHERWISE, ARISING FROM, OUT OF OR IN CONNECTION WITH THE SOFTWARE OR THE USE OR OTHER DEALINGS IN THE SOFTWARE.*"
   ]
  }
 ],
 "metadata": {
  "kernelspec": {
   "display_name": "Python 3 (ipykernel)",
   "language": "python",
   "name": "python3"
  },
  "language_info": {
   "codemirror_mode": {
    "name": "ipython",
    "version": 3
   },
   "file_extension": ".py",
   "mimetype": "text/x-python",
   "name": "python",
   "nbconvert_exporter": "python",
   "pygments_lexer": "ipython3",
   "version": "3.8.10"
  }
 },
 "nbformat": 4,
 "nbformat_minor": 4
}
