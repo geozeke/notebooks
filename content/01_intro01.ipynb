{
 "cells": [
  {
   "cell_type": "markdown",
   "metadata": {},
   "source": [
    "# Welcome To Python!\n"
   ]
  },
  {
   "cell_type": "markdown",
   "metadata": {},
   "source": [
    "Python provides a modern, flexible programming environment that scales from\n",
    "introductory programming courses, to full-fledged enterprise applications.\n",
    "It's a great place to start if you want to learn how to write computer programs\n",
    "and it runs on just about any system you might have (Windows, Mac, Linux). If\n",
    "you're curious about the history of Python (_for example, why is it called\n",
    "Python?_) then please visit [The Python History\n",
    "Wiki](https://en.wikipedia.org/wiki/History_of_Python):\n"
   ]
  },
  {
   "cell_type": "markdown",
   "metadata": {},
   "source": [
    "### Jumping Right In\n",
    "\n",
    "No introduction to computer programming would complete without writing the\n",
    "wildly popular [Hello\n",
    "World](https://en.wikipedia.org/wiki/%22Hello,_World!%22_program) program. The\n",
    "complete program in Python looks like this:\n"
   ]
  },
  {
   "cell_type": "code",
   "execution_count": null,
   "metadata": {},
   "outputs": [],
   "source": [
    "print(\"Hello World\")\n"
   ]
  },
  {
   "cell_type": "markdown",
   "metadata": {},
   "source": [
    "<br clear=\"all\" />\n",
    "<img src=\"../images/00check.png\" align=\"left\" />\n",
    "<br clear=\"all\" />\n",
    "\n",
    "Do you remember how to run a code cell? Visit [this jupyter\n",
    "notebook](./01_intro00.ipynb) if you need a refresher. To test your knowledge,\n",
    "run the code cell above and observe the output. Then modify the program to\n",
    "print your name, rather than `Hello World`, and run it again.\n"
   ]
  },
  {
   "cell_type": "markdown",
   "metadata": {},
   "source": [
    "While this first program is very simple, it introduces an important concept:\n",
    "Having Python print information to the screen. A computer program that only\n",
    "calculated results, but never provided them to you would not be very useful.\n",
    "\n",
    "In the [first notebook](01_intro00.ipynb) we introduced this Python program:\n"
   ]
  },
  {
   "cell_type": "code",
   "execution_count": null,
   "metadata": {},
   "outputs": [],
   "source": [
    "print(10 + 25)\n"
   ]
  },
  {
   "cell_type": "markdown",
   "metadata": {},
   "source": [
    "It's your turn. Modify the program above to print the sum of the first 10 even\n",
    "integers (starting from 2). When you run your updated program do you get `110`?\n"
   ]
  },
  {
   "cell_type": "markdown",
   "metadata": {},
   "source": [
    "### Comments\n",
    "\n",
    "There's a particular name for the file that contains your code. Programmers\n",
    "call it _source code_ (or a _source file_). A _source file_ contains the\n",
    "instructions that you write directing the computer to perform specific\n",
    "operations. Occasionally you'll write a section of code that requires some\n",
    "comments to describe your thinking when you wrote it. These aren't executable\n",
    "instructions, they're just notes that help you (or someone else looking at your\n",
    "code) follow the flow of your logic. If you ever write a computer program, then\n",
    "come back to it days or weeks later, these comments can be very useful to help\n",
    "you pick up your train of thought. You can also use comments to mark areas of\n",
    "your code as \"To Do\" items; things that you'll get back to later.\n",
    "\n",
    "In Python, non-executable comments are delineated with a leading hashtag\n",
    "character (`#`). Here's an example (run it to see what prints):\n"
   ]
  },
  {
   "cell_type": "code",
   "execution_count": null,
   "metadata": {},
   "outputs": [],
   "source": [
    "# This is a comment, it will not run\n",
    "\n",
    "print(\"This is my code\")\n"
   ]
  },
  {
   "cell_type": "markdown",
   "metadata": {},
   "source": [
    "Notice that line 2 in the code above is blank. Python ignores blank lines, but\n",
    "using them to format your code can make it neater and easier to read.\n"
   ]
  },
  {
   "cell_type": "markdown",
   "metadata": {},
   "source": [
    "### Speaking of Spaces\n",
    "\n",
    "If you can put blanks (spaces) between lines of code, what about spaces\n",
    "*within* a single line of code?\n",
    "\n",
    "Python is quite forgiving about how things are spaced-out. It often comes down\n",
    "to readability. Can you (or your instructor) easily read your code and follow\n",
    "along? While the program may run just fine, be mindful that you can change the\n",
    "intended result because of the particular spacing you used.\n",
    "\n",
    "Below are some examples. Run them and observe the outputs.\n"
   ]
  },
  {
   "cell_type": "markdown",
   "metadata": {},
   "source": [
    "#### Sample 1\n"
   ]
  },
  {
   "cell_type": "code",
   "execution_count": null,
   "metadata": {},
   "outputs": [],
   "source": [
    "# This code prints 20\n",
    "print(2 + 4 + 6 + 8)\n",
    "\n",
    "# This code also prints 20\n",
    "print(2+4 +       6         + 8)\n",
    "\n",
    "# Which is easier to read?\n"
   ]
  },
  {
   "cell_type": "markdown",
   "metadata": {},
   "source": [
    "#### Sample 2\n"
   ]
  },
  {
   "cell_type": "code",
   "execution_count": null,
   "metadata": {},
   "outputs": [],
   "source": [
    "# Does the difference in spacing between the two lines below\n",
    "# make a difference in the output?\n",
    "\n",
    "print(\"Go Navy!\")\n",
    "print(\"   Go       Navy  !\")\n"
   ]
  },
  {
   "cell_type": "markdown",
   "metadata": {},
   "source": [
    "You should have seen a difference in the outputs for Sample 2. Python is\n",
    "explicitly complying with your instructions to print everything (including the\n",
    "spaces) between the two quotation marks.\n"
   ]
  },
  {
   "cell_type": "markdown",
   "metadata": {},
   "source": [
    "### Error Messages and Writing Code\n"
   ]
  },
  {
   "cell_type": "markdown",
   "metadata": {},
   "source": [
    "Python prints error messages when something goes wrong with your program.\n",
    "Getting error messages is a natural and important part of writing code. There\n",
    "is no such thing as a coder who never got an error message -- that person\n",
    "doesn't exist. You should expect and embrace error messages when you write\n",
    "code. The error messages provide important information that helps you fix\n",
    "problems.\n",
    "\n",
    "An error in a computer program is commonly called a _bug_, and the term used to\n",
    "describe fixing those errors is _debugging_. [(why are coding errors called\n",
    "bugs?)](https://en.wikipedia.org/wiki/Software_bug) Below is a simple program\n",
    "that has a bug. Run the code and observe the resulting error message.\n"
   ]
  },
  {
   "cell_type": "code",
   "execution_count": null,
   "metadata": {},
   "outputs": [],
   "source": [
    "print(\"Go Navy!)\n",
    "print(2 + 3)\n"
   ]
  },
  {
   "cell_type": "markdown",
   "metadata": {},
   "source": [
    "The problem with the code above is that line 1 is missing a matching quotation\n",
    "mark after the exclamation point. Is that what the error message said?\n",
    "\n",
    "It would be great if Python always told you _exactly_ what was wrong with your\n",
    "program. Python will get you close, usually telling you _something_ went wrong,\n",
    "but sometimes it's imprecise about exactly _where the problem is_ and _what_\n",
    "went wrong. This is not unique to Python; all programming languages \"do their\n",
    "best\" to show you where errors are.\n",
    "\n",
    "When you write a computer program you should follow this design philosophy:\n",
    "**_build a little; test a little; learn a lot_**. Focus on a specific\n",
    "capability, get it working well, then move on to the next capability in your\n",
    "program. Begin by sketching your thoughts on paper with flowcharts and\n",
    "diagrams. Software engineers would refer to this as _Modular Design_. Don't\n",
    "approach a massive programming task by just typing-away. Organize your thoughts\n",
    "first, asking questions like:\n",
    "\n",
    "- What is this program supposed to do?\n",
    "- What are my inputs and outputs?\n",
    "- What's the best way to approach this problem?\n",
    "- How can I break up a larger task into smaller pieces?\n",
    "- How can I test my code to make sure it handles all possible inputs?\n",
    "\n",
    "Learning to program a computer is a hands-on activity. To get better at writing\n",
    "computer programs, there simply is no substitute for having your hands on the\n",
    "keyboard. As you get more practice you'll get better at it, but it takes time\n",
    "and patience. Programming a computer is very similar to learning to speak a new\n",
    "language or learning how to play a musical instrument - the more you do it, the\n",
    "better you get.\n",
    "\n",
    "Oh yes, and don't forget to embrace your error messages!\n"
   ]
  },
  {
   "cell_type": "markdown",
   "metadata": {},
   "source": [
    "### A Final Word About Python Reference Documentation\n",
    "\n",
    "The reference documentation for Python is **_outstanding_**! You can find it at\n",
    "[https://www.python.org/](https://www.python.org/). I strongly recommend\n",
    "bookmarking that site. Once you're there, you can get the documentation by\n",
    "mousing over `Documentation` then clicking on `Python Docs` (see the picture\n",
    "below). The next page will default to the documentation for the very latest\n",
    "version of Python. For this class, we're using Python 3.10.x, which you can\n",
    "access by clicking on the appropriate link on the left side of the page once\n",
    "you open the documentation.\n",
    "\n",
    "Throughout these notebooks I'll often provide links directly into the\n",
    "documentation, because the Python developers do such a great job of explaining\n",
    "things.\n",
    "\n",
    "<br clear=\"all\" />\n",
    "<img src=\"../images/00documentation-00.png\" align=\"left\" />\n",
    "<br clear=\"all\" />\n"
   ]
  },
  {
   "cell_type": "markdown",
   "metadata": {},
   "source": [
    "## Additional Resources\n",
    "\n",
    "[An Informal Introduction to\n",
    "Python](https://docs.python.org/3/tutorial/introduction.html)\n",
    "\n",
    "[Python Resources for Beginners](https://wiki.python.org/moin/BeginnersGuide)\n",
    "\n",
    "[Python Introduction\n",
    "(w3schools)](https://www.w3schools.com/python/python_intro.asp)\n"
   ]
  },
  {
   "cell_type": "markdown",
   "metadata": {},
   "source": [
    "---\n",
    "\n",
    "MIT License\n",
    "\n",
    "Copyright 2019-2022 Peter Nardi\n",
    "\n",
    "Terms of use:\n",
    "\n",
    "Permission is hereby granted, free of charge, to any person obtaining a copy of\n",
    "this software and associated documentation files (the \"Software\"), to deal in\n",
    "the Software without restriction, including without limitation the rights to\n",
    "use, copy, modify, merge, publish, distribute, sublicense, and/or sell copies\n",
    "of the Software, and to permit persons to whom the Software is furnished to do\n",
    "so, subject to the following conditions:\n",
    "\n",
    "The above copyright notice and this permission notice shall be included in all\n",
    "copies or substantial portions of the Software.\n",
    "\n",
    "THE SOFTWARE IS PROVIDED \"AS IS\", WITHOUT WARRANTY OF ANY KIND, EXPRESS OR\n",
    "IMPLIED, INCLUDING BUT NOT LIMITED TO THE WARRANTIES OF MERCHANTABILITY,\n",
    "FITNESS FOR A PARTICULAR PURPOSE AND NON-INFRINGEMENT. IN NO EVENT SHALL THE\n",
    "AUTHORS OR COPYRIGHT HOLDERS BE LIABLE FOR ANY CLAIM, DAMAGES OR OTHER\n",
    "LIABILITY, WHETHER IN AN ACTION OF CONTRACT, TORT OR OTHERWISE, ARISING FROM,\n",
    "OUT OF OR IN CONNECTION WITH THE SOFTWARE OR THE USE OR OTHER DEALINGS IN THE\n",
    "SOFTWARE.\n"
   ]
  }
 ],
 "metadata": {
  "kernelspec": {
   "display_name": "Python 3.10.6 64-bit",
   "language": "python",
   "name": "python3"
  },
  "language_info": {
   "codemirror_mode": {
    "name": "ipython",
    "version": 3
   },
   "file_extension": ".py",
   "mimetype": "text/x-python",
   "name": "python",
   "nbconvert_exporter": "python",
   "pygments_lexer": "ipython3",
   "version": "3.10.6"
  },
  "vscode": {
   "interpreter": {
    "hash": "31f2aee4e71d21fbe5cf8b01ff0e069b9275f58929596ceb00d14d90e3e16cd6"
   }
  }
 },
 "nbformat": 4,
 "nbformat_minor": 4
}
