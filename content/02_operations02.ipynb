{
 "cells": [
  {
   "cell_type": "markdown",
   "metadata": {},
   "source": [
    "# More Strings\n",
    "\n",
    "This is not an exhaustive list of all of Python's advanced string processing\n",
    "techniques, but it's a good foundation from which you can explore other\n",
    "resources to learn more."
   ]
  },
  {
   "cell_type": "markdown",
   "metadata": {},
   "source": [
    "### Printing Quotation Marks\n",
    "\n",
    "We've seen how strings are separated by quotation marks, but what if you want\n",
    "to actually __*print*__ a quotation mark?  How would you print this sentence to\n",
    "the screen:\n",
    "\n",
    "`USNA's colors are Blue and Gold`\n",
    "\n",
    "Does the code below do it?"
   ]
  },
  {
   "cell_type": "code",
   "execution_count": null,
   "metadata": {},
   "outputs": [],
   "source": [
    "s = \"USNA's colors are Blue and Gold\"\n",
    "print(s)\n"
   ]
  },
  {
   "cell_type": "markdown",
   "metadata": {},
   "source": [
    "It does. Maybe that's a clean solution to the problem.  Just use double quotes\n",
    "to define the string, and single quotes internal to the string.\n",
    "\n",
    "Assume we want to print this:\n",
    "\n",
    "`These are \"double quotes\" and these are 'single quotes'`\n",
    "\n",
    "Does this code work?"
   ]
  },
  {
   "cell_type": "code",
   "execution_count": null,
   "metadata": {},
   "outputs": [],
   "source": [
    "s = \"These are \"double quotes\" and these are 'single quotes'\"\n",
    "print(s)\n"
   ]
  },
  {
   "cell_type": "markdown",
   "metadata": {},
   "source": [
    "What error message do you get when you run that code?\n",
    "\n",
    "There is a way to handle quotation marks and many other special characters that\n",
    "you'll see throughout the course. The term we use is **\"escaping\"** the special\n",
    "character [(more\n",
    "here)](https://docs.python.org/3/reference/lexical_analysis.html#string-and-bytes-literals).\n",
    "The escape character for strings is the backslash (`\\`), and we use it like\n",
    "this:"
   ]
  },
  {
   "cell_type": "code",
   "execution_count": null,
   "metadata": {},
   "outputs": [],
   "source": [
    "s = \"These are \\\"double quotes\\\" and these are \\'single quotes\\'\"\n",
    "print(s)\n"
   ]
  },
  {
   "cell_type": "markdown",
   "metadata": {},
   "source": [
    "The code looks a little busy, but the more you use the syntax, the more you'll\n",
    "become comfortable with it. Notice that Python doesn't print the backslash\n",
    "character itself.  Using a backslash character in a string is the same as\n",
    "telling Python: \"*When you see a backslash character, actually print what comes\n",
    "immediately after it, not the backslash itself.*\"\n",
    "\n",
    "So what do you do if you actually want to print a backslash character, like\n",
    "this:\n",
    "\n",
    "`Here is a directory path in MS-Windows: c:\\smith\\Documents`\n",
    "\n",
    "The definition above still holds. Just use two backslashes!"
   ]
  },
  {
   "cell_type": "code",
   "execution_count": null,
   "metadata": {},
   "outputs": [],
   "source": [
    "s = \"Here is a directory path in MS-Windows: c:\\\\smith\\\\Documents\"\n",
    "print(s)\n"
   ]
  },
  {
   "cell_type": "markdown",
   "metadata": {},
   "source": [
    "### Accessing Individual Characters (revisited)\n",
    "\n",
    "In the [first notebook on strings](02_operations01.ipynb) we examined how to\n",
    "access individual characters. The example we gave was pretty straightforward\n",
    "because we chose the string to manipulate. What happens if you don't know the\n",
    "string in advance? What if you prompt the user for a string and then need to\n",
    "find specific characters?\n",
    "\n",
    "Here's an example of finding the length of a user-entered string and accessing\n",
    "individual characters."
   ]
  },
  {
   "cell_type": "code",
   "execution_count": null,
   "metadata": {},
   "outputs": [],
   "source": [
    "s = input(\"Enter a string: \")\n",
    "length = len(s)\n",
    "print(\"Number of characters in your string:\", length)\n",
    "print(\"The first character in your string is:\", s[0])\n",
    "print(\"The last character in your string is:\", s[-1])\n"
   ]
  },
  {
   "cell_type": "markdown",
   "metadata": {},
   "source": [
    "I never explained it, but what do you think Python's\n",
    "[len()](https://docs.python.org/3/library/functions.html) function does in line\n",
    "5 in the code above?"
   ]
  },
  {
   "cell_type": "markdown",
   "metadata": {},
   "source": [
    "### String Slicing\n",
    "\n",
    "Carving up strings in python is known as *slicing*.  While strings are\n",
    "immutable (unchangeable), you can still slice parts of them to create\n",
    "substrings and assemble the parts (concatenate them) in various ways. Here are\n",
    "some syntax rules for various slicing operations (assume we have a string\n",
    "variable called `s`):\n",
    "\n",
    "`s[start:end]` The substring in `s` from the character at position `start` to\n",
    "the character at position `end`-1.\n",
    "\n",
    "`s[start:]` The substring in `s` from the character at position `start` to the\n",
    "end of the string.\n",
    "\n",
    "`s[:end]` The substring in `s` from the beginning of the string to the\n",
    "character at position `end`-1.\n",
    "\n",
    "`s[:]` A complete copy of `s`.\n",
    "\n",
    "----\n",
    "\n",
    "Below is an example of slicing a string. Try to predict what will be printed in\n",
    "each example, then run the code to check your work."
   ]
  },
  {
   "cell_type": "code",
   "execution_count": null,
   "metadata": {},
   "outputs": [],
   "source": [
    "s = \"Here is a string we can use to test\"\n",
    "print(s[5:13])\n",
    "s2 = s[6:]\n",
    "print(s2)\n",
    "s2 = s[:8]\n",
    "print(s2)\n",
    "print(s[:16] + s[27:])\n"
   ]
  },
  {
   "cell_type": "markdown",
   "metadata": {},
   "source": [
    "### A Roundabout Way to Mutate a String Using Slicing\n",
    "\n",
    "In the [first string notebook](02_operations01.ipynb), I said that you can't\n",
    "mutate a string (change individual characters).  So, for example, how would we\n",
    "insert a new word into the middle of a string? The code below demonstrates one\n",
    "technique:"
   ]
  },
  {
   "cell_type": "code",
   "execution_count": null,
   "metadata": {},
   "outputs": [],
   "source": [
    "s1 = input(\"Enter a string: \")\n",
    "word = input(\"Enter a word to insert in the middle: \")\n",
    "middle = len(s1) // 2\n",
    "part1 = s1[:middle]  # end = middle - 1\n",
    "part2 = s1[middle:]  # start = middle\n",
    "print(\"Your new string is: \", part1 + word + part2)\n"
   ]
  },
  {
   "cell_type": "markdown",
   "metadata": {},
   "source": [
    "What's the difference between division using `/` and division using `//`? [(hint)](https://docs.python.org/3/library/stdtypes.html#typesnumeric)"
   ]
  },
  {
   "cell_type": "markdown",
   "metadata": {},
   "source": [
    "### Type Conversions\n",
    "\n",
    "So far our use of Python's\n",
    "[input()](https://docs.python.org/3/library/functions.html#input) function has\n",
    "been limited to string data, but what about getting numerical input from the\n",
    "user? Run the code below."
   ]
  },
  {
   "cell_type": "code",
   "execution_count": null,
   "metadata": {},
   "outputs": [],
   "source": [
    "n = input(\"Enter an integer: \")\n",
    "print(\"2n =\", 2*n)\n"
   ]
  },
  {
   "cell_type": "markdown",
   "metadata": {},
   "source": [
    "----\n",
    "\n",
    "Interesting, right? It doesn't crash, but it doesn't exactly do what we want.\n",
    "That's because Python's\n",
    "[input()](https://docs.python.org/3/library/functions.html#input) function\n",
    "assumes that everything you type is a string and if you want it to represent\n",
    "some other type it's up to you to do the conversion. \n",
    "\n",
    "So how do you convert the string `\"5\"` into the integer `5`? Use Python's\n",
    "[int()](https://docs.python.org/3/library/functions.html) function."
   ]
  },
  {
   "cell_type": "code",
   "execution_count": null,
   "metadata": {},
   "outputs": [],
   "source": [
    "n = input(\"Enter an integer: \")\n",
    "integer = int(n)\n",
    "print(\"2n =\", 2*integer)\n"
   ]
  },
  {
   "cell_type": "markdown",
   "metadata": {},
   "source": [
    "----\n",
    "\n",
    "Converting data from one type to another is called *casting*. When casting\n",
    "input to integers, a common technique is to combine the use of\n",
    "[int()](https://docs.python.org/3/library/functions.html) with\n",
    "[input()](https://docs.python.org/3/library/functions.html#input) on a single\n",
    "line like this:"
   ]
  },
  {
   "cell_type": "code",
   "execution_count": null,
   "metadata": {},
   "outputs": [],
   "source": [
    "n = int(input(\"Enter an integer: \"))\n",
    "print(\"2n =\", 2*n)\n"
   ]
  },
  {
   "cell_type": "markdown",
   "metadata": {},
   "source": [
    "----\n",
    "\n",
    "You can use [int()](https://docs.python.org/3/library/functions.html) to cast\n",
    "floats to integers as well. What happens when you run the code below?"
   ]
  },
  {
   "cell_type": "code",
   "execution_count": null,
   "metadata": {},
   "outputs": [],
   "source": [
    "pi = 3.14159\n",
    "print(\"Int pi =\", int(pi))\n"
   ]
  },
  {
   "cell_type": "markdown",
   "metadata": {},
   "source": [
    "----\n",
    "\n",
    "You can also cast numeric types into strings using Python's\n",
    "[str()](https://docs.python.org/3/library/functions.html) function."
   ]
  },
  {
   "cell_type": "code",
   "execution_count": null,
   "metadata": {},
   "outputs": [],
   "source": [
    "n = 42\n",
    "pi = 3.14159\n",
    "s = str(n) + str(pi)\n",
    "print(s)\n"
   ]
  },
  {
   "cell_type": "markdown",
   "metadata": {},
   "source": [
    "## Additional Resources\n",
    "\n",
    "[Common string\n",
    "operations](https://docs.python.org/3/library/stdtypes.html#textseq)\n",
    "\n",
    "[Built-in Python Functions](https://docs.python.org/3/library/functions.html)"
   ]
  },
  {
   "cell_type": "markdown",
   "metadata": {},
   "source": [
    "----\n",
    "\n",
    "MIT License\n",
    "\n",
    "Copyright 2019-2022 Peter Nardi\n",
    "\n",
    "Terms of use:\n",
    "\n",
    "Permission is hereby granted, free of charge, to any person obtaining a copy of\n",
    "this software and associated documentation files (the \"Software\"), to deal in\n",
    "the Software without restriction, including without limitation the rights to\n",
    "use, copy, modify, merge, publish, distribute, sublicense, and/or sell copies\n",
    "of the Software, and to permit persons to whom the Software is furnished to do\n",
    "so, subject to the following conditions:\n",
    "\n",
    "The above copyright notice and this permission notice shall be included in all\n",
    "copies or substantial portions of the Software.\n",
    "\n",
    "THE SOFTWARE IS PROVIDED \"AS IS\", WITHOUT WARRANTY OF ANY KIND, EXPRESS OR\n",
    "IMPLIED, INCLUDING BUT NOT LIMITED TO THE WARRANTIES OF MERCHANTABILITY,\n",
    "FITNESS FOR A PARTICULAR PURPOSE AND NON-INFRINGEMENT. IN NO EVENT SHALL THE\n",
    "AUTHORS OR COPYRIGHT HOLDERS BE LIABLE FOR ANY CLAIM, DAMAGES OR OTHER\n",
    "LIABILITY, WHETHER IN AN ACTION OF CONTRACT, TORT OR OTHERWISE, ARISING FROM,\n",
    "OUT OF OR IN CONNECTION WITH THE SOFTWARE OR THE USE OR OTHER DEALINGS IN THE\n",
    "SOFTWARE.\n"
   ]
  }
 ],
 "metadata": {
  "kernelspec": {
   "display_name": "Python 3.10.6 ('.venv': poetry)",
   "language": "python",
   "name": "python3"
  },
  "language_info": {
   "codemirror_mode": {
    "name": "ipython",
    "version": 3
   },
   "file_extension": ".py",
   "mimetype": "text/x-python",
   "name": "python",
   "nbconvert_exporter": "python",
   "pygments_lexer": "ipython3",
   "version": "3.10.6"
  },
  "vscode": {
   "interpreter": {
    "hash": "8a6624f1d65858c9851721b3cef5bb4f0a62e9574006eec404b6e8b42f2ecf27"
   }
  }
 },
 "nbformat": 4,
 "nbformat_minor": 4
}
