{
 "cells": [
  {
   "cell_type": "markdown",
   "metadata": {},
   "source": [
    "# More Strings\n",
    "\n",
    "This is not an exhaustive list of all of Python's advanced string processing techniques, but it's a good foundation from which you can explore other resources to learn more."
   ]
  },
  {
   "cell_type": "markdown",
   "metadata": {},
   "source": [
    "### Printing quotation marks\n",
    "\n",
    "We've seen how strings are separated by quotation marks, but what if you want to actually __*print*__ a quotation mark?  How would you print this sentence to the screen:\n",
    "\n",
    "`USNA's colors are Blue and Gold`\n",
    "\n",
    "Does the code below do it?"
   ]
  },
  {
   "cell_type": "code",
   "execution_count": null,
   "metadata": {},
   "outputs": [],
   "source": [
    "s = \"USNA's colors are Blue and Gold\"\n",
    "print(s)"
   ]
  },
  {
   "cell_type": "markdown",
   "metadata": {},
   "source": [
    "It does. Maybe that's a clean solution to the problem.  Just use double quotes to define the string, and single quotes internal to the string.\n",
    "\n",
    "Assume we want to print this:\n",
    "\n",
    "`These are \"double quotes\" and these are 'single quotes'`\n",
    "\n",
    "Does this code work?"
   ]
  },
  {
   "cell_type": "code",
   "execution_count": null,
   "metadata": {},
   "outputs": [],
   "source": [
    "s = \"These are \"double quotes\" and these are 'single quotes'\"\n",
    "print(s)"
   ]
  },
  {
   "cell_type": "markdown",
   "metadata": {},
   "source": [
    "What error message do you get when you run that code?\n",
    "\n",
    "There is a way to handle quotation marks and many other special characters that you'll see throughout the course. The term we use is **\"escaping\"** the special character [(more here)](https://docs.python.org/3/reference/lexical_analysis.html#string-and-bytes-literals). The escape character for strings is the backslash (`\\`), and we use it like this:"
   ]
  },
  {
   "cell_type": "code",
   "execution_count": null,
   "metadata": {},
   "outputs": [],
   "source": [
    "s = \"These are \\\"double quotes\\\" and these are \\'single quotes\\'\"\n",
    "print(s)"
   ]
  },
  {
   "cell_type": "markdown",
   "metadata": {},
   "source": [
    "The code looks a little busy, but the more you use the syntax, the more you'll become comfortable with it. Notice that Python doesn't print the backslash character itself.  Using a backslash character in a string is the same as telling Python: \"*When you see a backslash character, actually print what comes immediately after it, not the backslash itself.*\"\n",
    "\n",
    "So what do you do if you actually want to print a backslash character, like this:\n",
    "\n",
    "`Here is a directory path in MS-Windows: c:\\smith\\Documents`\n",
    "\n",
    "The definition above still holds; just use two backslashes!"
   ]
  },
  {
   "cell_type": "code",
   "execution_count": null,
   "metadata": {},
   "outputs": [],
   "source": [
    "s = \"Here is a directory path in MS-Windows: c:\\\\smith\\\\Documents\"\n",
    "print(s)"
   ]
  },
  {
   "cell_type": "markdown",
   "metadata": {},
   "source": [
    "### Accessing individual characters (revisited)\n",
    "\n",
    "In the first notebook on strings we examined how to access individual characters. The example we gave was pretty straightforward because we chose the string to manipulate. What happens if you don't know the string in advance? What if you prompt the user for a string and then need to find specific characters?\n",
    "\n",
    "Here's an example of finding the length of a user-entered string and accessing individual characters.\n",
    "\n",
    "*NOTE: Don't worry about the use of Python's `format()` function in this example. We'll explore `format()` in more detail in the next notebook.*"
   ]
  },
  {
   "cell_type": "code",
   "execution_count": null,
   "metadata": {},
   "outputs": [],
   "source": [
    "s = input(\"Enter a string: \")\n",
    "length = len(s)\n",
    "print(\"There are {0:d} characters in your string\".format(length))\n",
    "print(\"The first character in your string is: \\\"{0:s}\\\"\".format(s[0]))\n",
    "print(\"The last character in your string is: \\\"{0:s}\\\"\".format(s[length-1]))"
   ]
  },
  {
   "cell_type": "markdown",
   "metadata": {},
   "source": [
    "I never explained it, but what do you think Python's `len()` function does in line 5 in the code above? [(hint)](https://docs.python.org/3/library/functions.html)"
   ]
  },
  {
   "cell_type": "markdown",
   "metadata": {},
   "source": [
    "### String Slicing\n",
    "\n",
    "Carving up strings in python is known as *slicing*.  While strings are immutable (unchangable), you can still slice parts of them and assemble the parts (concatenate them) in various ways. Here are some syntax rules for various slicing operations (assume we have a string variable called `s`):\n",
    "\n",
    "`s[start:end]` From the character at position `start` to the character at position `end`-1.\n",
    "\n",
    "`s[start:]` From the character at position `start` to the end of the string.\n",
    "\n",
    "`s[:end]` From the beginning of the string to the character at position `end`-1.\n",
    "\n",
    "`s[:]` A complete copy of `s`.\n",
    "\n",
    "Here are some coding examples of slicing a string:"
   ]
  },
  {
   "cell_type": "code",
   "execution_count": null,
   "metadata": {},
   "outputs": [],
   "source": [
    "s = \"Here is a string we can use to test\"\n",
    "print(s[5:13])\n",
    "s2 = s[6:]\n",
    "print(s2)\n",
    "s2 = s[:8]\n",
    "print(s2)\n",
    "print(s[:16] + s[27:])"
   ]
  },
  {
   "cell_type": "markdown",
   "metadata": {},
   "source": [
    "### A roundabout way to mutate a string using slicing\n",
    "\n",
    "In the first string notebook, I said that you can't mutate a string (change individual characters).  So, for example, how would we insert a new word into the middle of a string?"
   ]
  },
  {
   "cell_type": "code",
   "execution_count": null,
   "metadata": {},
   "outputs": [],
   "source": [
    "s1 = input(\"Enter a string: \")\n",
    "word = input(\"Enter a word to insert in the middle: \")\n",
    "middle = len(s1) // 2\n",
    "part1 = s1[:middle] # end = middle - 1\n",
    "part2 = s1[middle:] # start = middle\n",
    "print(\"Your new string is: {0:s}\".format(part1 + word + part2))"
   ]
  },
  {
   "cell_type": "markdown",
   "metadata": {},
   "source": [
    "What's the difference between division using `/` and division using `//`? [(hint)](https://docs.python.org/3/library/stdtypes.html#typesnumeric)"
   ]
  },
  {
   "cell_type": "markdown",
   "metadata": {},
   "source": [
    "## Additional Resources\n",
    "\n",
    "[Common string operations](https://docs.python.org/3/library/stdtypes.html#textseq)"
   ]
  },
  {
   "cell_type": "markdown",
   "metadata": {},
   "source": [
    "<hr>\n",
    "\n",
    "*MIT License*\n",
    "\n",
    "*Copyright 2019-2020 Peter Nardi*\n",
    "\n",
    "*Terms of use:*\n",
    "\n",
    "*Permission is hereby granted, free of charge, to any person obtaining a copy of this software and associated documentation files (the \"Software\"), to deal in the Software without restriction, including without limitation the rights to use, copy, modify, merge, publish, distribute, sublicense, and/or sell copies of the Software, and to permit persons to whom the Software is furnished to do so, subject to the following conditions:*\n",
    "\n",
    "*The above copyright notice and this permission notice shall be included in all copies or substantial portions of the Software.*\n",
    "\n",
    "*THE SOFTWARE IS PROVIDED \"AS IS\", WITHOUT WARRANTY OF ANY KIND, EXPRESS OR IMPLIED, INCLUDING BUT NOT LIMITED TO THE WARRANTIES OF MERCHANTABILITY, FITNESS FOR A PARTICULAR PURPOSE AND NON-INFRINGEMENT. IN NO EVENT SHALL THE AUTHORS OR COPYRIGHT HOLDERS BE LIABLE FOR ANY CLAIM, DAMAGES OR OTHER LIABILITY, WHETHER IN AN ACTION OF CONTRACT, TORT OR OTHERWISE, ARISING FROM, OUT OF OR IN CONNECTION WITH THE SOFTWARE OR THE USE OR OTHER DEALINGS IN THE SOFTWARE.*"
   ]
  }
 ],
 "metadata": {
  "kernelspec": {
   "display_name": "Python 3",
   "language": "python",
   "name": "python3"
  },
  "language_info": {
   "codemirror_mode": {
    "name": "ipython",
    "version": 3
   },
   "file_extension": ".py",
   "mimetype": "text/x-python",
   "name": "python",
   "nbconvert_exporter": "python",
   "pygments_lexer": "ipython3",
   "version": "3.8.2"
  }
 },
 "nbformat": 4,
 "nbformat_minor": 4
}
