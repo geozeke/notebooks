{
 "cells": [
  {
   "cell_type": "markdown",
   "metadata": {},
   "source": [
    "# Logical Operators\n",
    "\n",
    "Logical operators allow us to move to more complex Boolean expressions. Take this simple expression that you might write in algebra:\n",
    "\n",
    "<br clear=\"all\" />\n",
    "<img src=\"../images/04simpleExpression.png\" align=\"left\" alt=\"simple\" />\n",
    "<br clear=\"all\" />\n",
    "\n",
    "Now consider this one, which is a little more complex:\n",
    "\n",
    "<br clear=\"all\" />\n",
    "<img src=\"../images/04complexExpression.png\" align=\"left\" alt=\"simple\" />\n",
    "<br clear=\"all\" />\n",
    "\n",
    "For this more complex expression, you might say it like this: \"*x is greater than three and x is less than or equal to 20.*\"\n",
    "\n",
    "What we need is an operator that performs like a [conjunction](https://www.youtube.com/watch?v=RPoBE-E8VOc) in English grammar to join Boolean expressions together. Python provides these [logical operators](https://docs.python.org/3/reference/expressions.html#not) for us. Here are the ones you'll use most often:\n",
    "\n",
    "* `and`: Returns `True` if both statements are true. Example: x > 3 `and` x <= 20)\n",
    "* `or`: Returns `True` if at least one of the statements is true. Example: x > 3 `or` x <= 20\n",
    "* `not`: Reverse the result, returns `False` if the result is `True`. Example: `not` (x > 3 and x <= 20))\n",
    "\n",
    "\n",
    "### Examples\n",
    "\n",
    "Let's look at some code. Before running each example, predict what will happen if you enter these different values for each run: 5, 3, 25, 0. Then run the code to check your answers."
   ]
  },
  {
   "cell_type": "code",
   "execution_count": null,
   "metadata": {},
   "outputs": [],
   "source": [
    "x = int(input(\"Enter an integer: \"))\n",
    "\n",
    "if x > 3 and x <= 20:\n",
    "    print(\"Within expected range\")\n",
    "else:\n",
    "    print(\"Outside expected range\")\n",
    "    \n",
    "print(\"Program complete\")"
   ]
  },
  {
   "cell_type": "markdown",
   "metadata": {},
   "source": [
    "<hr>\n",
    "\n",
    "Try this one (use 5, 3, 25, 0):"
   ]
  },
  {
   "cell_type": "code",
   "execution_count": null,
   "metadata": {},
   "outputs": [],
   "source": [
    "x = int(input(\"Enter an integer: \"))\n",
    "\n",
    "if x > 3 or x <= 20:\n",
    "    print(\"Within expected range\")\n",
    "else:\n",
    "    print(\"Outside expected range\")\n",
    "    \n",
    "print(\"Program complete\")"
   ]
  },
  {
   "cell_type": "markdown",
   "metadata": {},
   "source": [
    "<hr>\n",
    "\n",
    "Think carefully about this one (try 5, 3, 25, 0):"
   ]
  },
  {
   "cell_type": "code",
   "execution_count": null,
   "metadata": {},
   "outputs": [],
   "source": [
    "x = int(input(\"Enter an integer: \"))\n",
    "\n",
    "if (x > 3) and not(x <= 20):\n",
    "    print(\"Within expected range\")\n",
    "else:\n",
    "    print(\"Outside expected range\")\n",
    "    \n",
    "print(\"Program complete\")"
   ]
  },
  {
   "cell_type": "markdown",
   "metadata": {},
   "source": [
    "### Operator Precedence\n",
    "\n",
    "Boolean operators have a [precedence ranking](https://docs.python.org/3/reference/expressions.html#operator-summary), just like arithmetic operators. For Boolean operators the order of precedence (highest to lowest) is:\n",
    "\n",
    "* `not`\n",
    "* `and`\n",
    "* `or`\n",
    "\n",
    "To understand this, guess what will be produced when you run the code below with an input of 25, then run it to test your prediction."
   ]
  },
  {
   "cell_type": "code",
   "execution_count": null,
   "metadata": {},
   "outputs": [],
   "source": [
    "x = int(input(\"Enter an integer: \"))\n",
    "\n",
    "if x < 5 or x <= 25 and x > 0 and not(x == 12):\n",
    "    print(\"Success!\")\n",
    "else:\n",
    "    print(\"Failure :-(\")\n",
    "    \n",
    "print(\"Program complete\")"
   ]
  },
  {
   "cell_type": "markdown",
   "metadata": {},
   "source": [
    "*Also try other values to further test your understanding.*\n",
    "\n",
    "## Additional Resources\n",
    "\n",
    "[Python operator precedence](https://docs.python.org/3/reference/expressions.html#operator-summary)\n",
    "\n",
    "[Python Boolean Operations](https://docs.python.org/3/reference/expressions.html#not)"
   ]
  },
  {
   "cell_type": "markdown",
   "metadata": {},
   "source": [
    "<hr>\n",
    "\n",
    "*MIT License*\n",
    "\n",
    "*Copyright 2019-2021 Peter Nardi*\n",
    "\n",
    "*Terms of use:*\n",
    "\n",
    "*Permission is hereby granted, free of charge, to any person obtaining a copy of this software and associated documentation files (the \"Software\"), to deal in the Software without restriction, including without limitation the rights to use, copy, modify, merge, publish, distribute, sublicense, and/or sell copies of the Software, and to permit persons to whom the Software is furnished to do so, subject to the following conditions:*\n",
    "\n",
    "*The above copyright notice and this permission notice shall be included in all copies or substantial portions of the Software.*\n",
    "\n",
    "*THE SOFTWARE IS PROVIDED \"AS IS\", WITHOUT WARRANTY OF ANY KIND, EXPRESS OR IMPLIED, INCLUDING BUT NOT LIMITED TO THE WARRANTIES OF MERCHANTABILITY, FITNESS FOR A PARTICULAR PURPOSE AND NON-INFRINGEMENT. IN NO EVENT SHALL THE AUTHORS OR COPYRIGHT HOLDERS BE LIABLE FOR ANY CLAIM, DAMAGES OR OTHER LIABILITY, WHETHER IN AN ACTION OF CONTRACT, TORT OR OTHERWISE, ARISING FROM, OUT OF OR IN CONNECTION WITH THE SOFTWARE OR THE USE OR OTHER DEALINGS IN THE SOFTWARE.*"
   ]
  }
 ],
 "metadata": {
  "kernelspec": {
   "display_name": "Python 3",
   "language": "python",
   "name": "python3"
  },
  "language_info": {
   "codemirror_mode": {
    "name": "ipython",
    "version": 3
   },
   "file_extension": ".py",
   "mimetype": "text/x-python",
   "name": "python",
   "nbconvert_exporter": "python",
   "pygments_lexer": "ipython3",
   "version": "3.8.5"
  }
 },
 "nbformat": 4,
 "nbformat_minor": 4
}
