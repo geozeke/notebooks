{
 "cells": [
  {
   "cell_type": "markdown",
   "metadata": {},
   "source": [
    "# Lists\n",
    "\n",
    "Python [lists](https://docs.python.org/3/library/stdtypes.html#typesseq) are like arrays in other languages. In Python, lists can either be homogeneous (every item in the list is the same type) or heterogeneous (a collection of different types), which makes them very powerful. For example, this is a perfectly legal list in Python: `[\"Hello\", 0, 3.141]`. Lists are **iterable**, **mutable** and **ordered** (review these definitions here: [02_operations01.ipynb](./02_operations01.ipynb)).  Duplicates are allowed in lists.\n",
    "\n",
    "*Like any other programming language, there are many ways to approach problems in Python.  Two completely different approaches may be equally valid.  Keep in mind that as you go through these examples you'll often see multiple ways of doing the same thing.  No particular approach is presented here as \"the best\" or \"the only\" way do do things.  Find your own unique programming style and embrace it!*\n",
    "\n",
    "Lists are defined using square brackets `[]`. Let's start with an example that creates and prints a list."
   ]
  },
  {
   "cell_type": "code",
   "execution_count": null,
   "metadata": {},
   "outputs": [],
   "source": [
    "L = ['a', 'b', 'c']\n",
    "print(L)"
   ]
  },
  {
   "cell_type": "markdown",
   "metadata": {},
   "source": [
    "* `L` is just a variable name. You can use any legal variable name to create a list.\n",
    "* Each item in a list is separated by a comma, and the list is enclosed in square brackets.\n",
    "* When you use [print()](https://docs.python.org/3/library/functions.html), Python renders your list as a string to represent it on the screen."
   ]
  },
  {
   "cell_type": "markdown",
   "metadata": {},
   "source": [
    "<hr>\n",
    "\n",
    "You can combine two lists (concatenate) using the `+` operator:"
   ]
  },
  {
   "cell_type": "code",
   "execution_count": null,
   "metadata": {},
   "outputs": [],
   "source": [
    "L1 = [1, 2, 3]\n",
    "L2 = [4, 5, 6]\n",
    "L3 = L1 + L2\n",
    "print(L3)"
   ]
  },
  {
   "cell_type": "markdown",
   "metadata": {},
   "source": [
    "<hr>\n",
    "\n",
    "Here we create a list of integers and use a loop to iterate over the list and print each one."
   ]
  },
  {
   "cell_type": "code",
   "execution_count": null,
   "metadata": {},
   "outputs": [],
   "source": [
    "myList = [12, 55, 33, 81]\n",
    "for item in myList:\n",
    "    print(item)"
   ]
  },
  {
   "cell_type": "markdown",
   "metadata": {},
   "source": [
    "* The variable `myList` holds our list.\n",
    "* There are four integers in our list: `12`, `55`, `33`, `81`.\n",
    "* The integers in our list are maintained ***in order***.\n",
    "* We're using Python's fast iteration technique to iterate over the list."
   ]
  },
  {
   "cell_type": "markdown",
   "metadata": {},
   "source": [
    "<hr>\n",
    "\n",
    "The integers in our list above can be referenced by their indices (position), just like the characters in a string. We could also write the code above like this:"
   ]
  },
  {
   "cell_type": "code",
   "execution_count": null,
   "metadata": {},
   "outputs": [],
   "source": [
    "myList = [12, 55, 33, 81]\n",
    "for i in range(len(myList)):\n",
    "    print(myList[i])"
   ]
  },
  {
   "cell_type": "markdown",
   "metadata": {},
   "source": [
    "* Here I'm using Python's [len()](https://docs.python.org/3/library/functions.html) function to determine the number of items in `myList`.\n",
    "* The loop goes from `0` to `len(myList) - 1`. That's how [range()](https://docs.python.org/3/tutorial/controlflow.html#tut-range) works."
   ]
  },
  {
   "cell_type": "markdown",
   "metadata": {},
   "source": [
    "<hr>\n",
    "\n",
    "Next, let's examine how to add, remove and sort items in a list using different techniques. Notice that we initialize an empty list with just two brackets: `L = []`."
   ]
  },
  {
   "cell_type": "code",
   "execution_count": null,
   "metadata": {},
   "outputs": [],
   "source": [
    "L = []            # Empty list\n",
    "L.append(23)      # Append 23 to the end\n",
    "L = L + [15, 55]  # We can \"concatenate\" two lists together\n",
    "print(\"L = \", L)\n",
    "L.insert(1, 99)   # Insert 99 at index 1.  This makes the list bigger.\n",
    "print(\"L = \", L)\n",
    "n = L.pop()       # Return (and remove) the last item in a list\n",
    "print(\"n = \", n)\n",
    "print(\"L = \", L)\n",
    "L.sort()          # Sorting is performed in place, meaning it mutates L\n",
    "print(\"L sorted = \", L)\n",
    "L[1] = 8          # Change the value at index 1\n",
    "print(\"L = \", L)\n",
    "L.pop(0)          # Return (and remove) the item at index 0. Ignore return value\n",
    "print(\"L = \", L)"
   ]
  },
  {
   "cell_type": "markdown",
   "metadata": {},
   "source": [
    "A few new functions are introduced above, and you can read about them [here](https://docs.python.org/3/tutorial/datastructures.html):\n",
    "\n",
    "* `append()`\n",
    "* `insert()`\n",
    "* `pop()`\n",
    "* `sort()`"
   ]
  },
  {
   "cell_type": "markdown",
   "metadata": {},
   "source": [
    "<hr>\n",
    "\n",
    "You can test if an item is contained in a list using Python's [in](https://docs.python.org/3/reference/expressions.html#membership-test-details) operator.\n",
    "\n",
    "Note: In the example below I'm iterating through a range, with an iteration variable called `_` (underscore). In Python (and many other languages) the use of `_` means: *I don't care about using a specific variable when I iterate, I'm just interested in iterating a certain number of times.*"
   ]
  },
  {
   "cell_type": "code",
   "execution_count": null,
   "metadata": {},
   "outputs": [],
   "source": [
    "import random\n",
    "\n",
    "# Create a list with 10 random integers from 1 to 100 We can use \"_\" to mean \"I\n",
    "# don't need a specific iterator, I just want to iterate 10 times\".\n",
    "\n",
    "L = []\n",
    "for _ in range(10):\n",
    "    L.append(random.randint(1, 100))\n",
    "\n",
    "print(\"L = \", L)\n",
    "n = int(input(\"Enter an integer: \"))\n",
    "\n",
    "if n in L:\n",
    "    print(f\"{n:d} is in L\")\n",
    "else:\n",
    "    print(f\"{n:d} is not in L\")"
   ]
  },
  {
   "cell_type": "markdown",
   "metadata": {},
   "source": [
    "<hr>\n",
    "\n",
    "You can reverse the order of a list. Note that this mutates the original list, rather than returning a modified copy of the list."
   ]
  },
  {
   "cell_type": "code",
   "execution_count": null,
   "metadata": {},
   "outputs": [],
   "source": [
    "L = [2, 4, 6, 8]\n",
    "print(L)\n",
    "L.reverse()\n",
    "print(L)"
   ]
  },
  {
   "cell_type": "markdown",
   "metadata": {},
   "source": [
    "<hr>\n",
    "\n",
    "If you wanted to modify a copy of a list, but keep the original intact, you can use [copy()](https://docs.python.org/3/tutorial/datastructures.html)."
   ]
  },
  {
   "cell_type": "code",
   "execution_count": null,
   "metadata": {},
   "outputs": [],
   "source": [
    "L1 = [2, 4, 6, 8]\n",
    "L2 = L1.copy()\n",
    "L2.reverse()\n",
    "print(L1)\n",
    "print(L2)"
   ]
  },
  {
   "cell_type": "markdown",
   "metadata": {},
   "source": [
    "<hr>\n",
    "\n",
    "Need to add up all the integers in a list? Super-easy in Python!"
   ]
  },
  {
   "cell_type": "code",
   "execution_count": null,
   "metadata": {},
   "outputs": [],
   "source": [
    "import random\n",
    "\n",
    "L = []  # Initialize an empty list\n",
    "for _ in range(5):\n",
    "    L.append(random.randint(1, 101))\n",
    "\n",
    "print(\"Your list is:\", L)\n",
    "print(\"The sum of the integers in L is:\", sum(L))"
   ]
  },
  {
   "cell_type": "markdown",
   "metadata": {},
   "source": [
    "<hr>\n",
    "\n",
    "Strings are immutable, but you can convert strings into lists, manipulate individual characters, then turn the list back into a string.\n",
    "\n",
    "*Spend some time exploring the Python [join()](https://docs.python.org/3/library/stdtypes.html#str.join) method for strings.  It's very powerful.*"
   ]
  },
  {
   "cell_type": "code",
   "execution_count": null,
   "metadata": {},
   "outputs": [],
   "source": [
    "# This program toggles the case of the input string (converts uppercase letters\n",
    "# to lowercase and lowercase letters to uppercase)\n",
    "\n",
    "s = input(\"Enter a string:\")\n",
    "L = list(s)  # Convert the string into a list of characters\n",
    "print()      # Print a blank line for clarity\n",
    "print(s)\n",
    "print(L)\n",
    "\n",
    "for i in range(len(L)):\n",
    "    if L[i].islower():\n",
    "        L[i] = L[i].upper()\n",
    "    else:\n",
    "        L[i] = L[i].lower()\n",
    "\n",
    "print(L)\n",
    "s = \"\".join(L)\n",
    "print(s)"
   ]
  },
  {
   "cell_type": "markdown",
   "metadata": {},
   "source": [
    "<hr>\n",
    "\n",
    "The previous example was illustrative, but a bit overkill for the required task.  A true Python Jedi might do it like this:"
   ]
  },
  {
   "cell_type": "code",
   "execution_count": null,
   "metadata": {},
   "outputs": [],
   "source": [
    "# This program toggles the case of the input string (converts uppercase letters\n",
    "# to lowercase and lowercase letters to uppercase)\n",
    "\n",
    "s = input(\"Enter a string:\")\n",
    "print(s)\n",
    "print(\"\".join(c.lower() if c.isupper() else c.upper() for c in s))"
   ]
  },
  {
   "cell_type": "markdown",
   "metadata": {},
   "source": [
    "## Additional Resources\n",
    "\n",
    "[Sequence Types — list, tuple, range](https://docs.python.org/3/library/stdtypes.html#typesseq)\n",
    "\n",
    "[Data Structures (list, dict, tuples, sets, strings)](http://thomas-cokelaer.info/tutorials/python/data_structures.html)\n",
    "\n",
    "[Python Data Structures – Lists, Tuples, Sets, Dictionaries](https://data-flair.training/blogs/python-data-structures-tutorial/)"
   ]
  },
  {
   "cell_type": "markdown",
   "metadata": {},
   "source": [
    "<hr>\n",
    "\n",
    "*MIT License*\n",
    "\n",
    "*Copyright 2019-2021 Peter Nardi*\n",
    "\n",
    "*Terms of use:*\n",
    "\n",
    "*Permission is hereby granted, free of charge, to any person obtaining a copy of this software and associated documentation files (the \"Software\"), to deal in the Software without restriction, including without limitation the rights to use, copy, modify, merge, publish, distribute, sublicense, and/or sell copies of the Software, and to permit persons to whom the Software is furnished to do so, subject to the following conditions:*\n",
    "\n",
    "*The above copyright notice and this permission notice shall be included in all copies or substantial portions of the Software.*\n",
    "\n",
    "*THE SOFTWARE IS PROVIDED \"AS IS\", WITHOUT WARRANTY OF ANY KIND, EXPRESS OR IMPLIED, INCLUDING BUT NOT LIMITED TO THE WARRANTIES OF MERCHANTABILITY, FITNESS FOR A PARTICULAR PURPOSE AND NON-INFRINGEMENT. IN NO EVENT SHALL THE AUTHORS OR COPYRIGHT HOLDERS BE LIABLE FOR ANY CLAIM, DAMAGES OR OTHER LIABILITY, WHETHER IN AN ACTION OF CONTRACT, TORT OR OTHERWISE, ARISING FROM, OUT OF OR IN CONNECTION WITH THE SOFTWARE OR THE USE OR OTHER DEALINGS IN THE SOFTWARE.*"
   ]
  }
 ],
 "metadata": {
  "kernelspec": {
   "display_name": "Python 3 (ipykernel)",
   "language": "python",
   "name": "python3"
  },
  "language_info": {
   "codemirror_mode": {
    "name": "ipython",
    "version": 3
   },
   "file_extension": ".py",
   "mimetype": "text/x-python",
   "name": "python",
   "nbconvert_exporter": "python",
   "pygments_lexer": "ipython3",
   "version": "3.8.10"
  }
 },
 "nbformat": 4,
 "nbformat_minor": 4
}
