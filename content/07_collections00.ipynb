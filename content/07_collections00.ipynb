{
 "cells": [
  {
   "cell_type": "markdown",
   "metadata": {},
   "source": [
    "# Lists\n",
    "\n",
    "Python [lists](https://docs.python.org/3/library/stdtypes.html#typesseq) are\n",
    "like arrays in other languages. In Python, lists can either be homogeneous\n",
    "(every item in the list is the same type) or heterogeneous (a collection of\n",
    "different types), which makes them very powerful. For example, this is a\n",
    "perfectly legal list in Python: `[\"Hello\", 0, 3.141]`. Lists are **iterable**,\n",
    "**mutable** and **ordered** (review these definitions here:\n",
    "[02_operations01.ipynb](./02_operations01.ipynb)).  Duplicates are allowed in\n",
    "lists.\n",
    "\n",
    "*Like any other programming language, there are many ways to approach problems\n",
    "in Python.  Two completely different approaches may be equally valid.  Keep in\n",
    "mind that as you go through these examples you'll often see multiple ways of\n",
    "doing the same thing.  No particular approach is presented here as \"the best\"\n",
    "or \"the only\" way do do things.  Find your own unique programming style and\n",
    "embrace it!*\n",
    "\n",
    "Lists are defined using square brackets `[]`. Let's start with an example that\n",
    "creates and prints a list."
   ]
  },
  {
   "cell_type": "code",
   "execution_count": null,
   "metadata": {},
   "outputs": [],
   "source": [
    "L = ['a', 'b', 'c']\n",
    "print(L)\n"
   ]
  },
  {
   "cell_type": "markdown",
   "metadata": {},
   "source": [
    "* `L` is just a variable name. You can use any legal variable name to create a\n",
    "  list.\n",
    "* Each item in a list is separated by a comma, and the list is enclosed in\n",
    "  square brackets.\n",
    "* When you use [print()](https://docs.python.org/3/library/functions.html),\n",
    "  Python renders your list as a string to represent it on the screen."
   ]
  },
  {
   "cell_type": "markdown",
   "metadata": {},
   "source": [
    "----\n",
    "\n",
    "You can combine two lists (concatenate) using the `+` operator (*pay careful\n",
    "attention to the order of the printed result*):"
   ]
  },
  {
   "cell_type": "code",
   "execution_count": null,
   "metadata": {},
   "outputs": [],
   "source": [
    "L1 = [1, 2, 3]\n",
    "L2 = [4, 5, 6]\n",
    "L3 = L2 + L1\n",
    "print(L3)\n"
   ]
  },
  {
   "cell_type": "markdown",
   "metadata": {},
   "source": [
    "----\n",
    "\n",
    "Here we create a list of integers and use a loop to iterate over the list and\n",
    "print each one."
   ]
  },
  {
   "cell_type": "code",
   "execution_count": null,
   "metadata": {},
   "outputs": [],
   "source": [
    "my_list = [12, 55, 33, 81]\n",
    "for item in my_list:\n",
    "    print(item)\n"
   ]
  },
  {
   "cell_type": "markdown",
   "metadata": {},
   "source": [
    "* The variable `my_list` holds our list.\n",
    "* There are four integers in our list: `12`, `55`, `33`, `81`.\n",
    "* The integers in our list are maintained ***in order***.\n",
    "* We're using Python's fast iteration technique to iterate over the list."
   ]
  },
  {
   "cell_type": "markdown",
   "metadata": {},
   "source": [
    "----\n",
    "\n",
    "The integers in our list above can be referenced by their indices (position),\n",
    "just like the characters in a string. We could also write the code above like\n",
    "this:"
   ]
  },
  {
   "cell_type": "code",
   "execution_count": null,
   "metadata": {},
   "outputs": [],
   "source": [
    "my_list = [12, 55, 33, 81]\n",
    "for i in range(len(my_list)):\n",
    "    print(my_list[i])\n"
   ]
  },
  {
   "cell_type": "markdown",
   "metadata": {},
   "source": [
    "* Here I'm using Python's\n",
    "  [len()](https://docs.python.org/3/library/functions.html) function to\n",
    "  determine the number of items in `my_list`.\n",
    "* The loop goes from `0` to `len(my_list) - 1`. That's how\n",
    "  [range()](https://docs.python.org/3/tutorial/controlflow.html#tut-range)\n",
    "  works."
   ]
  },
  {
   "cell_type": "markdown",
   "metadata": {},
   "source": [
    "----\n",
    "\n",
    "Next, let's examine how to add, remove and sort items in a list using different\n",
    "techniques. Notice that we initialize an empty list with just two brackets: `L\n",
    "= []`."
   ]
  },
  {
   "cell_type": "code",
   "execution_count": null,
   "metadata": {},
   "outputs": [],
   "source": [
    "L = []            # Empty list\n",
    "L.append(23)      # Append 23 to the end\n",
    "L = L + [15, 55]  # We can \"concatenate\" two lists together\n",
    "print(\"L = \", L)\n",
    "L.insert(1, 99)   # Insert 99 at index 1.  This makes the list bigger.\n",
    "print(\"L = \", L)\n",
    "n = L.pop()       # Return (and remove) the last item in a list\n",
    "print(\"n = \", n)\n",
    "print(\"L = \", L)\n",
    "L.sort()          # Sorting is performed in place, meaning it mutates L\n",
    "print(\"L sorted = \", L)\n",
    "L[1] = 8          # Change the value at index 1\n",
    "print(\"L = \", L)\n",
    "L.pop(0)          # Return (and remove) item at index 0. Ignore return value\n",
    "print(\"L = \", L)\n"
   ]
  },
  {
   "cell_type": "markdown",
   "metadata": {},
   "source": [
    "A few new functions are introduced above, and you can read about them\n",
    "[here](https://docs.python.org/3/tutorial/datastructures.html):\n",
    "\n",
    "* `append()`\n",
    "* `insert()`\n",
    "* `pop()`\n",
    "* `sort()`"
   ]
  },
  {
   "cell_type": "markdown",
   "metadata": {},
   "source": [
    "----\n",
    "\n",
    "You can test if an item is contained in a list using Python's\n",
    "[in](https://docs.python.org/3/reference/expressions.html#membership-test-details)\n",
    "operator.\n",
    "\n",
    "Note: In the example below I'm iterating through a range, with an iteration\n",
    "variable called `_` (underscore). In Python (and many other languages) the use\n",
    "of `_` means: *I don't care about using a specific variable when I iterate, I'm\n",
    "just interested in iterating a certain number of times.*"
   ]
  },
  {
   "cell_type": "code",
   "execution_count": null,
   "metadata": {},
   "outputs": [],
   "source": [
    "import random\n",
    "\n",
    "# Create a list with 10 random integers from 1 to 100 We can use \"_\" to mean \"I\n",
    "# don't need a specific iterator, I just want to iterate 10 times\".\n",
    "\n",
    "L = []\n",
    "for _ in range(10):\n",
    "    L.append(random.randint(1, 100))\n",
    "\n",
    "print(\"L = \", L)\n",
    "n = int(input(\"Enter an integer: \"))\n",
    "\n",
    "if n in L:\n",
    "    print(f\"{n:d} is in L\")\n",
    "else:\n",
    "    print(f\"{n:d} is not in L\")\n"
   ]
  },
  {
   "cell_type": "markdown",
   "metadata": {},
   "source": [
    "----\n",
    "\n",
    "You can reverse the order of a list. Note that this mutates the original list,\n",
    "rather than returning a modified copy of the list."
   ]
  },
  {
   "cell_type": "code",
   "execution_count": null,
   "metadata": {},
   "outputs": [],
   "source": [
    "L = [2, 4, 6, 8]\n",
    "print(L)\n",
    "L.reverse()\n",
    "print(L)\n"
   ]
  },
  {
   "cell_type": "markdown",
   "metadata": {},
   "source": [
    "----\n",
    "\n",
    "If you wanted to modify a copy of a list, but keep the original intact, you can\n",
    "use [copy()](https://docs.python.org/3/tutorial/datastructures.html)."
   ]
  },
  {
   "cell_type": "code",
   "execution_count": null,
   "metadata": {},
   "outputs": [],
   "source": [
    "L1 = [2, 4, 6, 8]\n",
    "L2 = L1.copy()\n",
    "L2.reverse()\n",
    "print(L1)\n",
    "print(L2)\n"
   ]
  },
  {
   "cell_type": "markdown",
   "metadata": {},
   "source": [
    "----\n",
    "\n",
    "Need to add up all the integers in a list? Super-easy in Python!"
   ]
  },
  {
   "cell_type": "code",
   "execution_count": null,
   "metadata": {},
   "outputs": [],
   "source": [
    "import random\n",
    "\n",
    "L = []  # Initialize an empty list\n",
    "for _ in range(5):\n",
    "    L.append(random.randint(1, 101))\n",
    "\n",
    "print(\"Your list is:\", L)\n",
    "print(\"The sum of the integers in L is:\", sum(L))\n"
   ]
  },
  {
   "cell_type": "markdown",
   "metadata": {},
   "source": [
    "----\n",
    "\n",
    "Strings are immutable, but you can convert strings into lists, manipulate\n",
    "individual characters, then turn the list back into a string.\n",
    "\n",
    "*Spend some time exploring the Python\n",
    "[join()](https://docs.python.org/3/library/stdtypes.html#str.join) method for\n",
    "strings.  It's very powerful.*"
   ]
  },
  {
   "cell_type": "code",
   "execution_count": null,
   "metadata": {},
   "outputs": [],
   "source": [
    "# This program toggles the case of the input string (converts uppercase letters\n",
    "# to lowercase and lowercase letters to uppercase)\n",
    "\n",
    "s = input(\"Enter a string:\")\n",
    "L = list(s)  # Convert the string into a list of characters\n",
    "print()      # Print a blank line for clarity\n",
    "print(s)\n",
    "print(L)\n",
    "\n",
    "for i in range(len(L)):\n",
    "    if L[i].islower():\n",
    "        L[i] = L[i].upper()\n",
    "    else:\n",
    "        L[i] = L[i].lower()\n",
    "\n",
    "print(L)\n",
    "s = \"\".join(L)\n",
    "print(s)\n"
   ]
  },
  {
   "cell_type": "markdown",
   "metadata": {},
   "source": [
    "----\n",
    "\n",
    "The previous example was illustrative, but a bit overkill for the required\n",
    "task.  A true Python Jedi might do it like this:"
   ]
  },
  {
   "cell_type": "code",
   "execution_count": null,
   "metadata": {},
   "outputs": [],
   "source": [
    "# This program toggles the case of the input string (converts uppercase letters\n",
    "# to lowercase and lowercase letters to uppercase)\n",
    "\n",
    "s = input(\"Enter a string:\")\n",
    "print(s)\n",
    "print(\"\".join([c.lower() if c.isupper() else c.upper() for c in s]))\n"
   ]
  },
  {
   "cell_type": "markdown",
   "metadata": {},
   "source": [
    "## Additional Resources\n",
    "\n",
    "[Sequence Types — list, tuple,\n",
    "range](https://docs.python.org/3/library/stdtypes.html#typesseq)\n",
    "\n",
    "[Data Structures (list, dict, tuples, sets,\n",
    "strings)](http://thomas-cokelaer.info/tutorials/python/data_structures.html)\n",
    "\n",
    "[Python Data Structures – Lists, Tuples, Sets,\n",
    "Dictionaries](https://data-flair.training/blogs/python-data-structures-tutorial/)"
   ]
  },
  {
   "cell_type": "markdown",
   "metadata": {},
   "source": [
    "----\n",
    "\n",
    "MIT License\n",
    "\n",
    "Copyright 2019-2022 Peter Nardi\n",
    "\n",
    "Terms of use:\n",
    "\n",
    "Permission is hereby granted, free of charge, to any person obtaining a copy of\n",
    "this software and associated documentation files (the \"Software\"), to deal in\n",
    "the Software without restriction, including without limitation the rights to\n",
    "use, copy, modify, merge, publish, distribute, sublicense, and/or sell copies\n",
    "of the Software, and to permit persons to whom the Software is furnished to do\n",
    "so, subject to the following conditions:\n",
    "\n",
    "The above copyright notice and this permission notice shall be included in all\n",
    "copies or substantial portions of the Software.\n",
    "\n",
    "THE SOFTWARE IS PROVIDED \"AS IS\", WITHOUT WARRANTY OF ANY KIND, EXPRESS OR\n",
    "IMPLIED, INCLUDING BUT NOT LIMITED TO THE WARRANTIES OF MERCHANTABILITY,\n",
    "FITNESS FOR A PARTICULAR PURPOSE AND NON-INFRINGEMENT. IN NO EVENT SHALL THE\n",
    "AUTHORS OR COPYRIGHT HOLDERS BE LIABLE FOR ANY CLAIM, DAMAGES OR OTHER\n",
    "LIABILITY, WHETHER IN AN ACTION OF CONTRACT, TORT OR OTHERWISE, ARISING FROM,\n",
    "OUT OF OR IN CONNECTION WITH THE SOFTWARE OR THE USE OR OTHER DEALINGS IN THE\n",
    "SOFTWARE.\n"
   ]
  }
 ],
 "metadata": {
  "kernelspec": {
   "display_name": "Python 3.10.6 ('.venv': poetry)",
   "language": "python",
   "name": "python3"
  },
  "language_info": {
   "codemirror_mode": {
    "name": "ipython",
    "version": 3
   },
   "file_extension": ".py",
   "mimetype": "text/x-python",
   "name": "python",
   "nbconvert_exporter": "python",
   "pygments_lexer": "ipython3",
   "version": "3.10.6"
  },
  "vscode": {
   "interpreter": {
    "hash": "8a6624f1d65858c9851721b3cef5bb4f0a62e9574006eec404b6e8b42f2ecf27"
   }
  }
 },
 "nbformat": 4,
 "nbformat_minor": 4
}
