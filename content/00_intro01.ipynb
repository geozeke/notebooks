{
 "cells": [
  {
   "cell_type": "markdown",
   "metadata": {},
   "source": [
    "# Welcome To Python!"
   ]
  },
  {
   "cell_type": "markdown",
   "metadata": {},
   "source": [
    "Python provides a modern, flexible programming environment that scales from introductory programming courses, to full-fledged enterprise applications.  It's a great place to start if you want to learn how to write computer programs and it runs on just about any system you might have (Windows, Mac, Linux).  If you're curious about the history of Python (*for example, why is it called Python?*) then please visit [The Python History Wiki](https://en.wikipedia.org/wiki/History_of_Python):"
   ]
  },
  {
   "cell_type": "markdown",
   "metadata": {},
   "source": [
    "### Jumping right in\n",
    "\n",
    "No introduction to computer programming would complete without writing the wildly popular [Hello World](https://en.wikipedia.org/wiki/%22Hello,_World!%22_program) program.  The complete program in Python looks like this:"
   ]
  },
  {
   "cell_type": "code",
   "execution_count": null,
   "metadata": {},
   "outputs": [],
   "source": [
    "print(\"Hello World\")"
   ]
  },
  {
   "cell_type": "markdown",
   "metadata": {},
   "source": [
    "<br clear=\"all\" />\n",
    "<img src=\"../images/00check.png\" align=\"left\" />\n",
    "<br clear=\"all\" />\n",
    "\n",
    "Do you remember how to run a code cell?  Visit the first jupyter notebook if you need a refresher. To test your knowledge, run the code cell above and observe the output.  Then modify the program to print your name, rather than `Hello World` and run it again."
   ]
  },
  {
   "cell_type": "markdown",
   "metadata": {},
   "source": [
    "While this first program is very simple, it introduces an important concept: Having Python print information to the screen. A computer program that only calculated results, but never provided them to you would not be very useful.\n",
    "\n",
    "In the first notebook we introduced this Python program:"
   ]
  },
  {
   "cell_type": "code",
   "execution_count": null,
   "metadata": {},
   "outputs": [],
   "source": [
    "print(10 + 25)"
   ]
  },
  {
   "cell_type": "markdown",
   "metadata": {},
   "source": [
    "It's your turn. Modify the program above to print the sum of the first 10 even integers (starting from 2). When you ran the program did you get 110?"
   ]
  },
  {
   "cell_type": "markdown",
   "metadata": {},
   "source": [
    "### Comments\n",
    "\n",
    "There's a particular name for the file that contains your code. Programmers call it *source code* (or a *source file*). A *source file* contains the instructions that you write directing the computer to perform specific operations. Occasionally you'll write a section of code that requires some comments to describe your thinking when you wrote it. These aren't executable instructions, they're just notes that help you (or someone else looking at your code) follow the flow of your logic. If you ever write a computer program, then come back to it days or weeks later, these comments can be very useful to help you pick up your train of thought. You can also use comments to mark areas of your code as \"To Do\" items; things that you'll get back to later.\n",
    "\n",
    "In Python, non-executable comments are delineated with the hashtag character (`#`). Here's an example (run it to see what prints):"
   ]
  },
  {
   "cell_type": "code",
   "execution_count": null,
   "metadata": {},
   "outputs": [],
   "source": [
    "# This is a comment, it will not run\n",
    "\n",
    "print(\"This is my code\")"
   ]
  },
  {
   "cell_type": "markdown",
   "metadata": {},
   "source": [
    "Notice that line 2 in the code above is blank. Python ignores blank lines, but using them to format your code can make it neater and easier to read."
   ]
  },
  {
   "cell_type": "markdown",
   "metadata": {},
   "source": [
    "### Speaking of Spaces\n",
    "\n",
    "If you can put blank lines (spaces) between blocks of code, what about spaces within a single line of code?\n",
    "\n",
    "Python is quite forgiving about how things are spaced-out. If often comes down to readability. Can you (or your instructor) easily read your code and follow along? While the program may run just fine, be mindful that you can change the intended result because of the particular spacing you used.\n",
    "\n",
    "Here are some examples:"
   ]
  },
  {
   "cell_type": "markdown",
   "metadata": {},
   "source": [
    "#### Sample 1"
   ]
  },
  {
   "cell_type": "code",
   "execution_count": null,
   "metadata": {},
   "outputs": [],
   "source": [
    "# This code prints 20\n",
    "print(2 + 4 + 6 + 8)\n",
    "\n",
    "# This code also prints 20\n",
    "print(2+4     + 6          +                  8)\n",
    "\n",
    "# Which is easier to read?"
   ]
  },
  {
   "cell_type": "markdown",
   "metadata": {},
   "source": [
    "#### Sample 2"
   ]
  },
  {
   "cell_type": "code",
   "execution_count": null,
   "metadata": {},
   "outputs": [],
   "source": [
    "# Does the difference in spacing between the two lines below\n",
    "# make a difference in the output?\n",
    "\n",
    "print(\"Go Navy!\")\n",
    "print(\"   Go       Navy  !\")"
   ]
  },
  {
   "cell_type": "markdown",
   "metadata": {},
   "source": [
    "You should have seen a difference. Python is explicitly complying with your instructions to print everything (including the spaces) between the two quotation marks."
   ]
  },
  {
   "cell_type": "markdown",
   "metadata": {},
   "source": [
    "### Error Messages and Writing Code"
   ]
  },
  {
   "cell_type": "markdown",
   "metadata": {},
   "source": [
    "Python prints error messages when something goes wrong with your program. Getting error messages is a natural and important part of writing code. There is no such thing as a coder who never got an error message -- that person doesn't exist. You should expect and embrace error messages when you write code. The error messages provide important information that helps you fix problems.\n",
    "\n",
    "An error in a computer program is commonly called a *bug* and the term used to describe fixing those errors is *debugging*. [(why are coding errors called bugs?)](https://en.wikipedia.org/wiki/Software_bug)  Below is a simple program that has a bug. Run the code and observe the resulting error message."
   ]
  },
  {
   "cell_type": "code",
   "execution_count": null,
   "metadata": {},
   "outputs": [],
   "source": [
    "print(\"Go Navy!)\n",
    "print(2 + 3)"
   ]
  },
  {
   "cell_type": "markdown",
   "metadata": {},
   "source": [
    "The problem with the code above is that line 1 is missing a matching quotation mark after the exclamation point. Is that what the error message said?\n",
    "\n",
    "It would be great if Python always told you *exactly* what was wrong with your program. Python will get you close, usually telling you *something* went wrong, but sometimes it's imprecise about exactly *where the problem is* and *what* went wrong. This is not unique to Python; all programming languages \"do their best\" to show you where errors are.\n",
    "\n",
    "When you write a computer program you should follow this design philosophy: ***build a little; test a little***. Focus on a specific capability, get it working well, then move on to the next capability in your program. Begin by sketching your thoughts on paper with flowcharts and diagrams. Software engineers would refer to this as *Modular Design*. Don't approach a massive programming task by just typing-away. Organize your thoughts first, asking questions like:\n",
    "\n",
    "- What is this program supposed to do?\n",
    "- What are my inputs and outputs?\n",
    "- What's the best way to approach this problem?\n",
    "- How can I break it up into pieces?\n",
    "- How can I test my code to make sure it handles all possible inputs?\n",
    "\n",
    "Learning to program a computer is a hands-on activity. To get better at writing computer programs, there simply is no substitute for having your hands on the keyboard. As you get more practice you'll get better at it. It takes time and patience. Programming a computer is very similar to learning to speak a new language or learning how to play an instrument - the more you do it, the better you get.\n",
    "\n",
    "Oh yes, and don't forget to embrace your error messages!"
   ]
  },
  {
   "cell_type": "markdown",
   "metadata": {},
   "source": [
    "### A Final Word About Python Reference Documentation\n",
    "\n",
    "The reference document for Python is ***outstanding***! You can find it at [https://www.python.org/](https://www.python.org/). I strongly recommend bookmarking that site. Once you're there, you can get the latest documentation by clicking on `Documentation` then `Python 3.x Docs` (see picture below). Throughout these notebooks I'll often provide links directly into the documentation, because the Python developers do such a great job of explaining things. \n",
    "\n",
    "<br clear=\"all\" />\n",
    "<img src=\"../images/00documentation.png\" align=\"left\" />\n",
    "<br clear=\"all\" />"
   ]
  },
  {
   "cell_type": "markdown",
   "metadata": {},
   "source": [
    "## Additional Resources\n",
    "\n",
    "[An Informal Introduction to Python](https://docs.python.org/3/tutorial/introduction.html)\n",
    "\n",
    "[Python Resources for Beginners](https://wiki.python.org/moin/BeginnersGuide/Programmers)\n",
    "\n",
    "[Python Introduction (w3schools)](https://www.w3schools.com/python/python_intro.asp)"
   ]
  },
  {
   "cell_type": "markdown",
   "metadata": {},
   "source": [
    "<hr>\n",
    "\n",
    "*MIT License*\n",
    "\n",
    "*Copyright 2019-2020 Peter Nardi*\n",
    "\n",
    "*Terms of use:*\n",
    "\n",
    "*Permission is hereby granted, free of charge, to any person obtaining a copy of this software and associated documentation files (the \"Software\"), to deal in the Software without restriction, including without limitation the rights to use, copy, modify, merge, publish, distribute, sublicense, and/or sell copies of the Software, and to permit persons to whom the Software is furnished to do so, subject to the following conditions:*\n",
    "\n",
    "*The above copyright notice and this permission notice shall be included in all copies or substantial portions of the Software.*\n",
    "\n",
    "*THE SOFTWARE IS PROVIDED \"AS IS\", WITHOUT WARRANTY OF ANY KIND, EXPRESS OR IMPLIED, INCLUDING BUT NOT LIMITED TO THE WARRANTIES OF MERCHANTABILITY, FITNESS FOR A PARTICULAR PURPOSE AND NON-INFRINGEMENT. IN NO EVENT SHALL THE AUTHORS OR COPYRIGHT HOLDERS BE LIABLE FOR ANY CLAIM, DAMAGES OR OTHER LIABILITY, WHETHER IN AN ACTION OF CONTRACT, TORT OR OTHERWISE, ARISING FROM, OUT OF OR IN CONNECTION WITH THE SOFTWARE OR THE USE OR OTHER DEALINGS IN THE SOFTWARE.*"
   ]
  }
 ],
 "metadata": {
  "kernelspec": {
   "display_name": "Python 3",
   "language": "python",
   "name": "python3"
  },
  "language_info": {
   "codemirror_mode": {
    "name": "ipython",
    "version": 3
   },
   "file_extension": ".py",
   "mimetype": "text/x-python",
   "name": "python",
   "nbconvert_exporter": "python",
   "pygments_lexer": "ipython3",
   "version": "3.8.2"
  }
 },
 "nbformat": 4,
 "nbformat_minor": 4
}
